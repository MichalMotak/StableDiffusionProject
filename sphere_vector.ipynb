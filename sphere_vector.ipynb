{
 "cells": [
  {
   "cell_type": "code",
   "execution_count": 19,
   "id": "9663ff1e",
   "metadata": {},
   "outputs": [],
   "source": [
    "# Imports required for handling the diffusion model\n",
    "from diffusers import StableDiffusionPipeline\n",
    "from diffusers.models import UNet2DConditionModel\n",
    "from diffusers.models.embeddings import TimestepEmbedding\n",
    "from diffusers import DDPMScheduler\n",
    "\n",
    "# from transformers import CLIPTextModel\n",
    "import torch\n",
    "\n",
    "import torch.nn.functional as F\n",
    "from torch.utils.data import DataLoader\n",
    "\n",
    "from torch import nn\n",
    "import torchvision\n",
    "# from torchsummary import summary\n",
    "\n",
    "\n",
    "from tqdm import tqdm\n",
    "\n",
    "import matplotlib.pyplot as plt\n",
    "import numpy as np"
   ]
  },
  {
   "cell_type": "code",
   "execution_count": 20,
   "id": "73e9ff33",
   "metadata": {},
   "outputs": [
    {
     "name": "stdout",
     "output_type": "stream",
     "text": [
      "2.6.0+cpu\n",
      "False\n"
     ]
    }
   ],
   "source": [
    "import torch\n",
    "print(torch.__version__)\n",
    "print(torch.cuda.is_available())"
   ]
  },
  {
   "cell_type": "code",
   "execution_count": 21,
   "id": "e3db3461",
   "metadata": {},
   "outputs": [
    {
     "data": {
      "text/plain": [
       "False"
      ]
     },
     "execution_count": 21,
     "metadata": {},
     "output_type": "execute_result"
    }
   ],
   "source": [
    "torch.cuda.is_available()"
   ]
  },
  {
   "cell_type": "code",
   "execution_count": 22,
   "id": "a279fd36",
   "metadata": {},
   "outputs": [
    {
     "ename": "ImportError",
     "evalue": "\nMyDiffusionModel requires the transformers library but it was not found in your environment. You can install it with pip: `pip\ninstall transformers`\n",
     "output_type": "error",
     "traceback": [
      "\u001b[31m---------------------------------------------------------------------------\u001b[39m",
      "\u001b[31mImportError\u001b[39m                               Traceback (most recent call last)",
      "\u001b[36mCell\u001b[39m\u001b[36m \u001b[39m\u001b[32mIn[22]\u001b[39m\u001b[32m, line 25\u001b[39m\n\u001b[32m     13\u001b[39m         \u001b[38;5;28mself\u001b[39m.unet = UNet2DConditionModel(\n\u001b[32m     14\u001b[39m             \u001b[38;5;66;03m# ... other UNet parameters\u001b[39;00m\n\u001b[32m     15\u001b[39m             class_embed_type=\u001b[33m'\u001b[39m\u001b[33mclass_embedding\u001b[39m\u001b[33m'\u001b[39m, \u001b[38;5;66;03m# Crucial for 2D conditioning\u001b[39;00m\n\u001b[32m   (...)\u001b[39m\u001b[32m     20\u001b[39m             encoders=[torch.nn.Identity(copy=\u001b[38;5;28;01mTrue\u001b[39;00m), projector],\n\u001b[32m     21\u001b[39m         )\n\u001b[32m     24\u001b[39m \u001b[38;5;66;03m# Create the model instance\u001b[39;00m\n\u001b[32m---> \u001b[39m\u001b[32m25\u001b[39m model = MyDiffusionModel()\n\u001b[32m     28\u001b[39m \u001b[38;5;66;03m# Generate images with a 2D vector condition\u001b[39;00m\n\u001b[32m     29\u001b[39m vector = torch.tensor([\u001b[32m0.5\u001b[39m, \u001b[32m0.7\u001b[39m]) \u001b[38;5;66;03m# Adjust values to mean something (e.g., brightness, contrast)\u001b[39;00m\n",
      "\u001b[36mCell\u001b[39m\u001b[36m \u001b[39m\u001b[32mIn[22]\u001b[39m\u001b[32m, line 11\u001b[39m, in \u001b[36mMyDiffusionModel.__init__\u001b[39m\u001b[34m(self, *args, **kwargs)\u001b[39m\n\u001b[32m     10\u001b[39m \u001b[38;5;28;01mdef\u001b[39;00m\u001b[38;5;250m \u001b[39m\u001b[34m__init__\u001b[39m(\u001b[38;5;28mself\u001b[39m, *args, **kwargs):\n\u001b[32m---> \u001b[39m\u001b[32m11\u001b[39m     \u001b[38;5;28msuper\u001b[39m().\u001b[34m__init__\u001b[39m(**kwargs)\n\u001b[32m     12\u001b[39m     \u001b[38;5;66;03m# Replace the original text encoder with our custom projection layer\u001b[39;00m\n\u001b[32m     13\u001b[39m     \u001b[38;5;28mself\u001b[39m.unet = UNet2DConditionModel(\n\u001b[32m     14\u001b[39m         \u001b[38;5;66;03m# ... other UNet parameters\u001b[39;00m\n\u001b[32m     15\u001b[39m         class_embed_type=\u001b[33m'\u001b[39m\u001b[33mclass_embedding\u001b[39m\u001b[33m'\u001b[39m, \u001b[38;5;66;03m# Crucial for 2D conditioning\u001b[39;00m\n\u001b[32m   (...)\u001b[39m\u001b[32m     20\u001b[39m         encoders=[torch.nn.Identity(copy=\u001b[38;5;28;01mTrue\u001b[39;00m), projector],\n\u001b[32m     21\u001b[39m     )\n",
      "\u001b[36mFile \u001b[39m\u001b[32mc:\\Users\\SANO\\anaconda3\\envs\\mm_diff_4\\Lib\\site-packages\\diffusers\\utils\\dummy_torch_and_transformers_objects.py:1914\u001b[39m, in \u001b[36mStableDiffusionPipeline.__init__\u001b[39m\u001b[34m(self, *args, **kwargs)\u001b[39m\n\u001b[32m   1913\u001b[39m \u001b[38;5;28;01mdef\u001b[39;00m\u001b[38;5;250m \u001b[39m\u001b[34m__init__\u001b[39m(\u001b[38;5;28mself\u001b[39m, *args, **kwargs):\n\u001b[32m-> \u001b[39m\u001b[32m1914\u001b[39m     requires_backends(\u001b[38;5;28mself\u001b[39m, [\u001b[33m\"\u001b[39m\u001b[33mtorch\u001b[39m\u001b[33m\"\u001b[39m, \u001b[33m\"\u001b[39m\u001b[33mtransformers\u001b[39m\u001b[33m\"\u001b[39m])\n",
      "\u001b[36mFile \u001b[39m\u001b[32mc:\\Users\\SANO\\anaconda3\\envs\\mm_diff_4\\Lib\\site-packages\\diffusers\\utils\\import_utils.py:670\u001b[39m, in \u001b[36mrequires_backends\u001b[39m\u001b[34m(obj, backends)\u001b[39m\n\u001b[32m    668\u001b[39m failed = [msg.format(name) \u001b[38;5;28;01mfor\u001b[39;00m available, msg \u001b[38;5;129;01min\u001b[39;00m checks \u001b[38;5;28;01mif\u001b[39;00m \u001b[38;5;129;01mnot\u001b[39;00m available()]\n\u001b[32m    669\u001b[39m \u001b[38;5;28;01mif\u001b[39;00m failed:\n\u001b[32m--> \u001b[39m\u001b[32m670\u001b[39m     \u001b[38;5;28;01mraise\u001b[39;00m \u001b[38;5;167;01mImportError\u001b[39;00m(\u001b[33m\"\u001b[39m\u001b[33m\"\u001b[39m.join(failed))\n\u001b[32m    672\u001b[39m \u001b[38;5;28;01mif\u001b[39;00m name \u001b[38;5;129;01min\u001b[39;00m [\n\u001b[32m    673\u001b[39m     \u001b[33m\"\u001b[39m\u001b[33mVersatileDiffusionTextToImagePipeline\u001b[39m\u001b[33m\"\u001b[39m,\n\u001b[32m    674\u001b[39m     \u001b[33m\"\u001b[39m\u001b[33mVersatileDiffusionPipeline\u001b[39m\u001b[33m\"\u001b[39m,\n\u001b[32m   (...)\u001b[39m\u001b[32m    677\u001b[39m     \u001b[33m\"\u001b[39m\u001b[33mUnCLIPPipeline\u001b[39m\u001b[33m\"\u001b[39m,\n\u001b[32m    678\u001b[39m ] \u001b[38;5;129;01mand\u001b[39;00m is_transformers_version(\u001b[33m\"\u001b[39m\u001b[33m<\u001b[39m\u001b[33m\"\u001b[39m, \u001b[33m\"\u001b[39m\u001b[33m4.25.0\u001b[39m\u001b[33m\"\u001b[39m):\n\u001b[32m    679\u001b[39m     \u001b[38;5;28;01mraise\u001b[39;00m \u001b[38;5;167;01mImportError\u001b[39;00m(\n\u001b[32m    680\u001b[39m         \u001b[33mf\u001b[39m\u001b[33m\"\u001b[39m\u001b[33mYou need to install `transformers>=4.25` in order to use \u001b[39m\u001b[38;5;132;01m{\u001b[39;00mname\u001b[38;5;132;01m}\u001b[39;00m\u001b[33m: \u001b[39m\u001b[38;5;130;01m\\n\u001b[39;00m\u001b[33m```\u001b[39m\u001b[38;5;130;01m\\n\u001b[39;00m\u001b[33m pip install\u001b[39m\u001b[33m\"\u001b[39m\n\u001b[32m    681\u001b[39m         \u001b[33m\"\u001b[39m\u001b[33m --upgrade transformers \u001b[39m\u001b[38;5;130;01m\\n\u001b[39;00m\u001b[33m```\u001b[39m\u001b[33m\"\u001b[39m\n\u001b[32m    682\u001b[39m     )\n",
      "\u001b[31mImportError\u001b[39m: \nMyDiffusionModel requires the transformers library but it was not found in your environment. You can install it with pip: `pip\ninstall transformers`\n"
     ]
    }
   ],
   "source": [
    "\n",
    "\n",
    "# Define the projection layer\n",
    "# This is a small network to embed the 2D vector into a higher dimension\n",
    "projector = torch.nn.Sequential(\n",
    "    torch.nn.Linear(2, 128),\n",
    "    torch.nn.SiLU(),\n",
    "    torch.nn.Linear(128, 512) # Dimension must match the expected embedding dimension in the Diffusion model\n",
    ")\n",
    "\n",
    "class MyDiffusionModel(StableDiffusionPipeline):\n",
    "    def __init__(self, *args, **kwargs):\n",
    "        super().__init__(**kwargs)\n",
    "        # Replace the original text encoder with our custom projection layer\n",
    "        self.unet = UNet2DConditionModel(\n",
    "            # ... other UNet parameters\n",
    "            class_embed_type='class_embedding', # Crucial for 2D conditioning\n",
    "            num_class_embeds=512, # Dimension of our projected embedding\n",
    "            text_encoders=None,\n",
    "            # Add our projector after a copy\n",
    "            add_encoder_output=True,\n",
    "            encoders=[torch.nn.Identity(copy=True), projector],\n",
    "        )\n",
    "\n",
    "\n",
    "# Create the model instance\n",
    "model = MyDiffusionModel()\n",
    "\n",
    "\n",
    "# Generate images with a 2D vector condition\n",
    "vector = torch.tensor([0.5, 0.7]) # Adjust values to mean something (e.g., brightness, contrast)\n",
    "print(model.generate(prompt=\"A photorealistic image\", vector=vector))"
   ]
  },
  {
   "cell_type": "code",
   "execution_count": null,
   "id": "fad05534",
   "metadata": {},
   "outputs": [],
   "source": []
  },
  {
   "cell_type": "code",
   "execution_count": null,
   "id": "e442e27b",
   "metadata": {},
   "outputs": [],
   "source": [
    "from diffusers import UNet2DConditionModel\n",
    "\n",
    "\n",
    "projector = torch.nn.Sequential(\n",
    "    torch.nn.Linear(2, 128),\n",
    "    torch.nn.SiLU(),\n",
    "    torch.nn.Linear(128, 512) # Dimension must match the expected embedding dimension in the Diffusion model\n",
    ")\n",
    "\n",
    "# model = UNet2DConditionModel(\n",
    "#     sample_size=config.image_size,  # the target image resolution\n",
    "#     in_channels=3,  # the number of input channels, 3 for RGB images\n",
    "#     out_channels=3,  # the number of output channels\n",
    "#     layers_per_block=2,  # how many ResNet layers to use per UNet block\n",
    "#     block_out_channels=(128, 128, 256, 256, 512, 512),  # the number of output channes for each UNet block\n",
    "#     down_block_types=( \n",
    "#         \"DownBlock2D\",  # a regular ResNet downsampling block\n",
    "#         \"DownBlock2D\", \n",
    "#         \"DownBlock2D\", \n",
    "#         \"DownBlock2D\", \n",
    "#         \"AttnDownBlock2D\",  # a ResNet downsampling block with spatial self-attention\n",
    "#         \"DownBlock2D\",\n",
    "#     ), \n",
    "#     up_block_types=(\n",
    "#         \"UpBlock2D\",  # a regular ResNet upsampling block\n",
    "#         \"AttnUpBlock2D\",  # a ResNet upsampling block with spatial self-attention\n",
    "#         \"UpBlock2D\", \n",
    "#         \"UpBlock2D\", \n",
    "#         \"UpBlock2D\", \n",
    "#         \"UpBlock2D\"  \n",
    "#       ),\n",
    "# )\n",
    "\n",
    "\n",
    "unet = UNet2DConditionModel(\n",
    "    # ... other UNet parameters\n",
    "    class_embed_type='class_embedding', # Crucial for 2D conditioning\n",
    "    num_class_embeds=512, # Dimension of our projected embedding\n",
    "    text_encoders=None,\n",
    "    # Add our projector after a copy\n",
    "    add_encoder_output=True,\n",
    "    encoders=[torch.nn.Identity(copy=True), projector],\n",
    "        )"
   ]
  },
  {
   "cell_type": "code",
   "execution_count": null,
   "id": "0651cd1a",
   "metadata": {},
   "outputs": [],
   "source": []
  },
  {
   "cell_type": "code",
   "execution_count": null,
   "id": "b4b5c840",
   "metadata": {},
   "outputs": [],
   "source": [
    "import torch\n",
    "from torch import nn\n",
    "from diffusers import UNet2DConditionModel\n",
    "from diffusers.models.embeddings import TimestepEmbedding\n",
    "\n",
    "# Let's assume your conditioning vector is a 2D vector: [x, y]\n",
    "class CustomConditionedUNet(nn.Module):\n",
    "    def __init__(self, base_unet: UNet2DConditionModel, cond_dim=2, embedding_dim=128):\n",
    "        super().__init__()\n",
    "        self.unet = base_unet\n",
    "        self.cond_embed = nn.Sequential(\n",
    "            nn.Linear(cond_dim, embedding_dim),\n",
    "            nn.SiLU(),\n",
    "            nn.Linear(embedding_dim, embedding_dim)\n",
    "        )\n",
    "        self.unet.add_embedding(\"custom_conditioning\", embedding_dim)\n",
    "\n",
    "\n",
    "    def forward(self, sample, timestep, encoder_hidden_states=None, cond_vector=None):\n",
    "        # Embed the custom conditioning vector\n",
    "        if cond_vector is not None:\n",
    "            cond_emb = self.cond_embed(cond_vector)\n",
    "        else:\n",
    "            cond_emb = None\n",
    "\n",
    "        # Pass it into the model as an extra embedding\n",
    "        return self.unet(\n",
    "            sample=sample,\n",
    "            timestep=timestep,\n",
    "            encoder_hidden_states=encoder_hidden_states,\n",
    "            added_cond_kwargs={\"custom_conditioning\": cond_emb}\n",
    "        )"
   ]
  },
  {
   "cell_type": "code",
   "execution_count": null,
   "id": "419bb8ea",
   "metadata": {},
   "outputs": [],
   "source": []
  },
  {
   "cell_type": "code",
   "execution_count": 3,
   "id": "534d1a7d",
   "metadata": {},
   "outputs": [],
   "source": [
    "from torch.utils.data import Dataset\n",
    "from PIL import Image\n",
    "import torchvision.transforms as T\n",
    "import pandas as pd\n",
    "# import torch\n",
    "import os\n",
    "from torch.utils.data import DataLoader\n",
    "from tqdm import tqdm\n",
    "\n",
    "class ImageVectorDataset(Dataset):\n",
    "    def __init__(self, image_dir, label_csv, image_size=64):\n",
    "        self.df = pd.read_csv(label_csv)\n",
    "        self.image_dir = image_dir\n",
    "        self.transform = T.Compose([\n",
    "            T.Resize((image_size, image_size)),\n",
    "            T.ToTensor(), \n",
    "            T.Normalize([0.5]*3, [0.5]*3)\n",
    "            \n",
    "        ])\n",
    "\n",
    "    def __len__(self):\n",
    "        return len(self.df)\n",
    "\n",
    "\n",
    "    def __getitem__(self, idx):\n",
    "        row = self.df.iloc[idx]\n",
    "        image = Image.open(os.path.join(self.image_dir, row['filename'])).convert(\"RGB\")\n",
    "        # print(\"image \", image.size)\n",
    "        # image.show(title=\"before\")\n",
    "        image = self.transform(image)\n",
    "\n",
    "        # print(torch.min(image), torch.max(image))\n",
    "\n",
    "        # image = image.clamp(0, 1) # -1 to 1\n",
    "        # back_to_pil = T.ToPILImage()(image)\n",
    "        # back_to_pil.show(title=\"after\")\n",
    "\n",
    "        vector = torch.tensor([row['x'], row['y']], dtype=torch.float32)\n",
    "        return image, vector"
   ]
  },
  {
   "cell_type": "code",
   "execution_count": 4,
   "id": "fb4ef917",
   "metadata": {},
   "outputs": [
    {
     "name": "stdout",
     "output_type": "stream",
     "text": [
      "120\n"
     ]
    }
   ],
   "source": [
    "dataset = ImageVectorDataset(\"data/images\", \"data/labels.csv\", image_size=224)\n",
    "\n",
    "dataloader = DataLoader(dataset, batch_size=1, shuffle=True)\n",
    "print(len(dataloader))\n",
    "\n",
    "# for images, cond_vectors in tqdm(dataloader):\n",
    "#     images = images.cuda()\n",
    "#     cond_vectors = cond_vectors.cuda()"
   ]
  },
  {
   "cell_type": "code",
   "execution_count": null,
   "id": "cd31df8c",
   "metadata": {},
   "outputs": [],
   "source": []
  },
  {
   "cell_type": "code",
   "execution_count": 70,
   "id": "debe9ba6",
   "metadata": {},
   "outputs": [],
   "source": [
    "for i, (x,y) in enumerate(dataloader):\n",
    "    if i < 1:\n",
    "        pass\n",
    "        # print(x[0].shape)  \n",
    "        # print(x[0].permute(1,2,0).shape)\n",
    "        # print(torch.max(x[0]))\n",
    "        # print(torch.min(x[0]))\n",
    "\n",
    "        # PIL_image = x[0].permute(1,2,0).cpu().numpy()\n",
    "        # # torchvision.transforms.ToPILImage(PIL_image)\n",
    "        # print(type(PIL_image), PIL_image.size)\n",
    "        # PIL_image2 = Image.fromarray(PIL_image, 'RGB')\n",
    "\n",
    "        # PIL_image2.show()\n",
    "        # plt.imshow(x[0].permute(1,2,0))\n",
    "        # plt.show()\n",
    "    else:\n",
    "        break"
   ]
  },
  {
   "cell_type": "code",
   "execution_count": 71,
   "id": "2f5ce49f",
   "metadata": {},
   "outputs": [
    {
     "data": {
      "text/plain": [
       "torch.Size([3, 224, 224])"
      ]
     },
     "execution_count": 71,
     "metadata": {},
     "output_type": "execute_result"
    }
   ],
   "source": [
    "x[0].shape"
   ]
  },
  {
   "cell_type": "code",
   "execution_count": null,
   "id": "23856c44",
   "metadata": {},
   "outputs": [],
   "source": []
  },
  {
   "cell_type": "code",
   "execution_count": 57,
   "id": "5f514e9a",
   "metadata": {},
   "outputs": [],
   "source": [
    "class CustomConditionedUNet(nn.Module):\n",
    "    def __init__(self, base_unet: UNet2DConditionModel, cond_dim=2, embedding_dim=128):\n",
    "        super().__init__()\n",
    "        self.unet = base_unet\n",
    "        self.cond_embed = nn.Sequential(\n",
    "            nn.Linear(cond_dim, embedding_dim),\n",
    "            nn.SiLU(),\n",
    "            nn.Linear(embedding_dim, embedding_dim)\n",
    "        )\n",
    "\n",
    "\n",
    "    def forward(self, sample, timestep, cond_vector=None):\n",
    "        # [B, 128] -> [B, 1, 128] (cross-attention format)\n",
    "        cond_emb = self.cond_embed(cond_vector).unsqueeze(1)\n",
    "        return self.unet(\n",
    "            sample=sample,\n",
    "            timestep=timestep,\n",
    "            encoder_hidden_states=cond_emb\n",
    "        )"
   ]
  },
  {
   "cell_type": "code",
   "execution_count": null,
   "id": "3c9f6878",
   "metadata": {},
   "outputs": [
    {
     "name": "stderr",
     "output_type": "stream",
     "text": [
      "100%|██████████| 30/30 [00:02<00:00, 11.98it/s]\n"
     ]
    },
    {
     "name": "stdout",
     "output_type": "stream",
     "text": [
      "Epoch 0: Loss = 0.1412\n"
     ]
    },
    {
     "name": "stderr",
     "output_type": "stream",
     "text": [
      "100%|██████████| 30/30 [00:02<00:00, 13.85it/s]\n"
     ]
    },
    {
     "name": "stdout",
     "output_type": "stream",
     "text": [
      "Epoch 1: Loss = 0.1243\n"
     ]
    },
    {
     "name": "stderr",
     "output_type": "stream",
     "text": [
      "100%|██████████| 30/30 [00:02<00:00, 13.73it/s]\n"
     ]
    },
    {
     "name": "stdout",
     "output_type": "stream",
     "text": [
      "Epoch 2: Loss = 0.0540\n"
     ]
    },
    {
     "name": "stderr",
     "output_type": "stream",
     "text": [
      "100%|██████████| 30/30 [00:02<00:00, 13.77it/s]\n"
     ]
    },
    {
     "name": "stdout",
     "output_type": "stream",
     "text": [
      "Epoch 3: Loss = 0.0866\n"
     ]
    },
    {
     "name": "stderr",
     "output_type": "stream",
     "text": [
      "100%|██████████| 30/30 [00:02<00:00, 13.75it/s]\n"
     ]
    },
    {
     "name": "stdout",
     "output_type": "stream",
     "text": [
      "Epoch 4: Loss = 0.0480\n"
     ]
    },
    {
     "name": "stderr",
     "output_type": "stream",
     "text": [
      "100%|██████████| 30/30 [00:02<00:00, 13.61it/s]\n"
     ]
    },
    {
     "name": "stdout",
     "output_type": "stream",
     "text": [
      "Epoch 5: Loss = 0.0392\n"
     ]
    },
    {
     "name": "stderr",
     "output_type": "stream",
     "text": [
      "100%|██████████| 30/30 [00:02<00:00, 13.63it/s]\n"
     ]
    },
    {
     "name": "stdout",
     "output_type": "stream",
     "text": [
      "Epoch 6: Loss = 0.0481\n"
     ]
    },
    {
     "name": "stderr",
     "output_type": "stream",
     "text": [
      "100%|██████████| 30/30 [00:02<00:00, 13.74it/s]\n"
     ]
    },
    {
     "name": "stdout",
     "output_type": "stream",
     "text": [
      "Epoch 7: Loss = 0.0391\n"
     ]
    },
    {
     "name": "stderr",
     "output_type": "stream",
     "text": [
      "100%|██████████| 30/30 [00:02<00:00, 13.82it/s]\n"
     ]
    },
    {
     "name": "stdout",
     "output_type": "stream",
     "text": [
      "Epoch 8: Loss = 0.0266\n"
     ]
    },
    {
     "name": "stderr",
     "output_type": "stream",
     "text": [
      "100%|██████████| 30/30 [00:02<00:00, 13.71it/s]\n"
     ]
    },
    {
     "name": "stdout",
     "output_type": "stream",
     "text": [
      "Epoch 9: Loss = 0.0491\n"
     ]
    },
    {
     "name": "stderr",
     "output_type": "stream",
     "text": [
      "100%|██████████| 30/30 [00:02<00:00, 13.76it/s]\n"
     ]
    },
    {
     "name": "stdout",
     "output_type": "stream",
     "text": [
      "Epoch 10: Loss = 0.0451\n"
     ]
    },
    {
     "name": "stderr",
     "output_type": "stream",
     "text": [
      "100%|██████████| 30/30 [00:02<00:00, 13.64it/s]\n"
     ]
    },
    {
     "name": "stdout",
     "output_type": "stream",
     "text": [
      "Epoch 11: Loss = 0.0372\n"
     ]
    },
    {
     "name": "stderr",
     "output_type": "stream",
     "text": [
      "100%|██████████| 30/30 [00:02<00:00, 13.66it/s]\n"
     ]
    },
    {
     "name": "stdout",
     "output_type": "stream",
     "text": [
      "Epoch 12: Loss = 0.0189\n"
     ]
    },
    {
     "name": "stderr",
     "output_type": "stream",
     "text": [
      "100%|██████████| 30/30 [00:02<00:00, 13.67it/s]\n"
     ]
    },
    {
     "name": "stdout",
     "output_type": "stream",
     "text": [
      "Epoch 13: Loss = 0.0163\n"
     ]
    },
    {
     "name": "stderr",
     "output_type": "stream",
     "text": [
      "100%|██████████| 30/30 [00:02<00:00, 13.79it/s]\n"
     ]
    },
    {
     "name": "stdout",
     "output_type": "stream",
     "text": [
      "Epoch 14: Loss = 0.0413\n"
     ]
    },
    {
     "name": "stderr",
     "output_type": "stream",
     "text": [
      "100%|██████████| 30/30 [00:02<00:00, 13.74it/s]\n"
     ]
    },
    {
     "name": "stdout",
     "output_type": "stream",
     "text": [
      "Epoch 15: Loss = 0.0324\n"
     ]
    },
    {
     "name": "stderr",
     "output_type": "stream",
     "text": [
      "100%|██████████| 30/30 [00:02<00:00, 13.75it/s]\n"
     ]
    },
    {
     "name": "stdout",
     "output_type": "stream",
     "text": [
      "Epoch 16: Loss = 0.0312\n"
     ]
    },
    {
     "name": "stderr",
     "output_type": "stream",
     "text": [
      "100%|██████████| 30/30 [00:02<00:00, 13.66it/s]\n"
     ]
    },
    {
     "name": "stdout",
     "output_type": "stream",
     "text": [
      "Epoch 17: Loss = 0.0344\n"
     ]
    },
    {
     "name": "stderr",
     "output_type": "stream",
     "text": [
      "100%|██████████| 30/30 [00:02<00:00, 13.64it/s]\n"
     ]
    },
    {
     "name": "stdout",
     "output_type": "stream",
     "text": [
      "Epoch 18: Loss = 0.0142\n"
     ]
    },
    {
     "name": "stderr",
     "output_type": "stream",
     "text": [
      "100%|██████████| 30/30 [00:02<00:00, 13.75it/s]\n"
     ]
    },
    {
     "name": "stdout",
     "output_type": "stream",
     "text": [
      "Epoch 19: Loss = 0.0121\n"
     ]
    },
    {
     "name": "stderr",
     "output_type": "stream",
     "text": [
      "100%|██████████| 30/30 [00:02<00:00, 13.78it/s]\n"
     ]
    },
    {
     "name": "stdout",
     "output_type": "stream",
     "text": [
      "Epoch 20: Loss = 0.0175\n"
     ]
    },
    {
     "name": "stderr",
     "output_type": "stream",
     "text": [
      "100%|██████████| 30/30 [00:02<00:00, 13.73it/s]\n"
     ]
    },
    {
     "name": "stdout",
     "output_type": "stream",
     "text": [
      "Epoch 21: Loss = 0.0280\n"
     ]
    },
    {
     "name": "stderr",
     "output_type": "stream",
     "text": [
      "100%|██████████| 30/30 [00:02<00:00, 13.79it/s]\n"
     ]
    },
    {
     "name": "stdout",
     "output_type": "stream",
     "text": [
      "Epoch 22: Loss = 0.0086\n"
     ]
    },
    {
     "name": "stderr",
     "output_type": "stream",
     "text": [
      "100%|██████████| 30/30 [00:02<00:00, 13.68it/s]\n"
     ]
    },
    {
     "name": "stdout",
     "output_type": "stream",
     "text": [
      "Epoch 23: Loss = 0.0210\n"
     ]
    },
    {
     "name": "stderr",
     "output_type": "stream",
     "text": [
      "100%|██████████| 30/30 [00:02<00:00, 13.68it/s]\n"
     ]
    },
    {
     "name": "stdout",
     "output_type": "stream",
     "text": [
      "Epoch 24: Loss = 0.0077\n"
     ]
    },
    {
     "name": "stderr",
     "output_type": "stream",
     "text": [
      "100%|██████████| 30/30 [00:02<00:00, 13.54it/s]\n"
     ]
    },
    {
     "name": "stdout",
     "output_type": "stream",
     "text": [
      "Epoch 25: Loss = 0.0136\n"
     ]
    },
    {
     "name": "stderr",
     "output_type": "stream",
     "text": [
      "100%|██████████| 30/30 [00:02<00:00, 13.75it/s]\n"
     ]
    },
    {
     "name": "stdout",
     "output_type": "stream",
     "text": [
      "Epoch 26: Loss = 0.0130\n"
     ]
    },
    {
     "name": "stderr",
     "output_type": "stream",
     "text": [
      "100%|██████████| 30/30 [00:02<00:00, 13.69it/s]\n"
     ]
    },
    {
     "name": "stdout",
     "output_type": "stream",
     "text": [
      "Epoch 27: Loss = 0.0137\n"
     ]
    },
    {
     "name": "stderr",
     "output_type": "stream",
     "text": [
      "100%|██████████| 30/30 [00:02<00:00, 13.72it/s]\n"
     ]
    },
    {
     "name": "stdout",
     "output_type": "stream",
     "text": [
      "Epoch 28: Loss = 0.0079\n"
     ]
    },
    {
     "name": "stderr",
     "output_type": "stream",
     "text": [
      "100%|██████████| 30/30 [00:02<00:00, 13.75it/s]\n"
     ]
    },
    {
     "name": "stdout",
     "output_type": "stream",
     "text": [
      "Epoch 29: Loss = 0.0128\n"
     ]
    },
    {
     "name": "stderr",
     "output_type": "stream",
     "text": [
      "100%|██████████| 30/30 [00:02<00:00, 13.60it/s]\n"
     ]
    },
    {
     "name": "stdout",
     "output_type": "stream",
     "text": [
      "Epoch 30: Loss = 0.0101\n"
     ]
    },
    {
     "name": "stderr",
     "output_type": "stream",
     "text": [
      "100%|██████████| 30/30 [00:02<00:00, 13.74it/s]\n"
     ]
    },
    {
     "name": "stdout",
     "output_type": "stream",
     "text": [
      "Epoch 31: Loss = 0.0102\n"
     ]
    },
    {
     "name": "stderr",
     "output_type": "stream",
     "text": [
      "100%|██████████| 30/30 [00:02<00:00, 13.69it/s]\n"
     ]
    },
    {
     "name": "stdout",
     "output_type": "stream",
     "text": [
      "Epoch 32: Loss = 0.0084\n"
     ]
    },
    {
     "name": "stderr",
     "output_type": "stream",
     "text": [
      "100%|██████████| 30/30 [00:02<00:00, 13.73it/s]\n"
     ]
    },
    {
     "name": "stdout",
     "output_type": "stream",
     "text": [
      "Epoch 33: Loss = 0.0090\n"
     ]
    },
    {
     "name": "stderr",
     "output_type": "stream",
     "text": [
      "100%|██████████| 30/30 [00:02<00:00, 13.65it/s]\n"
     ]
    },
    {
     "name": "stdout",
     "output_type": "stream",
     "text": [
      "Epoch 34: Loss = 0.0056\n"
     ]
    },
    {
     "name": "stderr",
     "output_type": "stream",
     "text": [
      "100%|██████████| 30/30 [00:02<00:00, 13.59it/s]\n"
     ]
    },
    {
     "name": "stdout",
     "output_type": "stream",
     "text": [
      "Epoch 35: Loss = 0.0147\n"
     ]
    },
    {
     "name": "stderr",
     "output_type": "stream",
     "text": [
      "100%|██████████| 30/30 [00:02<00:00, 13.56it/s]\n"
     ]
    },
    {
     "name": "stdout",
     "output_type": "stream",
     "text": [
      "Epoch 36: Loss = 0.0090\n"
     ]
    },
    {
     "name": "stderr",
     "output_type": "stream",
     "text": [
      "100%|██████████| 30/30 [00:02<00:00, 13.46it/s]\n"
     ]
    },
    {
     "name": "stdout",
     "output_type": "stream",
     "text": [
      "Epoch 37: Loss = 0.0083\n"
     ]
    },
    {
     "name": "stderr",
     "output_type": "stream",
     "text": [
      "100%|██████████| 30/30 [00:02<00:00, 13.53it/s]\n"
     ]
    },
    {
     "name": "stdout",
     "output_type": "stream",
     "text": [
      "Epoch 38: Loss = 0.0121\n"
     ]
    },
    {
     "name": "stderr",
     "output_type": "stream",
     "text": [
      "100%|██████████| 30/30 [00:02<00:00, 13.51it/s]\n"
     ]
    },
    {
     "name": "stdout",
     "output_type": "stream",
     "text": [
      "Epoch 39: Loss = 0.0053\n"
     ]
    },
    {
     "name": "stderr",
     "output_type": "stream",
     "text": [
      "100%|██████████| 30/30 [00:02<00:00, 13.45it/s]\n"
     ]
    },
    {
     "name": "stdout",
     "output_type": "stream",
     "text": [
      "Epoch 40: Loss = 0.0111\n"
     ]
    },
    {
     "name": "stderr",
     "output_type": "stream",
     "text": [
      "100%|██████████| 30/30 [00:02<00:00, 13.49it/s]\n"
     ]
    },
    {
     "name": "stdout",
     "output_type": "stream",
     "text": [
      "Epoch 41: Loss = 0.0063\n"
     ]
    },
    {
     "name": "stderr",
     "output_type": "stream",
     "text": [
      "100%|██████████| 30/30 [00:02<00:00, 13.55it/s]\n"
     ]
    },
    {
     "name": "stdout",
     "output_type": "stream",
     "text": [
      "Epoch 42: Loss = 0.0042\n"
     ]
    },
    {
     "name": "stderr",
     "output_type": "stream",
     "text": [
      "100%|██████████| 30/30 [00:02<00:00, 13.43it/s]\n"
     ]
    },
    {
     "name": "stdout",
     "output_type": "stream",
     "text": [
      "Epoch 43: Loss = 0.0049\n"
     ]
    },
    {
     "name": "stderr",
     "output_type": "stream",
     "text": [
      "100%|██████████| 30/30 [00:02<00:00, 13.58it/s]\n"
     ]
    },
    {
     "name": "stdout",
     "output_type": "stream",
     "text": [
      "Epoch 44: Loss = 0.0081\n"
     ]
    },
    {
     "name": "stderr",
     "output_type": "stream",
     "text": [
      "100%|██████████| 30/30 [00:02<00:00, 13.74it/s]\n"
     ]
    },
    {
     "name": "stdout",
     "output_type": "stream",
     "text": [
      "Epoch 45: Loss = 0.0086\n"
     ]
    },
    {
     "name": "stderr",
     "output_type": "stream",
     "text": [
      "100%|██████████| 30/30 [00:02<00:00, 13.64it/s]\n"
     ]
    },
    {
     "name": "stdout",
     "output_type": "stream",
     "text": [
      "Epoch 46: Loss = 0.0201\n"
     ]
    },
    {
     "name": "stderr",
     "output_type": "stream",
     "text": [
      "100%|██████████| 30/30 [00:02<00:00, 13.75it/s]\n"
     ]
    },
    {
     "name": "stdout",
     "output_type": "stream",
     "text": [
      "Epoch 47: Loss = 0.0040\n"
     ]
    },
    {
     "name": "stderr",
     "output_type": "stream",
     "text": [
      "100%|██████████| 30/30 [00:02<00:00, 13.58it/s]\n"
     ]
    },
    {
     "name": "stdout",
     "output_type": "stream",
     "text": [
      "Epoch 48: Loss = 0.0069\n"
     ]
    },
    {
     "name": "stderr",
     "output_type": "stream",
     "text": [
      "100%|██████████| 30/30 [00:02<00:00, 13.49it/s]\n"
     ]
    },
    {
     "name": "stdout",
     "output_type": "stream",
     "text": [
      "Epoch 49: Loss = 0.0072\n"
     ]
    },
    {
     "name": "stderr",
     "output_type": "stream",
     "text": [
      "100%|██████████| 30/30 [00:02<00:00, 13.45it/s]\n"
     ]
    },
    {
     "name": "stdout",
     "output_type": "stream",
     "text": [
      "Epoch 50: Loss = 0.0070\n"
     ]
    },
    {
     "name": "stderr",
     "output_type": "stream",
     "text": [
      "100%|██████████| 30/30 [00:02<00:00, 13.56it/s]\n"
     ]
    },
    {
     "name": "stdout",
     "output_type": "stream",
     "text": [
      "Epoch 51: Loss = 0.0049\n"
     ]
    },
    {
     "name": "stderr",
     "output_type": "stream",
     "text": [
      "100%|██████████| 30/30 [00:02<00:00, 13.56it/s]\n"
     ]
    },
    {
     "name": "stdout",
     "output_type": "stream",
     "text": [
      "Epoch 52: Loss = 0.0206\n"
     ]
    },
    {
     "name": "stderr",
     "output_type": "stream",
     "text": [
      "100%|██████████| 30/30 [00:02<00:00, 13.57it/s]\n"
     ]
    },
    {
     "name": "stdout",
     "output_type": "stream",
     "text": [
      "Epoch 53: Loss = 0.0173\n"
     ]
    },
    {
     "name": "stderr",
     "output_type": "stream",
     "text": [
      "100%|██████████| 30/30 [00:02<00:00, 13.49it/s]\n"
     ]
    },
    {
     "name": "stdout",
     "output_type": "stream",
     "text": [
      "Epoch 54: Loss = 0.0111\n"
     ]
    },
    {
     "name": "stderr",
     "output_type": "stream",
     "text": [
      "100%|██████████| 30/30 [00:02<00:00, 13.52it/s]\n"
     ]
    },
    {
     "name": "stdout",
     "output_type": "stream",
     "text": [
      "Epoch 55: Loss = 0.0052\n"
     ]
    },
    {
     "name": "stderr",
     "output_type": "stream",
     "text": [
      "100%|██████████| 30/30 [00:02<00:00, 13.51it/s]\n"
     ]
    },
    {
     "name": "stdout",
     "output_type": "stream",
     "text": [
      "Epoch 56: Loss = 0.0044\n"
     ]
    },
    {
     "name": "stderr",
     "output_type": "stream",
     "text": [
      "100%|██████████| 30/30 [00:02<00:00, 13.61it/s]\n"
     ]
    },
    {
     "name": "stdout",
     "output_type": "stream",
     "text": [
      "Epoch 57: Loss = 0.0032\n"
     ]
    },
    {
     "name": "stderr",
     "output_type": "stream",
     "text": [
      "100%|██████████| 30/30 [00:02<00:00, 13.60it/s]\n"
     ]
    },
    {
     "name": "stdout",
     "output_type": "stream",
     "text": [
      "Epoch 58: Loss = 0.0105\n"
     ]
    },
    {
     "name": "stderr",
     "output_type": "stream",
     "text": [
      "100%|██████████| 30/30 [00:02<00:00, 13.66it/s]\n"
     ]
    },
    {
     "name": "stdout",
     "output_type": "stream",
     "text": [
      "Epoch 59: Loss = 0.0062\n"
     ]
    },
    {
     "name": "stderr",
     "output_type": "stream",
     "text": [
      "100%|██████████| 30/30 [00:02<00:00, 13.62it/s]\n"
     ]
    },
    {
     "name": "stdout",
     "output_type": "stream",
     "text": [
      "Epoch 60: Loss = 0.0039\n"
     ]
    },
    {
     "name": "stderr",
     "output_type": "stream",
     "text": [
      "100%|██████████| 30/30 [00:02<00:00, 13.64it/s]\n"
     ]
    },
    {
     "name": "stdout",
     "output_type": "stream",
     "text": [
      "Epoch 61: Loss = 0.0033\n"
     ]
    },
    {
     "name": "stderr",
     "output_type": "stream",
     "text": [
      "100%|██████████| 30/30 [00:02<00:00, 13.66it/s]\n"
     ]
    },
    {
     "name": "stdout",
     "output_type": "stream",
     "text": [
      "Epoch 62: Loss = 0.0032\n"
     ]
    },
    {
     "name": "stderr",
     "output_type": "stream",
     "text": [
      "100%|██████████| 30/30 [00:02<00:00, 13.66it/s]\n"
     ]
    },
    {
     "name": "stdout",
     "output_type": "stream",
     "text": [
      "Epoch 63: Loss = 0.0570\n"
     ]
    },
    {
     "name": "stderr",
     "output_type": "stream",
     "text": [
      "100%|██████████| 30/30 [00:02<00:00, 13.59it/s]\n"
     ]
    },
    {
     "name": "stdout",
     "output_type": "stream",
     "text": [
      "Epoch 64: Loss = 0.0033\n"
     ]
    },
    {
     "name": "stderr",
     "output_type": "stream",
     "text": [
      "100%|██████████| 30/30 [00:02<00:00, 13.70it/s]\n"
     ]
    },
    {
     "name": "stdout",
     "output_type": "stream",
     "text": [
      "Epoch 65: Loss = 0.0042\n"
     ]
    },
    {
     "name": "stderr",
     "output_type": "stream",
     "text": [
      "100%|██████████| 30/30 [00:02<00:00, 13.59it/s]\n"
     ]
    },
    {
     "name": "stdout",
     "output_type": "stream",
     "text": [
      "Epoch 66: Loss = 0.0074\n"
     ]
    },
    {
     "name": "stderr",
     "output_type": "stream",
     "text": [
      "100%|██████████| 30/30 [00:02<00:00, 13.78it/s]\n"
     ]
    },
    {
     "name": "stdout",
     "output_type": "stream",
     "text": [
      "Epoch 67: Loss = 0.0045\n"
     ]
    },
    {
     "name": "stderr",
     "output_type": "stream",
     "text": [
      "100%|██████████| 30/30 [00:02<00:00, 13.78it/s]\n"
     ]
    },
    {
     "name": "stdout",
     "output_type": "stream",
     "text": [
      "Epoch 68: Loss = 0.0096\n"
     ]
    },
    {
     "name": "stderr",
     "output_type": "stream",
     "text": [
      "100%|██████████| 30/30 [00:02<00:00, 13.80it/s]\n"
     ]
    },
    {
     "name": "stdout",
     "output_type": "stream",
     "text": [
      "Epoch 69: Loss = 0.0050\n"
     ]
    },
    {
     "name": "stderr",
     "output_type": "stream",
     "text": [
      "100%|██████████| 30/30 [00:02<00:00, 13.56it/s]\n"
     ]
    },
    {
     "name": "stdout",
     "output_type": "stream",
     "text": [
      "Epoch 70: Loss = 0.0247\n"
     ]
    },
    {
     "name": "stderr",
     "output_type": "stream",
     "text": [
      "100%|██████████| 30/30 [00:02<00:00, 13.49it/s]\n"
     ]
    },
    {
     "name": "stdout",
     "output_type": "stream",
     "text": [
      "Epoch 71: Loss = 0.0046\n"
     ]
    },
    {
     "name": "stderr",
     "output_type": "stream",
     "text": [
      "100%|██████████| 30/30 [00:02<00:00, 13.71it/s]\n"
     ]
    },
    {
     "name": "stdout",
     "output_type": "stream",
     "text": [
      "Epoch 72: Loss = 0.0059\n"
     ]
    },
    {
     "name": "stderr",
     "output_type": "stream",
     "text": [
      "100%|██████████| 30/30 [00:02<00:00, 13.74it/s]\n"
     ]
    },
    {
     "name": "stdout",
     "output_type": "stream",
     "text": [
      "Epoch 73: Loss = 0.0064\n"
     ]
    },
    {
     "name": "stderr",
     "output_type": "stream",
     "text": [
      "100%|██████████| 30/30 [00:02<00:00, 13.76it/s]\n"
     ]
    },
    {
     "name": "stdout",
     "output_type": "stream",
     "text": [
      "Epoch 74: Loss = 0.0066\n"
     ]
    },
    {
     "name": "stderr",
     "output_type": "stream",
     "text": [
      "100%|██████████| 30/30 [00:02<00:00, 13.79it/s]\n"
     ]
    },
    {
     "name": "stdout",
     "output_type": "stream",
     "text": [
      "Epoch 75: Loss = 0.0030\n"
     ]
    },
    {
     "name": "stderr",
     "output_type": "stream",
     "text": [
      "100%|██████████| 30/30 [00:02<00:00, 13.67it/s]\n"
     ]
    },
    {
     "name": "stdout",
     "output_type": "stream",
     "text": [
      "Epoch 76: Loss = 0.0062\n"
     ]
    },
    {
     "name": "stderr",
     "output_type": "stream",
     "text": [
      "100%|██████████| 30/30 [00:02<00:00, 13.55it/s]\n"
     ]
    },
    {
     "name": "stdout",
     "output_type": "stream",
     "text": [
      "Epoch 77: Loss = 0.0025\n"
     ]
    },
    {
     "name": "stderr",
     "output_type": "stream",
     "text": [
      "100%|██████████| 30/30 [00:02<00:00, 13.54it/s]\n"
     ]
    },
    {
     "name": "stdout",
     "output_type": "stream",
     "text": [
      "Epoch 78: Loss = 0.0041\n"
     ]
    },
    {
     "name": "stderr",
     "output_type": "stream",
     "text": [
      "100%|██████████| 30/30 [00:02<00:00, 13.73it/s]\n"
     ]
    },
    {
     "name": "stdout",
     "output_type": "stream",
     "text": [
      "Epoch 79: Loss = 0.0023\n"
     ]
    },
    {
     "name": "stderr",
     "output_type": "stream",
     "text": [
      "100%|██████████| 30/30 [00:02<00:00, 13.83it/s]\n"
     ]
    },
    {
     "name": "stdout",
     "output_type": "stream",
     "text": [
      "Epoch 80: Loss = 0.0172\n"
     ]
    },
    {
     "name": "stderr",
     "output_type": "stream",
     "text": [
      "100%|██████████| 30/30 [00:02<00:00, 13.69it/s]\n"
     ]
    },
    {
     "name": "stdout",
     "output_type": "stream",
     "text": [
      "Epoch 81: Loss = 0.0033\n"
     ]
    },
    {
     "name": "stderr",
     "output_type": "stream",
     "text": [
      "100%|██████████| 30/30 [00:02<00:00, 13.63it/s]\n"
     ]
    },
    {
     "name": "stdout",
     "output_type": "stream",
     "text": [
      "Epoch 82: Loss = 0.0023\n"
     ]
    },
    {
     "name": "stderr",
     "output_type": "stream",
     "text": [
      "100%|██████████| 30/30 [00:02<00:00, 13.76it/s]\n"
     ]
    },
    {
     "name": "stdout",
     "output_type": "stream",
     "text": [
      "Epoch 83: Loss = 0.0051\n"
     ]
    },
    {
     "name": "stderr",
     "output_type": "stream",
     "text": [
      "100%|██████████| 30/30 [00:02<00:00, 13.76it/s]\n"
     ]
    },
    {
     "name": "stdout",
     "output_type": "stream",
     "text": [
      "Epoch 84: Loss = 0.0261\n"
     ]
    },
    {
     "name": "stderr",
     "output_type": "stream",
     "text": [
      "100%|██████████| 30/30 [00:02<00:00, 13.87it/s]\n"
     ]
    },
    {
     "name": "stdout",
     "output_type": "stream",
     "text": [
      "Epoch 85: Loss = 0.0021\n"
     ]
    },
    {
     "name": "stderr",
     "output_type": "stream",
     "text": [
      "100%|██████████| 30/30 [00:02<00:00, 13.72it/s]\n"
     ]
    },
    {
     "name": "stdout",
     "output_type": "stream",
     "text": [
      "Epoch 86: Loss = 0.0023\n"
     ]
    },
    {
     "name": "stderr",
     "output_type": "stream",
     "text": [
      "100%|██████████| 30/30 [00:02<00:00, 13.72it/s]\n"
     ]
    },
    {
     "name": "stdout",
     "output_type": "stream",
     "text": [
      "Epoch 87: Loss = 0.0023\n"
     ]
    },
    {
     "name": "stderr",
     "output_type": "stream",
     "text": [
      "100%|██████████| 30/30 [00:02<00:00, 13.75it/s]\n"
     ]
    },
    {
     "name": "stdout",
     "output_type": "stream",
     "text": [
      "Epoch 88: Loss = 0.0026\n"
     ]
    },
    {
     "name": "stderr",
     "output_type": "stream",
     "text": [
      "100%|██████████| 30/30 [00:02<00:00, 13.77it/s]\n"
     ]
    },
    {
     "name": "stdout",
     "output_type": "stream",
     "text": [
      "Epoch 89: Loss = 0.0030\n"
     ]
    },
    {
     "name": "stderr",
     "output_type": "stream",
     "text": [
      "100%|██████████| 30/30 [00:02<00:00, 13.83it/s]\n"
     ]
    },
    {
     "name": "stdout",
     "output_type": "stream",
     "text": [
      "Epoch 90: Loss = 0.0121\n"
     ]
    },
    {
     "name": "stderr",
     "output_type": "stream",
     "text": [
      "100%|██████████| 30/30 [00:02<00:00, 13.87it/s]\n"
     ]
    },
    {
     "name": "stdout",
     "output_type": "stream",
     "text": [
      "Epoch 91: Loss = 0.0025\n"
     ]
    },
    {
     "name": "stderr",
     "output_type": "stream",
     "text": [
      "100%|██████████| 30/30 [00:02<00:00, 13.75it/s]\n"
     ]
    },
    {
     "name": "stdout",
     "output_type": "stream",
     "text": [
      "Epoch 92: Loss = 0.0046\n"
     ]
    },
    {
     "name": "stderr",
     "output_type": "stream",
     "text": [
      "100%|██████████| 30/30 [00:02<00:00, 13.81it/s]\n"
     ]
    },
    {
     "name": "stdout",
     "output_type": "stream",
     "text": [
      "Epoch 93: Loss = 0.0035\n"
     ]
    },
    {
     "name": "stderr",
     "output_type": "stream",
     "text": [
      "100%|██████████| 30/30 [00:02<00:00, 13.79it/s]\n"
     ]
    },
    {
     "name": "stdout",
     "output_type": "stream",
     "text": [
      "Epoch 94: Loss = 0.0032\n"
     ]
    },
    {
     "name": "stderr",
     "output_type": "stream",
     "text": [
      "100%|██████████| 30/30 [00:02<00:00, 13.77it/s]\n"
     ]
    },
    {
     "name": "stdout",
     "output_type": "stream",
     "text": [
      "Epoch 95: Loss = 0.0032\n"
     ]
    },
    {
     "name": "stderr",
     "output_type": "stream",
     "text": [
      "100%|██████████| 30/30 [00:02<00:00, 13.69it/s]\n"
     ]
    },
    {
     "name": "stdout",
     "output_type": "stream",
     "text": [
      "Epoch 96: Loss = 0.0031\n"
     ]
    },
    {
     "name": "stderr",
     "output_type": "stream",
     "text": [
      "100%|██████████| 30/30 [00:02<00:00, 13.79it/s]\n"
     ]
    },
    {
     "name": "stdout",
     "output_type": "stream",
     "text": [
      "Epoch 97: Loss = 0.0043\n"
     ]
    },
    {
     "name": "stderr",
     "output_type": "stream",
     "text": [
      "100%|██████████| 30/30 [00:02<00:00, 13.92it/s]\n"
     ]
    },
    {
     "name": "stdout",
     "output_type": "stream",
     "text": [
      "Epoch 98: Loss = 0.0579\n"
     ]
    },
    {
     "name": "stderr",
     "output_type": "stream",
     "text": [
      "100%|██████████| 30/30 [00:02<00:00, 13.72it/s]\n"
     ]
    },
    {
     "name": "stdout",
     "output_type": "stream",
     "text": [
      "Epoch 99: Loss = 0.0030\n"
     ]
    },
    {
     "name": "stderr",
     "output_type": "stream",
     "text": [
      "100%|██████████| 30/30 [00:02<00:00, 13.79it/s]\n"
     ]
    },
    {
     "name": "stdout",
     "output_type": "stream",
     "text": [
      "Epoch 100: Loss = 0.0021\n"
     ]
    },
    {
     "name": "stderr",
     "output_type": "stream",
     "text": [
      "100%|██████████| 30/30 [00:02<00:00, 13.85it/s]\n"
     ]
    },
    {
     "name": "stdout",
     "output_type": "stream",
     "text": [
      "Epoch 101: Loss = 0.0054\n"
     ]
    },
    {
     "name": "stderr",
     "output_type": "stream",
     "text": [
      "100%|██████████| 30/30 [00:02<00:00, 13.72it/s]\n"
     ]
    },
    {
     "name": "stdout",
     "output_type": "stream",
     "text": [
      "Epoch 102: Loss = 0.0047\n"
     ]
    },
    {
     "name": "stderr",
     "output_type": "stream",
     "text": [
      "100%|██████████| 30/30 [00:02<00:00, 13.80it/s]\n"
     ]
    },
    {
     "name": "stdout",
     "output_type": "stream",
     "text": [
      "Epoch 103: Loss = 0.0033\n"
     ]
    },
    {
     "name": "stderr",
     "output_type": "stream",
     "text": [
      "100%|██████████| 30/30 [00:02<00:00, 13.81it/s]\n"
     ]
    },
    {
     "name": "stdout",
     "output_type": "stream",
     "text": [
      "Epoch 104: Loss = 0.0022\n"
     ]
    },
    {
     "name": "stderr",
     "output_type": "stream",
     "text": [
      "100%|██████████| 30/30 [00:02<00:00, 13.79it/s]\n"
     ]
    },
    {
     "name": "stdout",
     "output_type": "stream",
     "text": [
      "Epoch 105: Loss = 0.0077\n"
     ]
    },
    {
     "name": "stderr",
     "output_type": "stream",
     "text": [
      "100%|██████████| 30/30 [00:02<00:00, 13.83it/s]\n"
     ]
    },
    {
     "name": "stdout",
     "output_type": "stream",
     "text": [
      "Epoch 106: Loss = 0.0193\n"
     ]
    },
    {
     "name": "stderr",
     "output_type": "stream",
     "text": [
      "100%|██████████| 30/30 [00:02<00:00, 13.72it/s]\n"
     ]
    },
    {
     "name": "stdout",
     "output_type": "stream",
     "text": [
      "Epoch 107: Loss = 0.0023\n"
     ]
    },
    {
     "name": "stderr",
     "output_type": "stream",
     "text": [
      "100%|██████████| 30/30 [00:02<00:00, 13.84it/s]\n"
     ]
    },
    {
     "name": "stdout",
     "output_type": "stream",
     "text": [
      "Epoch 108: Loss = 0.0016\n"
     ]
    },
    {
     "name": "stderr",
     "output_type": "stream",
     "text": [
      "100%|██████████| 30/30 [00:02<00:00, 13.68it/s]\n"
     ]
    },
    {
     "name": "stdout",
     "output_type": "stream",
     "text": [
      "Epoch 109: Loss = 0.0020\n"
     ]
    },
    {
     "name": "stderr",
     "output_type": "stream",
     "text": [
      "100%|██████████| 30/30 [00:02<00:00, 13.78it/s]\n"
     ]
    },
    {
     "name": "stdout",
     "output_type": "stream",
     "text": [
      "Epoch 110: Loss = 0.0037\n"
     ]
    },
    {
     "name": "stderr",
     "output_type": "stream",
     "text": [
      "100%|██████████| 30/30 [00:02<00:00, 13.64it/s]\n"
     ]
    },
    {
     "name": "stdout",
     "output_type": "stream",
     "text": [
      "Epoch 111: Loss = 0.0028\n"
     ]
    },
    {
     "name": "stderr",
     "output_type": "stream",
     "text": [
      "100%|██████████| 30/30 [00:02<00:00, 13.64it/s]\n"
     ]
    },
    {
     "name": "stdout",
     "output_type": "stream",
     "text": [
      "Epoch 112: Loss = 0.0025\n"
     ]
    },
    {
     "name": "stderr",
     "output_type": "stream",
     "text": [
      "100%|██████████| 30/30 [00:02<00:00, 13.76it/s]\n"
     ]
    },
    {
     "name": "stdout",
     "output_type": "stream",
     "text": [
      "Epoch 113: Loss = 0.0020\n"
     ]
    },
    {
     "name": "stderr",
     "output_type": "stream",
     "text": [
      "100%|██████████| 30/30 [00:02<00:00, 13.73it/s]\n"
     ]
    },
    {
     "name": "stdout",
     "output_type": "stream",
     "text": [
      "Epoch 114: Loss = 0.0067\n"
     ]
    },
    {
     "name": "stderr",
     "output_type": "stream",
     "text": [
      "100%|██████████| 30/30 [00:02<00:00, 13.73it/s]\n"
     ]
    },
    {
     "name": "stdout",
     "output_type": "stream",
     "text": [
      "Epoch 115: Loss = 0.0021\n"
     ]
    },
    {
     "name": "stderr",
     "output_type": "stream",
     "text": [
      "100%|██████████| 30/30 [00:02<00:00, 13.81it/s]\n"
     ]
    },
    {
     "name": "stdout",
     "output_type": "stream",
     "text": [
      "Epoch 116: Loss = 0.0067\n"
     ]
    },
    {
     "name": "stderr",
     "output_type": "stream",
     "text": [
      "100%|██████████| 30/30 [00:02<00:00, 13.62it/s]\n"
     ]
    },
    {
     "name": "stdout",
     "output_type": "stream",
     "text": [
      "Epoch 117: Loss = 0.0059\n"
     ]
    },
    {
     "name": "stderr",
     "output_type": "stream",
     "text": [
      "100%|██████████| 30/30 [00:02<00:00, 13.84it/s]\n"
     ]
    },
    {
     "name": "stdout",
     "output_type": "stream",
     "text": [
      "Epoch 118: Loss = 0.0029\n"
     ]
    },
    {
     "name": "stderr",
     "output_type": "stream",
     "text": [
      "100%|██████████| 30/30 [00:02<00:00, 13.73it/s]\n"
     ]
    },
    {
     "name": "stdout",
     "output_type": "stream",
     "text": [
      "Epoch 119: Loss = 0.0024\n"
     ]
    },
    {
     "name": "stderr",
     "output_type": "stream",
     "text": [
      "100%|██████████| 30/30 [00:02<00:00, 13.48it/s]\n"
     ]
    },
    {
     "name": "stdout",
     "output_type": "stream",
     "text": [
      "Epoch 120: Loss = 0.0026\n"
     ]
    },
    {
     "name": "stderr",
     "output_type": "stream",
     "text": [
      "100%|██████████| 30/30 [00:02<00:00, 13.76it/s]\n"
     ]
    },
    {
     "name": "stdout",
     "output_type": "stream",
     "text": [
      "Epoch 121: Loss = 0.0048\n"
     ]
    },
    {
     "name": "stderr",
     "output_type": "stream",
     "text": [
      "100%|██████████| 30/30 [00:02<00:00, 13.74it/s]\n"
     ]
    },
    {
     "name": "stdout",
     "output_type": "stream",
     "text": [
      "Epoch 122: Loss = 0.0044\n"
     ]
    },
    {
     "name": "stderr",
     "output_type": "stream",
     "text": [
      "100%|██████████| 30/30 [00:02<00:00, 13.58it/s]\n"
     ]
    },
    {
     "name": "stdout",
     "output_type": "stream",
     "text": [
      "Epoch 123: Loss = 0.0026\n"
     ]
    },
    {
     "name": "stderr",
     "output_type": "stream",
     "text": [
      "100%|██████████| 30/30 [00:02<00:00, 13.51it/s]\n"
     ]
    },
    {
     "name": "stdout",
     "output_type": "stream",
     "text": [
      "Epoch 124: Loss = 0.0035\n"
     ]
    },
    {
     "name": "stderr",
     "output_type": "stream",
     "text": [
      "100%|██████████| 30/30 [00:02<00:00, 13.60it/s]\n"
     ]
    },
    {
     "name": "stdout",
     "output_type": "stream",
     "text": [
      "Epoch 125: Loss = 0.0031\n"
     ]
    },
    {
     "name": "stderr",
     "output_type": "stream",
     "text": [
      "100%|██████████| 30/30 [00:02<00:00, 13.72it/s]\n"
     ]
    },
    {
     "name": "stdout",
     "output_type": "stream",
     "text": [
      "Epoch 126: Loss = 0.0026\n"
     ]
    },
    {
     "name": "stderr",
     "output_type": "stream",
     "text": [
      "100%|██████████| 30/30 [00:02<00:00, 13.60it/s]\n"
     ]
    },
    {
     "name": "stdout",
     "output_type": "stream",
     "text": [
      "Epoch 127: Loss = 0.0021\n"
     ]
    },
    {
     "name": "stderr",
     "output_type": "stream",
     "text": [
      "100%|██████████| 30/30 [00:02<00:00, 13.62it/s]\n"
     ]
    },
    {
     "name": "stdout",
     "output_type": "stream",
     "text": [
      "Epoch 128: Loss = 0.0020\n"
     ]
    },
    {
     "name": "stderr",
     "output_type": "stream",
     "text": [
      "100%|██████████| 30/30 [00:02<00:00, 13.50it/s]\n"
     ]
    },
    {
     "name": "stdout",
     "output_type": "stream",
     "text": [
      "Epoch 129: Loss = 0.0033\n"
     ]
    },
    {
     "name": "stderr",
     "output_type": "stream",
     "text": [
      "100%|██████████| 30/30 [00:02<00:00, 13.70it/s]\n"
     ]
    },
    {
     "name": "stdout",
     "output_type": "stream",
     "text": [
      "Epoch 130: Loss = 0.0026\n"
     ]
    },
    {
     "name": "stderr",
     "output_type": "stream",
     "text": [
      "100%|██████████| 30/30 [00:02<00:00, 13.65it/s]\n"
     ]
    },
    {
     "name": "stdout",
     "output_type": "stream",
     "text": [
      "Epoch 131: Loss = 0.0030\n"
     ]
    },
    {
     "name": "stderr",
     "output_type": "stream",
     "text": [
      "100%|██████████| 30/30 [00:02<00:00, 13.59it/s]\n"
     ]
    },
    {
     "name": "stdout",
     "output_type": "stream",
     "text": [
      "Epoch 132: Loss = 0.0458\n"
     ]
    },
    {
     "name": "stderr",
     "output_type": "stream",
     "text": [
      "100%|██████████| 30/30 [00:02<00:00, 13.63it/s]\n"
     ]
    },
    {
     "name": "stdout",
     "output_type": "stream",
     "text": [
      "Epoch 133: Loss = 0.0027\n"
     ]
    },
    {
     "name": "stderr",
     "output_type": "stream",
     "text": [
      "100%|██████████| 30/30 [00:02<00:00, 13.47it/s]\n"
     ]
    },
    {
     "name": "stdout",
     "output_type": "stream",
     "text": [
      "Epoch 134: Loss = 0.0015\n"
     ]
    },
    {
     "name": "stderr",
     "output_type": "stream",
     "text": [
      "100%|██████████| 30/30 [00:02<00:00, 13.52it/s]\n"
     ]
    },
    {
     "name": "stdout",
     "output_type": "stream",
     "text": [
      "Epoch 135: Loss = 0.0029\n"
     ]
    },
    {
     "name": "stderr",
     "output_type": "stream",
     "text": [
      "100%|██████████| 30/30 [00:02<00:00, 13.55it/s]\n"
     ]
    },
    {
     "name": "stdout",
     "output_type": "stream",
     "text": [
      "Epoch 136: Loss = 0.0090\n"
     ]
    },
    {
     "name": "stderr",
     "output_type": "stream",
     "text": [
      "100%|██████████| 30/30 [00:02<00:00, 13.63it/s]\n"
     ]
    },
    {
     "name": "stdout",
     "output_type": "stream",
     "text": [
      "Epoch 137: Loss = 0.0039\n"
     ]
    },
    {
     "name": "stderr",
     "output_type": "stream",
     "text": [
      "100%|██████████| 30/30 [00:02<00:00, 13.69it/s]\n"
     ]
    },
    {
     "name": "stdout",
     "output_type": "stream",
     "text": [
      "Epoch 138: Loss = 0.0013\n"
     ]
    },
    {
     "name": "stderr",
     "output_type": "stream",
     "text": [
      "100%|██████████| 30/30 [00:02<00:00, 13.75it/s]\n"
     ]
    },
    {
     "name": "stdout",
     "output_type": "stream",
     "text": [
      "Epoch 139: Loss = 0.0020\n"
     ]
    },
    {
     "name": "stderr",
     "output_type": "stream",
     "text": [
      "100%|██████████| 30/30 [00:02<00:00, 13.76it/s]\n"
     ]
    },
    {
     "name": "stdout",
     "output_type": "stream",
     "text": [
      "Epoch 140: Loss = 0.0078\n"
     ]
    },
    {
     "name": "stderr",
     "output_type": "stream",
     "text": [
      "100%|██████████| 30/30 [00:02<00:00, 13.72it/s]\n"
     ]
    },
    {
     "name": "stdout",
     "output_type": "stream",
     "text": [
      "Epoch 141: Loss = 0.0018\n"
     ]
    },
    {
     "name": "stderr",
     "output_type": "stream",
     "text": [
      "100%|██████████| 30/30 [00:02<00:00, 13.69it/s]\n"
     ]
    },
    {
     "name": "stdout",
     "output_type": "stream",
     "text": [
      "Epoch 142: Loss = 0.0016\n"
     ]
    },
    {
     "name": "stderr",
     "output_type": "stream",
     "text": [
      "100%|██████████| 30/30 [00:02<00:00, 13.62it/s]\n"
     ]
    },
    {
     "name": "stdout",
     "output_type": "stream",
     "text": [
      "Epoch 143: Loss = 0.0024\n"
     ]
    },
    {
     "name": "stderr",
     "output_type": "stream",
     "text": [
      "100%|██████████| 30/30 [00:02<00:00, 13.60it/s]\n"
     ]
    },
    {
     "name": "stdout",
     "output_type": "stream",
     "text": [
      "Epoch 144: Loss = 0.0016\n"
     ]
    },
    {
     "name": "stderr",
     "output_type": "stream",
     "text": [
      "100%|██████████| 30/30 [00:02<00:00, 13.51it/s]\n"
     ]
    },
    {
     "name": "stdout",
     "output_type": "stream",
     "text": [
      "Epoch 145: Loss = 0.0016\n"
     ]
    },
    {
     "name": "stderr",
     "output_type": "stream",
     "text": [
      "100%|██████████| 30/30 [00:02<00:00, 13.49it/s]\n"
     ]
    },
    {
     "name": "stdout",
     "output_type": "stream",
     "text": [
      "Epoch 146: Loss = 0.0027\n"
     ]
    },
    {
     "name": "stderr",
     "output_type": "stream",
     "text": [
      "100%|██████████| 30/30 [00:02<00:00, 13.41it/s]\n"
     ]
    },
    {
     "name": "stdout",
     "output_type": "stream",
     "text": [
      "Epoch 147: Loss = 0.0017\n"
     ]
    },
    {
     "name": "stderr",
     "output_type": "stream",
     "text": [
      "100%|██████████| 30/30 [00:02<00:00, 13.63it/s]\n"
     ]
    },
    {
     "name": "stdout",
     "output_type": "stream",
     "text": [
      "Epoch 148: Loss = 0.0018\n"
     ]
    },
    {
     "name": "stderr",
     "output_type": "stream",
     "text": [
      "100%|██████████| 30/30 [00:02<00:00, 13.54it/s]\n"
     ]
    },
    {
     "name": "stdout",
     "output_type": "stream",
     "text": [
      "Epoch 149: Loss = 0.0021\n"
     ]
    },
    {
     "name": "stderr",
     "output_type": "stream",
     "text": [
      "100%|██████████| 30/30 [00:02<00:00, 13.58it/s]\n"
     ]
    },
    {
     "name": "stdout",
     "output_type": "stream",
     "text": [
      "Epoch 150: Loss = 0.0044\n"
     ]
    },
    {
     "name": "stderr",
     "output_type": "stream",
     "text": [
      "100%|██████████| 30/30 [00:02<00:00, 13.73it/s]\n"
     ]
    },
    {
     "name": "stdout",
     "output_type": "stream",
     "text": [
      "Epoch 151: Loss = 0.0013\n"
     ]
    },
    {
     "name": "stderr",
     "output_type": "stream",
     "text": [
      "100%|██████████| 30/30 [00:02<00:00, 13.68it/s]\n"
     ]
    },
    {
     "name": "stdout",
     "output_type": "stream",
     "text": [
      "Epoch 152: Loss = 0.0056\n"
     ]
    },
    {
     "name": "stderr",
     "output_type": "stream",
     "text": [
      "100%|██████████| 30/30 [00:02<00:00, 13.80it/s]\n"
     ]
    },
    {
     "name": "stdout",
     "output_type": "stream",
     "text": [
      "Epoch 153: Loss = 0.0017\n"
     ]
    },
    {
     "name": "stderr",
     "output_type": "stream",
     "text": [
      "100%|██████████| 30/30 [00:02<00:00, 13.80it/s]\n"
     ]
    },
    {
     "name": "stdout",
     "output_type": "stream",
     "text": [
      "Epoch 154: Loss = 0.0017\n"
     ]
    },
    {
     "name": "stderr",
     "output_type": "stream",
     "text": [
      "100%|██████████| 30/30 [00:02<00:00, 13.79it/s]\n"
     ]
    },
    {
     "name": "stdout",
     "output_type": "stream",
     "text": [
      "Epoch 155: Loss = 0.0017\n"
     ]
    },
    {
     "name": "stderr",
     "output_type": "stream",
     "text": [
      "100%|██████████| 30/30 [00:02<00:00, 13.82it/s]\n"
     ]
    },
    {
     "name": "stdout",
     "output_type": "stream",
     "text": [
      "Epoch 156: Loss = 0.0011\n"
     ]
    },
    {
     "name": "stderr",
     "output_type": "stream",
     "text": [
      "100%|██████████| 30/30 [00:02<00:00, 13.82it/s]\n"
     ]
    },
    {
     "name": "stdout",
     "output_type": "stream",
     "text": [
      "Epoch 157: Loss = 0.0031\n"
     ]
    },
    {
     "name": "stderr",
     "output_type": "stream",
     "text": [
      "100%|██████████| 30/30 [00:02<00:00, 13.77it/s]\n"
     ]
    },
    {
     "name": "stdout",
     "output_type": "stream",
     "text": [
      "Epoch 158: Loss = 0.0062\n"
     ]
    },
    {
     "name": "stderr",
     "output_type": "stream",
     "text": [
      "100%|██████████| 30/30 [00:02<00:00, 13.81it/s]\n"
     ]
    },
    {
     "name": "stdout",
     "output_type": "stream",
     "text": [
      "Epoch 159: Loss = 0.0110\n"
     ]
    },
    {
     "name": "stderr",
     "output_type": "stream",
     "text": [
      "100%|██████████| 30/30 [00:02<00:00, 13.77it/s]\n"
     ]
    },
    {
     "name": "stdout",
     "output_type": "stream",
     "text": [
      "Epoch 160: Loss = 0.0021\n"
     ]
    },
    {
     "name": "stderr",
     "output_type": "stream",
     "text": [
      "100%|██████████| 30/30 [00:02<00:00, 13.85it/s]\n"
     ]
    },
    {
     "name": "stdout",
     "output_type": "stream",
     "text": [
      "Epoch 161: Loss = 0.0020\n"
     ]
    },
    {
     "name": "stderr",
     "output_type": "stream",
     "text": [
      "100%|██████████| 30/30 [00:02<00:00, 13.91it/s]\n"
     ]
    },
    {
     "name": "stdout",
     "output_type": "stream",
     "text": [
      "Epoch 162: Loss = 0.0348\n"
     ]
    },
    {
     "name": "stderr",
     "output_type": "stream",
     "text": [
      "100%|██████████| 30/30 [00:02<00:00, 13.84it/s]\n"
     ]
    },
    {
     "name": "stdout",
     "output_type": "stream",
     "text": [
      "Epoch 163: Loss = 0.0027\n"
     ]
    },
    {
     "name": "stderr",
     "output_type": "stream",
     "text": [
      "100%|██████████| 30/30 [00:02<00:00, 13.84it/s]\n"
     ]
    },
    {
     "name": "stdout",
     "output_type": "stream",
     "text": [
      "Epoch 164: Loss = 0.0016\n"
     ]
    },
    {
     "name": "stderr",
     "output_type": "stream",
     "text": [
      "100%|██████████| 30/30 [00:02<00:00, 13.77it/s]\n"
     ]
    },
    {
     "name": "stdout",
     "output_type": "stream",
     "text": [
      "Epoch 165: Loss = 0.0026\n"
     ]
    },
    {
     "name": "stderr",
     "output_type": "stream",
     "text": [
      "100%|██████████| 30/30 [00:02<00:00, 13.86it/s]\n"
     ]
    },
    {
     "name": "stdout",
     "output_type": "stream",
     "text": [
      "Epoch 166: Loss = 0.0013\n"
     ]
    },
    {
     "name": "stderr",
     "output_type": "stream",
     "text": [
      "100%|██████████| 30/30 [00:02<00:00, 13.86it/s]\n"
     ]
    },
    {
     "name": "stdout",
     "output_type": "stream",
     "text": [
      "Epoch 167: Loss = 0.0013\n"
     ]
    },
    {
     "name": "stderr",
     "output_type": "stream",
     "text": [
      "100%|██████████| 30/30 [00:02<00:00, 13.78it/s]\n"
     ]
    },
    {
     "name": "stdout",
     "output_type": "stream",
     "text": [
      "Epoch 168: Loss = 0.0011\n"
     ]
    },
    {
     "name": "stderr",
     "output_type": "stream",
     "text": [
      "100%|██████████| 30/30 [00:02<00:00, 13.88it/s]\n"
     ]
    },
    {
     "name": "stdout",
     "output_type": "stream",
     "text": [
      "Epoch 169: Loss = 0.0147\n"
     ]
    },
    {
     "name": "stderr",
     "output_type": "stream",
     "text": [
      "100%|██████████| 30/30 [00:02<00:00, 13.69it/s]\n"
     ]
    },
    {
     "name": "stdout",
     "output_type": "stream",
     "text": [
      "Epoch 170: Loss = 0.0017\n"
     ]
    },
    {
     "name": "stderr",
     "output_type": "stream",
     "text": [
      "100%|██████████| 30/30 [00:02<00:00, 13.83it/s]\n"
     ]
    },
    {
     "name": "stdout",
     "output_type": "stream",
     "text": [
      "Epoch 171: Loss = 0.0018\n"
     ]
    },
    {
     "name": "stderr",
     "output_type": "stream",
     "text": [
      "100%|██████████| 30/30 [00:02<00:00, 13.86it/s]\n"
     ]
    },
    {
     "name": "stdout",
     "output_type": "stream",
     "text": [
      "Epoch 172: Loss = 0.0013\n"
     ]
    },
    {
     "name": "stderr",
     "output_type": "stream",
     "text": [
      "100%|██████████| 30/30 [00:02<00:00, 13.84it/s]\n"
     ]
    },
    {
     "name": "stdout",
     "output_type": "stream",
     "text": [
      "Epoch 173: Loss = 0.0014\n"
     ]
    },
    {
     "name": "stderr",
     "output_type": "stream",
     "text": [
      "100%|██████████| 30/30 [00:02<00:00, 13.76it/s]\n"
     ]
    },
    {
     "name": "stdout",
     "output_type": "stream",
     "text": [
      "Epoch 174: Loss = 0.0106\n"
     ]
    },
    {
     "name": "stderr",
     "output_type": "stream",
     "text": [
      "100%|██████████| 30/30 [00:02<00:00, 13.83it/s]\n"
     ]
    },
    {
     "name": "stdout",
     "output_type": "stream",
     "text": [
      "Epoch 175: Loss = 0.0032\n"
     ]
    },
    {
     "name": "stderr",
     "output_type": "stream",
     "text": [
      "100%|██████████| 30/30 [00:02<00:00, 13.55it/s]\n"
     ]
    },
    {
     "name": "stdout",
     "output_type": "stream",
     "text": [
      "Epoch 176: Loss = 0.0028\n"
     ]
    },
    {
     "name": "stderr",
     "output_type": "stream",
     "text": [
      "100%|██████████| 30/30 [00:02<00:00, 13.62it/s]\n"
     ]
    },
    {
     "name": "stdout",
     "output_type": "stream",
     "text": [
      "Epoch 177: Loss = 0.0023\n"
     ]
    },
    {
     "name": "stderr",
     "output_type": "stream",
     "text": [
      "100%|██████████| 30/30 [00:02<00:00, 13.77it/s]\n"
     ]
    },
    {
     "name": "stdout",
     "output_type": "stream",
     "text": [
      "Epoch 178: Loss = 0.0013\n"
     ]
    },
    {
     "name": "stderr",
     "output_type": "stream",
     "text": [
      "100%|██████████| 30/30 [00:02<00:00, 13.46it/s]\n"
     ]
    },
    {
     "name": "stdout",
     "output_type": "stream",
     "text": [
      "Epoch 179: Loss = 0.0019\n"
     ]
    },
    {
     "name": "stderr",
     "output_type": "stream",
     "text": [
      "100%|██████████| 30/30 [00:02<00:00, 13.76it/s]\n"
     ]
    },
    {
     "name": "stdout",
     "output_type": "stream",
     "text": [
      "Epoch 180: Loss = 0.0025\n"
     ]
    },
    {
     "name": "stderr",
     "output_type": "stream",
     "text": [
      "100%|██████████| 30/30 [00:02<00:00, 13.60it/s]\n"
     ]
    },
    {
     "name": "stdout",
     "output_type": "stream",
     "text": [
      "Epoch 181: Loss = 0.0018\n"
     ]
    },
    {
     "name": "stderr",
     "output_type": "stream",
     "text": [
      "100%|██████████| 30/30 [00:02<00:00, 13.62it/s]\n"
     ]
    },
    {
     "name": "stdout",
     "output_type": "stream",
     "text": [
      "Epoch 182: Loss = 0.0403\n"
     ]
    },
    {
     "name": "stderr",
     "output_type": "stream",
     "text": [
      "100%|██████████| 30/30 [00:02<00:00, 13.70it/s]\n"
     ]
    },
    {
     "name": "stdout",
     "output_type": "stream",
     "text": [
      "Epoch 183: Loss = 0.0146\n"
     ]
    },
    {
     "name": "stderr",
     "output_type": "stream",
     "text": [
      "100%|██████████| 30/30 [00:02<00:00, 13.58it/s]\n"
     ]
    },
    {
     "name": "stdout",
     "output_type": "stream",
     "text": [
      "Epoch 184: Loss = 0.0023\n"
     ]
    },
    {
     "name": "stderr",
     "output_type": "stream",
     "text": [
      "100%|██████████| 30/30 [00:02<00:00, 13.63it/s]\n"
     ]
    },
    {
     "name": "stdout",
     "output_type": "stream",
     "text": [
      "Epoch 185: Loss = 0.0011\n"
     ]
    },
    {
     "name": "stderr",
     "output_type": "stream",
     "text": [
      "100%|██████████| 30/30 [00:02<00:00, 13.49it/s]\n"
     ]
    },
    {
     "name": "stdout",
     "output_type": "stream",
     "text": [
      "Epoch 186: Loss = 0.0045\n"
     ]
    },
    {
     "name": "stderr",
     "output_type": "stream",
     "text": [
      "100%|██████████| 30/30 [00:02<00:00, 13.60it/s]\n"
     ]
    },
    {
     "name": "stdout",
     "output_type": "stream",
     "text": [
      "Epoch 187: Loss = 0.0018\n"
     ]
    },
    {
     "name": "stderr",
     "output_type": "stream",
     "text": [
      "100%|██████████| 30/30 [00:02<00:00, 13.65it/s]\n"
     ]
    },
    {
     "name": "stdout",
     "output_type": "stream",
     "text": [
      "Epoch 188: Loss = 0.0019\n"
     ]
    },
    {
     "name": "stderr",
     "output_type": "stream",
     "text": [
      "100%|██████████| 30/30 [00:02<00:00, 13.59it/s]\n"
     ]
    },
    {
     "name": "stdout",
     "output_type": "stream",
     "text": [
      "Epoch 189: Loss = 0.0015\n"
     ]
    },
    {
     "name": "stderr",
     "output_type": "stream",
     "text": [
      "100%|██████████| 30/30 [00:02<00:00, 13.72it/s]\n"
     ]
    },
    {
     "name": "stdout",
     "output_type": "stream",
     "text": [
      "Epoch 190: Loss = 0.0020\n"
     ]
    },
    {
     "name": "stderr",
     "output_type": "stream",
     "text": [
      "100%|██████████| 30/30 [00:02<00:00, 13.65it/s]\n"
     ]
    },
    {
     "name": "stdout",
     "output_type": "stream",
     "text": [
      "Epoch 191: Loss = 0.0010\n"
     ]
    },
    {
     "name": "stderr",
     "output_type": "stream",
     "text": [
      "100%|██████████| 30/30 [00:02<00:00, 13.77it/s]\n"
     ]
    },
    {
     "name": "stdout",
     "output_type": "stream",
     "text": [
      "Epoch 192: Loss = 0.0012\n"
     ]
    },
    {
     "name": "stderr",
     "output_type": "stream",
     "text": [
      "100%|██████████| 30/30 [00:02<00:00, 13.65it/s]\n"
     ]
    },
    {
     "name": "stdout",
     "output_type": "stream",
     "text": [
      "Epoch 193: Loss = 0.0012\n"
     ]
    },
    {
     "name": "stderr",
     "output_type": "stream",
     "text": [
      "100%|██████████| 30/30 [00:02<00:00, 13.73it/s]\n"
     ]
    },
    {
     "name": "stdout",
     "output_type": "stream",
     "text": [
      "Epoch 194: Loss = 0.0033\n"
     ]
    },
    {
     "name": "stderr",
     "output_type": "stream",
     "text": [
      "100%|██████████| 30/30 [00:02<00:00, 13.57it/s]\n"
     ]
    },
    {
     "name": "stdout",
     "output_type": "stream",
     "text": [
      "Epoch 195: Loss = 0.0183\n"
     ]
    },
    {
     "name": "stderr",
     "output_type": "stream",
     "text": [
      "100%|██████████| 30/30 [00:02<00:00, 13.58it/s]\n"
     ]
    },
    {
     "name": "stdout",
     "output_type": "stream",
     "text": [
      "Epoch 196: Loss = 0.0012\n"
     ]
    },
    {
     "name": "stderr",
     "output_type": "stream",
     "text": [
      "100%|██████████| 30/30 [00:02<00:00, 13.74it/s]\n"
     ]
    },
    {
     "name": "stdout",
     "output_type": "stream",
     "text": [
      "Epoch 197: Loss = 0.0066\n"
     ]
    },
    {
     "name": "stderr",
     "output_type": "stream",
     "text": [
      "100%|██████████| 30/30 [00:02<00:00, 13.67it/s]\n"
     ]
    },
    {
     "name": "stdout",
     "output_type": "stream",
     "text": [
      "Epoch 198: Loss = 0.0018\n"
     ]
    },
    {
     "name": "stderr",
     "output_type": "stream",
     "text": [
      "100%|██████████| 30/30 [00:02<00:00, 13.64it/s]\n"
     ]
    },
    {
     "name": "stdout",
     "output_type": "stream",
     "text": [
      "Epoch 199: Loss = 0.0015\n"
     ]
    }
   ],
   "source": [
    "\n",
    "\n",
    "\n",
    "# # --- Dataset ---\n",
    "# dataset = ImageVectorDataset(\"data/images\", \"data/labels.csv\", image_size=64)\n",
    "# dataloader = DataLoader(dataset, batch_size=4, shuffle=True)\n",
    "\n",
    "# # # --- Model & Noise Scheduler ---\n",
    "# # from diffusers import UNet2DModel  # vanilla UNet for image denoising\n",
    "# base_unet = UNet2DConditionModel(\n",
    "#     sample_size=64, in_channels=3, out_channels=3, layers_per_block=2,\n",
    "#     block_out_channels=(64, 128, 256, 256),  # now 4 blocks = 4 values\n",
    "#     down_block_types=('DownBlock2D', 'AttnDownBlock2D', 'AttnDownBlock2D', 'AttnDownBlock2D'),\n",
    "#     up_block_types=('AttnUpBlock2D', 'AttnUpBlock2D', 'AttnUpBlock2D', 'UpBlock2D'),\n",
    "#     cross_attention_dim=128\n",
    "# )\n",
    "\n",
    "\n",
    "# model = CustomConditionedUNet(base_unet).cuda()\n",
    "\n",
    "# noise_scheduler = DDPMScheduler(num_train_timesteps=1000)\n",
    "# optimizer = torch.optim.AdamW(model.parameters(), lr=1e-4)\n",
    "\n",
    "# # --- Training ---\n",
    "# for epoch in range(200):\n",
    "#     for images, cond_vectors in tqdm(dataloader):\n",
    "#         images = images.cuda()\n",
    "#         cond_vectors = cond_vectors.cuda()\n",
    "\n",
    "\n",
    "#         # Add noise to images\n",
    "#         noise = torch.randn_like(images)\n",
    "#         timesteps = torch.randint(0, 1000, (images.size(0),), device=images.device).long()\n",
    "#         noisy_images = noise_scheduler.add_noise(images, noise, timesteps)\n",
    "\n",
    "#         # Predict the noise\n",
    "#         pred = model(noisy_images, timestep=timesteps, cond_vector=cond_vectors).sample\n",
    "\n",
    "#         loss = F.mse_loss(pred, noise)\n",
    "\n",
    "#         optimizer.zero_grad()\n",
    "#         loss.backward()\n",
    "#         optimizer.step()\n",
    "\n",
    "#     print(f\"Epoch {epoch}: Loss = {loss.item():.4f}\")\n",
    "\n",
    "\n",
    "# torch.save(model.state_dict(), \"cond_unet.pt\")"
   ]
  },
  {
   "cell_type": "code",
   "execution_count": null,
   "id": "1a36ee45",
   "metadata": {},
   "outputs": [],
   "source": []
  },
  {
   "cell_type": "code",
   "execution_count": null,
   "id": "49b828f3",
   "metadata": {},
   "outputs": [],
   "source": [
    "\n",
    "# https://huggingface.co/docs/diffusers/en/tutorials/basic_training\n",
    "\n",
    "\n",
    "from accelerate import Accelerator\n",
    "from huggingface_hub import create_repo, upload_folder\n",
    "from tqdm.auto import tqdm\n",
    "from pathlib import Path\n",
    "import os\n",
    "\n",
    "\n",
    "from diffusers import DDPMPipeline\n",
    "from diffusers.utils import make_image_grid\n",
    "import os\n",
    "\n",
    "def evaluate(config, epoch, pipeline):\n",
    "    # Sample some images from random noise (this is the backward diffusion process).\n",
    "    # The default pipeline output type is `List[PIL.Image]`\n",
    "    images = pipeline(\n",
    "        batch_size=config.eval_batch_size,\n",
    "        generator=torch.Generator(device='cpu').manual_seed(config.seed), # Use a separate torch generator to avoid rewinding the random state of the main training loop\n",
    "    ).images\n",
    "\n",
    "    # Make a grid out of the images\n",
    "    image_grid = make_image_grid(images, rows=4, cols=4)\n",
    "\n",
    "    # Save the images\n",
    "    test_dir = os.path.join(config.output_dir, \"samples\")\n",
    "    os.makedirs(test_dir, exist_ok=True)\n",
    "    image_grid.save(f\"{test_dir}/{epoch:04d}.png\")\n",
    "\n",
    "\n",
    "\n",
    "\n",
    "def train_loop(config, model, noise_scheduler, optimizer, train_dataloader, lr_scheduler):\n",
    "    # Initialize accelerator and tensorboard logging\n",
    "\n",
    "    accelerator = Accelerator(\n",
    "        mixed_precision=config.mixed_precision,\n",
    "        gradient_accumulation_steps=config.gradient_accumulation_steps,\n",
    "        log_with=\"tensorboard\",\n",
    "        project_dir=os.path.join(config.output_dir, \"logs\"),\n",
    "    )\n",
    "    if accelerator.is_main_process:\n",
    "        if config.output_dir is not None:\n",
    "            os.makedirs(config.output_dir, exist_ok=True)\n",
    "        if config.push_to_hub:\n",
    "            repo_id = create_repo(\n",
    "                repo_id=config.hub_model_id or Path(config.output_dir).name, exist_ok=True\n",
    "            ).repo_id\n",
    "        accelerator.init_trackers(\"train_example\")\n",
    "\n",
    "    # Prepare everything\n",
    "    # There is no specific order to remember, you just need to unpack the\n",
    "    # objects in the same order you gave them to the prepare method.\n",
    "    model, optimizer, train_dataloader, lr_scheduler = accelerator.prepare(\n",
    "        model, optimizer, train_dataloader, lr_scheduler\n",
    "    )\n",
    "\n",
    "    global_step = 0\n",
    "\n",
    "    epoch_min_loss = 1000\n",
    "    epoch_loss = []\n",
    "\n",
    "\n",
    "    # Now you train the model\n",
    "    for epoch in range(config.num_epochs):\n",
    "        progress_bar = tqdm(total=len(train_dataloader), disable=not accelerator.is_local_main_process)\n",
    "        progress_bar.set_description(f\"Epoch {epoch}\")\n",
    "\n",
    "        for step, (clean_images, cond_vectors) in enumerate(train_dataloader):\n",
    "            # clean_images = batch[\"images\"]\n",
    "            # Sample noise to add to the images\n",
    "            noise = torch.randn(clean_images.shape, device=clean_images.device)\n",
    "            bs = clean_images.shape[0]\n",
    "\n",
    "            # Sample a random timestep for each image\n",
    "            timesteps = torch.randint(\n",
    "                0, noise_scheduler.config.num_train_timesteps, (bs,), device=clean_images.device,\n",
    "                dtype=torch.int64\n",
    "            )\n",
    "\n",
    "            # Add noise to the clean images according to the noise magnitude at each timestep\n",
    "            # (this is the forward diffusion process)\n",
    "\n",
    "            \n",
    "            noisy_images = noise_scheduler.add_noise(clean_images, noise, timesteps)\n",
    "\n",
    "            with accelerator.accumulate(model):\n",
    "                # Predict the noise residual\n",
    "                # noise_pred = model(noisy_images, timesteps, return_dict=False)[0]\n",
    "                noise_pred = model(noisy_images, timestep=timesteps, cond_vector=cond_vectors).sample\n",
    "\n",
    "                # print(noise_pred.size())\n",
    "                # print(torch.min(noise_pred), torch.max(noise_pred))\n",
    "\n",
    "                # noise_pred = noise_pred[0].clamp(-1, 1) # -1 to 1\n",
    "                # back_to_pil = T.ToPILImage()(noise_pred)\n",
    "                # back_to_pil.show(title=\"after\")\n",
    "                        \n",
    "\n",
    "                loss = F.mse_loss(noise_pred, noise)\n",
    "                epoch_loss.append(loss.detach().item())\n",
    "                # if loss.detach().item() < min_loss:\n",
    "                #     min_loss = loss.detach().item()\n",
    "\n",
    "                #     if (epoch+1) > 100:\n",
    "                #         torch.save(model.state_dict(), f\"{config.output_dir}_cond_unet_min_loss.pt\")\n",
    "                #         print(\"Saved \", min_loss.3f)\n",
    "\n",
    "                accelerator.backward(loss)\n",
    "\n",
    "                if accelerator.sync_gradients:\n",
    "                    accelerator.clip_grad_norm_(model.parameters(), 1.0)\n",
    "                optimizer.step()\n",
    "                lr_scheduler.step()\n",
    "                optimizer.zero_grad()\n",
    "\n",
    "            progress_bar.update(1)\n",
    "            logs = {\"loss\": loss.detach().item(), \"lr\": lr_scheduler.get_last_lr()[0], \"step\": global_step}\n",
    "            progress_bar.set_postfix(**logs)\n",
    "            accelerator.log(logs, step=global_step)\n",
    "            global_step += 1\n",
    "\n",
    "        mean_epoch_loss = sum(epoch_loss)/len(epoch_loss)\n",
    "        if mean_epoch_loss < epoch_min_loss:\n",
    "            epoch_min_loss = mean_epoch_loss\n",
    "\n",
    "            if (epoch+1) > 100:\n",
    "                torch.save(model.state_dict(), f\"{config.output_dir}_cond_unet_min_loss.pt\")\n",
    "                print(\"Saved \", epoch_min_loss)\n",
    "\n",
    "        # After each epoch you optionally sample some demo images with evaluate() and save the model\n",
    "        if accelerator.is_main_process:\n",
    "            pipeline = DDPMPipeline(unet=accelerator.unwrap_model(model), scheduler=noise_scheduler)\n",
    "\n",
    "            if (epoch + 1) % config.save_image_epochs == 0 or epoch == config.num_epochs - 1:\n",
    "                # evaluate(config, epoch, pipeline)\n",
    "                pass\n",
    "\n",
    "            if (epoch + 1) % config.save_model_epochs == 0 or epoch == config.num_epochs - 1:\n",
    "                if config.push_to_hub:\n",
    "                    upload_folder(\n",
    "                        repo_id=repo_id,\n",
    "                        folder_path=config.output_dir,\n",
    "                        commit_message=f\"Epoch {epoch}\",\n",
    "                        ignore_patterns=[\"step_*\", \"epoch_*\"],\n",
    "                    )\n",
    "                else:\n",
    "                    pass\n",
    "                    #pipeline.save_pretrained(config.output_dir)\n",
    "                    # torch.save(model.state_dict(), f\"{config.output_dir}_cond_unet_{epoch + 1}.pt\")\n",
    "\n",
    "                    "
   ]
  },
  {
   "cell_type": "code",
   "execution_count": 102,
   "id": "f78eec7e",
   "metadata": {},
   "outputs": [],
   "source": [
    "from dataclasses import dataclass\n",
    "\n",
    "@dataclass\n",
    "class TrainingConfig:\n",
    "    image_size = 64  # the generated image resolution\n",
    "    train_batch_size = 8\n",
    "    eval_batch_size = 8  # how many images to sample during evaluation\n",
    "    num_epochs = 500\n",
    "    gradient_accumulation_steps = 1\n",
    "    learning_rate = 1e-4\n",
    "    lr_warmup_steps = 500\n",
    "    save_image_epochs = 1\n",
    "    save_model_epochs = 50\n",
    "    mixed_precision = \"fp16\"  # `no` for float32, `fp16` for automatic mixed precision\n",
    "    output_dir = \"ddpm-test-128\"  # the model name locally and on the HF Hub\n",
    "\n",
    "    push_to_hub = False  # whether to upload the saved model to the HF Hub\n",
    "    hub_model_id = \"<your-username>/<my-awesome-model>\"  # the name of the repository to create on the HF Hub\n",
    "    hub_private_repo = None\n",
    "    overwrite_output_dir = True  # overwrite the old model when re-running the notebook\n",
    "    seed = 0\n",
    "\n",
    "\n",
    "config = TrainingConfig()\n",
    "\n",
    "\n",
    "\n",
    "# --- Dataset ---\n",
    "dataset = ImageVectorDataset(\"data/images\", \"data/labels.csv\", image_size=64)\n",
    "dataloader = DataLoader(dataset, batch_size=8, shuffle=True)\n",
    "\n",
    "# # --- Model & Noise Scheduler ---\n",
    "# from diffusers import UNet2DModel  # vanilla UNet for image denoising\n",
    "base_unet = UNet2DConditionModel(\n",
    "    sample_size=64, in_channels=3, out_channels=3, layers_per_block=2,\n",
    "    block_out_channels=(64, 128, 256),  # now 4 blocks = 4 values\n",
    "    down_block_types=('DownBlock2D', 'AttnDownBlock2D',  'AttnDownBlock2D'),\n",
    "    up_block_types=('AttnUpBlock2D', 'AttnUpBlock2D',  'UpBlock2D'),\n",
    "    cross_attention_dim=128\n",
    ")\n",
    "\n",
    "model = CustomConditionedUNet(base_unet).cuda()\n",
    "\n",
    "\n",
    "from diffusers.optimization import get_cosine_schedule_with_warmup\n",
    "\n",
    "optimizer = torch.optim.AdamW(model.parameters(), lr=config.learning_rate)\n",
    "lr_scheduler = get_cosine_schedule_with_warmup(\n",
    "    optimizer=optimizer,\n",
    "    num_warmup_steps=config.lr_warmup_steps,\n",
    "    num_training_steps=(len(dataloader) * config.num_epochs),\n",
    ")\n",
    "\n",
    "noise_scheduler = DDPMScheduler(num_train_timesteps=1000)"
   ]
  },
  {
   "cell_type": "code",
   "execution_count": 103,
   "id": "d1b98981",
   "metadata": {},
   "outputs": [
    {
     "name": "stderr",
     "output_type": "stream",
     "text": [
      "c:\\Users\\SANO\\.conda\\envs\\mm_diff_3\\Lib\\site-packages\\accelerate\\accelerator.py:506: UserWarning: `log_with=tensorboard` was passed but no supported trackers are currently installed.\n",
      "  warnings.warn(f\"`log_with={log_with}` was passed but no supported trackers are currently installed.\")\n"
     ]
    },
    {
     "name": "stdout",
     "output_type": "stream",
     "text": [
      "Launching training on one GPU.\n"
     ]
    },
    {
     "name": "stderr",
     "output_type": "stream",
     "text": [
      "Epoch 0: 100%|██████████| 15/15 [00:01<00:00, 11.98it/s, loss=1.11, lr=3e-6, step=14]  \n",
      "Epoch 1: 100%|██████████| 15/15 [00:00<00:00, 15.52it/s, loss=1.04, lr=6e-6, step=29]\n",
      "Epoch 2:  13%|█▎        | 2/15 [00:00<00:00, 15.21it/s, loss=1.04, lr=6.4e-6, step=31]\n",
      "\n",
      "\n",
      "\n",
      "\n",
      "\n",
      "\n",
      "Epoch 2: 100%|██████████| 15/15 [00:00<00:00, 15.70it/s, loss=0.934, lr=9e-6, step=44]  \n",
      "Epoch 3: 100%|██████████| 15/15 [00:00<00:00, 15.37it/s, loss=0.775, lr=1.2e-5, step=59]\n",
      "Epoch 4: 100%|██████████| 15/15 [00:00<00:00, 15.38it/s, loss=0.648, lr=1.5e-5, step=74] \n",
      "Epoch 5: 100%|██████████| 15/15 [00:00<00:00, 15.30it/s, loss=0.467, lr=1.8e-5, step=89]\n",
      "Epoch 6: 100%|██████████| 15/15 [00:00<00:00, 15.38it/s, loss=0.341, lr=2.1e-5, step=104] \n",
      "Epoch 7: 100%|██████████| 15/15 [00:01<00:00, 14.99it/s, loss=0.276, lr=2.4e-5, step=119]\n",
      "Epoch 8: 100%|██████████| 15/15 [00:00<00:00, 15.54it/s, loss=0.158, lr=2.7e-5, step=134] \n",
      "Epoch 9: 100%|██████████| 15/15 [00:00<00:00, 15.40it/s, loss=0.141, lr=3e-5, step=149]\n",
      "Epoch 10: 100%|██████████| 15/15 [00:00<00:00, 15.69it/s, loss=0.101, lr=3.3e-5, step=164] \n",
      "Epoch 11: 100%|██████████| 15/15 [00:00<00:00, 15.61it/s, loss=0.0868, lr=3.6e-5, step=179]\n",
      "Epoch 12: 100%|██████████| 15/15 [00:00<00:00, 15.46it/s, loss=0.1, lr=3.9e-5, step=194]    \n",
      "Epoch 13: 100%|██████████| 15/15 [00:00<00:00, 15.17it/s, loss=0.0655, lr=4.2e-5, step=209]\n",
      "Epoch 14: 100%|██████████| 15/15 [00:00<00:00, 15.65it/s, loss=0.178, lr=4.5e-5, step=224]  \n",
      "Epoch 15: 100%|██████████| 15/15 [00:00<00:00, 15.28it/s, loss=0.0624, lr=4.8e-5, step=239]\n",
      "Epoch 16: 100%|██████████| 15/15 [00:00<00:00, 15.43it/s, loss=0.0538, lr=5.1e-5, step=254] \n",
      "Epoch 17: 100%|██████████| 15/15 [00:00<00:00, 15.20it/s, loss=0.0554, lr=5.4e-5, step=269]\n",
      "Epoch 18: 100%|██████████| 15/15 [00:00<00:00, 15.51it/s, loss=0.0443, lr=5.7e-5, step=284] \n",
      "Epoch 19: 100%|██████████| 15/15 [00:00<00:00, 15.32it/s, loss=0.125, lr=6e-5, step=299]\n",
      "Epoch 20: 100%|██████████| 15/15 [00:00<00:00, 15.61it/s, loss=0.0801, lr=6.3e-5, step=314] \n",
      "Epoch 21: 100%|██████████| 15/15 [00:00<00:00, 15.44it/s, loss=0.0436, lr=6.6e-5, step=329]\n",
      "Epoch 22: 100%|██████████| 15/15 [00:00<00:00, 15.72it/s, loss=0.0824, lr=6.9e-5, step=344] \n",
      "Epoch 23: 100%|██████████| 15/15 [00:00<00:00, 15.46it/s, loss=0.0785, lr=7.2e-5, step=359]\n",
      "Epoch 24: 100%|██████████| 15/15 [00:00<00:00, 15.47it/s, loss=0.0579, lr=7.5e-5, step=374] \n",
      "Epoch 25: 100%|██████████| 15/15 [00:00<00:00, 15.50it/s, loss=0.0363, lr=7.8e-5, step=389]\n",
      "Epoch 26: 100%|██████████| 15/15 [00:00<00:00, 15.27it/s, loss=0.0428, lr=8.1e-5, step=404] \n",
      "Epoch 27: 100%|██████████| 15/15 [00:00<00:00, 15.41it/s, loss=0.0339, lr=8.4e-5, step=419]\n",
      "Epoch 28: 100%|██████████| 15/15 [00:00<00:00, 15.58it/s, loss=0.0326, lr=8.7e-5, step=434] \n",
      "Epoch 29: 100%|██████████| 15/15 [00:00<00:00, 15.51it/s, loss=0.039, lr=9e-5, step=449]\n",
      "Epoch 30: 100%|██████████| 15/15 [00:00<00:00, 15.30it/s, loss=0.0305, lr=9.3e-5, step=464] \n",
      "Epoch 31: 100%|██████████| 15/15 [00:00<00:00, 15.33it/s, loss=0.0632, lr=9.6e-5, step=479]\n",
      "Epoch 32: 100%|██████████| 15/15 [00:00<00:00, 15.53it/s, loss=0.0286, lr=9.9e-5, step=494] \n",
      "Epoch 33: 100%|██████████| 15/15 [00:01<00:00, 14.77it/s, loss=0.0425, lr=0.0001, step=509]\n",
      "Epoch 34: 100%|██████████| 15/15 [00:01<00:00, 14.99it/s, loss=0.03, lr=0.0001, step=524]  \n",
      "Epoch 35: 100%|██████████| 15/15 [00:01<00:00, 14.87it/s, loss=0.0561, lr=0.0001, step=539]\n",
      "Epoch 36: 100%|██████████| 15/15 [00:01<00:00, 14.90it/s, loss=0.0301, lr=0.0001, step=554]\n",
      "Epoch 37: 100%|██████████| 15/15 [00:01<00:00, 14.67it/s, loss=0.0181, lr=0.0001, step=569]\n",
      "Epoch 38: 100%|██████████| 15/15 [00:00<00:00, 15.19it/s, loss=0.0174, lr=0.0001, step=584]\n",
      "Epoch 39: 100%|██████████| 15/15 [00:01<00:00, 14.93it/s, loss=0.0186, lr=9.99e-5, step=599]\n",
      "Epoch 40: 100%|██████████| 15/15 [00:00<00:00, 15.05it/s, loss=0.0193, lr=9.99e-5, step=614]\n",
      "Epoch 41: 100%|██████████| 15/15 [00:01<00:00, 14.62it/s, loss=0.0179, lr=9.99e-5, step=629]\n",
      "Epoch 42: 100%|██████████| 15/15 [00:00<00:00, 15.23it/s, loss=0.016, lr=9.99e-5, step=644] \n",
      "Epoch 43: 100%|██████████| 15/15 [00:00<00:00, 15.12it/s, loss=0.0155, lr=9.99e-5, step=659]\n",
      "Epoch 44: 100%|██████████| 15/15 [00:00<00:00, 15.03it/s, loss=0.016, lr=9.98e-5, step=674] \n",
      "Epoch 45: 100%|██████████| 15/15 [00:01<00:00, 14.88it/s, loss=0.0131, lr=9.98e-5, step=689]\n",
      "Epoch 46: 100%|██████████| 15/15 [00:00<00:00, 15.01it/s, loss=0.0128, lr=9.98e-5, step=704]\n",
      "Epoch 47: 100%|██████████| 15/15 [00:01<00:00, 14.71it/s, loss=0.0355, lr=9.98e-5, step=719]\n",
      "Epoch 48: 100%|██████████| 15/15 [00:01<00:00, 14.96it/s, loss=0.0232, lr=9.97e-5, step=734]\n",
      "self.unet=CustomConditionedUNet(\n",
      "  (unet): UNet2DConditionModel(\n",
      "    (conv_in): Conv2d(3, 64, kernel_size=(3, 3), stride=(1, 1), padding=(1, 1))\n",
      "    (time_proj): Timesteps()\n",
      "    (time_embedding): TimestepEmbedding(\n",
      "      (linear_1): Linear(in_features=64, out_features=256, bias=True)\n",
      "      (act): SiLU()\n",
      "      (linear_2): Linear(in_features=256, out_features=256, bias=True)\n",
      "    )\n",
      "    (down_blocks): ModuleList(\n",
      "      (0): DownBlock2D(\n",
      "        (resnets): ModuleList(\n",
      "          (0-1): 2 x ResnetBlock2D(\n",
      "            (norm1): GroupNorm(32, 64, eps=1e-05, affine=True)\n",
      "            (conv1): Conv2d(64, 64, kernel_size=(3, 3), stride=(1, 1), padding=(1, 1))\n",
      "            (time_emb_proj): Linear(in_features=256, out_features=64, bias=True)\n",
      "            (norm2): GroupNorm(32, 64, eps=1e-05, affine=True)\n",
      "            (dropout): Dropout(p=0.0, inplace=False)\n",
      "            (conv2): Conv2d(64, 64, kernel_size=(3, 3), stride=(1, 1), padding=(1, 1))\n",
      "            (nonlinearity): SiLU()\n",
      "          )\n",
      "        )\n",
      "        (downsamplers): ModuleList(\n",
      "          (0): Downsample2D(\n",
      "            (conv): Conv2d(64, 64, kernel_size=(3, 3), stride=(2, 2), padding=(1, 1))\n",
      "          )\n",
      "        )\n",
      "      )\n",
      "      (1): AttnDownBlock2D(\n",
      "        (attentions): ModuleList(\n",
      "          (0-1): 2 x Attention(\n",
      "            (group_norm): GroupNorm(32, 128, eps=1e-05, affine=True)\n",
      "            (to_q): Linear(in_features=128, out_features=128, bias=True)\n",
      "            (to_k): Linear(in_features=128, out_features=128, bias=True)\n",
      "            (to_v): Linear(in_features=128, out_features=128, bias=True)\n",
      "            (to_out): ModuleList(\n",
      "              (0): Linear(in_features=128, out_features=128, bias=True)\n",
      "              (1): Dropout(p=0.0, inplace=False)\n",
      "            )\n",
      "          )\n",
      "        )\n",
      "        (resnets): ModuleList(\n",
      "          (0): ResnetBlock2D(\n",
      "            (norm1): GroupNorm(32, 64, eps=1e-05, affine=True)\n",
      "            (conv1): Conv2d(64, 128, kernel_size=(3, 3), stride=(1, 1), padding=(1, 1))\n",
      "            (time_emb_proj): Linear(in_features=256, out_features=128, bias=True)\n",
      "            (norm2): GroupNorm(32, 128, eps=1e-05, affine=True)\n",
      "            (dropout): Dropout(p=0.0, inplace=False)\n",
      "            (conv2): Conv2d(128, 128, kernel_size=(3, 3), stride=(1, 1), padding=(1, 1))\n",
      "            (nonlinearity): SiLU()\n",
      "            (conv_shortcut): Conv2d(64, 128, kernel_size=(1, 1), stride=(1, 1))\n",
      "          )\n",
      "          (1): ResnetBlock2D(\n",
      "            (norm1): GroupNorm(32, 128, eps=1e-05, affine=True)\n",
      "            (conv1): Conv2d(128, 128, kernel_size=(3, 3), stride=(1, 1), padding=(1, 1))\n",
      "            (time_emb_proj): Linear(in_features=256, out_features=128, bias=True)\n",
      "            (norm2): GroupNorm(32, 128, eps=1e-05, affine=True)\n",
      "            (dropout): Dropout(p=0.0, inplace=False)\n",
      "            (conv2): Conv2d(128, 128, kernel_size=(3, 3), stride=(1, 1), padding=(1, 1))\n",
      "            (nonlinearity): SiLU()\n",
      "          )\n",
      "        )\n",
      "        (downsamplers): ModuleList(\n",
      "          (0): Downsample2D(\n",
      "            (conv): Conv2d(128, 128, kernel_size=(3, 3), stride=(2, 2), padding=(1, 1))\n",
      "          )\n",
      "        )\n",
      "      )\n",
      "      (2): AttnDownBlock2D(\n",
      "        (attentions): ModuleList(\n",
      "          (0-1): 2 x Attention(\n",
      "            (group_norm): GroupNorm(32, 256, eps=1e-05, affine=True)\n",
      "            (to_q): Linear(in_features=256, out_features=256, bias=True)\n",
      "            (to_k): Linear(in_features=256, out_features=256, bias=True)\n",
      "            (to_v): Linear(in_features=256, out_features=256, bias=True)\n",
      "            (to_out): ModuleList(\n",
      "              (0): Linear(in_features=256, out_features=256, bias=True)\n",
      "              (1): Dropout(p=0.0, inplace=False)\n",
      "            )\n",
      "          )\n",
      "        )\n",
      "        (resnets): ModuleList(\n",
      "          (0): ResnetBlock2D(\n",
      "            (norm1): GroupNorm(32, 128, eps=1e-05, affine=True)\n",
      "            (conv1): Conv2d(128, 256, kernel_size=(3, 3), stride=(1, 1), padding=(1, 1))\n",
      "            (time_emb_proj): Linear(in_features=256, out_features=256, bias=True)\n",
      "            (norm2): GroupNorm(32, 256, eps=1e-05, affine=True)\n",
      "            (dropout): Dropout(p=0.0, inplace=False)\n",
      "            (conv2): Conv2d(256, 256, kernel_size=(3, 3), stride=(1, 1), padding=(1, 1))\n",
      "            (nonlinearity): SiLU()\n",
      "            (conv_shortcut): Conv2d(128, 256, kernel_size=(1, 1), stride=(1, 1))\n",
      "          )\n",
      "          (1): ResnetBlock2D(\n",
      "            (norm1): GroupNorm(32, 256, eps=1e-05, affine=True)\n",
      "            (conv1): Conv2d(256, 256, kernel_size=(3, 3), stride=(1, 1), padding=(1, 1))\n",
      "            (time_emb_proj): Linear(in_features=256, out_features=256, bias=True)\n",
      "            (norm2): GroupNorm(32, 256, eps=1e-05, affine=True)\n",
      "            (dropout): Dropout(p=0.0, inplace=False)\n",
      "            (conv2): Conv2d(256, 256, kernel_size=(3, 3), stride=(1, 1), padding=(1, 1))\n",
      "            (nonlinearity): SiLU()\n",
      "          )\n",
      "        )\n",
      "      )\n",
      "    )\n",
      "    (up_blocks): ModuleList(\n",
      "      (0): AttnUpBlock2D(\n",
      "        (attentions): ModuleList(\n",
      "          (0-2): 3 x Attention(\n",
      "            (group_norm): GroupNorm(32, 256, eps=1e-05, affine=True)\n",
      "            (to_q): Linear(in_features=256, out_features=256, bias=True)\n",
      "            (to_k): Linear(in_features=256, out_features=256, bias=True)\n",
      "            (to_v): Linear(in_features=256, out_features=256, bias=True)\n",
      "            (to_out): ModuleList(\n",
      "              (0): Linear(in_features=256, out_features=256, bias=True)\n",
      "              (1): Dropout(p=0.0, inplace=False)\n",
      "            )\n",
      "          )\n",
      "        )\n",
      "        (resnets): ModuleList(\n",
      "          (0-1): 2 x ResnetBlock2D(\n",
      "            (norm1): GroupNorm(32, 512, eps=1e-05, affine=True)\n",
      "            (conv1): Conv2d(512, 256, kernel_size=(3, 3), stride=(1, 1), padding=(1, 1))\n",
      "            (time_emb_proj): Linear(in_features=256, out_features=256, bias=True)\n",
      "            (norm2): GroupNorm(32, 256, eps=1e-05, affine=True)\n",
      "            (dropout): Dropout(p=0.0, inplace=False)\n",
      "            (conv2): Conv2d(256, 256, kernel_size=(3, 3), stride=(1, 1), padding=(1, 1))\n",
      "            (nonlinearity): SiLU()\n",
      "            (conv_shortcut): Conv2d(512, 256, kernel_size=(1, 1), stride=(1, 1))\n",
      "          )\n",
      "          (2): ResnetBlock2D(\n",
      "            (norm1): GroupNorm(32, 384, eps=1e-05, affine=True)\n",
      "            (conv1): Conv2d(384, 256, kernel_size=(3, 3), stride=(1, 1), padding=(1, 1))\n",
      "            (time_emb_proj): Linear(in_features=256, out_features=256, bias=True)\n",
      "            (norm2): GroupNorm(32, 256, eps=1e-05, affine=True)\n",
      "            (dropout): Dropout(p=0.0, inplace=False)\n",
      "            (conv2): Conv2d(256, 256, kernel_size=(3, 3), stride=(1, 1), padding=(1, 1))\n",
      "            (nonlinearity): SiLU()\n",
      "            (conv_shortcut): Conv2d(384, 256, kernel_size=(1, 1), stride=(1, 1))\n",
      "          )\n",
      "        )\n",
      "        (upsamplers): ModuleList(\n",
      "          (0): Upsample2D(\n",
      "            (conv): Conv2d(256, 256, kernel_size=(3, 3), stride=(1, 1), padding=(1, 1))\n",
      "          )\n",
      "        )\n",
      "      )\n",
      "      (1): AttnUpBlock2D(\n",
      "        (attentions): ModuleList(\n",
      "          (0-2): 3 x Attention(\n",
      "            (group_norm): GroupNorm(32, 128, eps=1e-05, affine=True)\n",
      "            (to_q): Linear(in_features=128, out_features=128, bias=True)\n",
      "            (to_k): Linear(in_features=128, out_features=128, bias=True)\n",
      "            (to_v): Linear(in_features=128, out_features=128, bias=True)\n",
      "            (to_out): ModuleList(\n",
      "              (0): Linear(in_features=128, out_features=128, bias=True)\n",
      "              (1): Dropout(p=0.0, inplace=False)\n",
      "            )\n",
      "          )\n",
      "        )\n",
      "        (resnets): ModuleList(\n",
      "          (0): ResnetBlock2D(\n",
      "            (norm1): GroupNorm(32, 384, eps=1e-05, affine=True)\n",
      "            (conv1): Conv2d(384, 128, kernel_size=(3, 3), stride=(1, 1), padding=(1, 1))\n",
      "            (time_emb_proj): Linear(in_features=256, out_features=128, bias=True)\n",
      "            (norm2): GroupNorm(32, 128, eps=1e-05, affine=True)\n",
      "            (dropout): Dropout(p=0.0, inplace=False)\n",
      "            (conv2): Conv2d(128, 128, kernel_size=(3, 3), stride=(1, 1), padding=(1, 1))\n",
      "            (nonlinearity): SiLU()\n",
      "            (conv_shortcut): Conv2d(384, 128, kernel_size=(1, 1), stride=(1, 1))\n",
      "          )\n",
      "          (1): ResnetBlock2D(\n",
      "            (norm1): GroupNorm(32, 256, eps=1e-05, affine=True)\n",
      "            (conv1): Conv2d(256, 128, kernel_size=(3, 3), stride=(1, 1), padding=(1, 1))\n",
      "            (time_emb_proj): Linear(in_features=256, out_features=128, bias=True)\n",
      "            (norm2): GroupNorm(32, 128, eps=1e-05, affine=True)\n",
      "            (dropout): Dropout(p=0.0, inplace=False)\n",
      "            (conv2): Conv2d(128, 128, kernel_size=(3, 3), stride=(1, 1), padding=(1, 1))\n",
      "            (nonlinearity): SiLU()\n",
      "            (conv_shortcut): Conv2d(256, 128, kernel_size=(1, 1), stride=(1, 1))\n",
      "          )\n",
      "          (2): ResnetBlock2D(\n",
      "            (norm1): GroupNorm(32, 192, eps=1e-05, affine=True)\n",
      "            (conv1): Conv2d(192, 128, kernel_size=(3, 3), stride=(1, 1), padding=(1, 1))\n",
      "            (time_emb_proj): Linear(in_features=256, out_features=128, bias=True)\n",
      "            (norm2): GroupNorm(32, 128, eps=1e-05, affine=True)\n",
      "            (dropout): Dropout(p=0.0, inplace=False)\n",
      "            (conv2): Conv2d(128, 128, kernel_size=(3, 3), stride=(1, 1), padding=(1, 1))\n",
      "            (nonlinearity): SiLU()\n",
      "            (conv_shortcut): Conv2d(192, 128, kernel_size=(1, 1), stride=(1, 1))\n",
      "          )\n",
      "        )\n",
      "        (upsamplers): ModuleList(\n",
      "          (0): Upsample2D(\n",
      "            (conv): Conv2d(128, 128, kernel_size=(3, 3), stride=(1, 1), padding=(1, 1))\n",
      "          )\n",
      "        )\n",
      "      )\n",
      "      (2): UpBlock2D(\n",
      "        (resnets): ModuleList(\n",
      "          (0): ResnetBlock2D(\n",
      "            (norm1): GroupNorm(32, 192, eps=1e-05, affine=True)\n",
      "            (conv1): Conv2d(192, 64, kernel_size=(3, 3), stride=(1, 1), padding=(1, 1))\n",
      "            (time_emb_proj): Linear(in_features=256, out_features=64, bias=True)\n",
      "            (norm2): GroupNorm(32, 64, eps=1e-05, affine=True)\n",
      "            (dropout): Dropout(p=0.0, inplace=False)\n",
      "            (conv2): Conv2d(64, 64, kernel_size=(3, 3), stride=(1, 1), padding=(1, 1))\n",
      "            (nonlinearity): SiLU()\n",
      "            (conv_shortcut): Conv2d(192, 64, kernel_size=(1, 1), stride=(1, 1))\n",
      "          )\n",
      "          (1-2): 2 x ResnetBlock2D(\n",
      "            (norm1): GroupNorm(32, 128, eps=1e-05, affine=True)\n",
      "            (conv1): Conv2d(128, 64, kernel_size=(3, 3), stride=(1, 1), padding=(1, 1))\n",
      "            (time_emb_proj): Linear(in_features=256, out_features=64, bias=True)\n",
      "            (norm2): GroupNorm(32, 64, eps=1e-05, affine=True)\n",
      "            (dropout): Dropout(p=0.0, inplace=False)\n",
      "            (conv2): Conv2d(64, 64, kernel_size=(3, 3), stride=(1, 1), padding=(1, 1))\n",
      "            (nonlinearity): SiLU()\n",
      "            (conv_shortcut): Conv2d(128, 64, kernel_size=(1, 1), stride=(1, 1))\n",
      "          )\n",
      "        )\n",
      "      )\n",
      "    )\n",
      "    (mid_block): UNetMidBlock2DCrossAttn(\n",
      "      (attentions): ModuleList(\n",
      "        (0): Transformer2DModel(\n",
      "          (norm): GroupNorm(32, 256, eps=1e-06, affine=True)\n",
      "          (proj_in): Conv2d(256, 256, kernel_size=(1, 1), stride=(1, 1))\n",
      "          (transformer_blocks): ModuleList(\n",
      "            (0): BasicTransformerBlock(\n",
      "              (norm1): LayerNorm((256,), eps=1e-05, elementwise_affine=True)\n",
      "              (attn1): Attention(\n",
      "                (to_q): Linear(in_features=256, out_features=256, bias=False)\n",
      "                (to_k): Linear(in_features=256, out_features=256, bias=False)\n",
      "                (to_v): Linear(in_features=256, out_features=256, bias=False)\n",
      "                (to_out): ModuleList(\n",
      "                  (0): Linear(in_features=256, out_features=256, bias=True)\n",
      "                  (1): Dropout(p=0.0, inplace=False)\n",
      "                )\n",
      "              )\n",
      "              (norm2): LayerNorm((256,), eps=1e-05, elementwise_affine=True)\n",
      "              (attn2): Attention(\n",
      "                (to_q): Linear(in_features=256, out_features=256, bias=False)\n",
      "                (to_k): Linear(in_features=128, out_features=256, bias=False)\n",
      "                (to_v): Linear(in_features=128, out_features=256, bias=False)\n",
      "                (to_out): ModuleList(\n",
      "                  (0): Linear(in_features=256, out_features=256, bias=True)\n",
      "                  (1): Dropout(p=0.0, inplace=False)\n",
      "                )\n",
      "              )\n",
      "              (norm3): LayerNorm((256,), eps=1e-05, elementwise_affine=True)\n",
      "              (ff): FeedForward(\n",
      "                (net): ModuleList(\n",
      "                  (0): GEGLU(\n",
      "                    (proj): Linear(in_features=256, out_features=2048, bias=True)\n",
      "                  )\n",
      "                  (1): Dropout(p=0.0, inplace=False)\n",
      "                  (2): Linear(in_features=1024, out_features=256, bias=True)\n",
      "                )\n",
      "              )\n",
      "            )\n",
      "          )\n",
      "          (proj_out): Conv2d(256, 256, kernel_size=(1, 1), stride=(1, 1))\n",
      "        )\n",
      "      )\n",
      "      (resnets): ModuleList(\n",
      "        (0-1): 2 x ResnetBlock2D(\n",
      "          (norm1): GroupNorm(32, 256, eps=1e-05, affine=True)\n",
      "          (conv1): Conv2d(256, 256, kernel_size=(3, 3), stride=(1, 1), padding=(1, 1))\n",
      "          (time_emb_proj): Linear(in_features=256, out_features=256, bias=True)\n",
      "          (norm2): GroupNorm(32, 256, eps=1e-05, affine=True)\n",
      "          (dropout): Dropout(p=0.0, inplace=False)\n",
      "          (conv2): Conv2d(256, 256, kernel_size=(3, 3), stride=(1, 1), padding=(1, 1))\n",
      "          (nonlinearity): SiLU()\n",
      "        )\n",
      "      )\n",
      "    )\n",
      "    (conv_norm_out): GroupNorm(32, 64, eps=1e-05, affine=True)\n",
      "    (conv_act): SiLU()\n",
      "    (conv_out): Conv2d(64, 3, kernel_size=(3, 3), stride=(1, 1), padding=(1, 1))\n",
      "  )\n",
      "  (cond_embed): Sequential(\n",
      "    (0): Linear(in_features=2, out_features=128, bias=True)\n",
      "    (1): SiLU()\n",
      "    (2): Linear(in_features=128, out_features=128, bias=True)\n",
      "  )\n",
      ") of type <class '__main__.CustomConditionedUNet'> cannot be saved.\n",
      "Epoch 49: 100%|██████████| 15/15 [00:01<00:00, 14.42it/s, loss=0.0109, lr=9.97e-5, step=749]\n",
      "Epoch 50: 100%|██████████| 15/15 [00:00<00:00, 15.09it/s, loss=0.0131, lr=9.96e-5, step=764] \n",
      "Epoch 51: 100%|██████████| 15/15 [00:01<00:00, 14.89it/s, loss=0.0208, lr=9.96e-5, step=779]\n",
      "Epoch 52: 100%|██████████| 15/15 [00:00<00:00, 15.09it/s, loss=0.0222, lr=9.96e-5, step=794] \n",
      "Epoch 53: 100%|██████████| 15/15 [00:01<00:00, 14.84it/s, loss=0.0112, lr=9.95e-5, step=809]\n",
      "Epoch 54: 100%|██████████| 15/15 [00:00<00:00, 15.20it/s, loss=0.00944, lr=9.95e-5, step=824]\n",
      "Epoch 55: 100%|██████████| 15/15 [00:01<00:00, 14.98it/s, loss=0.0106, lr=9.94e-5, step=839]\n",
      "Epoch 56: 100%|██████████| 15/15 [00:00<00:00, 15.30it/s, loss=0.0108, lr=9.94e-5, step=854]\n",
      "Epoch 57: 100%|██████████| 15/15 [00:01<00:00, 14.85it/s, loss=0.00872, lr=9.93e-5, step=869]\n",
      "Epoch 58: 100%|██████████| 15/15 [00:00<00:00, 15.07it/s, loss=0.0204, lr=9.93e-5, step=884] \n",
      "Epoch 59: 100%|██████████| 15/15 [00:01<00:00, 14.96it/s, loss=0.0102, lr=9.92e-5, step=899]\n",
      "Epoch 60: 100%|██████████| 15/15 [00:00<00:00, 15.11it/s, loss=0.0126, lr=9.91e-5, step=914] \n",
      "Epoch 61: 100%|██████████| 15/15 [00:01<00:00, 14.91it/s, loss=0.00964, lr=9.91e-5, step=929]\n",
      "Epoch 62: 100%|██████████| 15/15 [00:00<00:00, 15.37it/s, loss=0.0128, lr=9.9e-5, step=944] \n",
      "Epoch 63: 100%|██████████| 15/15 [00:00<00:00, 15.18it/s, loss=0.00699, lr=9.89e-5, step=959]\n",
      "Epoch 64: 100%|██████████| 15/15 [00:00<00:00, 15.22it/s, loss=0.0132, lr=9.89e-5, step=974] \n",
      "Epoch 65: 100%|██████████| 15/15 [00:00<00:00, 15.06it/s, loss=0.00726, lr=9.88e-5, step=989]\n",
      "Epoch 66: 100%|██████████| 15/15 [00:00<00:00, 15.03it/s, loss=0.00741, lr=9.87e-5, step=1004]\n",
      "Epoch 67: 100%|██████████| 15/15 [00:01<00:00, 14.71it/s, loss=0.00692, lr=9.86e-5, step=1019]\n",
      "Epoch 68: 100%|██████████| 15/15 [00:00<00:00, 15.16it/s, loss=0.00938, lr=9.86e-5, step=1034]\n",
      "Epoch 69: 100%|██████████| 15/15 [00:00<00:00, 15.12it/s, loss=0.00619, lr=9.85e-5, step=1049]\n",
      "Epoch 70: 100%|██████████| 15/15 [00:00<00:00, 15.13it/s, loss=0.00579, lr=9.84e-5, step=1064]\n",
      "Epoch 71: 100%|██████████| 15/15 [00:00<00:00, 15.34it/s, loss=0.00661, lr=9.83e-5, step=1079]\n",
      "Epoch 72: 100%|██████████| 15/15 [00:00<00:00, 15.20it/s, loss=0.00867, lr=9.82e-5, step=1094]\n",
      "Epoch 73: 100%|██████████| 15/15 [00:00<00:00, 15.34it/s, loss=0.0144, lr=9.81e-5, step=1109]\n",
      "Epoch 74: 100%|██████████| 15/15 [00:00<00:00, 15.12it/s, loss=0.00736, lr=9.8e-5, step=1124] \n",
      "Epoch 75: 100%|██████████| 15/15 [00:00<00:00, 15.03it/s, loss=0.0152, lr=9.8e-5, step=1139]\n",
      "Epoch 76: 100%|██████████| 15/15 [00:00<00:00, 15.30it/s, loss=0.00931, lr=9.79e-5, step=1154]\n",
      "Epoch 77: 100%|██████████| 15/15 [00:00<00:00, 15.17it/s, loss=0.00607, lr=9.78e-5, step=1169]\n",
      "Epoch 78: 100%|██████████| 15/15 [00:00<00:00, 15.27it/s, loss=0.0598, lr=9.77e-5, step=1184] \n",
      "Epoch 79: 100%|██████████| 15/15 [00:00<00:00, 15.35it/s, loss=0.0148, lr=9.76e-5, step=1199]\n",
      "Epoch 80: 100%|██████████| 15/15 [00:01<00:00, 14.94it/s, loss=0.0107, lr=9.74e-5, step=1214] \n",
      "Epoch 81: 100%|██████████| 15/15 [00:00<00:00, 15.37it/s, loss=0.0149, lr=9.73e-5, step=1229]\n",
      "Epoch 82: 100%|██████████| 15/15 [00:00<00:00, 15.55it/s, loss=0.00597, lr=9.72e-5, step=1244]\n",
      "Epoch 83: 100%|██████████| 15/15 [00:01<00:00, 14.98it/s, loss=0.0216, lr=9.71e-5, step=1259]\n",
      "Epoch 84: 100%|██████████| 15/15 [00:00<00:00, 15.43it/s, loss=0.00917, lr=9.7e-5, step=1274]\n",
      "Epoch 85: 100%|██████████| 15/15 [00:00<00:00, 15.29it/s, loss=0.00905, lr=9.69e-5, step=1289]\n",
      "Epoch 86: 100%|██████████| 15/15 [00:00<00:00, 15.58it/s, loss=0.0227, lr=9.68e-5, step=1304] \n",
      "Epoch 87: 100%|██████████| 15/15 [00:01<00:00, 14.99it/s, loss=0.00787, lr=9.67e-5, step=1319]\n",
      "Epoch 88: 100%|██████████| 15/15 [00:00<00:00, 15.50it/s, loss=0.0241, lr=9.65e-5, step=1334] \n",
      "Epoch 89: 100%|██████████| 15/15 [00:00<00:00, 15.26it/s, loss=0.0101, lr=9.64e-5, step=1349]\n",
      "Epoch 90: 100%|██████████| 15/15 [00:00<00:00, 15.34it/s, loss=0.00454, lr=9.63e-5, step=1364]\n",
      "Epoch 91: 100%|██████████| 15/15 [00:00<00:00, 15.26it/s, loss=0.00517, lr=9.62e-5, step=1379]\n",
      "Epoch 92: 100%|██████████| 15/15 [00:00<00:00, 15.02it/s, loss=0.00707, lr=9.6e-5, step=1394] \n",
      "Epoch 93: 100%|██████████| 15/15 [00:00<00:00, 15.18it/s, loss=0.00644, lr=9.59e-5, step=1409]\n",
      "Epoch 94: 100%|██████████| 15/15 [00:00<00:00, 15.30it/s, loss=0.00539, lr=9.58e-5, step=1424]\n",
      "Epoch 95: 100%|██████████| 15/15 [00:01<00:00, 14.93it/s, loss=0.00485, lr=9.56e-5, step=1439]\n",
      "Epoch 96: 100%|██████████| 15/15 [00:00<00:00, 15.16it/s, loss=0.00502, lr=9.55e-5, step=1454]\n",
      "Epoch 97: 100%|██████████| 15/15 [00:00<00:00, 15.08it/s, loss=0.00616, lr=9.53e-5, step=1469]\n",
      "Epoch 98: 100%|██████████| 15/15 [00:00<00:00, 15.17it/s, loss=0.00511, lr=9.52e-5, step=1484]\n",
      "self.unet=CustomConditionedUNet(\n",
      "  (unet): UNet2DConditionModel(\n",
      "    (conv_in): Conv2d(3, 64, kernel_size=(3, 3), stride=(1, 1), padding=(1, 1))\n",
      "    (time_proj): Timesteps()\n",
      "    (time_embedding): TimestepEmbedding(\n",
      "      (linear_1): Linear(in_features=64, out_features=256, bias=True)\n",
      "      (act): SiLU()\n",
      "      (linear_2): Linear(in_features=256, out_features=256, bias=True)\n",
      "    )\n",
      "    (down_blocks): ModuleList(\n",
      "      (0): DownBlock2D(\n",
      "        (resnets): ModuleList(\n",
      "          (0-1): 2 x ResnetBlock2D(\n",
      "            (norm1): GroupNorm(32, 64, eps=1e-05, affine=True)\n",
      "            (conv1): Conv2d(64, 64, kernel_size=(3, 3), stride=(1, 1), padding=(1, 1))\n",
      "            (time_emb_proj): Linear(in_features=256, out_features=64, bias=True)\n",
      "            (norm2): GroupNorm(32, 64, eps=1e-05, affine=True)\n",
      "            (dropout): Dropout(p=0.0, inplace=False)\n",
      "            (conv2): Conv2d(64, 64, kernel_size=(3, 3), stride=(1, 1), padding=(1, 1))\n",
      "            (nonlinearity): SiLU()\n",
      "          )\n",
      "        )\n",
      "        (downsamplers): ModuleList(\n",
      "          (0): Downsample2D(\n",
      "            (conv): Conv2d(64, 64, kernel_size=(3, 3), stride=(2, 2), padding=(1, 1))\n",
      "          )\n",
      "        )\n",
      "      )\n",
      "      (1): AttnDownBlock2D(\n",
      "        (attentions): ModuleList(\n",
      "          (0-1): 2 x Attention(\n",
      "            (group_norm): GroupNorm(32, 128, eps=1e-05, affine=True)\n",
      "            (to_q): Linear(in_features=128, out_features=128, bias=True)\n",
      "            (to_k): Linear(in_features=128, out_features=128, bias=True)\n",
      "            (to_v): Linear(in_features=128, out_features=128, bias=True)\n",
      "            (to_out): ModuleList(\n",
      "              (0): Linear(in_features=128, out_features=128, bias=True)\n",
      "              (1): Dropout(p=0.0, inplace=False)\n",
      "            )\n",
      "          )\n",
      "        )\n",
      "        (resnets): ModuleList(\n",
      "          (0): ResnetBlock2D(\n",
      "            (norm1): GroupNorm(32, 64, eps=1e-05, affine=True)\n",
      "            (conv1): Conv2d(64, 128, kernel_size=(3, 3), stride=(1, 1), padding=(1, 1))\n",
      "            (time_emb_proj): Linear(in_features=256, out_features=128, bias=True)\n",
      "            (norm2): GroupNorm(32, 128, eps=1e-05, affine=True)\n",
      "            (dropout): Dropout(p=0.0, inplace=False)\n",
      "            (conv2): Conv2d(128, 128, kernel_size=(3, 3), stride=(1, 1), padding=(1, 1))\n",
      "            (nonlinearity): SiLU()\n",
      "            (conv_shortcut): Conv2d(64, 128, kernel_size=(1, 1), stride=(1, 1))\n",
      "          )\n",
      "          (1): ResnetBlock2D(\n",
      "            (norm1): GroupNorm(32, 128, eps=1e-05, affine=True)\n",
      "            (conv1): Conv2d(128, 128, kernel_size=(3, 3), stride=(1, 1), padding=(1, 1))\n",
      "            (time_emb_proj): Linear(in_features=256, out_features=128, bias=True)\n",
      "            (norm2): GroupNorm(32, 128, eps=1e-05, affine=True)\n",
      "            (dropout): Dropout(p=0.0, inplace=False)\n",
      "            (conv2): Conv2d(128, 128, kernel_size=(3, 3), stride=(1, 1), padding=(1, 1))\n",
      "            (nonlinearity): SiLU()\n",
      "          )\n",
      "        )\n",
      "        (downsamplers): ModuleList(\n",
      "          (0): Downsample2D(\n",
      "            (conv): Conv2d(128, 128, kernel_size=(3, 3), stride=(2, 2), padding=(1, 1))\n",
      "          )\n",
      "        )\n",
      "      )\n",
      "      (2): AttnDownBlock2D(\n",
      "        (attentions): ModuleList(\n",
      "          (0-1): 2 x Attention(\n",
      "            (group_norm): GroupNorm(32, 256, eps=1e-05, affine=True)\n",
      "            (to_q): Linear(in_features=256, out_features=256, bias=True)\n",
      "            (to_k): Linear(in_features=256, out_features=256, bias=True)\n",
      "            (to_v): Linear(in_features=256, out_features=256, bias=True)\n",
      "            (to_out): ModuleList(\n",
      "              (0): Linear(in_features=256, out_features=256, bias=True)\n",
      "              (1): Dropout(p=0.0, inplace=False)\n",
      "            )\n",
      "          )\n",
      "        )\n",
      "        (resnets): ModuleList(\n",
      "          (0): ResnetBlock2D(\n",
      "            (norm1): GroupNorm(32, 128, eps=1e-05, affine=True)\n",
      "            (conv1): Conv2d(128, 256, kernel_size=(3, 3), stride=(1, 1), padding=(1, 1))\n",
      "            (time_emb_proj): Linear(in_features=256, out_features=256, bias=True)\n",
      "            (norm2): GroupNorm(32, 256, eps=1e-05, affine=True)\n",
      "            (dropout): Dropout(p=0.0, inplace=False)\n",
      "            (conv2): Conv2d(256, 256, kernel_size=(3, 3), stride=(1, 1), padding=(1, 1))\n",
      "            (nonlinearity): SiLU()\n",
      "            (conv_shortcut): Conv2d(128, 256, kernel_size=(1, 1), stride=(1, 1))\n",
      "          )\n",
      "          (1): ResnetBlock2D(\n",
      "            (norm1): GroupNorm(32, 256, eps=1e-05, affine=True)\n",
      "            (conv1): Conv2d(256, 256, kernel_size=(3, 3), stride=(1, 1), padding=(1, 1))\n",
      "            (time_emb_proj): Linear(in_features=256, out_features=256, bias=True)\n",
      "            (norm2): GroupNorm(32, 256, eps=1e-05, affine=True)\n",
      "            (dropout): Dropout(p=0.0, inplace=False)\n",
      "            (conv2): Conv2d(256, 256, kernel_size=(3, 3), stride=(1, 1), padding=(1, 1))\n",
      "            (nonlinearity): SiLU()\n",
      "          )\n",
      "        )\n",
      "      )\n",
      "    )\n",
      "    (up_blocks): ModuleList(\n",
      "      (0): AttnUpBlock2D(\n",
      "        (attentions): ModuleList(\n",
      "          (0-2): 3 x Attention(\n",
      "            (group_norm): GroupNorm(32, 256, eps=1e-05, affine=True)\n",
      "            (to_q): Linear(in_features=256, out_features=256, bias=True)\n",
      "            (to_k): Linear(in_features=256, out_features=256, bias=True)\n",
      "            (to_v): Linear(in_features=256, out_features=256, bias=True)\n",
      "            (to_out): ModuleList(\n",
      "              (0): Linear(in_features=256, out_features=256, bias=True)\n",
      "              (1): Dropout(p=0.0, inplace=False)\n",
      "            )\n",
      "          )\n",
      "        )\n",
      "        (resnets): ModuleList(\n",
      "          (0-1): 2 x ResnetBlock2D(\n",
      "            (norm1): GroupNorm(32, 512, eps=1e-05, affine=True)\n",
      "            (conv1): Conv2d(512, 256, kernel_size=(3, 3), stride=(1, 1), padding=(1, 1))\n",
      "            (time_emb_proj): Linear(in_features=256, out_features=256, bias=True)\n",
      "            (norm2): GroupNorm(32, 256, eps=1e-05, affine=True)\n",
      "            (dropout): Dropout(p=0.0, inplace=False)\n",
      "            (conv2): Conv2d(256, 256, kernel_size=(3, 3), stride=(1, 1), padding=(1, 1))\n",
      "            (nonlinearity): SiLU()\n",
      "            (conv_shortcut): Conv2d(512, 256, kernel_size=(1, 1), stride=(1, 1))\n",
      "          )\n",
      "          (2): ResnetBlock2D(\n",
      "            (norm1): GroupNorm(32, 384, eps=1e-05, affine=True)\n",
      "            (conv1): Conv2d(384, 256, kernel_size=(3, 3), stride=(1, 1), padding=(1, 1))\n",
      "            (time_emb_proj): Linear(in_features=256, out_features=256, bias=True)\n",
      "            (norm2): GroupNorm(32, 256, eps=1e-05, affine=True)\n",
      "            (dropout): Dropout(p=0.0, inplace=False)\n",
      "            (conv2): Conv2d(256, 256, kernel_size=(3, 3), stride=(1, 1), padding=(1, 1))\n",
      "            (nonlinearity): SiLU()\n",
      "            (conv_shortcut): Conv2d(384, 256, kernel_size=(1, 1), stride=(1, 1))\n",
      "          )\n",
      "        )\n",
      "        (upsamplers): ModuleList(\n",
      "          (0): Upsample2D(\n",
      "            (conv): Conv2d(256, 256, kernel_size=(3, 3), stride=(1, 1), padding=(1, 1))\n",
      "          )\n",
      "        )\n",
      "      )\n",
      "      (1): AttnUpBlock2D(\n",
      "        (attentions): ModuleList(\n",
      "          (0-2): 3 x Attention(\n",
      "            (group_norm): GroupNorm(32, 128, eps=1e-05, affine=True)\n",
      "            (to_q): Linear(in_features=128, out_features=128, bias=True)\n",
      "            (to_k): Linear(in_features=128, out_features=128, bias=True)\n",
      "            (to_v): Linear(in_features=128, out_features=128, bias=True)\n",
      "            (to_out): ModuleList(\n",
      "              (0): Linear(in_features=128, out_features=128, bias=True)\n",
      "              (1): Dropout(p=0.0, inplace=False)\n",
      "            )\n",
      "          )\n",
      "        )\n",
      "        (resnets): ModuleList(\n",
      "          (0): ResnetBlock2D(\n",
      "            (norm1): GroupNorm(32, 384, eps=1e-05, affine=True)\n",
      "            (conv1): Conv2d(384, 128, kernel_size=(3, 3), stride=(1, 1), padding=(1, 1))\n",
      "            (time_emb_proj): Linear(in_features=256, out_features=128, bias=True)\n",
      "            (norm2): GroupNorm(32, 128, eps=1e-05, affine=True)\n",
      "            (dropout): Dropout(p=0.0, inplace=False)\n",
      "            (conv2): Conv2d(128, 128, kernel_size=(3, 3), stride=(1, 1), padding=(1, 1))\n",
      "            (nonlinearity): SiLU()\n",
      "            (conv_shortcut): Conv2d(384, 128, kernel_size=(1, 1), stride=(1, 1))\n",
      "          )\n",
      "          (1): ResnetBlock2D(\n",
      "            (norm1): GroupNorm(32, 256, eps=1e-05, affine=True)\n",
      "            (conv1): Conv2d(256, 128, kernel_size=(3, 3), stride=(1, 1), padding=(1, 1))\n",
      "            (time_emb_proj): Linear(in_features=256, out_features=128, bias=True)\n",
      "            (norm2): GroupNorm(32, 128, eps=1e-05, affine=True)\n",
      "            (dropout): Dropout(p=0.0, inplace=False)\n",
      "            (conv2): Conv2d(128, 128, kernel_size=(3, 3), stride=(1, 1), padding=(1, 1))\n",
      "            (nonlinearity): SiLU()\n",
      "            (conv_shortcut): Conv2d(256, 128, kernel_size=(1, 1), stride=(1, 1))\n",
      "          )\n",
      "          (2): ResnetBlock2D(\n",
      "            (norm1): GroupNorm(32, 192, eps=1e-05, affine=True)\n",
      "            (conv1): Conv2d(192, 128, kernel_size=(3, 3), stride=(1, 1), padding=(1, 1))\n",
      "            (time_emb_proj): Linear(in_features=256, out_features=128, bias=True)\n",
      "            (norm2): GroupNorm(32, 128, eps=1e-05, affine=True)\n",
      "            (dropout): Dropout(p=0.0, inplace=False)\n",
      "            (conv2): Conv2d(128, 128, kernel_size=(3, 3), stride=(1, 1), padding=(1, 1))\n",
      "            (nonlinearity): SiLU()\n",
      "            (conv_shortcut): Conv2d(192, 128, kernel_size=(1, 1), stride=(1, 1))\n",
      "          )\n",
      "        )\n",
      "        (upsamplers): ModuleList(\n",
      "          (0): Upsample2D(\n",
      "            (conv): Conv2d(128, 128, kernel_size=(3, 3), stride=(1, 1), padding=(1, 1))\n",
      "          )\n",
      "        )\n",
      "      )\n",
      "      (2): UpBlock2D(\n",
      "        (resnets): ModuleList(\n",
      "          (0): ResnetBlock2D(\n",
      "            (norm1): GroupNorm(32, 192, eps=1e-05, affine=True)\n",
      "            (conv1): Conv2d(192, 64, kernel_size=(3, 3), stride=(1, 1), padding=(1, 1))\n",
      "            (time_emb_proj): Linear(in_features=256, out_features=64, bias=True)\n",
      "            (norm2): GroupNorm(32, 64, eps=1e-05, affine=True)\n",
      "            (dropout): Dropout(p=0.0, inplace=False)\n",
      "            (conv2): Conv2d(64, 64, kernel_size=(3, 3), stride=(1, 1), padding=(1, 1))\n",
      "            (nonlinearity): SiLU()\n",
      "            (conv_shortcut): Conv2d(192, 64, kernel_size=(1, 1), stride=(1, 1))\n",
      "          )\n",
      "          (1-2): 2 x ResnetBlock2D(\n",
      "            (norm1): GroupNorm(32, 128, eps=1e-05, affine=True)\n",
      "            (conv1): Conv2d(128, 64, kernel_size=(3, 3), stride=(1, 1), padding=(1, 1))\n",
      "            (time_emb_proj): Linear(in_features=256, out_features=64, bias=True)\n",
      "            (norm2): GroupNorm(32, 64, eps=1e-05, affine=True)\n",
      "            (dropout): Dropout(p=0.0, inplace=False)\n",
      "            (conv2): Conv2d(64, 64, kernel_size=(3, 3), stride=(1, 1), padding=(1, 1))\n",
      "            (nonlinearity): SiLU()\n",
      "            (conv_shortcut): Conv2d(128, 64, kernel_size=(1, 1), stride=(1, 1))\n",
      "          )\n",
      "        )\n",
      "      )\n",
      "    )\n",
      "    (mid_block): UNetMidBlock2DCrossAttn(\n",
      "      (attentions): ModuleList(\n",
      "        (0): Transformer2DModel(\n",
      "          (norm): GroupNorm(32, 256, eps=1e-06, affine=True)\n",
      "          (proj_in): Conv2d(256, 256, kernel_size=(1, 1), stride=(1, 1))\n",
      "          (transformer_blocks): ModuleList(\n",
      "            (0): BasicTransformerBlock(\n",
      "              (norm1): LayerNorm((256,), eps=1e-05, elementwise_affine=True)\n",
      "              (attn1): Attention(\n",
      "                (to_q): Linear(in_features=256, out_features=256, bias=False)\n",
      "                (to_k): Linear(in_features=256, out_features=256, bias=False)\n",
      "                (to_v): Linear(in_features=256, out_features=256, bias=False)\n",
      "                (to_out): ModuleList(\n",
      "                  (0): Linear(in_features=256, out_features=256, bias=True)\n",
      "                  (1): Dropout(p=0.0, inplace=False)\n",
      "                )\n",
      "              )\n",
      "              (norm2): LayerNorm((256,), eps=1e-05, elementwise_affine=True)\n",
      "              (attn2): Attention(\n",
      "                (to_q): Linear(in_features=256, out_features=256, bias=False)\n",
      "                (to_k): Linear(in_features=128, out_features=256, bias=False)\n",
      "                (to_v): Linear(in_features=128, out_features=256, bias=False)\n",
      "                (to_out): ModuleList(\n",
      "                  (0): Linear(in_features=256, out_features=256, bias=True)\n",
      "                  (1): Dropout(p=0.0, inplace=False)\n",
      "                )\n",
      "              )\n",
      "              (norm3): LayerNorm((256,), eps=1e-05, elementwise_affine=True)\n",
      "              (ff): FeedForward(\n",
      "                (net): ModuleList(\n",
      "                  (0): GEGLU(\n",
      "                    (proj): Linear(in_features=256, out_features=2048, bias=True)\n",
      "                  )\n",
      "                  (1): Dropout(p=0.0, inplace=False)\n",
      "                  (2): Linear(in_features=1024, out_features=256, bias=True)\n",
      "                )\n",
      "              )\n",
      "            )\n",
      "          )\n",
      "          (proj_out): Conv2d(256, 256, kernel_size=(1, 1), stride=(1, 1))\n",
      "        )\n",
      "      )\n",
      "      (resnets): ModuleList(\n",
      "        (0-1): 2 x ResnetBlock2D(\n",
      "          (norm1): GroupNorm(32, 256, eps=1e-05, affine=True)\n",
      "          (conv1): Conv2d(256, 256, kernel_size=(3, 3), stride=(1, 1), padding=(1, 1))\n",
      "          (time_emb_proj): Linear(in_features=256, out_features=256, bias=True)\n",
      "          (norm2): GroupNorm(32, 256, eps=1e-05, affine=True)\n",
      "          (dropout): Dropout(p=0.0, inplace=False)\n",
      "          (conv2): Conv2d(256, 256, kernel_size=(3, 3), stride=(1, 1), padding=(1, 1))\n",
      "          (nonlinearity): SiLU()\n",
      "        )\n",
      "      )\n",
      "    )\n",
      "    (conv_norm_out): GroupNorm(32, 64, eps=1e-05, affine=True)\n",
      "    (conv_act): SiLU()\n",
      "    (conv_out): Conv2d(64, 3, kernel_size=(3, 3), stride=(1, 1), padding=(1, 1))\n",
      "  )\n",
      "  (cond_embed): Sequential(\n",
      "    (0): Linear(in_features=2, out_features=128, bias=True)\n",
      "    (1): SiLU()\n",
      "    (2): Linear(in_features=128, out_features=128, bias=True)\n",
      "  )\n",
      ") of type <class '__main__.CustomConditionedUNet'> cannot be saved.\n",
      "Epoch 99: 100%|██████████| 15/15 [00:00<00:00, 15.33it/s, loss=0.00572, lr=9.5e-5, step=1499]\n",
      "Epoch 100: 100%|██████████| 15/15 [00:00<00:00, 15.11it/s, loss=0.0051, lr=9.49e-5, step=1514] "
     ]
    },
    {
     "name": "stdout",
     "output_type": "stream",
     "text": [
      "Saved  0.08959714172933583\n"
     ]
    },
    {
     "name": "stderr",
     "output_type": "stream",
     "text": [
      "Epoch 100: 100%|██████████| 15/15 [00:01<00:00,  9.95it/s, loss=0.0051, lr=9.49e-5, step=1514]\n"
     ]
    },
    {
     "name": "stdout",
     "output_type": "stream",
     "text": [
      "Saved  0.08877228487821698\n"
     ]
    },
    {
     "name": "stderr",
     "output_type": "stream",
     "text": [
      "Epoch 101: 100%|██████████| 15/15 [00:01<00:00, 13.99it/s, loss=0.00439, lr=9.48e-5, step=1529]\n",
      "Epoch 102: 100%|██████████| 15/15 [00:00<00:00, 15.29it/s, loss=0.00756, lr=9.46e-5, step=1544]"
     ]
    },
    {
     "name": "stdout",
     "output_type": "stream",
     "text": [
      "Saved  0.08800067201130164\n"
     ]
    },
    {
     "name": "stderr",
     "output_type": "stream",
     "text": [
      "Epoch 102: 100%|██████████| 15/15 [00:01<00:00, 14.33it/s, loss=0.00756, lr=9.46e-5, step=1544]\n"
     ]
    },
    {
     "name": "stdout",
     "output_type": "stream",
     "text": [
      "Saved  0.08723487327567851\n"
     ]
    },
    {
     "name": "stderr",
     "output_type": "stream",
     "text": [
      "Epoch 103: 100%|██████████| 15/15 [00:01<00:00, 14.09it/s, loss=0.00701, lr=9.44e-5, step=1559]\n",
      "Epoch 104: 100%|██████████| 15/15 [00:00<00:00, 15.38it/s, loss=0.00543, lr=9.43e-5, step=1574]"
     ]
    },
    {
     "name": "stdout",
     "output_type": "stream",
     "text": [
      "Saved  0.08651965387875125\n"
     ]
    },
    {
     "name": "stderr",
     "output_type": "stream",
     "text": [
      "Epoch 104: 100%|██████████| 15/15 [00:01<00:00, 14.21it/s, loss=0.00543, lr=9.43e-5, step=1574]\n"
     ]
    },
    {
     "name": "stdout",
     "output_type": "stream",
     "text": [
      "Saved  0.08584799732567754\n"
     ]
    },
    {
     "name": "stderr",
     "output_type": "stream",
     "text": [
      "Epoch 105: 100%|██████████| 15/15 [00:01<00:00, 14.37it/s, loss=0.00706, lr=9.41e-5, step=1589]\n",
      "Epoch 106: 100%|██████████| 15/15 [00:00<00:00, 15.24it/s, loss=0.00682, lr=9.4e-5, step=1604]"
     ]
    },
    {
     "name": "stdout",
     "output_type": "stream",
     "text": [
      "Saved  0.08514138625447298\n"
     ]
    },
    {
     "name": "stderr",
     "output_type": "stream",
     "text": [
      "Epoch 106: 100%|██████████| 15/15 [00:01<00:00, 14.28it/s, loss=0.00682, lr=9.4e-5, step=1604]\n"
     ]
    },
    {
     "name": "stdout",
     "output_type": "stream",
     "text": [
      "Saved  0.08442312558813964\n"
     ]
    },
    {
     "name": "stderr",
     "output_type": "stream",
     "text": [
      "Epoch 107: 100%|██████████| 15/15 [00:01<00:00, 14.31it/s, loss=0.00873, lr=9.38e-5, step=1619]\n",
      "Epoch 108: 100%|██████████| 15/15 [00:00<00:00, 15.23it/s, loss=0.00643, lr=9.37e-5, step=1634]"
     ]
    },
    {
     "name": "stdout",
     "output_type": "stream",
     "text": [
      "Saved  0.08370978185830108\n"
     ]
    },
    {
     "name": "stderr",
     "output_type": "stream",
     "text": [
      "Epoch 108: 100%|██████████| 15/15 [00:01<00:00, 14.32it/s, loss=0.00643, lr=9.37e-5, step=1634]\n"
     ]
    },
    {
     "name": "stdout",
     "output_type": "stream",
     "text": [
      "Saved  0.08301134265804043\n"
     ]
    },
    {
     "name": "stderr",
     "output_type": "stream",
     "text": [
      "Epoch 109: 100%|██████████| 15/15 [00:01<00:00, 13.78it/s, loss=0.00744, lr=9.35e-5, step=1649]\n",
      "Epoch 110: 100%|██████████| 15/15 [00:00<00:00, 15.27it/s, loss=0.00399, lr=9.33e-5, step=1664]"
     ]
    },
    {
     "name": "stdout",
     "output_type": "stream",
     "text": [
      "Saved  0.08232372038320893\n"
     ]
    },
    {
     "name": "stderr",
     "output_type": "stream",
     "text": [
      "Epoch 110: 100%|██████████| 15/15 [00:01<00:00, 14.22it/s, loss=0.00399, lr=9.33e-5, step=1664]\n"
     ]
    },
    {
     "name": "stdout",
     "output_type": "stream",
     "text": [
      "Saved  0.08163301316145365\n"
     ]
    },
    {
     "name": "stderr",
     "output_type": "stream",
     "text": [
      "Epoch 111: 100%|██████████| 15/15 [00:01<00:00, 14.26it/s, loss=0.0041, lr=9.32e-5, step=1679]\n",
      "Epoch 112: 100%|██████████| 15/15 [00:00<00:00, 15.20it/s, loss=0.00411, lr=9.3e-5, step=1694]"
     ]
    },
    {
     "name": "stdout",
     "output_type": "stream",
     "text": [
      "Saved  0.08096307707472448\n"
     ]
    },
    {
     "name": "stderr",
     "output_type": "stream",
     "text": [
      "Epoch 112: 100%|██████████| 15/15 [00:01<00:00, 14.13it/s, loss=0.00411, lr=9.3e-5, step=1694]\n"
     ]
    },
    {
     "name": "stdout",
     "output_type": "stream",
     "text": [
      "Saved  0.08031782648983624\n"
     ]
    },
    {
     "name": "stderr",
     "output_type": "stream",
     "text": [
      "Epoch 113: 100%|██████████| 15/15 [00:01<00:00, 13.94it/s, loss=0.00407, lr=9.28e-5, step=1709]\n",
      "Epoch 114: 100%|██████████| 15/15 [00:00<00:00, 15.75it/s, loss=0.00474, lr=9.26e-5, step=1724]"
     ]
    },
    {
     "name": "stdout",
     "output_type": "stream",
     "text": [
      "Saved  0.07968640920017725\n"
     ]
    },
    {
     "name": "stderr",
     "output_type": "stream",
     "text": [
      "Epoch 114: 100%|██████████| 15/15 [00:01<00:00, 14.68it/s, loss=0.00474, lr=9.26e-5, step=1724]\n"
     ]
    },
    {
     "name": "stdout",
     "output_type": "stream",
     "text": [
      "Saved  0.0790609876128802\n"
     ]
    },
    {
     "name": "stderr",
     "output_type": "stream",
     "text": [
      "Epoch 115: 100%|██████████| 15/15 [00:01<00:00, 14.38it/s, loss=0.0334, lr=9.25e-5, step=1739]\n",
      "Epoch 116: 100%|██████████| 15/15 [00:00<00:00, 15.34it/s, loss=0.00419, lr=9.23e-5, step=1754]"
     ]
    },
    {
     "name": "stdout",
     "output_type": "stream",
     "text": [
      "Saved  0.0784720997399043\n"
     ]
    },
    {
     "name": "stderr",
     "output_type": "stream",
     "text": [
      "Epoch 116: 100%|██████████| 15/15 [00:01<00:00, 14.25it/s, loss=0.00419, lr=9.23e-5, step=1754]\n"
     ]
    },
    {
     "name": "stdout",
     "output_type": "stream",
     "text": [
      "Saved  0.07788901093131784\n"
     ]
    },
    {
     "name": "stderr",
     "output_type": "stream",
     "text": [
      "Epoch 117: 100%|██████████| 15/15 [00:01<00:00, 14.07it/s, loss=0.00352, lr=9.21e-5, step=1769]\n",
      "Epoch 118: 100%|██████████| 15/15 [00:00<00:00, 15.39it/s, loss=0.0187, lr=9.19e-5, step=1784] "
     ]
    },
    {
     "name": "stdout",
     "output_type": "stream",
     "text": [
      "Saved  0.0773178137411006\n"
     ]
    },
    {
     "name": "stderr",
     "output_type": "stream",
     "text": [
      "Epoch 118: 100%|██████████| 15/15 [00:01<00:00, 14.44it/s, loss=0.0187, lr=9.19e-5, step=1784]\n"
     ]
    },
    {
     "name": "stdout",
     "output_type": "stream",
     "text": [
      "Saved  0.07674811716398432\n"
     ]
    },
    {
     "name": "stderr",
     "output_type": "stream",
     "text": [
      "Epoch 119: 100%|██████████| 15/15 [00:01<00:00, 14.11it/s, loss=0.00436, lr=9.17e-5, step=1799]\n",
      "Epoch 120: 100%|██████████| 15/15 [00:00<00:00, 15.50it/s, loss=0.00405, lr=9.15e-5, step=1814]"
     ]
    },
    {
     "name": "stdout",
     "output_type": "stream",
     "text": [
      "Saved  0.07616501037754919\n"
     ]
    },
    {
     "name": "stderr",
     "output_type": "stream",
     "text": [
      "Epoch 120: 100%|██████████| 15/15 [00:01<00:00, 14.42it/s, loss=0.00405, lr=9.15e-5, step=1814]\n"
     ]
    },
    {
     "name": "stdout",
     "output_type": "stream",
     "text": [
      "Saved  0.07559582422935286\n"
     ]
    },
    {
     "name": "stderr",
     "output_type": "stream",
     "text": [
      "Epoch 121: 100%|██████████| 15/15 [00:01<00:00, 13.36it/s, loss=0.00437, lr=9.14e-5, step=1829]\n",
      "Epoch 122: 100%|██████████| 15/15 [00:00<00:00, 15.65it/s, loss=0.00393, lr=9.12e-5, step=1844]"
     ]
    },
    {
     "name": "stdout",
     "output_type": "stream",
     "text": [
      "Saved  0.07503952990023566\n"
     ]
    },
    {
     "name": "stderr",
     "output_type": "stream",
     "text": [
      "Epoch 122: 100%|██████████| 15/15 [00:01<00:00, 14.65it/s, loss=0.00393, lr=9.12e-5, step=1844]\n"
     ]
    },
    {
     "name": "stdout",
     "output_type": "stream",
     "text": [
      "Saved  0.07449951513359944\n"
     ]
    },
    {
     "name": "stderr",
     "output_type": "stream",
     "text": [
      "Epoch 123: 100%|██████████| 15/15 [00:01<00:00, 14.46it/s, loss=0.004, lr=9.1e-5, step=1859]\n",
      "Epoch 124: 100%|██████████| 15/15 [00:00<00:00, 15.53it/s, loss=0.00305, lr=9.08e-5, step=1874]"
     ]
    },
    {
     "name": "stdout",
     "output_type": "stream",
     "text": [
      "Saved  0.07394545719996094\n"
     ]
    },
    {
     "name": "stderr",
     "output_type": "stream",
     "text": [
      "Epoch 124: 100%|██████████| 15/15 [00:01<00:00, 14.38it/s, loss=0.00305, lr=9.08e-5, step=1874]\n"
     ]
    },
    {
     "name": "stdout",
     "output_type": "stream",
     "text": [
      "Saved  0.07339590289777825\n"
     ]
    },
    {
     "name": "stderr",
     "output_type": "stream",
     "text": [
      "Epoch 125: 100%|██████████| 15/15 [00:01<00:00, 14.41it/s, loss=0.00377, lr=9.06e-5, step=1889]\n",
      "Epoch 126: 100%|██████████| 15/15 [00:00<00:00, 15.68it/s, loss=0.00413, lr=9.04e-5, step=1904]"
     ]
    },
    {
     "name": "stdout",
     "output_type": "stream",
     "text": [
      "Saved  0.07285676707459854\n"
     ]
    },
    {
     "name": "stderr",
     "output_type": "stream",
     "text": [
      "Epoch 126: 100%|██████████| 15/15 [00:01<00:00, 14.56it/s, loss=0.00413, lr=9.04e-5, step=1904]\n"
     ]
    },
    {
     "name": "stdout",
     "output_type": "stream",
     "text": [
      "Saved  0.07232222773357838\n"
     ]
    },
    {
     "name": "stderr",
     "output_type": "stream",
     "text": [
      "Epoch 127: 100%|██████████| 15/15 [00:01<00:00, 14.41it/s, loss=0.00266, lr=9.02e-5, step=1919]\n",
      "Epoch 128: 100%|██████████| 15/15 [00:00<00:00, 15.69it/s, loss=0.00467, lr=9e-5, step=1934]   "
     ]
    },
    {
     "name": "stdout",
     "output_type": "stream",
     "text": [
      "Saved  0.07179273104172403\n"
     ]
    },
    {
     "name": "stderr",
     "output_type": "stream",
     "text": [
      "Epoch 128: 100%|██████████| 15/15 [00:01<00:00, 14.57it/s, loss=0.00467, lr=9e-5, step=1934]\n"
     ]
    },
    {
     "name": "stdout",
     "output_type": "stream",
     "text": [
      "Saved  0.07128709737092065\n"
     ]
    },
    {
     "name": "stderr",
     "output_type": "stream",
     "text": [
      "Epoch 129: 100%|██████████| 15/15 [00:01<00:00, 14.30it/s, loss=0.00595, lr=8.98e-5, step=1949]\n",
      "Epoch 130: 100%|██████████| 15/15 [00:00<00:00, 15.61it/s, loss=0.00351, lr=8.96e-5, step=1964]"
     ]
    },
    {
     "name": "stdout",
     "output_type": "stream",
     "text": [
      "Saved  0.07079429923563854\n"
     ]
    },
    {
     "name": "stderr",
     "output_type": "stream",
     "text": [
      "Epoch 130: 100%|██████████| 15/15 [00:01<00:00, 14.66it/s, loss=0.00351, lr=8.96e-5, step=1964]\n"
     ]
    },
    {
     "name": "stdout",
     "output_type": "stream",
     "text": [
      "Saved  0.07033728920346634\n"
     ]
    },
    {
     "name": "stderr",
     "output_type": "stream",
     "text": [
      "Epoch 131: 100%|██████████| 15/15 [00:01<00:00, 14.23it/s, loss=0.00762, lr=8.94e-5, step=1979]\n",
      "Epoch 132: 100%|██████████| 15/15 [00:00<00:00, 15.56it/s, loss=0.00472, lr=8.92e-5, step=1994]"
     ]
    },
    {
     "name": "stdout",
     "output_type": "stream",
     "text": [
      "Saved  0.06988616109496557\n"
     ]
    },
    {
     "name": "stderr",
     "output_type": "stream",
     "text": [
      "Epoch 132: 100%|██████████| 15/15 [00:01<00:00, 14.50it/s, loss=0.00472, lr=8.92e-5, step=1994]\n"
     ]
    },
    {
     "name": "stdout",
     "output_type": "stream",
     "text": [
      "Saved  0.06940594900049621\n"
     ]
    },
    {
     "name": "stderr",
     "output_type": "stream",
     "text": [
      "Epoch 133: 100%|██████████| 15/15 [00:01<00:00, 14.34it/s, loss=0.00558, lr=8.9e-5, step=2009]\n",
      "Epoch 134: 100%|██████████| 15/15 [00:00<00:00, 15.37it/s, loss=0.00326, lr=8.87e-5, step=2024]"
     ]
    },
    {
     "name": "stdout",
     "output_type": "stream",
     "text": [
      "Saved  0.06892346537039604\n"
     ]
    },
    {
     "name": "stderr",
     "output_type": "stream",
     "text": [
      "Epoch 134: 100%|██████████| 15/15 [00:01<00:00, 14.45it/s, loss=0.00326, lr=8.87e-5, step=2024]\n"
     ]
    },
    {
     "name": "stdout",
     "output_type": "stream",
     "text": [
      "Saved  0.06844415215058618\n"
     ]
    },
    {
     "name": "stderr",
     "output_type": "stream",
     "text": [
      "Epoch 135: 100%|██████████| 15/15 [00:01<00:00, 14.24it/s, loss=0.00764, lr=8.85e-5, step=2039]\n",
      "Epoch 136: 100%|██████████| 15/15 [00:00<00:00, 15.48it/s, loss=0.00482, lr=8.83e-5, step=2054]"
     ]
    },
    {
     "name": "stdout",
     "output_type": "stream",
     "text": [
      "Saved  0.06797707957009402\n"
     ]
    },
    {
     "name": "stderr",
     "output_type": "stream",
     "text": [
      "Epoch 136: 100%|██████████| 15/15 [00:01<00:00, 14.54it/s, loss=0.00482, lr=8.83e-5, step=2054]\n"
     ]
    },
    {
     "name": "stdout",
     "output_type": "stream",
     "text": [
      "Saved  0.06756227008642962\n"
     ]
    },
    {
     "name": "stderr",
     "output_type": "stream",
     "text": [
      "Epoch 137: 100%|██████████| 15/15 [00:01<00:00, 14.10it/s, loss=0.0216, lr=8.81e-5, step=2069]\n",
      "Epoch 138: 100%|██████████| 15/15 [00:00<00:00, 15.62it/s, loss=0.00463, lr=8.79e-5, step=2084]"
     ]
    },
    {
     "name": "stdout",
     "output_type": "stream",
     "text": [
      "Saved  0.06713857675223596\n"
     ]
    },
    {
     "name": "stderr",
     "output_type": "stream",
     "text": [
      "Epoch 138: 100%|██████████| 15/15 [00:01<00:00, 14.70it/s, loss=0.00463, lr=8.79e-5, step=2084]\n"
     ]
    },
    {
     "name": "stdout",
     "output_type": "stream",
     "text": [
      "Saved  0.06669531195302539\n"
     ]
    },
    {
     "name": "stderr",
     "output_type": "stream",
     "text": [
      "Epoch 139: 100%|██████████| 15/15 [00:01<00:00, 14.38it/s, loss=0.00262, lr=8.77e-5, step=2099]\n",
      "Epoch 140: 100%|██████████| 15/15 [00:00<00:00, 15.61it/s, loss=0.0131, lr=8.74e-5, step=2114] "
     ]
    },
    {
     "name": "stdout",
     "output_type": "stream",
     "text": [
      "Saved  0.06628045542330765\n"
     ]
    },
    {
     "name": "stderr",
     "output_type": "stream",
     "text": [
      "Epoch 140: 100%|██████████| 15/15 [00:01<00:00, 14.53it/s, loss=0.0131, lr=8.74e-5, step=2114]\n"
     ]
    },
    {
     "name": "stdout",
     "output_type": "stream",
     "text": [
      "Saved  0.06587948591411201\n"
     ]
    },
    {
     "name": "stderr",
     "output_type": "stream",
     "text": [
      "Epoch 141: 100%|██████████| 15/15 [00:01<00:00, 14.25it/s, loss=0.0598, lr=8.72e-5, step=2129]\n",
      "Epoch 142: 100%|██████████| 15/15 [00:00<00:00, 15.09it/s, loss=0.00797, lr=8.7e-5, step=2144] "
     ]
    },
    {
     "name": "stdout",
     "output_type": "stream",
     "text": [
      "Saved  0.06546521217492789\n"
     ]
    },
    {
     "name": "stderr",
     "output_type": "stream",
     "text": [
      "Epoch 142: 100%|██████████| 15/15 [00:01<00:00, 14.17it/s, loss=0.00797, lr=8.7e-5, step=2144]\n"
     ]
    },
    {
     "name": "stdout",
     "output_type": "stream",
     "text": [
      "Saved  0.06505804039490479\n"
     ]
    },
    {
     "name": "stderr",
     "output_type": "stream",
     "text": [
      "Epoch 143: 100%|██████████| 15/15 [00:01<00:00, 14.07it/s, loss=0.00271, lr=8.68e-5, step=2159]\n",
      "Epoch 144: 100%|██████████| 15/15 [00:00<00:00, 15.50it/s, loss=0.0141, lr=8.65e-5, step=2174] "
     ]
    },
    {
     "name": "stdout",
     "output_type": "stream",
     "text": [
      "Saved  0.0646543795181888\n"
     ]
    },
    {
     "name": "stderr",
     "output_type": "stream",
     "text": [
      "Epoch 144: 100%|██████████| 15/15 [00:01<00:00, 14.50it/s, loss=0.0141, lr=8.65e-5, step=2174]\n"
     ]
    },
    {
     "name": "stdout",
     "output_type": "stream",
     "text": [
      "Saved  0.06425009732087862\n"
     ]
    },
    {
     "name": "stderr",
     "output_type": "stream",
     "text": [
      "Epoch 145: 100%|██████████| 15/15 [00:01<00:00, 14.00it/s, loss=0.00259, lr=8.63e-5, step=2189]\n",
      "Epoch 146: 100%|██████████| 15/15 [00:00<00:00, 14.96it/s, loss=0.00301, lr=8.61e-5, step=2204]"
     ]
    },
    {
     "name": "stdout",
     "output_type": "stream",
     "text": [
      "Saved  0.06384209873463088\n"
     ]
    },
    {
     "name": "stderr",
     "output_type": "stream",
     "text": [
      "Epoch 146: 100%|██████████| 15/15 [00:01<00:00, 14.21it/s, loss=0.00301, lr=8.61e-5, step=2204]\n"
     ]
    },
    {
     "name": "stdout",
     "output_type": "stream",
     "text": [
      "Saved  0.06344174314132967\n"
     ]
    },
    {
     "name": "stderr",
     "output_type": "stream",
     "text": [
      "Epoch 147: 100%|██████████| 15/15 [00:01<00:00, 14.35it/s, loss=0.0035, lr=8.58e-5, step=2219]\n",
      "Epoch 148: 100%|██████████| 15/15 [00:00<00:00, 15.56it/s, loss=0.00317, lr=8.56e-5, step=2234]"
     ]
    },
    {
     "name": "stdout",
     "output_type": "stream",
     "text": [
      "Saved  0.06305200223127584\n"
     ]
    },
    {
     "name": "stderr",
     "output_type": "stream",
     "text": [
      "Epoch 148: 100%|██████████| 15/15 [00:01<00:00, 14.55it/s, loss=0.00317, lr=8.56e-5, step=2234]\n",
      "self.unet=CustomConditionedUNet(\n",
      "  (unet): UNet2DConditionModel(\n",
      "    (conv_in): Conv2d(3, 64, kernel_size=(3, 3), stride=(1, 1), padding=(1, 1))\n",
      "    (time_proj): Timesteps()\n",
      "    (time_embedding): TimestepEmbedding(\n",
      "      (linear_1): Linear(in_features=64, out_features=256, bias=True)\n",
      "      (act): SiLU()\n",
      "      (linear_2): Linear(in_features=256, out_features=256, bias=True)\n",
      "    )\n",
      "    (down_blocks): ModuleList(\n",
      "      (0): DownBlock2D(\n",
      "        (resnets): ModuleList(\n",
      "          (0-1): 2 x ResnetBlock2D(\n",
      "            (norm1): GroupNorm(32, 64, eps=1e-05, affine=True)\n",
      "            (conv1): Conv2d(64, 64, kernel_size=(3, 3), stride=(1, 1), padding=(1, 1))\n",
      "            (time_emb_proj): Linear(in_features=256, out_features=64, bias=True)\n",
      "            (norm2): GroupNorm(32, 64, eps=1e-05, affine=True)\n",
      "            (dropout): Dropout(p=0.0, inplace=False)\n",
      "            (conv2): Conv2d(64, 64, kernel_size=(3, 3), stride=(1, 1), padding=(1, 1))\n",
      "            (nonlinearity): SiLU()\n",
      "          )\n",
      "        )\n",
      "        (downsamplers): ModuleList(\n",
      "          (0): Downsample2D(\n",
      "            (conv): Conv2d(64, 64, kernel_size=(3, 3), stride=(2, 2), padding=(1, 1))\n",
      "          )\n",
      "        )\n",
      "      )\n",
      "      (1): AttnDownBlock2D(\n",
      "        (attentions): ModuleList(\n",
      "          (0-1): 2 x Attention(\n",
      "            (group_norm): GroupNorm(32, 128, eps=1e-05, affine=True)\n",
      "            (to_q): Linear(in_features=128, out_features=128, bias=True)\n",
      "            (to_k): Linear(in_features=128, out_features=128, bias=True)\n",
      "            (to_v): Linear(in_features=128, out_features=128, bias=True)\n",
      "            (to_out): ModuleList(\n",
      "              (0): Linear(in_features=128, out_features=128, bias=True)\n",
      "              (1): Dropout(p=0.0, inplace=False)\n",
      "            )\n",
      "          )\n",
      "        )\n",
      "        (resnets): ModuleList(\n",
      "          (0): ResnetBlock2D(\n",
      "            (norm1): GroupNorm(32, 64, eps=1e-05, affine=True)\n",
      "            (conv1): Conv2d(64, 128, kernel_size=(3, 3), stride=(1, 1), padding=(1, 1))\n",
      "            (time_emb_proj): Linear(in_features=256, out_features=128, bias=True)\n",
      "            (norm2): GroupNorm(32, 128, eps=1e-05, affine=True)\n",
      "            (dropout): Dropout(p=0.0, inplace=False)\n",
      "            (conv2): Conv2d(128, 128, kernel_size=(3, 3), stride=(1, 1), padding=(1, 1))\n",
      "            (nonlinearity): SiLU()\n",
      "            (conv_shortcut): Conv2d(64, 128, kernel_size=(1, 1), stride=(1, 1))\n",
      "          )\n",
      "          (1): ResnetBlock2D(\n",
      "            (norm1): GroupNorm(32, 128, eps=1e-05, affine=True)\n",
      "            (conv1): Conv2d(128, 128, kernel_size=(3, 3), stride=(1, 1), padding=(1, 1))\n",
      "            (time_emb_proj): Linear(in_features=256, out_features=128, bias=True)\n",
      "            (norm2): GroupNorm(32, 128, eps=1e-05, affine=True)\n",
      "            (dropout): Dropout(p=0.0, inplace=False)\n",
      "            (conv2): Conv2d(128, 128, kernel_size=(3, 3), stride=(1, 1), padding=(1, 1))\n",
      "            (nonlinearity): SiLU()\n",
      "          )\n",
      "        )\n",
      "        (downsamplers): ModuleList(\n",
      "          (0): Downsample2D(\n",
      "            (conv): Conv2d(128, 128, kernel_size=(3, 3), stride=(2, 2), padding=(1, 1))\n",
      "          )\n",
      "        )\n",
      "      )\n",
      "      (2): AttnDownBlock2D(\n",
      "        (attentions): ModuleList(\n",
      "          (0-1): 2 x Attention(\n",
      "            (group_norm): GroupNorm(32, 256, eps=1e-05, affine=True)\n",
      "            (to_q): Linear(in_features=256, out_features=256, bias=True)\n",
      "            (to_k): Linear(in_features=256, out_features=256, bias=True)\n",
      "            (to_v): Linear(in_features=256, out_features=256, bias=True)\n",
      "            (to_out): ModuleList(\n",
      "              (0): Linear(in_features=256, out_features=256, bias=True)\n",
      "              (1): Dropout(p=0.0, inplace=False)\n",
      "            )\n",
      "          )\n",
      "        )\n",
      "        (resnets): ModuleList(\n",
      "          (0): ResnetBlock2D(\n",
      "            (norm1): GroupNorm(32, 128, eps=1e-05, affine=True)\n",
      "            (conv1): Conv2d(128, 256, kernel_size=(3, 3), stride=(1, 1), padding=(1, 1))\n",
      "            (time_emb_proj): Linear(in_features=256, out_features=256, bias=True)\n",
      "            (norm2): GroupNorm(32, 256, eps=1e-05, affine=True)\n",
      "            (dropout): Dropout(p=0.0, inplace=False)\n",
      "            (conv2): Conv2d(256, 256, kernel_size=(3, 3), stride=(1, 1), padding=(1, 1))\n",
      "            (nonlinearity): SiLU()\n",
      "            (conv_shortcut): Conv2d(128, 256, kernel_size=(1, 1), stride=(1, 1))\n",
      "          )\n",
      "          (1): ResnetBlock2D(\n",
      "            (norm1): GroupNorm(32, 256, eps=1e-05, affine=True)\n",
      "            (conv1): Conv2d(256, 256, kernel_size=(3, 3), stride=(1, 1), padding=(1, 1))\n",
      "            (time_emb_proj): Linear(in_features=256, out_features=256, bias=True)\n",
      "            (norm2): GroupNorm(32, 256, eps=1e-05, affine=True)\n",
      "            (dropout): Dropout(p=0.0, inplace=False)\n",
      "            (conv2): Conv2d(256, 256, kernel_size=(3, 3), stride=(1, 1), padding=(1, 1))\n",
      "            (nonlinearity): SiLU()\n",
      "          )\n",
      "        )\n",
      "      )\n",
      "    )\n",
      "    (up_blocks): ModuleList(\n",
      "      (0): AttnUpBlock2D(\n",
      "        (attentions): ModuleList(\n",
      "          (0-2): 3 x Attention(\n",
      "            (group_norm): GroupNorm(32, 256, eps=1e-05, affine=True)\n",
      "            (to_q): Linear(in_features=256, out_features=256, bias=True)\n",
      "            (to_k): Linear(in_features=256, out_features=256, bias=True)\n",
      "            (to_v): Linear(in_features=256, out_features=256, bias=True)\n",
      "            (to_out): ModuleList(\n",
      "              (0): Linear(in_features=256, out_features=256, bias=True)\n",
      "              (1): Dropout(p=0.0, inplace=False)\n",
      "            )\n",
      "          )\n",
      "        )\n",
      "        (resnets): ModuleList(\n",
      "          (0-1): 2 x ResnetBlock2D(\n",
      "            (norm1): GroupNorm(32, 512, eps=1e-05, affine=True)\n",
      "            (conv1): Conv2d(512, 256, kernel_size=(3, 3), stride=(1, 1), padding=(1, 1))\n",
      "            (time_emb_proj): Linear(in_features=256, out_features=256, bias=True)\n",
      "            (norm2): GroupNorm(32, 256, eps=1e-05, affine=True)\n",
      "            (dropout): Dropout(p=0.0, inplace=False)\n",
      "            (conv2): Conv2d(256, 256, kernel_size=(3, 3), stride=(1, 1), padding=(1, 1))\n",
      "            (nonlinearity): SiLU()\n",
      "            (conv_shortcut): Conv2d(512, 256, kernel_size=(1, 1), stride=(1, 1))\n",
      "          )\n",
      "          (2): ResnetBlock2D(\n",
      "            (norm1): GroupNorm(32, 384, eps=1e-05, affine=True)\n",
      "            (conv1): Conv2d(384, 256, kernel_size=(3, 3), stride=(1, 1), padding=(1, 1))\n",
      "            (time_emb_proj): Linear(in_features=256, out_features=256, bias=True)\n",
      "            (norm2): GroupNorm(32, 256, eps=1e-05, affine=True)\n",
      "            (dropout): Dropout(p=0.0, inplace=False)\n",
      "            (conv2): Conv2d(256, 256, kernel_size=(3, 3), stride=(1, 1), padding=(1, 1))\n",
      "            (nonlinearity): SiLU()\n",
      "            (conv_shortcut): Conv2d(384, 256, kernel_size=(1, 1), stride=(1, 1))\n",
      "          )\n",
      "        )\n",
      "        (upsamplers): ModuleList(\n",
      "          (0): Upsample2D(\n",
      "            (conv): Conv2d(256, 256, kernel_size=(3, 3), stride=(1, 1), padding=(1, 1))\n",
      "          )\n",
      "        )\n",
      "      )\n",
      "      (1): AttnUpBlock2D(\n",
      "        (attentions): ModuleList(\n",
      "          (0-2): 3 x Attention(\n",
      "            (group_norm): GroupNorm(32, 128, eps=1e-05, affine=True)\n",
      "            (to_q): Linear(in_features=128, out_features=128, bias=True)\n",
      "            (to_k): Linear(in_features=128, out_features=128, bias=True)\n",
      "            (to_v): Linear(in_features=128, out_features=128, bias=True)\n",
      "            (to_out): ModuleList(\n",
      "              (0): Linear(in_features=128, out_features=128, bias=True)\n",
      "              (1): Dropout(p=0.0, inplace=False)\n",
      "            )\n",
      "          )\n",
      "        )\n",
      "        (resnets): ModuleList(\n",
      "          (0): ResnetBlock2D(\n",
      "            (norm1): GroupNorm(32, 384, eps=1e-05, affine=True)\n",
      "            (conv1): Conv2d(384, 128, kernel_size=(3, 3), stride=(1, 1), padding=(1, 1))\n",
      "            (time_emb_proj): Linear(in_features=256, out_features=128, bias=True)\n",
      "            (norm2): GroupNorm(32, 128, eps=1e-05, affine=True)\n",
      "            (dropout): Dropout(p=0.0, inplace=False)\n",
      "            (conv2): Conv2d(128, 128, kernel_size=(3, 3), stride=(1, 1), padding=(1, 1))\n",
      "            (nonlinearity): SiLU()\n",
      "            (conv_shortcut): Conv2d(384, 128, kernel_size=(1, 1), stride=(1, 1))\n",
      "          )\n",
      "          (1): ResnetBlock2D(\n",
      "            (norm1): GroupNorm(32, 256, eps=1e-05, affine=True)\n",
      "            (conv1): Conv2d(256, 128, kernel_size=(3, 3), stride=(1, 1), padding=(1, 1))\n",
      "            (time_emb_proj): Linear(in_features=256, out_features=128, bias=True)\n",
      "            (norm2): GroupNorm(32, 128, eps=1e-05, affine=True)\n",
      "            (dropout): Dropout(p=0.0, inplace=False)\n",
      "            (conv2): Conv2d(128, 128, kernel_size=(3, 3), stride=(1, 1), padding=(1, 1))\n",
      "            (nonlinearity): SiLU()\n",
      "            (conv_shortcut): Conv2d(256, 128, kernel_size=(1, 1), stride=(1, 1))\n",
      "          )\n",
      "          (2): ResnetBlock2D(\n",
      "            (norm1): GroupNorm(32, 192, eps=1e-05, affine=True)\n",
      "            (conv1): Conv2d(192, 128, kernel_size=(3, 3), stride=(1, 1), padding=(1, 1))\n",
      "            (time_emb_proj): Linear(in_features=256, out_features=128, bias=True)\n",
      "            (norm2): GroupNorm(32, 128, eps=1e-05, affine=True)\n",
      "            (dropout): Dropout(p=0.0, inplace=False)\n",
      "            (conv2): Conv2d(128, 128, kernel_size=(3, 3), stride=(1, 1), padding=(1, 1))\n",
      "            (nonlinearity): SiLU()\n",
      "            (conv_shortcut): Conv2d(192, 128, kernel_size=(1, 1), stride=(1, 1))\n",
      "          )\n",
      "        )\n",
      "        (upsamplers): ModuleList(\n",
      "          (0): Upsample2D(\n",
      "            (conv): Conv2d(128, 128, kernel_size=(3, 3), stride=(1, 1), padding=(1, 1))\n",
      "          )\n",
      "        )\n",
      "      )\n",
      "      (2): UpBlock2D(\n",
      "        (resnets): ModuleList(\n",
      "          (0): ResnetBlock2D(\n",
      "            (norm1): GroupNorm(32, 192, eps=1e-05, affine=True)\n",
      "            (conv1): Conv2d(192, 64, kernel_size=(3, 3), stride=(1, 1), padding=(1, 1))\n",
      "            (time_emb_proj): Linear(in_features=256, out_features=64, bias=True)\n",
      "            (norm2): GroupNorm(32, 64, eps=1e-05, affine=True)\n",
      "            (dropout): Dropout(p=0.0, inplace=False)\n",
      "            (conv2): Conv2d(64, 64, kernel_size=(3, 3), stride=(1, 1), padding=(1, 1))\n",
      "            (nonlinearity): SiLU()\n",
      "            (conv_shortcut): Conv2d(192, 64, kernel_size=(1, 1), stride=(1, 1))\n",
      "          )\n",
      "          (1-2): 2 x ResnetBlock2D(\n",
      "            (norm1): GroupNorm(32, 128, eps=1e-05, affine=True)\n",
      "            (conv1): Conv2d(128, 64, kernel_size=(3, 3), stride=(1, 1), padding=(1, 1))\n",
      "            (time_emb_proj): Linear(in_features=256, out_features=64, bias=True)\n",
      "            (norm2): GroupNorm(32, 64, eps=1e-05, affine=True)\n",
      "            (dropout): Dropout(p=0.0, inplace=False)\n",
      "            (conv2): Conv2d(64, 64, kernel_size=(3, 3), stride=(1, 1), padding=(1, 1))\n",
      "            (nonlinearity): SiLU()\n",
      "            (conv_shortcut): Conv2d(128, 64, kernel_size=(1, 1), stride=(1, 1))\n",
      "          )\n",
      "        )\n",
      "      )\n",
      "    )\n",
      "    (mid_block): UNetMidBlock2DCrossAttn(\n",
      "      (attentions): ModuleList(\n",
      "        (0): Transformer2DModel(\n",
      "          (norm): GroupNorm(32, 256, eps=1e-06, affine=True)\n",
      "          (proj_in): Conv2d(256, 256, kernel_size=(1, 1), stride=(1, 1))\n",
      "          (transformer_blocks): ModuleList(\n",
      "            (0): BasicTransformerBlock(\n",
      "              (norm1): LayerNorm((256,), eps=1e-05, elementwise_affine=True)\n",
      "              (attn1): Attention(\n",
      "                (to_q): Linear(in_features=256, out_features=256, bias=False)\n",
      "                (to_k): Linear(in_features=256, out_features=256, bias=False)\n",
      "                (to_v): Linear(in_features=256, out_features=256, bias=False)\n",
      "                (to_out): ModuleList(\n",
      "                  (0): Linear(in_features=256, out_features=256, bias=True)\n",
      "                  (1): Dropout(p=0.0, inplace=False)\n",
      "                )\n",
      "              )\n",
      "              (norm2): LayerNorm((256,), eps=1e-05, elementwise_affine=True)\n",
      "              (attn2): Attention(\n",
      "                (to_q): Linear(in_features=256, out_features=256, bias=False)\n",
      "                (to_k): Linear(in_features=128, out_features=256, bias=False)\n",
      "                (to_v): Linear(in_features=128, out_features=256, bias=False)\n",
      "                (to_out): ModuleList(\n",
      "                  (0): Linear(in_features=256, out_features=256, bias=True)\n",
      "                  (1): Dropout(p=0.0, inplace=False)\n",
      "                )\n",
      "              )\n",
      "              (norm3): LayerNorm((256,), eps=1e-05, elementwise_affine=True)\n",
      "              (ff): FeedForward(\n",
      "                (net): ModuleList(\n",
      "                  (0): GEGLU(\n",
      "                    (proj): Linear(in_features=256, out_features=2048, bias=True)\n",
      "                  )\n",
      "                  (1): Dropout(p=0.0, inplace=False)\n",
      "                  (2): Linear(in_features=1024, out_features=256, bias=True)\n",
      "                )\n",
      "              )\n",
      "            )\n",
      "          )\n",
      "          (proj_out): Conv2d(256, 256, kernel_size=(1, 1), stride=(1, 1))\n",
      "        )\n",
      "      )\n",
      "      (resnets): ModuleList(\n",
      "        (0-1): 2 x ResnetBlock2D(\n",
      "          (norm1): GroupNorm(32, 256, eps=1e-05, affine=True)\n",
      "          (conv1): Conv2d(256, 256, kernel_size=(3, 3), stride=(1, 1), padding=(1, 1))\n",
      "          (time_emb_proj): Linear(in_features=256, out_features=256, bias=True)\n",
      "          (norm2): GroupNorm(32, 256, eps=1e-05, affine=True)\n",
      "          (dropout): Dropout(p=0.0, inplace=False)\n",
      "          (conv2): Conv2d(256, 256, kernel_size=(3, 3), stride=(1, 1), padding=(1, 1))\n",
      "          (nonlinearity): SiLU()\n",
      "        )\n",
      "      )\n",
      "    )\n",
      "    (conv_norm_out): GroupNorm(32, 64, eps=1e-05, affine=True)\n",
      "    (conv_act): SiLU()\n",
      "    (conv_out): Conv2d(64, 3, kernel_size=(3, 3), stride=(1, 1), padding=(1, 1))\n",
      "  )\n",
      "  (cond_embed): Sequential(\n",
      "    (0): Linear(in_features=2, out_features=128, bias=True)\n",
      "    (1): SiLU()\n",
      "    (2): Linear(in_features=128, out_features=128, bias=True)\n",
      "  )\n",
      ") of type <class '__main__.CustomConditionedUNet'> cannot be saved.\n"
     ]
    },
    {
     "name": "stdout",
     "output_type": "stream",
     "text": [
      "Saved  0.06266640230506244\n"
     ]
    },
    {
     "name": "stderr",
     "output_type": "stream",
     "text": [
      "Epoch 149: 100%|██████████| 15/15 [00:01<00:00, 14.38it/s, loss=0.00668, lr=8.54e-5, step=2249]\n",
      "Epoch 150: 100%|██████████| 15/15 [00:00<00:00, 15.15it/s, loss=0.00257, lr=8.51e-5, step=2264]"
     ]
    },
    {
     "name": "stdout",
     "output_type": "stream",
     "text": [
      "Saved  0.06227469145162052\n"
     ]
    },
    {
     "name": "stderr",
     "output_type": "stream",
     "text": [
      "Epoch 150: 100%|██████████| 15/15 [00:01<00:00, 14.19it/s, loss=0.00257, lr=8.51e-5, step=2264]\n"
     ]
    },
    {
     "name": "stdout",
     "output_type": "stream",
     "text": [
      "Saved  0.061890740411993314\n"
     ]
    },
    {
     "name": "stderr",
     "output_type": "stream",
     "text": [
      "Epoch 151: 100%|██████████| 15/15 [00:01<00:00, 12.61it/s, loss=0.00292, lr=8.49e-5, step=2279]\n",
      "Epoch 152: 100%|██████████| 15/15 [00:01<00:00, 15.09it/s, loss=0.00583, lr=8.46e-5, step=2294]"
     ]
    },
    {
     "name": "stdout",
     "output_type": "stream",
     "text": [
      "Saved  0.06151986774604987\n"
     ]
    },
    {
     "name": "stderr",
     "output_type": "stream",
     "text": [
      "Epoch 152: 100%|██████████| 15/15 [00:01<00:00, 13.77it/s, loss=0.00583, lr=8.46e-5, step=2294]\n"
     ]
    },
    {
     "name": "stdout",
     "output_type": "stream",
     "text": [
      "Saved  0.061183456083138785\n"
     ]
    },
    {
     "name": "stderr",
     "output_type": "stream",
     "text": [
      "Epoch 153: 100%|██████████| 15/15 [00:01<00:00, 13.57it/s, loss=0.015, lr=8.44e-5, step=2309]\n",
      "Epoch 154: 100%|██████████| 15/15 [00:01<00:00, 14.68it/s, loss=0.00684, lr=8.41e-5, step=2324]"
     ]
    },
    {
     "name": "stdout",
     "output_type": "stream",
     "text": [
      "Saved  0.060824152614360534\n"
     ]
    },
    {
     "name": "stderr",
     "output_type": "stream",
     "text": [
      "Epoch 154: 100%|██████████| 15/15 [00:01<00:00, 13.79it/s, loss=0.00684, lr=8.41e-5, step=2324]\n"
     ]
    },
    {
     "name": "stdout",
     "output_type": "stream",
     "text": [
      "Saved  0.060472748149683876\n"
     ]
    },
    {
     "name": "stderr",
     "output_type": "stream",
     "text": [
      "Epoch 155: 100%|██████████| 15/15 [00:01<00:00, 13.83it/s, loss=0.00746, lr=8.39e-5, step=2339]\n",
      "Epoch 156: 100%|██████████| 15/15 [00:00<00:00, 14.88it/s, loss=0.0063, lr=8.37e-5, step=2354] "
     ]
    },
    {
     "name": "stdout",
     "output_type": "stream",
     "text": [
      "Saved  0.060136624109869995\n"
     ]
    },
    {
     "name": "stderr",
     "output_type": "stream",
     "text": [
      "Epoch 156: 100%|██████████| 15/15 [00:01<00:00, 14.03it/s, loss=0.0063, lr=8.37e-5, step=2354]\n"
     ]
    },
    {
     "name": "stdout",
     "output_type": "stream",
     "text": [
      "Saved  0.05982158931712954\n"
     ]
    },
    {
     "name": "stderr",
     "output_type": "stream",
     "text": [
      "Epoch 157: 100%|██████████| 15/15 [00:01<00:00, 14.11it/s, loss=0.00322, lr=8.34e-5, step=2369]\n",
      "Epoch 158: 100%|██████████| 15/15 [00:00<00:00, 15.35it/s, loss=0.00958, lr=8.31e-5, step=2384]"
     ]
    },
    {
     "name": "stdout",
     "output_type": "stream",
     "text": [
      "Saved  0.0594934799567849\n"
     ]
    },
    {
     "name": "stderr",
     "output_type": "stream",
     "text": [
      "Epoch 158: 100%|██████████| 15/15 [00:01<00:00, 14.17it/s, loss=0.00958, lr=8.31e-5, step=2384]\n"
     ]
    },
    {
     "name": "stdout",
     "output_type": "stream",
     "text": [
      "Saved  0.05914937741608204\n"
     ]
    },
    {
     "name": "stderr",
     "output_type": "stream",
     "text": [
      "Epoch 159: 100%|██████████| 15/15 [00:01<00:00, 13.67it/s, loss=0.00334, lr=8.29e-5, step=2399]\n",
      "Epoch 160: 100%|██████████| 15/15 [00:00<00:00, 15.34it/s, loss=0.00794, lr=8.26e-5, step=2414]"
     ]
    },
    {
     "name": "stdout",
     "output_type": "stream",
     "text": [
      "Saved  0.058811769105482456\n"
     ]
    },
    {
     "name": "stderr",
     "output_type": "stream",
     "text": [
      "Epoch 160: 100%|██████████| 15/15 [00:01<00:00, 14.21it/s, loss=0.00794, lr=8.26e-5, step=2414]\n"
     ]
    },
    {
     "name": "stdout",
     "output_type": "stream",
     "text": [
      "Saved  0.05847698390242402\n"
     ]
    },
    {
     "name": "stderr",
     "output_type": "stream",
     "text": [
      "Epoch 161: 100%|██████████| 15/15 [00:01<00:00, 13.26it/s, loss=0.00282, lr=8.24e-5, step=2429]\n",
      "Epoch 162: 100%|██████████| 15/15 [00:01<00:00, 14.85it/s, loss=0.00709, lr=8.21e-5, step=2444]"
     ]
    },
    {
     "name": "stdout",
     "output_type": "stream",
     "text": [
      "Saved  0.05816503742763083\n"
     ]
    },
    {
     "name": "stderr",
     "output_type": "stream",
     "text": [
      "Epoch 162: 100%|██████████| 15/15 [00:01<00:00, 13.92it/s, loss=0.00709, lr=8.21e-5, step=2444]\n"
     ]
    },
    {
     "name": "stdout",
     "output_type": "stream",
     "text": [
      "Saved  0.057843338066761237\n"
     ]
    },
    {
     "name": "stderr",
     "output_type": "stream",
     "text": [
      "Epoch 163: 100%|██████████| 15/15 [00:01<00:00, 13.94it/s, loss=0.00297, lr=8.19e-5, step=2459]\n",
      "Epoch 164: 100%|██████████| 15/15 [00:00<00:00, 15.09it/s, loss=0.00347, lr=8.16e-5, step=2474]"
     ]
    },
    {
     "name": "stdout",
     "output_type": "stream",
     "text": [
      "Saved  0.05753585797179528\n"
     ]
    },
    {
     "name": "stderr",
     "output_type": "stream",
     "text": [
      "Epoch 164: 100%|██████████| 15/15 [00:01<00:00, 14.11it/s, loss=0.00347, lr=8.16e-5, step=2474]\n"
     ]
    },
    {
     "name": "stdout",
     "output_type": "stream",
     "text": [
      "Saved  0.05721794225754269\n"
     ]
    },
    {
     "name": "stderr",
     "output_type": "stream",
     "text": [
      "Epoch 165: 100%|██████████| 15/15 [00:01<00:00, 14.10it/s, loss=0.00343, lr=8.13e-5, step=2489]\n",
      "Epoch 166: 100%|██████████| 15/15 [00:00<00:00, 14.93it/s, loss=0.00763, lr=8.11e-5, step=2504]"
     ]
    },
    {
     "name": "stdout",
     "output_type": "stream",
     "text": [
      "Saved  0.05691412557734403\n"
     ]
    },
    {
     "name": "stderr",
     "output_type": "stream",
     "text": [
      "Epoch 166: 100%|██████████| 15/15 [00:01<00:00, 14.18it/s, loss=0.00763, lr=8.11e-5, step=2504]\n"
     ]
    },
    {
     "name": "stdout",
     "output_type": "stream",
     "text": [
      "Saved  0.05661368143064754\n"
     ]
    },
    {
     "name": "stderr",
     "output_type": "stream",
     "text": [
      "Epoch 167: 100%|██████████| 15/15 [00:01<00:00, 13.78it/s, loss=0.033, lr=8.08e-5, step=2519]\n",
      "Epoch 168: 100%|██████████| 15/15 [00:00<00:00, 15.32it/s, loss=0.00276, lr=8.06e-5, step=2534]"
     ]
    },
    {
     "name": "stdout",
     "output_type": "stream",
     "text": [
      "Saved  0.056301187337385365\n"
     ]
    },
    {
     "name": "stderr",
     "output_type": "stream",
     "text": [
      "Epoch 168: 100%|██████████| 15/15 [00:01<00:00, 14.23it/s, loss=0.00276, lr=8.06e-5, step=2534]\n"
     ]
    },
    {
     "name": "stdout",
     "output_type": "stream",
     "text": [
      "Saved  0.05601385527956938\n"
     ]
    },
    {
     "name": "stderr",
     "output_type": "stream",
     "text": [
      "Epoch 169: 100%|██████████| 15/15 [00:01<00:00, 14.03it/s, loss=0.00491, lr=8.03e-5, step=2549]\n",
      "Epoch 170: 100%|██████████| 15/15 [00:01<00:00, 14.78it/s, loss=0.0132, lr=8e-5, step=2564]    "
     ]
    },
    {
     "name": "stdout",
     "output_type": "stream",
     "text": [
      "Saved  0.055723859309118974\n"
     ]
    },
    {
     "name": "stderr",
     "output_type": "stream",
     "text": [
      "Epoch 170: 100%|██████████| 15/15 [00:01<00:00, 13.92it/s, loss=0.0132, lr=8e-5, step=2564]\n"
     ]
    },
    {
     "name": "stdout",
     "output_type": "stream",
     "text": [
      "Saved  0.05542476670870687\n"
     ]
    },
    {
     "name": "stderr",
     "output_type": "stream",
     "text": [
      "Epoch 171: 100%|██████████| 15/15 [00:01<00:00, 13.74it/s, loss=0.00853, lr=7.98e-5, step=2579]\n",
      "Epoch 172: 100%|██████████| 15/15 [00:01<00:00, 15.01it/s, loss=0.00369, lr=7.95e-5, step=2594]"
     ]
    },
    {
     "name": "stdout",
     "output_type": "stream",
     "text": [
      "Saved  0.0551270117679959\n"
     ]
    },
    {
     "name": "stderr",
     "output_type": "stream",
     "text": [
      "Epoch 172: 100%|██████████| 15/15 [00:01<00:00, 13.98it/s, loss=0.00369, lr=7.95e-5, step=2594]\n"
     ]
    },
    {
     "name": "stdout",
     "output_type": "stream",
     "text": [
      "Saved  0.05483639515272674\n"
     ]
    },
    {
     "name": "stderr",
     "output_type": "stream",
     "text": [
      "Epoch 173: 100%|██████████| 15/15 [00:01<00:00, 13.80it/s, loss=0.00299, lr=7.92e-5, step=2609]\n",
      "Epoch 174: 100%|██████████| 15/15 [00:01<00:00, 14.97it/s, loss=0.00228, lr=7.89e-5, step=2624]"
     ]
    },
    {
     "name": "stdout",
     "output_type": "stream",
     "text": [
      "Saved  0.054548436409483356\n"
     ]
    },
    {
     "name": "stderr",
     "output_type": "stream",
     "text": [
      "Epoch 174: 100%|██████████| 15/15 [00:01<00:00, 14.03it/s, loss=0.00228, lr=7.89e-5, step=2624]\n"
     ]
    },
    {
     "name": "stdout",
     "output_type": "stream",
     "text": [
      "Saved  0.054265657885910264\n"
     ]
    },
    {
     "name": "stderr",
     "output_type": "stream",
     "text": [
      "Epoch 175: 100%|██████████| 15/15 [00:01<00:00, 13.96it/s, loss=0.00388, lr=7.87e-5, step=2639]\n",
      "Epoch 176: 100%|██████████| 15/15 [00:01<00:00, 14.87it/s, loss=0.00292, lr=7.84e-5, step=2654]"
     ]
    },
    {
     "name": "stdout",
     "output_type": "stream",
     "text": [
      "Saved  0.05398288104909414\n"
     ]
    },
    {
     "name": "stderr",
     "output_type": "stream",
     "text": [
      "Epoch 176: 100%|██████████| 15/15 [00:01<00:00, 13.85it/s, loss=0.00292, lr=7.84e-5, step=2654]\n"
     ]
    },
    {
     "name": "stdout",
     "output_type": "stream",
     "text": [
      "Saved  0.05370108821526979\n"
     ]
    },
    {
     "name": "stderr",
     "output_type": "stream",
     "text": [
      "Epoch 177: 100%|██████████| 15/15 [00:01<00:00, 13.35it/s, loss=0.0038, lr=7.81e-5, step=2669]\n",
      "Epoch 178: 100%|██████████| 15/15 [00:00<00:00, 15.54it/s, loss=0.00438, lr=7.78e-5, step=2684]"
     ]
    },
    {
     "name": "stdout",
     "output_type": "stream",
     "text": [
      "Saved  0.053437888807768015\n"
     ]
    },
    {
     "name": "stderr",
     "output_type": "stream",
     "text": [
      "Epoch 178: 100%|██████████| 15/15 [00:01<00:00, 14.52it/s, loss=0.00438, lr=7.78e-5, step=2684]\n"
     ]
    },
    {
     "name": "stdout",
     "output_type": "stream",
     "text": [
      "Saved  0.053175648585462046\n"
     ]
    },
    {
     "name": "stderr",
     "output_type": "stream",
     "text": [
      "Epoch 179: 100%|██████████| 15/15 [00:01<00:00, 14.19it/s, loss=0.0221, lr=7.75e-5, step=2699]\n",
      "Epoch 180: 100%|██████████| 15/15 [00:00<00:00, 15.18it/s, loss=0.00251, lr=7.73e-5, step=2714]"
     ]
    },
    {
     "name": "stdout",
     "output_type": "stream",
     "text": [
      "Saved  0.052904180964818616\n"
     ]
    },
    {
     "name": "stderr",
     "output_type": "stream",
     "text": [
      "Epoch 180: 100%|██████████| 15/15 [00:01<00:00, 14.34it/s, loss=0.00251, lr=7.73e-5, step=2714]\n"
     ]
    },
    {
     "name": "stdout",
     "output_type": "stream",
     "text": [
      "Saved  0.052634464213948684\n"
     ]
    },
    {
     "name": "stderr",
     "output_type": "stream",
     "text": [
      "Epoch 181: 100%|██████████| 15/15 [00:01<00:00, 14.33it/s, loss=0.00469, lr=7.7e-5, step=2729]\n",
      "Epoch 182: 100%|██████████| 15/15 [00:00<00:00, 15.71it/s, loss=0.00507, lr=7.67e-5, step=2744]"
     ]
    },
    {
     "name": "stdout",
     "output_type": "stream",
     "text": [
      "Saved  0.05237190729840056\n"
     ]
    },
    {
     "name": "stderr",
     "output_type": "stream",
     "text": [
      "Epoch 182: 100%|██████████| 15/15 [00:01<00:00, 14.66it/s, loss=0.00507, lr=7.67e-5, step=2744]\n"
     ]
    },
    {
     "name": "stdout",
     "output_type": "stream",
     "text": [
      "Saved  0.052105220227394305\n"
     ]
    },
    {
     "name": "stderr",
     "output_type": "stream",
     "text": [
      "Epoch 183: 100%|██████████| 15/15 [00:01<00:00, 14.32it/s, loss=0.00207, lr=7.64e-5, step=2759]\n",
      "Epoch 184: 100%|██████████| 15/15 [00:00<00:00, 15.50it/s, loss=0.00285, lr=7.61e-5, step=2774]"
     ]
    },
    {
     "name": "stdout",
     "output_type": "stream",
     "text": [
      "Saved  0.05184091528906982\n"
     ]
    },
    {
     "name": "stderr",
     "output_type": "stream",
     "text": [
      "Epoch 184: 100%|██████████| 15/15 [00:01<00:00, 14.41it/s, loss=0.00285, lr=7.61e-5, step=2774]\n"
     ]
    },
    {
     "name": "stdout",
     "output_type": "stream",
     "text": [
      "Saved  0.051594376708022034\n"
     ]
    },
    {
     "name": "stderr",
     "output_type": "stream",
     "text": [
      "Epoch 185: 100%|██████████| 15/15 [00:01<00:00, 14.39it/s, loss=0.00358, lr=7.58e-5, step=2789]\n",
      "Epoch 186: 100%|██████████| 15/15 [00:00<00:00, 15.60it/s, loss=0.00378, lr=7.55e-5, step=2804]"
     ]
    },
    {
     "name": "stdout",
     "output_type": "stream",
     "text": [
      "Saved  0.051351229711717954\n"
     ]
    },
    {
     "name": "stderr",
     "output_type": "stream",
     "text": [
      "Epoch 186: 100%|██████████| 15/15 [00:01<00:00, 14.51it/s, loss=0.00378, lr=7.55e-5, step=2804]\n"
     ]
    },
    {
     "name": "stdout",
     "output_type": "stream",
     "text": [
      "Saved  0.05109630595568191\n"
     ]
    },
    {
     "name": "stderr",
     "output_type": "stream",
     "text": [
      "Epoch 187: 100%|██████████| 15/15 [00:01<00:00, 14.49it/s, loss=0.00311, lr=7.53e-5, step=2819]\n",
      "Epoch 188: 100%|██████████| 15/15 [00:00<00:00, 15.80it/s, loss=0.00838, lr=7.5e-5, step=2834] "
     ]
    },
    {
     "name": "stdout",
     "output_type": "stream",
     "text": [
      "Saved  0.050846987938454186\n"
     ]
    },
    {
     "name": "stderr",
     "output_type": "stream",
     "text": [
      "Epoch 188: 100%|██████████| 15/15 [00:01<00:00, 14.70it/s, loss=0.00838, lr=7.5e-5, step=2834]\n"
     ]
    },
    {
     "name": "stdout",
     "output_type": "stream",
     "text": [
      "Saved  0.05059928596563017\n"
     ]
    },
    {
     "name": "stderr",
     "output_type": "stream",
     "text": [
      "Epoch 189: 100%|██████████| 15/15 [00:01<00:00, 14.53it/s, loss=0.00199, lr=7.47e-5, step=2849]\n",
      "Epoch 190: 100%|██████████| 15/15 [00:00<00:00, 15.56it/s, loss=0.00233, lr=7.44e-5, step=2864]"
     ]
    },
    {
     "name": "stdout",
     "output_type": "stream",
     "text": [
      "Saved  0.05034958120532184\n"
     ]
    },
    {
     "name": "stderr",
     "output_type": "stream",
     "text": [
      "Epoch 190: 100%|██████████| 15/15 [00:01<00:00, 14.49it/s, loss=0.00233, lr=7.44e-5, step=2864]\n"
     ]
    },
    {
     "name": "stdout",
     "output_type": "stream",
     "text": [
      "Saved  0.05013740308612695\n"
     ]
    },
    {
     "name": "stderr",
     "output_type": "stream",
     "text": [
      "Epoch 191: 100%|██████████| 15/15 [00:01<00:00, 14.51it/s, loss=0.00607, lr=7.41e-5, step=2879]\n",
      "Epoch 192: 100%|██████████| 15/15 [00:00<00:00, 15.73it/s, loss=0.00388, lr=7.38e-5, step=2894]"
     ]
    },
    {
     "name": "stdout",
     "output_type": "stream",
     "text": [
      "Saved  0.04991165437950352\n"
     ]
    },
    {
     "name": "stderr",
     "output_type": "stream",
     "text": [
      "Epoch 192: 100%|██████████| 15/15 [00:01<00:00, 14.66it/s, loss=0.00388, lr=7.38e-5, step=2894]\n"
     ]
    },
    {
     "name": "stdout",
     "output_type": "stream",
     "text": [
      "Saved  0.04969949357734058\n"
     ]
    },
    {
     "name": "stderr",
     "output_type": "stream",
     "text": [
      "Epoch 193: 100%|██████████| 15/15 [00:01<00:00, 13.79it/s, loss=0.00604, lr=7.35e-5, step=2909]\n",
      "Epoch 194: 100%|██████████| 15/15 [00:00<00:00, 15.52it/s, loss=0.00254, lr=7.32e-5, step=2924]"
     ]
    },
    {
     "name": "stdout",
     "output_type": "stream",
     "text": [
      "Saved  0.049473209208251635\n"
     ]
    },
    {
     "name": "stderr",
     "output_type": "stream",
     "text": [
      "Epoch 194: 100%|██████████| 15/15 [00:01<00:00, 14.51it/s, loss=0.00254, lr=7.32e-5, step=2924]\n"
     ]
    },
    {
     "name": "stdout",
     "output_type": "stream",
     "text": [
      "Saved  0.04923795117544435\n"
     ]
    },
    {
     "name": "stderr",
     "output_type": "stream",
     "text": [
      "Epoch 195: 100%|██████████| 15/15 [00:01<00:00, 14.41it/s, loss=0.00354, lr=7.29e-5, step=2939]\n",
      "Epoch 196: 100%|██████████| 15/15 [00:00<00:00, 15.78it/s, loss=0.00249, lr=7.26e-5, step=2954]"
     ]
    },
    {
     "name": "stdout",
     "output_type": "stream",
     "text": [
      "Saved  0.04900383691282946\n"
     ]
    },
    {
     "name": "stderr",
     "output_type": "stream",
     "text": [
      "Epoch 196: 100%|██████████| 15/15 [00:01<00:00, 14.69it/s, loss=0.00249, lr=7.26e-5, step=2954]\n"
     ]
    },
    {
     "name": "stdout",
     "output_type": "stream",
     "text": [
      "Saved  0.04877510430237987\n"
     ]
    },
    {
     "name": "stderr",
     "output_type": "stream",
     "text": [
      "Epoch 197: 100%|██████████| 15/15 [00:01<00:00, 14.41it/s, loss=0.0025, lr=7.23e-5, step=2969]\n",
      "Epoch 198: 100%|██████████| 15/15 [00:00<00:00, 15.60it/s, loss=0.00523, lr=7.2e-5, step=2984] "
     ]
    },
    {
     "name": "stdout",
     "output_type": "stream",
     "text": [
      "Saved  0.0485506424587922\n"
     ]
    },
    {
     "name": "stderr",
     "output_type": "stream",
     "text": [
      "Epoch 198: 100%|██████████| 15/15 [00:01<00:00, 14.61it/s, loss=0.00523, lr=7.2e-5, step=2984]\n",
      "self.unet=CustomConditionedUNet(\n",
      "  (unet): UNet2DConditionModel(\n",
      "    (conv_in): Conv2d(3, 64, kernel_size=(3, 3), stride=(1, 1), padding=(1, 1))\n",
      "    (time_proj): Timesteps()\n",
      "    (time_embedding): TimestepEmbedding(\n",
      "      (linear_1): Linear(in_features=64, out_features=256, bias=True)\n",
      "      (act): SiLU()\n",
      "      (linear_2): Linear(in_features=256, out_features=256, bias=True)\n",
      "    )\n",
      "    (down_blocks): ModuleList(\n",
      "      (0): DownBlock2D(\n",
      "        (resnets): ModuleList(\n",
      "          (0-1): 2 x ResnetBlock2D(\n",
      "            (norm1): GroupNorm(32, 64, eps=1e-05, affine=True)\n",
      "            (conv1): Conv2d(64, 64, kernel_size=(3, 3), stride=(1, 1), padding=(1, 1))\n",
      "            (time_emb_proj): Linear(in_features=256, out_features=64, bias=True)\n",
      "            (norm2): GroupNorm(32, 64, eps=1e-05, affine=True)\n",
      "            (dropout): Dropout(p=0.0, inplace=False)\n",
      "            (conv2): Conv2d(64, 64, kernel_size=(3, 3), stride=(1, 1), padding=(1, 1))\n",
      "            (nonlinearity): SiLU()\n",
      "          )\n",
      "        )\n",
      "        (downsamplers): ModuleList(\n",
      "          (0): Downsample2D(\n",
      "            (conv): Conv2d(64, 64, kernel_size=(3, 3), stride=(2, 2), padding=(1, 1))\n",
      "          )\n",
      "        )\n",
      "      )\n",
      "      (1): AttnDownBlock2D(\n",
      "        (attentions): ModuleList(\n",
      "          (0-1): 2 x Attention(\n",
      "            (group_norm): GroupNorm(32, 128, eps=1e-05, affine=True)\n",
      "            (to_q): Linear(in_features=128, out_features=128, bias=True)\n",
      "            (to_k): Linear(in_features=128, out_features=128, bias=True)\n",
      "            (to_v): Linear(in_features=128, out_features=128, bias=True)\n",
      "            (to_out): ModuleList(\n",
      "              (0): Linear(in_features=128, out_features=128, bias=True)\n",
      "              (1): Dropout(p=0.0, inplace=False)\n",
      "            )\n",
      "          )\n",
      "        )\n",
      "        (resnets): ModuleList(\n",
      "          (0): ResnetBlock2D(\n",
      "            (norm1): GroupNorm(32, 64, eps=1e-05, affine=True)\n",
      "            (conv1): Conv2d(64, 128, kernel_size=(3, 3), stride=(1, 1), padding=(1, 1))\n",
      "            (time_emb_proj): Linear(in_features=256, out_features=128, bias=True)\n",
      "            (norm2): GroupNorm(32, 128, eps=1e-05, affine=True)\n",
      "            (dropout): Dropout(p=0.0, inplace=False)\n",
      "            (conv2): Conv2d(128, 128, kernel_size=(3, 3), stride=(1, 1), padding=(1, 1))\n",
      "            (nonlinearity): SiLU()\n",
      "            (conv_shortcut): Conv2d(64, 128, kernel_size=(1, 1), stride=(1, 1))\n",
      "          )\n",
      "          (1): ResnetBlock2D(\n",
      "            (norm1): GroupNorm(32, 128, eps=1e-05, affine=True)\n",
      "            (conv1): Conv2d(128, 128, kernel_size=(3, 3), stride=(1, 1), padding=(1, 1))\n",
      "            (time_emb_proj): Linear(in_features=256, out_features=128, bias=True)\n",
      "            (norm2): GroupNorm(32, 128, eps=1e-05, affine=True)\n",
      "            (dropout): Dropout(p=0.0, inplace=False)\n",
      "            (conv2): Conv2d(128, 128, kernel_size=(3, 3), stride=(1, 1), padding=(1, 1))\n",
      "            (nonlinearity): SiLU()\n",
      "          )\n",
      "        )\n",
      "        (downsamplers): ModuleList(\n",
      "          (0): Downsample2D(\n",
      "            (conv): Conv2d(128, 128, kernel_size=(3, 3), stride=(2, 2), padding=(1, 1))\n",
      "          )\n",
      "        )\n",
      "      )\n",
      "      (2): AttnDownBlock2D(\n",
      "        (attentions): ModuleList(\n",
      "          (0-1): 2 x Attention(\n",
      "            (group_norm): GroupNorm(32, 256, eps=1e-05, affine=True)\n",
      "            (to_q): Linear(in_features=256, out_features=256, bias=True)\n",
      "            (to_k): Linear(in_features=256, out_features=256, bias=True)\n",
      "            (to_v): Linear(in_features=256, out_features=256, bias=True)\n",
      "            (to_out): ModuleList(\n",
      "              (0): Linear(in_features=256, out_features=256, bias=True)\n",
      "              (1): Dropout(p=0.0, inplace=False)\n",
      "            )\n",
      "          )\n",
      "        )\n",
      "        (resnets): ModuleList(\n",
      "          (0): ResnetBlock2D(\n",
      "            (norm1): GroupNorm(32, 128, eps=1e-05, affine=True)\n",
      "            (conv1): Conv2d(128, 256, kernel_size=(3, 3), stride=(1, 1), padding=(1, 1))\n",
      "            (time_emb_proj): Linear(in_features=256, out_features=256, bias=True)\n",
      "            (norm2): GroupNorm(32, 256, eps=1e-05, affine=True)\n",
      "            (dropout): Dropout(p=0.0, inplace=False)\n",
      "            (conv2): Conv2d(256, 256, kernel_size=(3, 3), stride=(1, 1), padding=(1, 1))\n",
      "            (nonlinearity): SiLU()\n",
      "            (conv_shortcut): Conv2d(128, 256, kernel_size=(1, 1), stride=(1, 1))\n",
      "          )\n",
      "          (1): ResnetBlock2D(\n",
      "            (norm1): GroupNorm(32, 256, eps=1e-05, affine=True)\n",
      "            (conv1): Conv2d(256, 256, kernel_size=(3, 3), stride=(1, 1), padding=(1, 1))\n",
      "            (time_emb_proj): Linear(in_features=256, out_features=256, bias=True)\n",
      "            (norm2): GroupNorm(32, 256, eps=1e-05, affine=True)\n",
      "            (dropout): Dropout(p=0.0, inplace=False)\n",
      "            (conv2): Conv2d(256, 256, kernel_size=(3, 3), stride=(1, 1), padding=(1, 1))\n",
      "            (nonlinearity): SiLU()\n",
      "          )\n",
      "        )\n",
      "      )\n",
      "    )\n",
      "    (up_blocks): ModuleList(\n",
      "      (0): AttnUpBlock2D(\n",
      "        (attentions): ModuleList(\n",
      "          (0-2): 3 x Attention(\n",
      "            (group_norm): GroupNorm(32, 256, eps=1e-05, affine=True)\n",
      "            (to_q): Linear(in_features=256, out_features=256, bias=True)\n",
      "            (to_k): Linear(in_features=256, out_features=256, bias=True)\n",
      "            (to_v): Linear(in_features=256, out_features=256, bias=True)\n",
      "            (to_out): ModuleList(\n",
      "              (0): Linear(in_features=256, out_features=256, bias=True)\n",
      "              (1): Dropout(p=0.0, inplace=False)\n",
      "            )\n",
      "          )\n",
      "        )\n",
      "        (resnets): ModuleList(\n",
      "          (0-1): 2 x ResnetBlock2D(\n",
      "            (norm1): GroupNorm(32, 512, eps=1e-05, affine=True)\n",
      "            (conv1): Conv2d(512, 256, kernel_size=(3, 3), stride=(1, 1), padding=(1, 1))\n",
      "            (time_emb_proj): Linear(in_features=256, out_features=256, bias=True)\n",
      "            (norm2): GroupNorm(32, 256, eps=1e-05, affine=True)\n",
      "            (dropout): Dropout(p=0.0, inplace=False)\n",
      "            (conv2): Conv2d(256, 256, kernel_size=(3, 3), stride=(1, 1), padding=(1, 1))\n",
      "            (nonlinearity): SiLU()\n",
      "            (conv_shortcut): Conv2d(512, 256, kernel_size=(1, 1), stride=(1, 1))\n",
      "          )\n",
      "          (2): ResnetBlock2D(\n",
      "            (norm1): GroupNorm(32, 384, eps=1e-05, affine=True)\n",
      "            (conv1): Conv2d(384, 256, kernel_size=(3, 3), stride=(1, 1), padding=(1, 1))\n",
      "            (time_emb_proj): Linear(in_features=256, out_features=256, bias=True)\n",
      "            (norm2): GroupNorm(32, 256, eps=1e-05, affine=True)\n",
      "            (dropout): Dropout(p=0.0, inplace=False)\n",
      "            (conv2): Conv2d(256, 256, kernel_size=(3, 3), stride=(1, 1), padding=(1, 1))\n",
      "            (nonlinearity): SiLU()\n",
      "            (conv_shortcut): Conv2d(384, 256, kernel_size=(1, 1), stride=(1, 1))\n",
      "          )\n",
      "        )\n",
      "        (upsamplers): ModuleList(\n",
      "          (0): Upsample2D(\n",
      "            (conv): Conv2d(256, 256, kernel_size=(3, 3), stride=(1, 1), padding=(1, 1))\n",
      "          )\n",
      "        )\n",
      "      )\n",
      "      (1): AttnUpBlock2D(\n",
      "        (attentions): ModuleList(\n",
      "          (0-2): 3 x Attention(\n",
      "            (group_norm): GroupNorm(32, 128, eps=1e-05, affine=True)\n",
      "            (to_q): Linear(in_features=128, out_features=128, bias=True)\n",
      "            (to_k): Linear(in_features=128, out_features=128, bias=True)\n",
      "            (to_v): Linear(in_features=128, out_features=128, bias=True)\n",
      "            (to_out): ModuleList(\n",
      "              (0): Linear(in_features=128, out_features=128, bias=True)\n",
      "              (1): Dropout(p=0.0, inplace=False)\n",
      "            )\n",
      "          )\n",
      "        )\n",
      "        (resnets): ModuleList(\n",
      "          (0): ResnetBlock2D(\n",
      "            (norm1): GroupNorm(32, 384, eps=1e-05, affine=True)\n",
      "            (conv1): Conv2d(384, 128, kernel_size=(3, 3), stride=(1, 1), padding=(1, 1))\n",
      "            (time_emb_proj): Linear(in_features=256, out_features=128, bias=True)\n",
      "            (norm2): GroupNorm(32, 128, eps=1e-05, affine=True)\n",
      "            (dropout): Dropout(p=0.0, inplace=False)\n",
      "            (conv2): Conv2d(128, 128, kernel_size=(3, 3), stride=(1, 1), padding=(1, 1))\n",
      "            (nonlinearity): SiLU()\n",
      "            (conv_shortcut): Conv2d(384, 128, kernel_size=(1, 1), stride=(1, 1))\n",
      "          )\n",
      "          (1): ResnetBlock2D(\n",
      "            (norm1): GroupNorm(32, 256, eps=1e-05, affine=True)\n",
      "            (conv1): Conv2d(256, 128, kernel_size=(3, 3), stride=(1, 1), padding=(1, 1))\n",
      "            (time_emb_proj): Linear(in_features=256, out_features=128, bias=True)\n",
      "            (norm2): GroupNorm(32, 128, eps=1e-05, affine=True)\n",
      "            (dropout): Dropout(p=0.0, inplace=False)\n",
      "            (conv2): Conv2d(128, 128, kernel_size=(3, 3), stride=(1, 1), padding=(1, 1))\n",
      "            (nonlinearity): SiLU()\n",
      "            (conv_shortcut): Conv2d(256, 128, kernel_size=(1, 1), stride=(1, 1))\n",
      "          )\n",
      "          (2): ResnetBlock2D(\n",
      "            (norm1): GroupNorm(32, 192, eps=1e-05, affine=True)\n",
      "            (conv1): Conv2d(192, 128, kernel_size=(3, 3), stride=(1, 1), padding=(1, 1))\n",
      "            (time_emb_proj): Linear(in_features=256, out_features=128, bias=True)\n",
      "            (norm2): GroupNorm(32, 128, eps=1e-05, affine=True)\n",
      "            (dropout): Dropout(p=0.0, inplace=False)\n",
      "            (conv2): Conv2d(128, 128, kernel_size=(3, 3), stride=(1, 1), padding=(1, 1))\n",
      "            (nonlinearity): SiLU()\n",
      "            (conv_shortcut): Conv2d(192, 128, kernel_size=(1, 1), stride=(1, 1))\n",
      "          )\n",
      "        )\n",
      "        (upsamplers): ModuleList(\n",
      "          (0): Upsample2D(\n",
      "            (conv): Conv2d(128, 128, kernel_size=(3, 3), stride=(1, 1), padding=(1, 1))\n",
      "          )\n",
      "        )\n",
      "      )\n",
      "      (2): UpBlock2D(\n",
      "        (resnets): ModuleList(\n",
      "          (0): ResnetBlock2D(\n",
      "            (norm1): GroupNorm(32, 192, eps=1e-05, affine=True)\n",
      "            (conv1): Conv2d(192, 64, kernel_size=(3, 3), stride=(1, 1), padding=(1, 1))\n",
      "            (time_emb_proj): Linear(in_features=256, out_features=64, bias=True)\n",
      "            (norm2): GroupNorm(32, 64, eps=1e-05, affine=True)\n",
      "            (dropout): Dropout(p=0.0, inplace=False)\n",
      "            (conv2): Conv2d(64, 64, kernel_size=(3, 3), stride=(1, 1), padding=(1, 1))\n",
      "            (nonlinearity): SiLU()\n",
      "            (conv_shortcut): Conv2d(192, 64, kernel_size=(1, 1), stride=(1, 1))\n",
      "          )\n",
      "          (1-2): 2 x ResnetBlock2D(\n",
      "            (norm1): GroupNorm(32, 128, eps=1e-05, affine=True)\n",
      "            (conv1): Conv2d(128, 64, kernel_size=(3, 3), stride=(1, 1), padding=(1, 1))\n",
      "            (time_emb_proj): Linear(in_features=256, out_features=64, bias=True)\n",
      "            (norm2): GroupNorm(32, 64, eps=1e-05, affine=True)\n",
      "            (dropout): Dropout(p=0.0, inplace=False)\n",
      "            (conv2): Conv2d(64, 64, kernel_size=(3, 3), stride=(1, 1), padding=(1, 1))\n",
      "            (nonlinearity): SiLU()\n",
      "            (conv_shortcut): Conv2d(128, 64, kernel_size=(1, 1), stride=(1, 1))\n",
      "          )\n",
      "        )\n",
      "      )\n",
      "    )\n",
      "    (mid_block): UNetMidBlock2DCrossAttn(\n",
      "      (attentions): ModuleList(\n",
      "        (0): Transformer2DModel(\n",
      "          (norm): GroupNorm(32, 256, eps=1e-06, affine=True)\n",
      "          (proj_in): Conv2d(256, 256, kernel_size=(1, 1), stride=(1, 1))\n",
      "          (transformer_blocks): ModuleList(\n",
      "            (0): BasicTransformerBlock(\n",
      "              (norm1): LayerNorm((256,), eps=1e-05, elementwise_affine=True)\n",
      "              (attn1): Attention(\n",
      "                (to_q): Linear(in_features=256, out_features=256, bias=False)\n",
      "                (to_k): Linear(in_features=256, out_features=256, bias=False)\n",
      "                (to_v): Linear(in_features=256, out_features=256, bias=False)\n",
      "                (to_out): ModuleList(\n",
      "                  (0): Linear(in_features=256, out_features=256, bias=True)\n",
      "                  (1): Dropout(p=0.0, inplace=False)\n",
      "                )\n",
      "              )\n",
      "              (norm2): LayerNorm((256,), eps=1e-05, elementwise_affine=True)\n",
      "              (attn2): Attention(\n",
      "                (to_q): Linear(in_features=256, out_features=256, bias=False)\n",
      "                (to_k): Linear(in_features=128, out_features=256, bias=False)\n",
      "                (to_v): Linear(in_features=128, out_features=256, bias=False)\n",
      "                (to_out): ModuleList(\n",
      "                  (0): Linear(in_features=256, out_features=256, bias=True)\n",
      "                  (1): Dropout(p=0.0, inplace=False)\n",
      "                )\n",
      "              )\n",
      "              (norm3): LayerNorm((256,), eps=1e-05, elementwise_affine=True)\n",
      "              (ff): FeedForward(\n",
      "                (net): ModuleList(\n",
      "                  (0): GEGLU(\n",
      "                    (proj): Linear(in_features=256, out_features=2048, bias=True)\n",
      "                  )\n",
      "                  (1): Dropout(p=0.0, inplace=False)\n",
      "                  (2): Linear(in_features=1024, out_features=256, bias=True)\n",
      "                )\n",
      "              )\n",
      "            )\n",
      "          )\n",
      "          (proj_out): Conv2d(256, 256, kernel_size=(1, 1), stride=(1, 1))\n",
      "        )\n",
      "      )\n",
      "      (resnets): ModuleList(\n",
      "        (0-1): 2 x ResnetBlock2D(\n",
      "          (norm1): GroupNorm(32, 256, eps=1e-05, affine=True)\n",
      "          (conv1): Conv2d(256, 256, kernel_size=(3, 3), stride=(1, 1), padding=(1, 1))\n",
      "          (time_emb_proj): Linear(in_features=256, out_features=256, bias=True)\n",
      "          (norm2): GroupNorm(32, 256, eps=1e-05, affine=True)\n",
      "          (dropout): Dropout(p=0.0, inplace=False)\n",
      "          (conv2): Conv2d(256, 256, kernel_size=(3, 3), stride=(1, 1), padding=(1, 1))\n",
      "          (nonlinearity): SiLU()\n",
      "        )\n",
      "      )\n",
      "    )\n",
      "    (conv_norm_out): GroupNorm(32, 64, eps=1e-05, affine=True)\n",
      "    (conv_act): SiLU()\n",
      "    (conv_out): Conv2d(64, 3, kernel_size=(3, 3), stride=(1, 1), padding=(1, 1))\n",
      "  )\n",
      "  (cond_embed): Sequential(\n",
      "    (0): Linear(in_features=2, out_features=128, bias=True)\n",
      "    (1): SiLU()\n",
      "    (2): Linear(in_features=128, out_features=128, bias=True)\n",
      "  )\n",
      ") of type <class '__main__.CustomConditionedUNet'> cannot be saved.\n"
     ]
    },
    {
     "name": "stdout",
     "output_type": "stream",
     "text": [
      "Saved  0.04832743793865666\n"
     ]
    },
    {
     "name": "stderr",
     "output_type": "stream",
     "text": [
      "Epoch 199: 100%|██████████| 15/15 [00:01<00:00, 14.33it/s, loss=0.00467, lr=7.17e-5, step=2999]\n",
      "Epoch 200: 100%|██████████| 15/15 [00:00<00:00, 15.68it/s, loss=0.00355, lr=7.14e-5, step=3014]"
     ]
    },
    {
     "name": "stdout",
     "output_type": "stream",
     "text": [
      "Saved  0.04810119323088026\n"
     ]
    },
    {
     "name": "stderr",
     "output_type": "stream",
     "text": [
      "Epoch 200: 100%|██████████| 15/15 [00:01<00:00, 14.67it/s, loss=0.00355, lr=7.14e-5, step=3014]\n"
     ]
    },
    {
     "name": "stdout",
     "output_type": "stream",
     "text": [
      "Saved  0.04787754530226197\n"
     ]
    },
    {
     "name": "stderr",
     "output_type": "stream",
     "text": [
      "Epoch 201: 100%|██████████| 15/15 [00:01<00:00, 14.56it/s, loss=0.00801, lr=7.11e-5, step=3029]\n",
      "Epoch 202: 100%|██████████| 15/15 [00:00<00:00, 15.90it/s, loss=0.0296, lr=7.08e-5, step=3044] "
     ]
    },
    {
     "name": "stdout",
     "output_type": "stream",
     "text": [
      "Saved  0.047670294421767796\n"
     ]
    },
    {
     "name": "stderr",
     "output_type": "stream",
     "text": [
      "Epoch 202: 100%|██████████| 15/15 [00:01<00:00, 14.72it/s, loss=0.0296, lr=7.08e-5, step=3044]\n"
     ]
    },
    {
     "name": "stdout",
     "output_type": "stream",
     "text": [
      "Saved  0.04745815858359789\n"
     ]
    },
    {
     "name": "stderr",
     "output_type": "stream",
     "text": [
      "Epoch 203: 100%|██████████| 15/15 [00:01<00:00, 14.36it/s, loss=0.00381, lr=7.05e-5, step=3059]\n",
      "Epoch 204: 100%|██████████| 15/15 [00:00<00:00, 15.44it/s, loss=0.00315, lr=7.02e-5, step=3074]"
     ]
    },
    {
     "name": "stdout",
     "output_type": "stream",
     "text": [
      "Saved  0.04725042235121373\n"
     ]
    },
    {
     "name": "stderr",
     "output_type": "stream",
     "text": [
      "Epoch 204: 100%|██████████| 15/15 [00:01<00:00, 14.55it/s, loss=0.00315, lr=7.02e-5, step=3074]\n"
     ]
    },
    {
     "name": "stdout",
     "output_type": "stream",
     "text": [
      "Saved  0.04704279708920927\n"
     ]
    },
    {
     "name": "stderr",
     "output_type": "stream",
     "text": [
      "Epoch 205: 100%|██████████| 15/15 [00:01<00:00, 14.49it/s, loss=0.00234, lr=6.99e-5, step=3089]\n",
      "Epoch 206: 100%|██████████| 15/15 [00:00<00:00, 15.57it/s, loss=0.00968, lr=6.95e-5, step=3104]"
     ]
    },
    {
     "name": "stdout",
     "output_type": "stream",
     "text": [
      "Saved  0.04684163989358988\n"
     ]
    },
    {
     "name": "stderr",
     "output_type": "stream",
     "text": [
      "Epoch 206: 100%|██████████| 15/15 [00:01<00:00, 14.42it/s, loss=0.00968, lr=6.95e-5, step=3104]\n"
     ]
    },
    {
     "name": "stdout",
     "output_type": "stream",
     "text": [
      "Saved  0.04663228868668785\n"
     ]
    },
    {
     "name": "stderr",
     "output_type": "stream",
     "text": [
      "Epoch 207: 100%|██████████| 15/15 [00:01<00:00, 14.04it/s, loss=0.00262, lr=6.92e-5, step=3119]\n",
      "Epoch 208: 100%|██████████| 15/15 [00:01<00:00, 14.57it/s, loss=0.00242, lr=6.89e-5, step=3134]"
     ]
    },
    {
     "name": "stdout",
     "output_type": "stream",
     "text": [
      "Saved  0.04642050465193103\n"
     ]
    },
    {
     "name": "stderr",
     "output_type": "stream",
     "text": [
      "Epoch 208: 100%|██████████| 15/15 [00:01<00:00, 13.73it/s, loss=0.00242, lr=6.89e-5, step=3134]\n"
     ]
    },
    {
     "name": "stdout",
     "output_type": "stream",
     "text": [
      "Saved  0.04621430150126033\n"
     ]
    },
    {
     "name": "stderr",
     "output_type": "stream",
     "text": [
      "Epoch 209: 100%|██████████| 15/15 [00:01<00:00, 14.11it/s, loss=0.00409, lr=6.86e-5, step=3149]\n",
      "Epoch 210: 100%|██████████| 15/15 [00:00<00:00, 15.26it/s, loss=0.00237, lr=6.83e-5, step=3164]"
     ]
    },
    {
     "name": "stdout",
     "output_type": "stream",
     "text": [
      "Saved  0.04601291761999158\n"
     ]
    },
    {
     "name": "stderr",
     "output_type": "stream",
     "text": [
      "Epoch 210: 100%|██████████| 15/15 [00:01<00:00, 14.23it/s, loss=0.00237, lr=6.83e-5, step=3164]\n"
     ]
    },
    {
     "name": "stdout",
     "output_type": "stream",
     "text": [
      "Saved  0.045819326337615804\n"
     ]
    },
    {
     "name": "stderr",
     "output_type": "stream",
     "text": [
      "Epoch 211: 100%|██████████| 15/15 [00:01<00:00, 14.12it/s, loss=0.00322, lr=6.8e-5, step=3179]\n",
      "Epoch 212: 100%|██████████| 15/15 [00:00<00:00, 15.37it/s, loss=0.00169, lr=6.77e-5, step=3194]"
     ]
    },
    {
     "name": "stdout",
     "output_type": "stream",
     "text": [
      "Saved  0.04561843502893461\n"
     ]
    },
    {
     "name": "stderr",
     "output_type": "stream",
     "text": [
      "Epoch 212: 100%|██████████| 15/15 [00:01<00:00, 14.30it/s, loss=0.00169, lr=6.77e-5, step=3194]\n"
     ]
    },
    {
     "name": "stdout",
     "output_type": "stream",
     "text": [
      "Saved  0.04542242107210054\n"
     ]
    },
    {
     "name": "stderr",
     "output_type": "stream",
     "text": [
      "Epoch 213: 100%|██████████| 15/15 [00:01<00:00, 14.28it/s, loss=0.00598, lr=6.74e-5, step=3209]\n",
      "Epoch 214: 100%|██████████| 15/15 [00:00<00:00, 15.42it/s, loss=0.00174, lr=6.7e-5, step=3224] "
     ]
    },
    {
     "name": "stdout",
     "output_type": "stream",
     "text": [
      "Saved  0.045230001840531074\n"
     ]
    },
    {
     "name": "stderr",
     "output_type": "stream",
     "text": [
      "Epoch 214: 100%|██████████| 15/15 [00:01<00:00, 14.23it/s, loss=0.00174, lr=6.7e-5, step=3224]\n"
     ]
    },
    {
     "name": "stdout",
     "output_type": "stream",
     "text": [
      "Saved  0.04504154859197665\n"
     ]
    },
    {
     "name": "stderr",
     "output_type": "stream",
     "text": [
      "Epoch 215: 100%|██████████| 15/15 [00:01<00:00, 14.08it/s, loss=0.00625, lr=6.67e-5, step=3239]\n",
      "Epoch 216: 100%|██████████| 15/15 [00:00<00:00, 15.57it/s, loss=0.00811, lr=6.64e-5, step=3254]"
     ]
    },
    {
     "name": "stdout",
     "output_type": "stream",
     "text": [
      "Saved  0.0448533028278703\n"
     ]
    },
    {
     "name": "stderr",
     "output_type": "stream",
     "text": [
      "Epoch 216: 100%|██████████| 15/15 [00:01<00:00, 14.40it/s, loss=0.00811, lr=6.64e-5, step=3254]\n"
     ]
    },
    {
     "name": "stdout",
     "output_type": "stream",
     "text": [
      "Saved  0.04466704948358836\n"
     ]
    },
    {
     "name": "stderr",
     "output_type": "stream",
     "text": [
      "Epoch 217: 100%|██████████| 15/15 [00:01<00:00, 13.96it/s, loss=0.00522, lr=6.61e-5, step=3269]\n",
      "Epoch 218: 100%|██████████| 15/15 [00:00<00:00, 15.63it/s, loss=0.00378, lr=6.58e-5, step=3284]"
     ]
    },
    {
     "name": "stdout",
     "output_type": "stream",
     "text": [
      "Saved  0.044504277570608326\n"
     ]
    },
    {
     "name": "stderr",
     "output_type": "stream",
     "text": [
      "Epoch 218: 100%|██████████| 15/15 [00:01<00:00, 14.45it/s, loss=0.00378, lr=6.58e-5, step=3284]\n"
     ]
    },
    {
     "name": "stdout",
     "output_type": "stream",
     "text": [
      "Saved  0.04432028180873727\n"
     ]
    },
    {
     "name": "stderr",
     "output_type": "stream",
     "text": [
      "Epoch 219: 100%|██████████| 15/15 [00:01<00:00, 14.24it/s, loss=0.00206, lr=6.55e-5, step=3299]\n",
      "Epoch 220: 100%|██████████| 15/15 [00:00<00:00, 15.30it/s, loss=0.00209, lr=6.51e-5, step=3314]"
     ]
    },
    {
     "name": "stdout",
     "output_type": "stream",
     "text": [
      "Saved  0.04413199799622059\n"
     ]
    },
    {
     "name": "stderr",
     "output_type": "stream",
     "text": [
      "Epoch 220: 100%|██████████| 15/15 [00:01<00:00, 14.37it/s, loss=0.00209, lr=6.51e-5, step=3314]\n"
     ]
    },
    {
     "name": "stdout",
     "output_type": "stream",
     "text": [
      "Saved  0.04394527328111142\n"
     ]
    },
    {
     "name": "stderr",
     "output_type": "stream",
     "text": [
      "Epoch 221: 100%|██████████| 15/15 [00:01<00:00, 14.27it/s, loss=0.00354, lr=6.48e-5, step=3329]\n",
      "Epoch 222: 100%|██████████| 15/15 [00:00<00:00, 15.19it/s, loss=0.00315, lr=6.45e-5, step=3344]"
     ]
    },
    {
     "name": "stdout",
     "output_type": "stream",
     "text": [
      "Saved  0.04375866623584916\n"
     ]
    },
    {
     "name": "stderr",
     "output_type": "stream",
     "text": [
      "Epoch 222: 100%|██████████| 15/15 [00:01<00:00, 14.32it/s, loss=0.00315, lr=6.45e-5, step=3344]\n"
     ]
    },
    {
     "name": "stdout",
     "output_type": "stream",
     "text": [
      "Saved  0.043579051425435215\n"
     ]
    },
    {
     "name": "stderr",
     "output_type": "stream",
     "text": [
      "Epoch 223: 100%|██████████| 15/15 [00:01<00:00, 13.85it/s, loss=0.00325, lr=6.42e-5, step=3359]\n",
      "Epoch 224: 100%|██████████| 15/15 [00:00<00:00, 15.33it/s, loss=0.00159, lr=6.38e-5, step=3374]"
     ]
    },
    {
     "name": "stdout",
     "output_type": "stream",
     "text": [
      "Saved  0.0434052045447062\n"
     ]
    },
    {
     "name": "stderr",
     "output_type": "stream",
     "text": [
      "Epoch 224: 100%|██████████| 15/15 [00:01<00:00, 14.28it/s, loss=0.00159, lr=6.38e-5, step=3374]\n"
     ]
    },
    {
     "name": "stdout",
     "output_type": "stream",
     "text": [
      "Saved  0.04322979276008069\n"
     ]
    },
    {
     "name": "stderr",
     "output_type": "stream",
     "text": [
      "Epoch 225: 100%|██████████| 15/15 [00:01<00:00, 14.09it/s, loss=0.00218, lr=6.35e-5, step=3389]\n",
      "Epoch 226: 100%|██████████| 15/15 [00:00<00:00, 15.44it/s, loss=0.00346, lr=6.32e-5, step=3404]"
     ]
    },
    {
     "name": "stdout",
     "output_type": "stream",
     "text": [
      "Saved  0.043070744283746236\n"
     ]
    },
    {
     "name": "stderr",
     "output_type": "stream",
     "text": [
      "Epoch 226: 100%|██████████| 15/15 [00:01<00:00, 14.23it/s, loss=0.00346, lr=6.32e-5, step=3404]\n"
     ]
    },
    {
     "name": "stdout",
     "output_type": "stream",
     "text": [
      "Saved  0.04289829279908813\n"
     ]
    },
    {
     "name": "stderr",
     "output_type": "stream",
     "text": [
      "Epoch 227: 100%|██████████| 15/15 [00:01<00:00, 14.02it/s, loss=0.00285, lr=6.29e-5, step=3419]\n",
      "Epoch 228: 100%|██████████| 15/15 [00:00<00:00, 15.27it/s, loss=0.00196, lr=6.25e-5, step=3434]"
     ]
    },
    {
     "name": "stdout",
     "output_type": "stream",
     "text": [
      "Saved  0.042724840578540424\n"
     ]
    },
    {
     "name": "stderr",
     "output_type": "stream",
     "text": [
      "Epoch 228: 100%|██████████| 15/15 [00:01<00:00, 14.17it/s, loss=0.00196, lr=6.25e-5, step=3434]\n"
     ]
    },
    {
     "name": "stdout",
     "output_type": "stream",
     "text": [
      "Saved  0.04255130830740529\n"
     ]
    },
    {
     "name": "stderr",
     "output_type": "stream",
     "text": [
      "Epoch 229: 100%|██████████| 15/15 [00:01<00:00, 14.00it/s, loss=0.00315, lr=6.22e-5, step=3449]\n",
      "Epoch 230: 100%|██████████| 15/15 [00:00<00:00, 15.37it/s, loss=0.00162, lr=6.19e-5, step=3464]"
     ]
    },
    {
     "name": "stdout",
     "output_type": "stream",
     "text": [
      "Saved  0.04238231606888323\n"
     ]
    },
    {
     "name": "stderr",
     "output_type": "stream",
     "text": [
      "Epoch 230: 100%|██████████| 15/15 [00:01<00:00, 14.35it/s, loss=0.00162, lr=6.19e-5, step=3464]\n"
     ]
    },
    {
     "name": "stdout",
     "output_type": "stream",
     "text": [
      "Saved  0.042213638165421064\n"
     ]
    },
    {
     "name": "stderr",
     "output_type": "stream",
     "text": [
      "Epoch 231: 100%|██████████| 15/15 [00:01<00:00, 13.77it/s, loss=0.00199, lr=6.16e-5, step=3479]\n",
      "Epoch 232: 100%|██████████| 15/15 [00:00<00:00, 15.17it/s, loss=0.00652, lr=6.12e-5, step=3494]"
     ]
    },
    {
     "name": "stdout",
     "output_type": "stream",
     "text": [
      "Saved  0.042058957950878245\n"
     ]
    },
    {
     "name": "stderr",
     "output_type": "stream",
     "text": [
      "Epoch 232: 100%|██████████| 15/15 [00:01<00:00, 14.22it/s, loss=0.00652, lr=6.12e-5, step=3494]\n"
     ]
    },
    {
     "name": "stdout",
     "output_type": "stream",
     "text": [
      "Saved  0.0419005914894397\n"
     ]
    },
    {
     "name": "stderr",
     "output_type": "stream",
     "text": [
      "Epoch 233: 100%|██████████| 15/15 [00:01<00:00, 14.22it/s, loss=0.0023, lr=6.09e-5, step=3509]\n",
      "Epoch 234: 100%|██████████| 15/15 [00:00<00:00, 15.35it/s, loss=0.00226, lr=6.06e-5, step=3524]"
     ]
    },
    {
     "name": "stdout",
     "output_type": "stream",
     "text": [
      "Saved  0.04175732891204113\n"
     ]
    },
    {
     "name": "stderr",
     "output_type": "stream",
     "text": [
      "Epoch 234: 100%|██████████| 15/15 [00:01<00:00, 14.26it/s, loss=0.00226, lr=6.06e-5, step=3524]\n"
     ]
    },
    {
     "name": "stdout",
     "output_type": "stream",
     "text": [
      "Saved  0.04160353746452621\n"
     ]
    },
    {
     "name": "stderr",
     "output_type": "stream",
     "text": [
      "Epoch 235: 100%|██████████| 15/15 [00:01<00:00, 14.38it/s, loss=0.00368, lr=6.02e-5, step=3539]\n",
      "Epoch 236: 100%|██████████| 15/15 [00:00<00:00, 15.68it/s, loss=0.00319, lr=5.99e-5, step=3554]"
     ]
    },
    {
     "name": "stdout",
     "output_type": "stream",
     "text": [
      "Saved  0.04144093470363688\n"
     ]
    },
    {
     "name": "stderr",
     "output_type": "stream",
     "text": [
      "Epoch 236: 100%|██████████| 15/15 [00:01<00:00, 14.61it/s, loss=0.00319, lr=5.99e-5, step=3554]\n"
     ]
    },
    {
     "name": "stdout",
     "output_type": "stream",
     "text": [
      "Saved  0.04127993166426468\n"
     ]
    },
    {
     "name": "stderr",
     "output_type": "stream",
     "text": [
      "Epoch 237: 100%|██████████| 15/15 [00:01<00:00, 14.29it/s, loss=0.00345, lr=5.96e-5, step=3569]\n",
      "Epoch 238: 100%|██████████| 15/15 [00:00<00:00, 15.61it/s, loss=0.00242, lr=5.93e-5, step=3584]"
     ]
    },
    {
     "name": "stdout",
     "output_type": "stream",
     "text": [
      "Saved  0.04111975487951589\n"
     ]
    },
    {
     "name": "stderr",
     "output_type": "stream",
     "text": [
      "Epoch 238: 100%|██████████| 15/15 [00:01<00:00, 14.55it/s, loss=0.00242, lr=5.93e-5, step=3584]\n"
     ]
    },
    {
     "name": "stdout",
     "output_type": "stream",
     "text": [
      "Saved  0.04096360861847643\n"
     ]
    },
    {
     "name": "stderr",
     "output_type": "stream",
     "text": [
      "Epoch 239: 100%|██████████| 15/15 [00:01<00:00, 13.72it/s, loss=0.00268, lr=5.89e-5, step=3599]\n",
      "Epoch 240: 100%|██████████| 15/15 [00:00<00:00, 15.73it/s, loss=0.00174, lr=5.86e-5, step=3614]"
     ]
    },
    {
     "name": "stdout",
     "output_type": "stream",
     "text": [
      "Saved  0.040804993233129506\n"
     ]
    },
    {
     "name": "stderr",
     "output_type": "stream",
     "text": [
      "Epoch 240: 100%|██████████| 15/15 [00:01<00:00, 14.65it/s, loss=0.00174, lr=5.86e-5, step=3614]\n"
     ]
    },
    {
     "name": "stdout",
     "output_type": "stream",
     "text": [
      "Saved  0.04064516326231041\n"
     ]
    },
    {
     "name": "stderr",
     "output_type": "stream",
     "text": [
      "Epoch 241: 100%|██████████| 15/15 [00:01<00:00, 14.40it/s, loss=0.00218, lr=5.83e-5, step=3629]\n",
      "Epoch 242: 100%|██████████| 15/15 [00:00<00:00, 15.81it/s, loss=0.00242, lr=5.79e-5, step=3644]"
     ]
    },
    {
     "name": "stdout",
     "output_type": "stream",
     "text": [
      "Saved  0.04049656660662036\n"
     ]
    },
    {
     "name": "stderr",
     "output_type": "stream",
     "text": [
      "Epoch 242: 100%|██████████| 15/15 [00:01<00:00, 14.74it/s, loss=0.00242, lr=5.79e-5, step=3644]\n"
     ]
    },
    {
     "name": "stdout",
     "output_type": "stream",
     "text": [
      "Saved  0.04034349454428156\n"
     ]
    },
    {
     "name": "stderr",
     "output_type": "stream",
     "text": [
      "Epoch 243: 100%|██████████| 15/15 [00:01<00:00, 14.37it/s, loss=0.00152, lr=5.76e-5, step=3659]\n",
      "Epoch 244: 100%|██████████| 15/15 [00:00<00:00, 15.63it/s, loss=0.00318, lr=5.73e-5, step=3674]"
     ]
    },
    {
     "name": "stdout",
     "output_type": "stream",
     "text": [
      "Saved  0.040192201835686205\n"
     ]
    },
    {
     "name": "stderr",
     "output_type": "stream",
     "text": [
      "Epoch 244: 100%|██████████| 15/15 [00:01<00:00, 14.51it/s, loss=0.00318, lr=5.73e-5, step=3674]\n"
     ]
    },
    {
     "name": "stdout",
     "output_type": "stream",
     "text": [
      "Saved  0.04005811014379877\n"
     ]
    },
    {
     "name": "stderr",
     "output_type": "stream",
     "text": [
      "Epoch 245: 100%|██████████| 15/15 [00:01<00:00, 14.11it/s, loss=0.00386, lr=5.69e-5, step=3689]\n",
      "Epoch 246: 100%|██████████| 15/15 [00:00<00:00, 15.93it/s, loss=0.00459, lr=5.66e-5, step=3704]"
     ]
    },
    {
     "name": "stdout",
     "output_type": "stream",
     "text": [
      "Saved  0.03992357866159249\n"
     ]
    },
    {
     "name": "stderr",
     "output_type": "stream",
     "text": [
      "Epoch 246: 100%|██████████| 15/15 [00:01<00:00, 14.79it/s, loss=0.00459, lr=5.66e-5, step=3704]\n"
     ]
    },
    {
     "name": "stdout",
     "output_type": "stream",
     "text": [
      "Saved  0.03977773593953355\n"
     ]
    },
    {
     "name": "stderr",
     "output_type": "stream",
     "text": [
      "Epoch 247: 100%|██████████| 15/15 [00:01<00:00, 14.28it/s, loss=0.0031, lr=5.63e-5, step=3719]\n",
      "Epoch 248: 100%|██████████| 15/15 [00:00<00:00, 15.67it/s, loss=0.00364, lr=5.59e-5, step=3734]"
     ]
    },
    {
     "name": "stdout",
     "output_type": "stream",
     "text": [
      "Saved  0.039629865182847925\n"
     ]
    },
    {
     "name": "stderr",
     "output_type": "stream",
     "text": [
      "Epoch 248: 100%|██████████| 15/15 [00:01<00:00, 14.54it/s, loss=0.00364, lr=5.59e-5, step=3734]\n",
      "self.unet=CustomConditionedUNet(\n",
      "  (unet): UNet2DConditionModel(\n",
      "    (conv_in): Conv2d(3, 64, kernel_size=(3, 3), stride=(1, 1), padding=(1, 1))\n",
      "    (time_proj): Timesteps()\n",
      "    (time_embedding): TimestepEmbedding(\n",
      "      (linear_1): Linear(in_features=64, out_features=256, bias=True)\n",
      "      (act): SiLU()\n",
      "      (linear_2): Linear(in_features=256, out_features=256, bias=True)\n",
      "    )\n",
      "    (down_blocks): ModuleList(\n",
      "      (0): DownBlock2D(\n",
      "        (resnets): ModuleList(\n",
      "          (0-1): 2 x ResnetBlock2D(\n",
      "            (norm1): GroupNorm(32, 64, eps=1e-05, affine=True)\n",
      "            (conv1): Conv2d(64, 64, kernel_size=(3, 3), stride=(1, 1), padding=(1, 1))\n",
      "            (time_emb_proj): Linear(in_features=256, out_features=64, bias=True)\n",
      "            (norm2): GroupNorm(32, 64, eps=1e-05, affine=True)\n",
      "            (dropout): Dropout(p=0.0, inplace=False)\n",
      "            (conv2): Conv2d(64, 64, kernel_size=(3, 3), stride=(1, 1), padding=(1, 1))\n",
      "            (nonlinearity): SiLU()\n",
      "          )\n",
      "        )\n",
      "        (downsamplers): ModuleList(\n",
      "          (0): Downsample2D(\n",
      "            (conv): Conv2d(64, 64, kernel_size=(3, 3), stride=(2, 2), padding=(1, 1))\n",
      "          )\n",
      "        )\n",
      "      )\n",
      "      (1): AttnDownBlock2D(\n",
      "        (attentions): ModuleList(\n",
      "          (0-1): 2 x Attention(\n",
      "            (group_norm): GroupNorm(32, 128, eps=1e-05, affine=True)\n",
      "            (to_q): Linear(in_features=128, out_features=128, bias=True)\n",
      "            (to_k): Linear(in_features=128, out_features=128, bias=True)\n",
      "            (to_v): Linear(in_features=128, out_features=128, bias=True)\n",
      "            (to_out): ModuleList(\n",
      "              (0): Linear(in_features=128, out_features=128, bias=True)\n",
      "              (1): Dropout(p=0.0, inplace=False)\n",
      "            )\n",
      "          )\n",
      "        )\n",
      "        (resnets): ModuleList(\n",
      "          (0): ResnetBlock2D(\n",
      "            (norm1): GroupNorm(32, 64, eps=1e-05, affine=True)\n",
      "            (conv1): Conv2d(64, 128, kernel_size=(3, 3), stride=(1, 1), padding=(1, 1))\n",
      "            (time_emb_proj): Linear(in_features=256, out_features=128, bias=True)\n",
      "            (norm2): GroupNorm(32, 128, eps=1e-05, affine=True)\n",
      "            (dropout): Dropout(p=0.0, inplace=False)\n",
      "            (conv2): Conv2d(128, 128, kernel_size=(3, 3), stride=(1, 1), padding=(1, 1))\n",
      "            (nonlinearity): SiLU()\n",
      "            (conv_shortcut): Conv2d(64, 128, kernel_size=(1, 1), stride=(1, 1))\n",
      "          )\n",
      "          (1): ResnetBlock2D(\n",
      "            (norm1): GroupNorm(32, 128, eps=1e-05, affine=True)\n",
      "            (conv1): Conv2d(128, 128, kernel_size=(3, 3), stride=(1, 1), padding=(1, 1))\n",
      "            (time_emb_proj): Linear(in_features=256, out_features=128, bias=True)\n",
      "            (norm2): GroupNorm(32, 128, eps=1e-05, affine=True)\n",
      "            (dropout): Dropout(p=0.0, inplace=False)\n",
      "            (conv2): Conv2d(128, 128, kernel_size=(3, 3), stride=(1, 1), padding=(1, 1))\n",
      "            (nonlinearity): SiLU()\n",
      "          )\n",
      "        )\n",
      "        (downsamplers): ModuleList(\n",
      "          (0): Downsample2D(\n",
      "            (conv): Conv2d(128, 128, kernel_size=(3, 3), stride=(2, 2), padding=(1, 1))\n",
      "          )\n",
      "        )\n",
      "      )\n",
      "      (2): AttnDownBlock2D(\n",
      "        (attentions): ModuleList(\n",
      "          (0-1): 2 x Attention(\n",
      "            (group_norm): GroupNorm(32, 256, eps=1e-05, affine=True)\n",
      "            (to_q): Linear(in_features=256, out_features=256, bias=True)\n",
      "            (to_k): Linear(in_features=256, out_features=256, bias=True)\n",
      "            (to_v): Linear(in_features=256, out_features=256, bias=True)\n",
      "            (to_out): ModuleList(\n",
      "              (0): Linear(in_features=256, out_features=256, bias=True)\n",
      "              (1): Dropout(p=0.0, inplace=False)\n",
      "            )\n",
      "          )\n",
      "        )\n",
      "        (resnets): ModuleList(\n",
      "          (0): ResnetBlock2D(\n",
      "            (norm1): GroupNorm(32, 128, eps=1e-05, affine=True)\n",
      "            (conv1): Conv2d(128, 256, kernel_size=(3, 3), stride=(1, 1), padding=(1, 1))\n",
      "            (time_emb_proj): Linear(in_features=256, out_features=256, bias=True)\n",
      "            (norm2): GroupNorm(32, 256, eps=1e-05, affine=True)\n",
      "            (dropout): Dropout(p=0.0, inplace=False)\n",
      "            (conv2): Conv2d(256, 256, kernel_size=(3, 3), stride=(1, 1), padding=(1, 1))\n",
      "            (nonlinearity): SiLU()\n",
      "            (conv_shortcut): Conv2d(128, 256, kernel_size=(1, 1), stride=(1, 1))\n",
      "          )\n",
      "          (1): ResnetBlock2D(\n",
      "            (norm1): GroupNorm(32, 256, eps=1e-05, affine=True)\n",
      "            (conv1): Conv2d(256, 256, kernel_size=(3, 3), stride=(1, 1), padding=(1, 1))\n",
      "            (time_emb_proj): Linear(in_features=256, out_features=256, bias=True)\n",
      "            (norm2): GroupNorm(32, 256, eps=1e-05, affine=True)\n",
      "            (dropout): Dropout(p=0.0, inplace=False)\n",
      "            (conv2): Conv2d(256, 256, kernel_size=(3, 3), stride=(1, 1), padding=(1, 1))\n",
      "            (nonlinearity): SiLU()\n",
      "          )\n",
      "        )\n",
      "      )\n",
      "    )\n",
      "    (up_blocks): ModuleList(\n",
      "      (0): AttnUpBlock2D(\n",
      "        (attentions): ModuleList(\n",
      "          (0-2): 3 x Attention(\n",
      "            (group_norm): GroupNorm(32, 256, eps=1e-05, affine=True)\n",
      "            (to_q): Linear(in_features=256, out_features=256, bias=True)\n",
      "            (to_k): Linear(in_features=256, out_features=256, bias=True)\n",
      "            (to_v): Linear(in_features=256, out_features=256, bias=True)\n",
      "            (to_out): ModuleList(\n",
      "              (0): Linear(in_features=256, out_features=256, bias=True)\n",
      "              (1): Dropout(p=0.0, inplace=False)\n",
      "            )\n",
      "          )\n",
      "        )\n",
      "        (resnets): ModuleList(\n",
      "          (0-1): 2 x ResnetBlock2D(\n",
      "            (norm1): GroupNorm(32, 512, eps=1e-05, affine=True)\n",
      "            (conv1): Conv2d(512, 256, kernel_size=(3, 3), stride=(1, 1), padding=(1, 1))\n",
      "            (time_emb_proj): Linear(in_features=256, out_features=256, bias=True)\n",
      "            (norm2): GroupNorm(32, 256, eps=1e-05, affine=True)\n",
      "            (dropout): Dropout(p=0.0, inplace=False)\n",
      "            (conv2): Conv2d(256, 256, kernel_size=(3, 3), stride=(1, 1), padding=(1, 1))\n",
      "            (nonlinearity): SiLU()\n",
      "            (conv_shortcut): Conv2d(512, 256, kernel_size=(1, 1), stride=(1, 1))\n",
      "          )\n",
      "          (2): ResnetBlock2D(\n",
      "            (norm1): GroupNorm(32, 384, eps=1e-05, affine=True)\n",
      "            (conv1): Conv2d(384, 256, kernel_size=(3, 3), stride=(1, 1), padding=(1, 1))\n",
      "            (time_emb_proj): Linear(in_features=256, out_features=256, bias=True)\n",
      "            (norm2): GroupNorm(32, 256, eps=1e-05, affine=True)\n",
      "            (dropout): Dropout(p=0.0, inplace=False)\n",
      "            (conv2): Conv2d(256, 256, kernel_size=(3, 3), stride=(1, 1), padding=(1, 1))\n",
      "            (nonlinearity): SiLU()\n",
      "            (conv_shortcut): Conv2d(384, 256, kernel_size=(1, 1), stride=(1, 1))\n",
      "          )\n",
      "        )\n",
      "        (upsamplers): ModuleList(\n",
      "          (0): Upsample2D(\n",
      "            (conv): Conv2d(256, 256, kernel_size=(3, 3), stride=(1, 1), padding=(1, 1))\n",
      "          )\n",
      "        )\n",
      "      )\n",
      "      (1): AttnUpBlock2D(\n",
      "        (attentions): ModuleList(\n",
      "          (0-2): 3 x Attention(\n",
      "            (group_norm): GroupNorm(32, 128, eps=1e-05, affine=True)\n",
      "            (to_q): Linear(in_features=128, out_features=128, bias=True)\n",
      "            (to_k): Linear(in_features=128, out_features=128, bias=True)\n",
      "            (to_v): Linear(in_features=128, out_features=128, bias=True)\n",
      "            (to_out): ModuleList(\n",
      "              (0): Linear(in_features=128, out_features=128, bias=True)\n",
      "              (1): Dropout(p=0.0, inplace=False)\n",
      "            )\n",
      "          )\n",
      "        )\n",
      "        (resnets): ModuleList(\n",
      "          (0): ResnetBlock2D(\n",
      "            (norm1): GroupNorm(32, 384, eps=1e-05, affine=True)\n",
      "            (conv1): Conv2d(384, 128, kernel_size=(3, 3), stride=(1, 1), padding=(1, 1))\n",
      "            (time_emb_proj): Linear(in_features=256, out_features=128, bias=True)\n",
      "            (norm2): GroupNorm(32, 128, eps=1e-05, affine=True)\n",
      "            (dropout): Dropout(p=0.0, inplace=False)\n",
      "            (conv2): Conv2d(128, 128, kernel_size=(3, 3), stride=(1, 1), padding=(1, 1))\n",
      "            (nonlinearity): SiLU()\n",
      "            (conv_shortcut): Conv2d(384, 128, kernel_size=(1, 1), stride=(1, 1))\n",
      "          )\n",
      "          (1): ResnetBlock2D(\n",
      "            (norm1): GroupNorm(32, 256, eps=1e-05, affine=True)\n",
      "            (conv1): Conv2d(256, 128, kernel_size=(3, 3), stride=(1, 1), padding=(1, 1))\n",
      "            (time_emb_proj): Linear(in_features=256, out_features=128, bias=True)\n",
      "            (norm2): GroupNorm(32, 128, eps=1e-05, affine=True)\n",
      "            (dropout): Dropout(p=0.0, inplace=False)\n",
      "            (conv2): Conv2d(128, 128, kernel_size=(3, 3), stride=(1, 1), padding=(1, 1))\n",
      "            (nonlinearity): SiLU()\n",
      "            (conv_shortcut): Conv2d(256, 128, kernel_size=(1, 1), stride=(1, 1))\n",
      "          )\n",
      "          (2): ResnetBlock2D(\n",
      "            (norm1): GroupNorm(32, 192, eps=1e-05, affine=True)\n",
      "            (conv1): Conv2d(192, 128, kernel_size=(3, 3), stride=(1, 1), padding=(1, 1))\n",
      "            (time_emb_proj): Linear(in_features=256, out_features=128, bias=True)\n",
      "            (norm2): GroupNorm(32, 128, eps=1e-05, affine=True)\n",
      "            (dropout): Dropout(p=0.0, inplace=False)\n",
      "            (conv2): Conv2d(128, 128, kernel_size=(3, 3), stride=(1, 1), padding=(1, 1))\n",
      "            (nonlinearity): SiLU()\n",
      "            (conv_shortcut): Conv2d(192, 128, kernel_size=(1, 1), stride=(1, 1))\n",
      "          )\n",
      "        )\n",
      "        (upsamplers): ModuleList(\n",
      "          (0): Upsample2D(\n",
      "            (conv): Conv2d(128, 128, kernel_size=(3, 3), stride=(1, 1), padding=(1, 1))\n",
      "          )\n",
      "        )\n",
      "      )\n",
      "      (2): UpBlock2D(\n",
      "        (resnets): ModuleList(\n",
      "          (0): ResnetBlock2D(\n",
      "            (norm1): GroupNorm(32, 192, eps=1e-05, affine=True)\n",
      "            (conv1): Conv2d(192, 64, kernel_size=(3, 3), stride=(1, 1), padding=(1, 1))\n",
      "            (time_emb_proj): Linear(in_features=256, out_features=64, bias=True)\n",
      "            (norm2): GroupNorm(32, 64, eps=1e-05, affine=True)\n",
      "            (dropout): Dropout(p=0.0, inplace=False)\n",
      "            (conv2): Conv2d(64, 64, kernel_size=(3, 3), stride=(1, 1), padding=(1, 1))\n",
      "            (nonlinearity): SiLU()\n",
      "            (conv_shortcut): Conv2d(192, 64, kernel_size=(1, 1), stride=(1, 1))\n",
      "          )\n",
      "          (1-2): 2 x ResnetBlock2D(\n",
      "            (norm1): GroupNorm(32, 128, eps=1e-05, affine=True)\n",
      "            (conv1): Conv2d(128, 64, kernel_size=(3, 3), stride=(1, 1), padding=(1, 1))\n",
      "            (time_emb_proj): Linear(in_features=256, out_features=64, bias=True)\n",
      "            (norm2): GroupNorm(32, 64, eps=1e-05, affine=True)\n",
      "            (dropout): Dropout(p=0.0, inplace=False)\n",
      "            (conv2): Conv2d(64, 64, kernel_size=(3, 3), stride=(1, 1), padding=(1, 1))\n",
      "            (nonlinearity): SiLU()\n",
      "            (conv_shortcut): Conv2d(128, 64, kernel_size=(1, 1), stride=(1, 1))\n",
      "          )\n",
      "        )\n",
      "      )\n",
      "    )\n",
      "    (mid_block): UNetMidBlock2DCrossAttn(\n",
      "      (attentions): ModuleList(\n",
      "        (0): Transformer2DModel(\n",
      "          (norm): GroupNorm(32, 256, eps=1e-06, affine=True)\n",
      "          (proj_in): Conv2d(256, 256, kernel_size=(1, 1), stride=(1, 1))\n",
      "          (transformer_blocks): ModuleList(\n",
      "            (0): BasicTransformerBlock(\n",
      "              (norm1): LayerNorm((256,), eps=1e-05, elementwise_affine=True)\n",
      "              (attn1): Attention(\n",
      "                (to_q): Linear(in_features=256, out_features=256, bias=False)\n",
      "                (to_k): Linear(in_features=256, out_features=256, bias=False)\n",
      "                (to_v): Linear(in_features=256, out_features=256, bias=False)\n",
      "                (to_out): ModuleList(\n",
      "                  (0): Linear(in_features=256, out_features=256, bias=True)\n",
      "                  (1): Dropout(p=0.0, inplace=False)\n",
      "                )\n",
      "              )\n",
      "              (norm2): LayerNorm((256,), eps=1e-05, elementwise_affine=True)\n",
      "              (attn2): Attention(\n",
      "                (to_q): Linear(in_features=256, out_features=256, bias=False)\n",
      "                (to_k): Linear(in_features=128, out_features=256, bias=False)\n",
      "                (to_v): Linear(in_features=128, out_features=256, bias=False)\n",
      "                (to_out): ModuleList(\n",
      "                  (0): Linear(in_features=256, out_features=256, bias=True)\n",
      "                  (1): Dropout(p=0.0, inplace=False)\n",
      "                )\n",
      "              )\n",
      "              (norm3): LayerNorm((256,), eps=1e-05, elementwise_affine=True)\n",
      "              (ff): FeedForward(\n",
      "                (net): ModuleList(\n",
      "                  (0): GEGLU(\n",
      "                    (proj): Linear(in_features=256, out_features=2048, bias=True)\n",
      "                  )\n",
      "                  (1): Dropout(p=0.0, inplace=False)\n",
      "                  (2): Linear(in_features=1024, out_features=256, bias=True)\n",
      "                )\n",
      "              )\n",
      "            )\n",
      "          )\n",
      "          (proj_out): Conv2d(256, 256, kernel_size=(1, 1), stride=(1, 1))\n",
      "        )\n",
      "      )\n",
      "      (resnets): ModuleList(\n",
      "        (0-1): 2 x ResnetBlock2D(\n",
      "          (norm1): GroupNorm(32, 256, eps=1e-05, affine=True)\n",
      "          (conv1): Conv2d(256, 256, kernel_size=(3, 3), stride=(1, 1), padding=(1, 1))\n",
      "          (time_emb_proj): Linear(in_features=256, out_features=256, bias=True)\n",
      "          (norm2): GroupNorm(32, 256, eps=1e-05, affine=True)\n",
      "          (dropout): Dropout(p=0.0, inplace=False)\n",
      "          (conv2): Conv2d(256, 256, kernel_size=(3, 3), stride=(1, 1), padding=(1, 1))\n",
      "          (nonlinearity): SiLU()\n",
      "        )\n",
      "      )\n",
      "    )\n",
      "    (conv_norm_out): GroupNorm(32, 64, eps=1e-05, affine=True)\n",
      "    (conv_act): SiLU()\n",
      "    (conv_out): Conv2d(64, 3, kernel_size=(3, 3), stride=(1, 1), padding=(1, 1))\n",
      "  )\n",
      "  (cond_embed): Sequential(\n",
      "    (0): Linear(in_features=2, out_features=128, bias=True)\n",
      "    (1): SiLU()\n",
      "    (2): Linear(in_features=128, out_features=128, bias=True)\n",
      "  )\n",
      ") of type <class '__main__.CustomConditionedUNet'> cannot be saved.\n"
     ]
    },
    {
     "name": "stdout",
     "output_type": "stream",
     "text": [
      "Saved  0.039488223258095485\n"
     ]
    },
    {
     "name": "stderr",
     "output_type": "stream",
     "text": [
      "Epoch 249: 100%|██████████| 15/15 [00:01<00:00, 14.37it/s, loss=0.00238, lr=5.56e-5, step=3749]\n",
      "Epoch 250: 100%|██████████| 15/15 [00:00<00:00, 15.35it/s, loss=0.00226, lr=5.53e-5, step=3764]"
     ]
    },
    {
     "name": "stdout",
     "output_type": "stream",
     "text": [
      "Saved  0.03934276401829642\n"
     ]
    },
    {
     "name": "stderr",
     "output_type": "stream",
     "text": [
      "Epoch 250: 100%|██████████| 15/15 [00:01<00:00, 14.36it/s, loss=0.00226, lr=5.53e-5, step=3764]\n"
     ]
    },
    {
     "name": "stdout",
     "output_type": "stream",
     "text": [
      "Saved  0.03919768975339288\n"
     ]
    },
    {
     "name": "stderr",
     "output_type": "stream",
     "text": [
      "Epoch 251: 100%|██████████| 15/15 [00:01<00:00, 14.21it/s, loss=0.00204, lr=5.49e-5, step=3779]\n",
      "Epoch 252: 100%|██████████| 15/15 [00:00<00:00, 15.69it/s, loss=0.00214, lr=5.46e-5, step=3794]"
     ]
    },
    {
     "name": "stdout",
     "output_type": "stream",
     "text": [
      "Saved  0.03905195120721442\n"
     ]
    },
    {
     "name": "stderr",
     "output_type": "stream",
     "text": [
      "Epoch 252: 100%|██████████| 15/15 [00:01<00:00, 14.61it/s, loss=0.00214, lr=5.46e-5, step=3794]\n"
     ]
    },
    {
     "name": "stdout",
     "output_type": "stream",
     "text": [
      "Saved  0.038909203522127324\n"
     ]
    },
    {
     "name": "stderr",
     "output_type": "stream",
     "text": [
      "Epoch 253: 100%|██████████| 15/15 [00:01<00:00, 14.13it/s, loss=0.00274, lr=5.43e-5, step=3809]\n",
      "Epoch 254: 100%|██████████| 15/15 [00:00<00:00, 15.39it/s, loss=0.00203, lr=5.39e-5, step=3824]"
     ]
    },
    {
     "name": "stdout",
     "output_type": "stream",
     "text": [
      "Saved  0.03876708242123082\n"
     ]
    },
    {
     "name": "stderr",
     "output_type": "stream",
     "text": [
      "Epoch 254: 100%|██████████| 15/15 [00:01<00:00, 14.53it/s, loss=0.00203, lr=5.39e-5, step=3824]\n"
     ]
    },
    {
     "name": "stdout",
     "output_type": "stream",
     "text": [
      "Saved  0.03862932057942695\n"
     ]
    },
    {
     "name": "stderr",
     "output_type": "stream",
     "text": [
      "Epoch 255: 100%|██████████| 15/15 [00:01<00:00, 13.84it/s, loss=0.0016, lr=5.36e-5, step=3839]\n",
      "Epoch 256: 100%|██████████| 15/15 [00:00<00:00, 15.60it/s, loss=0.00182, lr=5.33e-5, step=3854]"
     ]
    },
    {
     "name": "stdout",
     "output_type": "stream",
     "text": [
      "Saved  0.038488042955625024\n"
     ]
    },
    {
     "name": "stderr",
     "output_type": "stream",
     "text": [
      "Epoch 256: 100%|██████████| 15/15 [00:01<00:00, 14.61it/s, loss=0.00182, lr=5.33e-5, step=3854]\n"
     ]
    },
    {
     "name": "stdout",
     "output_type": "stream",
     "text": [
      "Saved  0.0383516931322461\n"
     ]
    },
    {
     "name": "stderr",
     "output_type": "stream",
     "text": [
      "Epoch 257: 100%|██████████| 15/15 [00:01<00:00, 14.30it/s, loss=0.00425, lr=5.29e-5, step=3869]\n",
      "Epoch 258: 100%|██████████| 15/15 [00:00<00:00, 15.15it/s, loss=0.0017, lr=5.26e-5, step=3884] "
     ]
    },
    {
     "name": "stdout",
     "output_type": "stream",
     "text": [
      "Saved  0.038213918068292795\n"
     ]
    },
    {
     "name": "stderr",
     "output_type": "stream",
     "text": [
      "Epoch 258: 100%|██████████| 15/15 [00:01<00:00, 14.37it/s, loss=0.0017, lr=5.26e-5, step=3884]\n"
     ]
    },
    {
     "name": "stdout",
     "output_type": "stream",
     "text": [
      "Saved  0.038079186864883804\n"
     ]
    },
    {
     "name": "stderr",
     "output_type": "stream",
     "text": [
      "Epoch 259: 100%|██████████| 15/15 [00:01<00:00, 14.49it/s, loss=0.00196, lr=5.22e-5, step=3899]\n",
      "Epoch 260: 100%|██████████| 15/15 [00:00<00:00, 15.57it/s, loss=0.00189, lr=5.19e-5, step=3914]"
     ]
    },
    {
     "name": "stdout",
     "output_type": "stream",
     "text": [
      "Saved  0.037948249584886976\n"
     ]
    },
    {
     "name": "stderr",
     "output_type": "stream",
     "text": [
      "Epoch 260: 100%|██████████| 15/15 [00:01<00:00, 14.37it/s, loss=0.00189, lr=5.19e-5, step=3914]\n"
     ]
    },
    {
     "name": "stdout",
     "output_type": "stream",
     "text": [
      "Saved  0.03781494530813612\n"
     ]
    },
    {
     "name": "stderr",
     "output_type": "stream",
     "text": [
      "Epoch 261: 100%|██████████| 15/15 [00:01<00:00, 14.37it/s, loss=0.00747, lr=5.16e-5, step=3929]\n",
      "Epoch 262: 100%|██████████| 15/15 [00:00<00:00, 15.66it/s, loss=0.0032, lr=5.12e-5, step=3944] "
     ]
    },
    {
     "name": "stdout",
     "output_type": "stream",
     "text": [
      "Saved  0.037689876549845354\n"
     ]
    },
    {
     "name": "stderr",
     "output_type": "stream",
     "text": [
      "Epoch 262: 100%|██████████| 15/15 [00:01<00:00, 14.55it/s, loss=0.0032, lr=5.12e-5, step=3944]\n"
     ]
    },
    {
     "name": "stdout",
     "output_type": "stream",
     "text": [
      "Saved  0.03756715801672074\n"
     ]
    },
    {
     "name": "stderr",
     "output_type": "stream",
     "text": [
      "Epoch 263: 100%|██████████| 15/15 [00:01<00:00, 14.43it/s, loss=0.00186, lr=5.09e-5, step=3959]\n",
      "Epoch 264: 100%|██████████| 15/15 [00:00<00:00, 15.43it/s, loss=0.00205, lr=5.06e-5, step=3974]"
     ]
    },
    {
     "name": "stdout",
     "output_type": "stream",
     "text": [
      "Saved  0.03745238303997606\n"
     ]
    },
    {
     "name": "stderr",
     "output_type": "stream",
     "text": [
      "Epoch 264: 100%|██████████| 15/15 [00:01<00:00, 14.38it/s, loss=0.00205, lr=5.06e-5, step=3974]\n"
     ]
    },
    {
     "name": "stdout",
     "output_type": "stream",
     "text": [
      "Saved  0.037324559813561406\n"
     ]
    },
    {
     "name": "stderr",
     "output_type": "stream",
     "text": [
      "Epoch 265: 100%|██████████| 15/15 [00:01<00:00, 13.97it/s, loss=0.0025, lr=5.02e-5, step=3989]\n",
      "Epoch 266: 100%|██████████| 15/15 [00:00<00:00, 15.41it/s, loss=0.00158, lr=4.99e-5, step=4004]"
     ]
    },
    {
     "name": "stdout",
     "output_type": "stream",
     "text": [
      "Saved  0.03719427151522354\n"
     ]
    },
    {
     "name": "stderr",
     "output_type": "stream",
     "text": [
      "Epoch 266: 100%|██████████| 15/15 [00:01<00:00, 13.52it/s, loss=0.00158, lr=4.99e-5, step=4004]\n"
     ]
    },
    {
     "name": "stdout",
     "output_type": "stream",
     "text": [
      "Saved  0.03706458915585063\n"
     ]
    },
    {
     "name": "stderr",
     "output_type": "stream",
     "text": [
      "Epoch 267: 100%|██████████| 15/15 [00:01<00:00, 14.15it/s, loss=0.0023, lr=4.96e-5, step=4019]\n",
      "Epoch 268: 100%|██████████| 15/15 [00:00<00:00, 15.44it/s, loss=0.00123, lr=4.92e-5, step=4034]"
     ]
    },
    {
     "name": "stdout",
     "output_type": "stream",
     "text": [
      "Saved  0.036935870441096884\n"
     ]
    },
    {
     "name": "stderr",
     "output_type": "stream",
     "text": [
      "Epoch 268: 100%|██████████| 15/15 [00:01<00:00, 14.38it/s, loss=0.00123, lr=4.92e-5, step=4034]\n"
     ]
    },
    {
     "name": "stdout",
     "output_type": "stream",
     "text": [
      "Saved  0.0368061997976591\n"
     ]
    },
    {
     "name": "stderr",
     "output_type": "stream",
     "text": [
      "Epoch 269: 100%|██████████| 15/15 [00:01<00:00, 14.07it/s, loss=0.00215, lr=4.89e-5, step=4049]\n",
      "Epoch 270: 100%|██████████| 15/15 [00:00<00:00, 15.18it/s, loss=0.00184, lr=4.85e-5, step=4064]"
     ]
    },
    {
     "name": "stdout",
     "output_type": "stream",
     "text": [
      "Saved  0.03668209294488409\n"
     ]
    },
    {
     "name": "stderr",
     "output_type": "stream",
     "text": [
      "Epoch 270: 100%|██████████| 15/15 [00:01<00:00, 14.22it/s, loss=0.00184, lr=4.85e-5, step=4064]\n"
     ]
    },
    {
     "name": "stdout",
     "output_type": "stream",
     "text": [
      "Saved  0.03655569240346428\n"
     ]
    },
    {
     "name": "stderr",
     "output_type": "stream",
     "text": [
      "Epoch 271: 100%|██████████| 15/15 [00:01<00:00, 13.98it/s, loss=0.00222, lr=4.82e-5, step=4079]\n",
      "Epoch 272: 100%|██████████| 15/15 [00:00<00:00, 15.13it/s, loss=0.0076, lr=4.79e-5, step=4094] "
     ]
    },
    {
     "name": "stdout",
     "output_type": "stream",
     "text": [
      "Saved  0.03643303540340819\n"
     ]
    },
    {
     "name": "stderr",
     "output_type": "stream",
     "text": [
      "Epoch 272: 100%|██████████| 15/15 [00:01<00:00, 14.32it/s, loss=0.0076, lr=4.79e-5, step=4094]\n"
     ]
    },
    {
     "name": "stdout",
     "output_type": "stream",
     "text": [
      "Saved  0.03632993629619189\n"
     ]
    },
    {
     "name": "stderr",
     "output_type": "stream",
     "text": [
      "Epoch 273: 100%|██████████| 15/15 [00:01<00:00, 14.19it/s, loss=0.049, lr=4.75e-5, step=4109]\n",
      "Epoch 274: 100%|██████████| 15/15 [00:00<00:00, 15.31it/s, loss=0.019, lr=4.72e-5, step=4124]  "
     ]
    },
    {
     "name": "stdout",
     "output_type": "stream",
     "text": [
      "Saved  0.036224991902257454\n"
     ]
    },
    {
     "name": "stderr",
     "output_type": "stream",
     "text": [
      "Epoch 274: 100%|██████████| 15/15 [00:01<00:00, 14.38it/s, loss=0.019, lr=4.72e-5, step=4124]\n"
     ]
    },
    {
     "name": "stdout",
     "output_type": "stream",
     "text": [
      "Saved  0.03610763438231568\n"
     ]
    },
    {
     "name": "stderr",
     "output_type": "stream",
     "text": [
      "Epoch 275: 100%|██████████| 15/15 [00:01<00:00, 13.77it/s, loss=0.00245, lr=4.69e-5, step=4139]\n",
      "Epoch 276: 100%|██████████| 15/15 [00:00<00:00, 15.22it/s, loss=0.0028, lr=4.65e-5, step=4154] "
     ]
    },
    {
     "name": "stdout",
     "output_type": "stream",
     "text": [
      "Saved  0.03599733117027556\n"
     ]
    },
    {
     "name": "stderr",
     "output_type": "stream",
     "text": [
      "Epoch 276: 100%|██████████| 15/15 [00:01<00:00, 14.18it/s, loss=0.0028, lr=4.65e-5, step=4154]\n"
     ]
    },
    {
     "name": "stdout",
     "output_type": "stream",
     "text": [
      "Saved  0.03588183980071649\n"
     ]
    },
    {
     "name": "stderr",
     "output_type": "stream",
     "text": [
      "Epoch 277: 100%|██████████| 15/15 [00:01<00:00, 14.16it/s, loss=0.00989, lr=4.62e-5, step=4169]\n",
      "Epoch 278: 100%|██████████| 15/15 [00:00<00:00, 15.38it/s, loss=0.00196, lr=4.59e-5, step=4184]"
     ]
    },
    {
     "name": "stdout",
     "output_type": "stream",
     "text": [
      "Saved  0.03576701218223371\n"
     ]
    },
    {
     "name": "stderr",
     "output_type": "stream",
     "text": [
      "Epoch 278: 100%|██████████| 15/15 [00:01<00:00, 14.43it/s, loss=0.00196, lr=4.59e-5, step=4184]\n"
     ]
    },
    {
     "name": "stdout",
     "output_type": "stream",
     "text": [
      "Saved  0.035649285072604904\n"
     ]
    },
    {
     "name": "stderr",
     "output_type": "stream",
     "text": [
      "Epoch 279: 100%|██████████| 15/15 [00:01<00:00, 13.84it/s, loss=0.00185, lr=4.55e-5, step=4199]\n",
      "Epoch 280: 100%|██████████| 15/15 [00:00<00:00, 15.39it/s, loss=0.00187, lr=4.52e-5, step=4214]"
     ]
    },
    {
     "name": "stdout",
     "output_type": "stream",
     "text": [
      "Saved  0.035531047291414035\n"
     ]
    },
    {
     "name": "stderr",
     "output_type": "stream",
     "text": [
      "Epoch 280: 100%|██████████| 15/15 [00:01<00:00, 14.34it/s, loss=0.00187, lr=4.52e-5, step=4214]\n"
     ]
    },
    {
     "name": "stdout",
     "output_type": "stream",
     "text": [
      "Saved  0.03541460105649528\n"
     ]
    },
    {
     "name": "stderr",
     "output_type": "stream",
     "text": [
      "Epoch 281: 100%|██████████| 15/15 [00:01<00:00, 14.17it/s, loss=0.00155, lr=4.48e-5, step=4229]\n",
      "Epoch 282: 100%|██████████| 15/15 [00:00<00:00, 15.52it/s, loss=0.00165, lr=4.45e-5, step=4244]"
     ]
    },
    {
     "name": "stdout",
     "output_type": "stream",
     "text": [
      "Saved  0.03529654739935223\n"
     ]
    },
    {
     "name": "stderr",
     "output_type": "stream",
     "text": [
      "Epoch 282: 100%|██████████| 15/15 [00:01<00:00, 14.44it/s, loss=0.00165, lr=4.45e-5, step=4244]\n"
     ]
    },
    {
     "name": "stdout",
     "output_type": "stream",
     "text": [
      "Saved  0.03518244968546869\n"
     ]
    },
    {
     "name": "stderr",
     "output_type": "stream",
     "text": [
      "Epoch 283: 100%|██████████| 15/15 [00:01<00:00, 14.15it/s, loss=0.00295, lr=4.42e-5, step=4259]\n",
      "Epoch 284: 100%|██████████| 15/15 [00:01<00:00, 15.06it/s, loss=0.00165, lr=4.38e-5, step=4274]"
     ]
    },
    {
     "name": "stdout",
     "output_type": "stream",
     "text": [
      "Saved  0.03506611658614238\n"
     ]
    },
    {
     "name": "stderr",
     "output_type": "stream",
     "text": [
      "Epoch 284: 100%|██████████| 15/15 [00:01<00:00, 13.96it/s, loss=0.00165, lr=4.38e-5, step=4274]\n"
     ]
    },
    {
     "name": "stdout",
     "output_type": "stream",
     "text": [
      "Saved  0.034951989760183856\n"
     ]
    },
    {
     "name": "stderr",
     "output_type": "stream",
     "text": [
      "Epoch 285: 100%|██████████| 15/15 [00:01<00:00, 14.31it/s, loss=0.00165, lr=4.35e-5, step=4289]\n",
      "Epoch 286: 100%|██████████| 15/15 [00:00<00:00, 15.45it/s, loss=0.00173, lr=4.32e-5, step=4304]"
     ]
    },
    {
     "name": "stdout",
     "output_type": "stream",
     "text": [
      "Saved  0.03483709780760023\n"
     ]
    },
    {
     "name": "stderr",
     "output_type": "stream",
     "text": [
      "Epoch 286: 100%|██████████| 15/15 [00:01<00:00, 14.09it/s, loss=0.00173, lr=4.32e-5, step=4304]\n"
     ]
    },
    {
     "name": "stdout",
     "output_type": "stream",
     "text": [
      "Saved  0.03472693882550057\n"
     ]
    },
    {
     "name": "stderr",
     "output_type": "stream",
     "text": [
      "Epoch 287: 100%|██████████| 15/15 [00:01<00:00, 14.04it/s, loss=0.00999, lr=4.28e-5, step=4319]\n",
      "Epoch 288: 100%|██████████| 15/15 [00:00<00:00, 15.22it/s, loss=0.00229, lr=4.25e-5, step=4334]"
     ]
    },
    {
     "name": "stdout",
     "output_type": "stream",
     "text": [
      "Saved  0.03462054779164433\n"
     ]
    },
    {
     "name": "stderr",
     "output_type": "stream",
     "text": [
      "Epoch 288: 100%|██████████| 15/15 [00:01<00:00, 14.33it/s, loss=0.00229, lr=4.25e-5, step=4334]\n"
     ]
    },
    {
     "name": "stdout",
     "output_type": "stream",
     "text": [
      "Saved  0.03451258314313131\n"
     ]
    },
    {
     "name": "stderr",
     "output_type": "stream",
     "text": [
      "Epoch 289: 100%|██████████| 15/15 [00:01<00:00, 14.02it/s, loss=0.00342, lr=4.22e-5, step=4349]\n",
      "Epoch 290: 100%|██████████| 15/15 [00:00<00:00, 15.33it/s, loss=0.00133, lr=4.18e-5, step=4364]"
     ]
    },
    {
     "name": "stdout",
     "output_type": "stream",
     "text": [
      "Saved  0.03440246346896303\n"
     ]
    },
    {
     "name": "stderr",
     "output_type": "stream",
     "text": [
      "Epoch 290: 100%|██████████| 15/15 [00:01<00:00, 14.25it/s, loss=0.00133, lr=4.18e-5, step=4364]\n"
     ]
    },
    {
     "name": "stdout",
     "output_type": "stream",
     "text": [
      "Saved  0.03429122309572038\n"
     ]
    },
    {
     "name": "stderr",
     "output_type": "stream",
     "text": [
      "Epoch 291: 100%|██████████| 15/15 [00:01<00:00, 14.08it/s, loss=0.00142, lr=4.15e-5, step=4379]\n",
      "Epoch 292: 100%|██████████| 15/15 [00:00<00:00, 14.96it/s, loss=0.00138, lr=4.12e-5, step=4394]"
     ]
    },
    {
     "name": "stdout",
     "output_type": "stream",
     "text": [
      "Saved  0.034181243504595706\n"
     ]
    },
    {
     "name": "stderr",
     "output_type": "stream",
     "text": [
      "Epoch 292: 100%|██████████| 15/15 [00:01<00:00, 14.11it/s, loss=0.00138, lr=4.12e-5, step=4394]\n"
     ]
    },
    {
     "name": "stdout",
     "output_type": "stream",
     "text": [
      "Saved  0.03407192055034069\n"
     ]
    },
    {
     "name": "stderr",
     "output_type": "stream",
     "text": [
      "Epoch 293: 100%|██████████| 15/15 [00:01<00:00, 13.71it/s, loss=0.00276, lr=4.09e-5, step=4409]\n",
      "Epoch 294: 100%|██████████| 15/15 [00:00<00:00, 15.25it/s, loss=0.00176, lr=4.05e-5, step=4424]"
     ]
    },
    {
     "name": "stdout",
     "output_type": "stream",
     "text": [
      "Saved  0.033964877861899216\n"
     ]
    },
    {
     "name": "stderr",
     "output_type": "stream",
     "text": [
      "Epoch 294: 100%|██████████| 15/15 [00:01<00:00, 14.19it/s, loss=0.00176, lr=4.05e-5, step=4424]\n"
     ]
    },
    {
     "name": "stdout",
     "output_type": "stream",
     "text": [
      "Saved  0.03387023377361254\n"
     ]
    },
    {
     "name": "stderr",
     "output_type": "stream",
     "text": [
      "Epoch 295: 100%|██████████| 15/15 [00:01<00:00, 13.81it/s, loss=0.011, lr=4.02e-5, step=4439]\n",
      "Epoch 296: 100%|██████████| 15/15 [00:00<00:00, 15.15it/s, loss=0.00141, lr=3.99e-5, step=4454]"
     ]
    },
    {
     "name": "stdout",
     "output_type": "stream",
     "text": [
      "Saved  0.03377254815366094\n"
     ]
    },
    {
     "name": "stderr",
     "output_type": "stream",
     "text": [
      "Epoch 296: 100%|██████████| 15/15 [00:01<00:00, 13.83it/s, loss=0.00141, lr=3.99e-5, step=4454]\n"
     ]
    },
    {
     "name": "stdout",
     "output_type": "stream",
     "text": [
      "Saved  0.03367146255914122\n"
     ]
    },
    {
     "name": "stderr",
     "output_type": "stream",
     "text": [
      "Epoch 297: 100%|██████████| 15/15 [00:01<00:00, 13.92it/s, loss=0.00189, lr=3.95e-5, step=4469]\n",
      "Epoch 298: 100%|██████████| 15/15 [00:00<00:00, 15.48it/s, loss=0.00138, lr=3.92e-5, step=4484]"
     ]
    },
    {
     "name": "stdout",
     "output_type": "stream",
     "text": [
      "Saved  0.03356529179466795\n"
     ]
    },
    {
     "name": "stderr",
     "output_type": "stream",
     "text": [
      "Epoch 298: 100%|██████████| 15/15 [00:01<00:00, 14.39it/s, loss=0.00138, lr=3.92e-5, step=4484]\n",
      "self.unet=CustomConditionedUNet(\n",
      "  (unet): UNet2DConditionModel(\n",
      "    (conv_in): Conv2d(3, 64, kernel_size=(3, 3), stride=(1, 1), padding=(1, 1))\n",
      "    (time_proj): Timesteps()\n",
      "    (time_embedding): TimestepEmbedding(\n",
      "      (linear_1): Linear(in_features=64, out_features=256, bias=True)\n",
      "      (act): SiLU()\n",
      "      (linear_2): Linear(in_features=256, out_features=256, bias=True)\n",
      "    )\n",
      "    (down_blocks): ModuleList(\n",
      "      (0): DownBlock2D(\n",
      "        (resnets): ModuleList(\n",
      "          (0-1): 2 x ResnetBlock2D(\n",
      "            (norm1): GroupNorm(32, 64, eps=1e-05, affine=True)\n",
      "            (conv1): Conv2d(64, 64, kernel_size=(3, 3), stride=(1, 1), padding=(1, 1))\n",
      "            (time_emb_proj): Linear(in_features=256, out_features=64, bias=True)\n",
      "            (norm2): GroupNorm(32, 64, eps=1e-05, affine=True)\n",
      "            (dropout): Dropout(p=0.0, inplace=False)\n",
      "            (conv2): Conv2d(64, 64, kernel_size=(3, 3), stride=(1, 1), padding=(1, 1))\n",
      "            (nonlinearity): SiLU()\n",
      "          )\n",
      "        )\n",
      "        (downsamplers): ModuleList(\n",
      "          (0): Downsample2D(\n",
      "            (conv): Conv2d(64, 64, kernel_size=(3, 3), stride=(2, 2), padding=(1, 1))\n",
      "          )\n",
      "        )\n",
      "      )\n",
      "      (1): AttnDownBlock2D(\n",
      "        (attentions): ModuleList(\n",
      "          (0-1): 2 x Attention(\n",
      "            (group_norm): GroupNorm(32, 128, eps=1e-05, affine=True)\n",
      "            (to_q): Linear(in_features=128, out_features=128, bias=True)\n",
      "            (to_k): Linear(in_features=128, out_features=128, bias=True)\n",
      "            (to_v): Linear(in_features=128, out_features=128, bias=True)\n",
      "            (to_out): ModuleList(\n",
      "              (0): Linear(in_features=128, out_features=128, bias=True)\n",
      "              (1): Dropout(p=0.0, inplace=False)\n",
      "            )\n",
      "          )\n",
      "        )\n",
      "        (resnets): ModuleList(\n",
      "          (0): ResnetBlock2D(\n",
      "            (norm1): GroupNorm(32, 64, eps=1e-05, affine=True)\n",
      "            (conv1): Conv2d(64, 128, kernel_size=(3, 3), stride=(1, 1), padding=(1, 1))\n",
      "            (time_emb_proj): Linear(in_features=256, out_features=128, bias=True)\n",
      "            (norm2): GroupNorm(32, 128, eps=1e-05, affine=True)\n",
      "            (dropout): Dropout(p=0.0, inplace=False)\n",
      "            (conv2): Conv2d(128, 128, kernel_size=(3, 3), stride=(1, 1), padding=(1, 1))\n",
      "            (nonlinearity): SiLU()\n",
      "            (conv_shortcut): Conv2d(64, 128, kernel_size=(1, 1), stride=(1, 1))\n",
      "          )\n",
      "          (1): ResnetBlock2D(\n",
      "            (norm1): GroupNorm(32, 128, eps=1e-05, affine=True)\n",
      "            (conv1): Conv2d(128, 128, kernel_size=(3, 3), stride=(1, 1), padding=(1, 1))\n",
      "            (time_emb_proj): Linear(in_features=256, out_features=128, bias=True)\n",
      "            (norm2): GroupNorm(32, 128, eps=1e-05, affine=True)\n",
      "            (dropout): Dropout(p=0.0, inplace=False)\n",
      "            (conv2): Conv2d(128, 128, kernel_size=(3, 3), stride=(1, 1), padding=(1, 1))\n",
      "            (nonlinearity): SiLU()\n",
      "          )\n",
      "        )\n",
      "        (downsamplers): ModuleList(\n",
      "          (0): Downsample2D(\n",
      "            (conv): Conv2d(128, 128, kernel_size=(3, 3), stride=(2, 2), padding=(1, 1))\n",
      "          )\n",
      "        )\n",
      "      )\n",
      "      (2): AttnDownBlock2D(\n",
      "        (attentions): ModuleList(\n",
      "          (0-1): 2 x Attention(\n",
      "            (group_norm): GroupNorm(32, 256, eps=1e-05, affine=True)\n",
      "            (to_q): Linear(in_features=256, out_features=256, bias=True)\n",
      "            (to_k): Linear(in_features=256, out_features=256, bias=True)\n",
      "            (to_v): Linear(in_features=256, out_features=256, bias=True)\n",
      "            (to_out): ModuleList(\n",
      "              (0): Linear(in_features=256, out_features=256, bias=True)\n",
      "              (1): Dropout(p=0.0, inplace=False)\n",
      "            )\n",
      "          )\n",
      "        )\n",
      "        (resnets): ModuleList(\n",
      "          (0): ResnetBlock2D(\n",
      "            (norm1): GroupNorm(32, 128, eps=1e-05, affine=True)\n",
      "            (conv1): Conv2d(128, 256, kernel_size=(3, 3), stride=(1, 1), padding=(1, 1))\n",
      "            (time_emb_proj): Linear(in_features=256, out_features=256, bias=True)\n",
      "            (norm2): GroupNorm(32, 256, eps=1e-05, affine=True)\n",
      "            (dropout): Dropout(p=0.0, inplace=False)\n",
      "            (conv2): Conv2d(256, 256, kernel_size=(3, 3), stride=(1, 1), padding=(1, 1))\n",
      "            (nonlinearity): SiLU()\n",
      "            (conv_shortcut): Conv2d(128, 256, kernel_size=(1, 1), stride=(1, 1))\n",
      "          )\n",
      "          (1): ResnetBlock2D(\n",
      "            (norm1): GroupNorm(32, 256, eps=1e-05, affine=True)\n",
      "            (conv1): Conv2d(256, 256, kernel_size=(3, 3), stride=(1, 1), padding=(1, 1))\n",
      "            (time_emb_proj): Linear(in_features=256, out_features=256, bias=True)\n",
      "            (norm2): GroupNorm(32, 256, eps=1e-05, affine=True)\n",
      "            (dropout): Dropout(p=0.0, inplace=False)\n",
      "            (conv2): Conv2d(256, 256, kernel_size=(3, 3), stride=(1, 1), padding=(1, 1))\n",
      "            (nonlinearity): SiLU()\n",
      "          )\n",
      "        )\n",
      "      )\n",
      "    )\n",
      "    (up_blocks): ModuleList(\n",
      "      (0): AttnUpBlock2D(\n",
      "        (attentions): ModuleList(\n",
      "          (0-2): 3 x Attention(\n",
      "            (group_norm): GroupNorm(32, 256, eps=1e-05, affine=True)\n",
      "            (to_q): Linear(in_features=256, out_features=256, bias=True)\n",
      "            (to_k): Linear(in_features=256, out_features=256, bias=True)\n",
      "            (to_v): Linear(in_features=256, out_features=256, bias=True)\n",
      "            (to_out): ModuleList(\n",
      "              (0): Linear(in_features=256, out_features=256, bias=True)\n",
      "              (1): Dropout(p=0.0, inplace=False)\n",
      "            )\n",
      "          )\n",
      "        )\n",
      "        (resnets): ModuleList(\n",
      "          (0-1): 2 x ResnetBlock2D(\n",
      "            (norm1): GroupNorm(32, 512, eps=1e-05, affine=True)\n",
      "            (conv1): Conv2d(512, 256, kernel_size=(3, 3), stride=(1, 1), padding=(1, 1))\n",
      "            (time_emb_proj): Linear(in_features=256, out_features=256, bias=True)\n",
      "            (norm2): GroupNorm(32, 256, eps=1e-05, affine=True)\n",
      "            (dropout): Dropout(p=0.0, inplace=False)\n",
      "            (conv2): Conv2d(256, 256, kernel_size=(3, 3), stride=(1, 1), padding=(1, 1))\n",
      "            (nonlinearity): SiLU()\n",
      "            (conv_shortcut): Conv2d(512, 256, kernel_size=(1, 1), stride=(1, 1))\n",
      "          )\n",
      "          (2): ResnetBlock2D(\n",
      "            (norm1): GroupNorm(32, 384, eps=1e-05, affine=True)\n",
      "            (conv1): Conv2d(384, 256, kernel_size=(3, 3), stride=(1, 1), padding=(1, 1))\n",
      "            (time_emb_proj): Linear(in_features=256, out_features=256, bias=True)\n",
      "            (norm2): GroupNorm(32, 256, eps=1e-05, affine=True)\n",
      "            (dropout): Dropout(p=0.0, inplace=False)\n",
      "            (conv2): Conv2d(256, 256, kernel_size=(3, 3), stride=(1, 1), padding=(1, 1))\n",
      "            (nonlinearity): SiLU()\n",
      "            (conv_shortcut): Conv2d(384, 256, kernel_size=(1, 1), stride=(1, 1))\n",
      "          )\n",
      "        )\n",
      "        (upsamplers): ModuleList(\n",
      "          (0): Upsample2D(\n",
      "            (conv): Conv2d(256, 256, kernel_size=(3, 3), stride=(1, 1), padding=(1, 1))\n",
      "          )\n",
      "        )\n",
      "      )\n",
      "      (1): AttnUpBlock2D(\n",
      "        (attentions): ModuleList(\n",
      "          (0-2): 3 x Attention(\n",
      "            (group_norm): GroupNorm(32, 128, eps=1e-05, affine=True)\n",
      "            (to_q): Linear(in_features=128, out_features=128, bias=True)\n",
      "            (to_k): Linear(in_features=128, out_features=128, bias=True)\n",
      "            (to_v): Linear(in_features=128, out_features=128, bias=True)\n",
      "            (to_out): ModuleList(\n",
      "              (0): Linear(in_features=128, out_features=128, bias=True)\n",
      "              (1): Dropout(p=0.0, inplace=False)\n",
      "            )\n",
      "          )\n",
      "        )\n",
      "        (resnets): ModuleList(\n",
      "          (0): ResnetBlock2D(\n",
      "            (norm1): GroupNorm(32, 384, eps=1e-05, affine=True)\n",
      "            (conv1): Conv2d(384, 128, kernel_size=(3, 3), stride=(1, 1), padding=(1, 1))\n",
      "            (time_emb_proj): Linear(in_features=256, out_features=128, bias=True)\n",
      "            (norm2): GroupNorm(32, 128, eps=1e-05, affine=True)\n",
      "            (dropout): Dropout(p=0.0, inplace=False)\n",
      "            (conv2): Conv2d(128, 128, kernel_size=(3, 3), stride=(1, 1), padding=(1, 1))\n",
      "            (nonlinearity): SiLU()\n",
      "            (conv_shortcut): Conv2d(384, 128, kernel_size=(1, 1), stride=(1, 1))\n",
      "          )\n",
      "          (1): ResnetBlock2D(\n",
      "            (norm1): GroupNorm(32, 256, eps=1e-05, affine=True)\n",
      "            (conv1): Conv2d(256, 128, kernel_size=(3, 3), stride=(1, 1), padding=(1, 1))\n",
      "            (time_emb_proj): Linear(in_features=256, out_features=128, bias=True)\n",
      "            (norm2): GroupNorm(32, 128, eps=1e-05, affine=True)\n",
      "            (dropout): Dropout(p=0.0, inplace=False)\n",
      "            (conv2): Conv2d(128, 128, kernel_size=(3, 3), stride=(1, 1), padding=(1, 1))\n",
      "            (nonlinearity): SiLU()\n",
      "            (conv_shortcut): Conv2d(256, 128, kernel_size=(1, 1), stride=(1, 1))\n",
      "          )\n",
      "          (2): ResnetBlock2D(\n",
      "            (norm1): GroupNorm(32, 192, eps=1e-05, affine=True)\n",
      "            (conv1): Conv2d(192, 128, kernel_size=(3, 3), stride=(1, 1), padding=(1, 1))\n",
      "            (time_emb_proj): Linear(in_features=256, out_features=128, bias=True)\n",
      "            (norm2): GroupNorm(32, 128, eps=1e-05, affine=True)\n",
      "            (dropout): Dropout(p=0.0, inplace=False)\n",
      "            (conv2): Conv2d(128, 128, kernel_size=(3, 3), stride=(1, 1), padding=(1, 1))\n",
      "            (nonlinearity): SiLU()\n",
      "            (conv_shortcut): Conv2d(192, 128, kernel_size=(1, 1), stride=(1, 1))\n",
      "          )\n",
      "        )\n",
      "        (upsamplers): ModuleList(\n",
      "          (0): Upsample2D(\n",
      "            (conv): Conv2d(128, 128, kernel_size=(3, 3), stride=(1, 1), padding=(1, 1))\n",
      "          )\n",
      "        )\n",
      "      )\n",
      "      (2): UpBlock2D(\n",
      "        (resnets): ModuleList(\n",
      "          (0): ResnetBlock2D(\n",
      "            (norm1): GroupNorm(32, 192, eps=1e-05, affine=True)\n",
      "            (conv1): Conv2d(192, 64, kernel_size=(3, 3), stride=(1, 1), padding=(1, 1))\n",
      "            (time_emb_proj): Linear(in_features=256, out_features=64, bias=True)\n",
      "            (norm2): GroupNorm(32, 64, eps=1e-05, affine=True)\n",
      "            (dropout): Dropout(p=0.0, inplace=False)\n",
      "            (conv2): Conv2d(64, 64, kernel_size=(3, 3), stride=(1, 1), padding=(1, 1))\n",
      "            (nonlinearity): SiLU()\n",
      "            (conv_shortcut): Conv2d(192, 64, kernel_size=(1, 1), stride=(1, 1))\n",
      "          )\n",
      "          (1-2): 2 x ResnetBlock2D(\n",
      "            (norm1): GroupNorm(32, 128, eps=1e-05, affine=True)\n",
      "            (conv1): Conv2d(128, 64, kernel_size=(3, 3), stride=(1, 1), padding=(1, 1))\n",
      "            (time_emb_proj): Linear(in_features=256, out_features=64, bias=True)\n",
      "            (norm2): GroupNorm(32, 64, eps=1e-05, affine=True)\n",
      "            (dropout): Dropout(p=0.0, inplace=False)\n",
      "            (conv2): Conv2d(64, 64, kernel_size=(3, 3), stride=(1, 1), padding=(1, 1))\n",
      "            (nonlinearity): SiLU()\n",
      "            (conv_shortcut): Conv2d(128, 64, kernel_size=(1, 1), stride=(1, 1))\n",
      "          )\n",
      "        )\n",
      "      )\n",
      "    )\n",
      "    (mid_block): UNetMidBlock2DCrossAttn(\n",
      "      (attentions): ModuleList(\n",
      "        (0): Transformer2DModel(\n",
      "          (norm): GroupNorm(32, 256, eps=1e-06, affine=True)\n",
      "          (proj_in): Conv2d(256, 256, kernel_size=(1, 1), stride=(1, 1))\n",
      "          (transformer_blocks): ModuleList(\n",
      "            (0): BasicTransformerBlock(\n",
      "              (norm1): LayerNorm((256,), eps=1e-05, elementwise_affine=True)\n",
      "              (attn1): Attention(\n",
      "                (to_q): Linear(in_features=256, out_features=256, bias=False)\n",
      "                (to_k): Linear(in_features=256, out_features=256, bias=False)\n",
      "                (to_v): Linear(in_features=256, out_features=256, bias=False)\n",
      "                (to_out): ModuleList(\n",
      "                  (0): Linear(in_features=256, out_features=256, bias=True)\n",
      "                  (1): Dropout(p=0.0, inplace=False)\n",
      "                )\n",
      "              )\n",
      "              (norm2): LayerNorm((256,), eps=1e-05, elementwise_affine=True)\n",
      "              (attn2): Attention(\n",
      "                (to_q): Linear(in_features=256, out_features=256, bias=False)\n",
      "                (to_k): Linear(in_features=128, out_features=256, bias=False)\n",
      "                (to_v): Linear(in_features=128, out_features=256, bias=False)\n",
      "                (to_out): ModuleList(\n",
      "                  (0): Linear(in_features=256, out_features=256, bias=True)\n",
      "                  (1): Dropout(p=0.0, inplace=False)\n",
      "                )\n",
      "              )\n",
      "              (norm3): LayerNorm((256,), eps=1e-05, elementwise_affine=True)\n",
      "              (ff): FeedForward(\n",
      "                (net): ModuleList(\n",
      "                  (0): GEGLU(\n",
      "                    (proj): Linear(in_features=256, out_features=2048, bias=True)\n",
      "                  )\n",
      "                  (1): Dropout(p=0.0, inplace=False)\n",
      "                  (2): Linear(in_features=1024, out_features=256, bias=True)\n",
      "                )\n",
      "              )\n",
      "            )\n",
      "          )\n",
      "          (proj_out): Conv2d(256, 256, kernel_size=(1, 1), stride=(1, 1))\n",
      "        )\n",
      "      )\n",
      "      (resnets): ModuleList(\n",
      "        (0-1): 2 x ResnetBlock2D(\n",
      "          (norm1): GroupNorm(32, 256, eps=1e-05, affine=True)\n",
      "          (conv1): Conv2d(256, 256, kernel_size=(3, 3), stride=(1, 1), padding=(1, 1))\n",
      "          (time_emb_proj): Linear(in_features=256, out_features=256, bias=True)\n",
      "          (norm2): GroupNorm(32, 256, eps=1e-05, affine=True)\n",
      "          (dropout): Dropout(p=0.0, inplace=False)\n",
      "          (conv2): Conv2d(256, 256, kernel_size=(3, 3), stride=(1, 1), padding=(1, 1))\n",
      "          (nonlinearity): SiLU()\n",
      "        )\n",
      "      )\n",
      "    )\n",
      "    (conv_norm_out): GroupNorm(32, 64, eps=1e-05, affine=True)\n",
      "    (conv_act): SiLU()\n",
      "    (conv_out): Conv2d(64, 3, kernel_size=(3, 3), stride=(1, 1), padding=(1, 1))\n",
      "  )\n",
      "  (cond_embed): Sequential(\n",
      "    (0): Linear(in_features=2, out_features=128, bias=True)\n",
      "    (1): SiLU()\n",
      "    (2): Linear(in_features=128, out_features=128, bias=True)\n",
      "  )\n",
      ") of type <class '__main__.CustomConditionedUNet'> cannot be saved.\n"
     ]
    },
    {
     "name": "stdout",
     "output_type": "stream",
     "text": [
      "Saved  0.03346397090620465\n"
     ]
    },
    {
     "name": "stderr",
     "output_type": "stream",
     "text": [
      "Epoch 299: 100%|██████████| 15/15 [00:01<00:00, 14.19it/s, loss=0.00162, lr=3.89e-5, step=4499]\n",
      "Epoch 300: 100%|██████████| 15/15 [00:00<00:00, 15.83it/s, loss=0.00231, lr=3.85e-5, step=4514]"
     ]
    },
    {
     "name": "stdout",
     "output_type": "stream",
     "text": [
      "Saved  0.033362267617417805\n"
     ]
    },
    {
     "name": "stderr",
     "output_type": "stream",
     "text": [
      "Epoch 300: 100%|██████████| 15/15 [00:01<00:00, 14.65it/s, loss=0.00231, lr=3.85e-5, step=4514]\n"
     ]
    },
    {
     "name": "stdout",
     "output_type": "stream",
     "text": [
      "Saved  0.033261080577437076\n"
     ]
    },
    {
     "name": "stderr",
     "output_type": "stream",
     "text": [
      "Epoch 301: 100%|██████████| 15/15 [00:01<00:00, 13.82it/s, loss=0.00277, lr=3.82e-5, step=4529]\n",
      "Epoch 302: 100%|██████████| 15/15 [00:00<00:00, 15.74it/s, loss=0.00166, lr=3.79e-5, step=4544]"
     ]
    },
    {
     "name": "stdout",
     "output_type": "stream",
     "text": [
      "Saved  0.03315866288482606\n"
     ]
    },
    {
     "name": "stderr",
     "output_type": "stream",
     "text": [
      "Epoch 302: 100%|██████████| 15/15 [00:01<00:00, 14.58it/s, loss=0.00166, lr=3.79e-5, step=4544]\n"
     ]
    },
    {
     "name": "stdout",
     "output_type": "stream",
     "text": [
      "Saved  0.03305918486283892\n"
     ]
    },
    {
     "name": "stderr",
     "output_type": "stream",
     "text": [
      "Epoch 303: 100%|██████████| 15/15 [00:01<00:00, 14.18it/s, loss=0.0041, lr=3.76e-5, step=4559]\n",
      "Epoch 304: 100%|██████████| 15/15 [00:00<00:00, 15.68it/s, loss=0.00216, lr=3.72e-5, step=4574]"
     ]
    },
    {
     "name": "stdout",
     "output_type": "stream",
     "text": [
      "Saved  0.03295868357605316\n"
     ]
    },
    {
     "name": "stderr",
     "output_type": "stream",
     "text": [
      "Epoch 304: 100%|██████████| 15/15 [00:01<00:00, 14.33it/s, loss=0.00216, lr=3.72e-5, step=4574]\n"
     ]
    },
    {
     "name": "stdout",
     "output_type": "stream",
     "text": [
      "Saved  0.03286023313349036\n"
     ]
    },
    {
     "name": "stderr",
     "output_type": "stream",
     "text": [
      "Epoch 305: 100%|██████████| 15/15 [00:01<00:00, 14.13it/s, loss=0.0157, lr=3.69e-5, step=4589]\n",
      "Epoch 306: 100%|██████████| 15/15 [00:00<00:00, 15.72it/s, loss=0.00165, lr=3.66e-5, step=4604]"
     ]
    },
    {
     "name": "stdout",
     "output_type": "stream",
     "text": [
      "Saved  0.03276141857572636\n"
     ]
    },
    {
     "name": "stderr",
     "output_type": "stream",
     "text": [
      "Epoch 306: 100%|██████████| 15/15 [00:01<00:00, 14.61it/s, loss=0.00165, lr=3.66e-5, step=4604]\n"
     ]
    },
    {
     "name": "stdout",
     "output_type": "stream",
     "text": [
      "Saved  0.03266215329640545\n"
     ]
    },
    {
     "name": "stderr",
     "output_type": "stream",
     "text": [
      "Epoch 307: 100%|██████████| 15/15 [00:01<00:00, 14.06it/s, loss=0.00144, lr=3.63e-5, step=4619]\n",
      "Epoch 308: 100%|██████████| 15/15 [00:00<00:00, 14.96it/s, loss=0.00169, lr=3.59e-5, step=4634]"
     ]
    },
    {
     "name": "stdout",
     "output_type": "stream",
     "text": [
      "Saved  0.03256251980543554\n"
     ]
    },
    {
     "name": "stderr",
     "output_type": "stream",
     "text": [
      "Epoch 308: 100%|██████████| 15/15 [00:01<00:00, 14.15it/s, loss=0.00169, lr=3.59e-5, step=4634]\n"
     ]
    },
    {
     "name": "stdout",
     "output_type": "stream",
     "text": [
      "Saved  0.03246363112890732\n"
     ]
    },
    {
     "name": "stderr",
     "output_type": "stream",
     "text": [
      "Epoch 309: 100%|██████████| 15/15 [00:01<00:00, 14.20it/s, loss=0.00128, lr=3.56e-5, step=4649]\n",
      "Epoch 310: 100%|██████████| 15/15 [00:00<00:00, 15.58it/s, loss=0.00216, lr=3.53e-5, step=4664]"
     ]
    },
    {
     "name": "stdout",
     "output_type": "stream",
     "text": [
      "Saved  0.03236571004909203\n"
     ]
    },
    {
     "name": "stderr",
     "output_type": "stream",
     "text": [
      "Epoch 310: 100%|██████████| 15/15 [00:01<00:00, 14.53it/s, loss=0.00216, lr=3.53e-5, step=4664]\n"
     ]
    },
    {
     "name": "stdout",
     "output_type": "stream",
     "text": [
      "Saved  0.03226896894538007\n"
     ]
    },
    {
     "name": "stderr",
     "output_type": "stream",
     "text": [
      "Epoch 311: 100%|██████████| 15/15 [00:01<00:00, 13.29it/s, loss=0.00128, lr=3.5e-5, step=4679]\n",
      "Epoch 312: 100%|██████████| 15/15 [00:00<00:00, 15.50it/s, loss=0.00136, lr=3.47e-5, step=4694]"
     ]
    },
    {
     "name": "stdout",
     "output_type": "stream",
     "text": [
      "Saved  0.03217186247488569\n"
     ]
    },
    {
     "name": "stderr",
     "output_type": "stream",
     "text": [
      "Epoch 312: 100%|██████████| 15/15 [00:01<00:00, 14.34it/s, loss=0.00136, lr=3.47e-5, step=4694]\n"
     ]
    },
    {
     "name": "stdout",
     "output_type": "stream",
     "text": [
      "Saved  0.03207537325122838\n"
     ]
    },
    {
     "name": "stderr",
     "output_type": "stream",
     "text": [
      "Epoch 313: 100%|██████████| 15/15 [00:01<00:00, 14.06it/s, loss=0.00133, lr=3.43e-5, step=4709]\n",
      "Epoch 314: 100%|██████████| 15/15 [00:00<00:00, 15.28it/s, loss=0.00193, lr=3.4e-5, step=4724] "
     ]
    },
    {
     "name": "stdout",
     "output_type": "stream",
     "text": [
      "Saved  0.03197889032081341\n"
     ]
    },
    {
     "name": "stderr",
     "output_type": "stream",
     "text": [
      "Epoch 314: 100%|██████████| 15/15 [00:01<00:00, 14.18it/s, loss=0.00193, lr=3.4e-5, step=4724]\n"
     ]
    },
    {
     "name": "stdout",
     "output_type": "stream",
     "text": [
      "Saved  0.03188555438362773\n"
     ]
    },
    {
     "name": "stderr",
     "output_type": "stream",
     "text": [
      "Epoch 315: 100%|██████████| 15/15 [00:01<00:00, 14.19it/s, loss=0.00134, lr=3.37e-5, step=4739]\n",
      "Epoch 316: 100%|██████████| 15/15 [00:00<00:00, 15.18it/s, loss=0.00167, lr=3.34e-5, step=4754]"
     ]
    },
    {
     "name": "stdout",
     "output_type": "stream",
     "text": [
      "Saved  0.03179223715897148\n"
     ]
    },
    {
     "name": "stderr",
     "output_type": "stream",
     "text": [
      "Epoch 316: 100%|██████████| 15/15 [00:01<00:00, 14.31it/s, loss=0.00167, lr=3.34e-5, step=4754]\n"
     ]
    },
    {
     "name": "stdout",
     "output_type": "stream",
     "text": [
      "Saved  0.03169916099024277\n"
     ]
    },
    {
     "name": "stderr",
     "output_type": "stream",
     "text": [
      "Epoch 317: 100%|██████████| 15/15 [00:01<00:00, 14.19it/s, loss=0.00183, lr=3.31e-5, step=4769]\n",
      "Epoch 318: 100%|██████████| 15/15 [00:00<00:00, 15.32it/s, loss=0.00143, lr=3.27e-5, step=4784]"
     ]
    },
    {
     "name": "stdout",
     "output_type": "stream",
     "text": [
      "Saved  0.03161137525820394\n"
     ]
    },
    {
     "name": "stderr",
     "output_type": "stream",
     "text": [
      "Epoch 318: 100%|██████████| 15/15 [00:01<00:00, 14.21it/s, loss=0.00143, lr=3.27e-5, step=4784]\n"
     ]
    },
    {
     "name": "stdout",
     "output_type": "stream",
     "text": [
      "Saved  0.03152414955404917\n"
     ]
    },
    {
     "name": "stderr",
     "output_type": "stream",
     "text": [
      "Epoch 319: 100%|██████████| 15/15 [00:01<00:00, 14.24it/s, loss=0.00189, lr=3.24e-5, step=4799]\n",
      "Epoch 320: 100%|██████████| 15/15 [00:00<00:00, 15.23it/s, loss=0.00167, lr=3.21e-5, step=4814]"
     ]
    },
    {
     "name": "stdout",
     "output_type": "stream",
     "text": [
      "Saved  0.03143233190274189\n"
     ]
    },
    {
     "name": "stderr",
     "output_type": "stream",
     "text": [
      "Epoch 320: 100%|██████████| 15/15 [00:01<00:00, 14.10it/s, loss=0.00167, lr=3.21e-5, step=4814]\n"
     ]
    },
    {
     "name": "stdout",
     "output_type": "stream",
     "text": [
      "Saved  0.031343560369143465\n"
     ]
    },
    {
     "name": "stderr",
     "output_type": "stream",
     "text": [
      "Epoch 321: 100%|██████████| 15/15 [00:01<00:00, 13.76it/s, loss=0.00155, lr=3.18e-5, step=4829]\n",
      "Epoch 322: 100%|██████████| 15/15 [00:00<00:00, 15.75it/s, loss=0.00172, lr=3.15e-5, step=4844]"
     ]
    },
    {
     "name": "stdout",
     "output_type": "stream",
     "text": [
      "Saved  0.03125478361934612\n"
     ]
    },
    {
     "name": "stderr",
     "output_type": "stream",
     "text": [
      "Epoch 322: 100%|██████████| 15/15 [00:01<00:00, 14.64it/s, loss=0.00172, lr=3.15e-5, step=4844]\n"
     ]
    },
    {
     "name": "stdout",
     "output_type": "stream",
     "text": [
      "Saved  0.031164530119111324\n"
     ]
    },
    {
     "name": "stderr",
     "output_type": "stream",
     "text": [
      "Epoch 323: 100%|██████████| 15/15 [00:01<00:00, 14.21it/s, loss=0.00126, lr=3.12e-5, step=4859]\n",
      "Epoch 324: 100%|██████████| 15/15 [00:00<00:00, 15.61it/s, loss=0.00148, lr=3.09e-5, step=4874]"
     ]
    },
    {
     "name": "stdout",
     "output_type": "stream",
     "text": [
      "Saved  0.031073790016178136\n"
     ]
    },
    {
     "name": "stderr",
     "output_type": "stream",
     "text": [
      "Epoch 324: 100%|██████████| 15/15 [00:01<00:00, 14.51it/s, loss=0.00148, lr=3.09e-5, step=4874]\n"
     ]
    },
    {
     "name": "stdout",
     "output_type": "stream",
     "text": [
      "Saved  0.030983955315566584\n"
     ]
    },
    {
     "name": "stderr",
     "output_type": "stream",
     "text": [
      "Epoch 325: 100%|██████████| 15/15 [00:01<00:00, 13.78it/s, loss=0.00131, lr=3.06e-5, step=4889]\n",
      "Epoch 326: 100%|██████████| 15/15 [00:00<00:00, 15.54it/s, loss=0.00148, lr=3.02e-5, step=4904]"
     ]
    },
    {
     "name": "stdout",
     "output_type": "stream",
     "text": [
      "Saved  0.030895207858944423\n"
     ]
    },
    {
     "name": "stderr",
     "output_type": "stream",
     "text": [
      "Epoch 326: 100%|██████████| 15/15 [00:01<00:00, 14.48it/s, loss=0.00148, lr=3.02e-5, step=4904]\n"
     ]
    },
    {
     "name": "stdout",
     "output_type": "stream",
     "text": [
      "Saved  0.030807592157237572\n"
     ]
    },
    {
     "name": "stderr",
     "output_type": "stream",
     "text": [
      "Epoch 327: 100%|██████████| 15/15 [00:01<00:00, 13.72it/s, loss=0.00239, lr=2.99e-5, step=4919]\n",
      "Epoch 328: 100%|██████████| 15/15 [00:00<00:00, 15.24it/s, loss=0.003, lr=2.96e-5, step=4934]  "
     ]
    },
    {
     "name": "stdout",
     "output_type": "stream",
     "text": [
      "Saved  0.030730419017736856\n"
     ]
    },
    {
     "name": "stderr",
     "output_type": "stream",
     "text": [
      "Epoch 328: 100%|██████████| 15/15 [00:01<00:00, 14.22it/s, loss=0.003, lr=2.96e-5, step=4934]\n"
     ]
    },
    {
     "name": "stdout",
     "output_type": "stream",
     "text": [
      "Saved  0.03064456684580731\n"
     ]
    },
    {
     "name": "stderr",
     "output_type": "stream",
     "text": [
      "Epoch 329: 100%|██████████| 15/15 [00:01<00:00, 14.21it/s, loss=0.00355, lr=2.93e-5, step=4949]\n",
      "Epoch 330: 100%|██████████| 15/15 [00:00<00:00, 15.92it/s, loss=0.00278, lr=2.9e-5, step=4964] "
     ]
    },
    {
     "name": "stdout",
     "output_type": "stream",
     "text": [
      "Saved  0.030563633209296052\n"
     ]
    },
    {
     "name": "stderr",
     "output_type": "stream",
     "text": [
      "Epoch 330: 100%|██████████| 15/15 [00:01<00:00, 14.83it/s, loss=0.00278, lr=2.9e-5, step=4964]\n"
     ]
    },
    {
     "name": "stdout",
     "output_type": "stream",
     "text": [
      "Saved  0.03047904730040438\n"
     ]
    },
    {
     "name": "stderr",
     "output_type": "stream",
     "text": [
      "Epoch 331: 100%|██████████| 15/15 [00:01<00:00, 14.46it/s, loss=0.00181, lr=2.87e-5, step=4979]\n",
      "Epoch 332: 100%|██████████| 15/15 [00:00<00:00, 15.36it/s, loss=0.0015, lr=2.84e-5, step=4994] "
     ]
    },
    {
     "name": "stdout",
     "output_type": "stream",
     "text": [
      "Saved  0.03039265841229803\n"
     ]
    },
    {
     "name": "stderr",
     "output_type": "stream",
     "text": [
      "Epoch 332: 100%|██████████| 15/15 [00:01<00:00, 14.27it/s, loss=0.0015, lr=2.84e-5, step=4994]\n"
     ]
    },
    {
     "name": "stdout",
     "output_type": "stream",
     "text": [
      "Saved  0.03030684173017454\n"
     ]
    },
    {
     "name": "stderr",
     "output_type": "stream",
     "text": [
      "Epoch 333: 100%|██████████| 15/15 [00:01<00:00, 14.10it/s, loss=0.00146, lr=2.81e-5, step=5009]\n",
      "Epoch 334: 100%|██████████| 15/15 [00:00<00:00, 15.76it/s, loss=0.00186, lr=2.78e-5, step=5024]"
     ]
    },
    {
     "name": "stdout",
     "output_type": "stream",
     "text": [
      "Saved  0.030222060237246662\n"
     ]
    },
    {
     "name": "stderr",
     "output_type": "stream",
     "text": [
      "Epoch 334: 100%|██████████| 15/15 [00:01<00:00, 14.59it/s, loss=0.00186, lr=2.78e-5, step=5024]\n"
     ]
    },
    {
     "name": "stdout",
     "output_type": "stream",
     "text": [
      "Saved  0.030140440919346895\n"
     ]
    },
    {
     "name": "stderr",
     "output_type": "stream",
     "text": [
      "Epoch 335: 100%|██████████| 15/15 [00:01<00:00, 14.38it/s, loss=0.00118, lr=2.75e-5, step=5039]\n",
      "Epoch 336: 100%|██████████| 15/15 [00:00<00:00, 15.70it/s, loss=0.00623, lr=2.72e-5, step=5054]"
     ]
    },
    {
     "name": "stdout",
     "output_type": "stream",
     "text": [
      "Saved  0.030059918339049183\n"
     ]
    },
    {
     "name": "stderr",
     "output_type": "stream",
     "text": [
      "Epoch 336: 100%|██████████| 15/15 [00:01<00:00, 14.55it/s, loss=0.00623, lr=2.72e-5, step=5054]\n"
     ]
    },
    {
     "name": "stdout",
     "output_type": "stream",
     "text": [
      "Saved  0.02997683391948111\n"
     ]
    },
    {
     "name": "stderr",
     "output_type": "stream",
     "text": [
      "Epoch 337: 100%|██████████| 15/15 [00:01<00:00, 14.20it/s, loss=0.00176, lr=2.69e-5, step=5069]\n",
      "Epoch 338: 100%|██████████| 15/15 [00:00<00:00, 15.56it/s, loss=0.0016, lr=2.66e-5, step=5084] "
     ]
    },
    {
     "name": "stdout",
     "output_type": "stream",
     "text": [
      "Saved  0.029894249375557916\n"
     ]
    },
    {
     "name": "stderr",
     "output_type": "stream",
     "text": [
      "Epoch 338: 100%|██████████| 15/15 [00:01<00:00, 14.51it/s, loss=0.0016, lr=2.66e-5, step=5084]\n"
     ]
    },
    {
     "name": "stdout",
     "output_type": "stream",
     "text": [
      "Saved  0.029814546095189073\n"
     ]
    },
    {
     "name": "stderr",
     "output_type": "stream",
     "text": [
      "Epoch 339: 100%|██████████| 15/15 [00:01<00:00, 14.39it/s, loss=0.0153, lr=2.63e-5, step=5099]\n",
      "Epoch 340: 100%|██████████| 15/15 [00:00<00:00, 15.53it/s, loss=0.00177, lr=2.6e-5, step=5114] "
     ]
    },
    {
     "name": "stdout",
     "output_type": "stream",
     "text": [
      "Saved  0.02973256313054479\n"
     ]
    },
    {
     "name": "stderr",
     "output_type": "stream",
     "text": [
      "Epoch 340: 100%|██████████| 15/15 [00:01<00:00, 14.55it/s, loss=0.00177, lr=2.6e-5, step=5114]\n"
     ]
    },
    {
     "name": "stdout",
     "output_type": "stream",
     "text": [
      "Saved  0.029650825289891377\n"
     ]
    },
    {
     "name": "stderr",
     "output_type": "stream",
     "text": [
      "Epoch 341: 100%|██████████| 15/15 [00:01<00:00, 14.18it/s, loss=0.00122, lr=2.57e-5, step=5129]\n",
      "Epoch 342: 100%|██████████| 15/15 [00:00<00:00, 15.66it/s, loss=0.00471, lr=2.54e-5, step=5144]"
     ]
    },
    {
     "name": "stdout",
     "output_type": "stream",
     "text": [
      "Saved  0.029570667902745335\n"
     ]
    },
    {
     "name": "stderr",
     "output_type": "stream",
     "text": [
      "Epoch 342: 100%|██████████| 15/15 [00:01<00:00, 14.59it/s, loss=0.00471, lr=2.54e-5, step=5144]\n"
     ]
    },
    {
     "name": "stdout",
     "output_type": "stream",
     "text": [
      "Saved  0.029491190180609313\n"
     ]
    },
    {
     "name": "stderr",
     "output_type": "stream",
     "text": [
      "Epoch 343: 100%|██████████| 15/15 [00:01<00:00, 14.41it/s, loss=0.00165, lr=2.51e-5, step=5159]\n",
      "Epoch 344: 100%|██████████| 15/15 [00:00<00:00, 15.69it/s, loss=0.00108, lr=2.48e-5, step=5174]"
     ]
    },
    {
     "name": "stdout",
     "output_type": "stream",
     "text": [
      "Saved  0.02941018700098016\n"
     ]
    },
    {
     "name": "stderr",
     "output_type": "stream",
     "text": [
      "Epoch 344: 100%|██████████| 15/15 [00:01<00:00, 14.42it/s, loss=0.00108, lr=2.48e-5, step=5174]\n"
     ]
    },
    {
     "name": "stdout",
     "output_type": "stream",
     "text": [
      "Saved  0.029330061761409346\n"
     ]
    },
    {
     "name": "stderr",
     "output_type": "stream",
     "text": [
      "Epoch 345: 100%|██████████| 15/15 [00:01<00:00, 14.32it/s, loss=0.00201, lr=2.45e-5, step=5189]\n",
      "Epoch 346: 100%|██████████| 15/15 [00:00<00:00, 15.44it/s, loss=0.00193, lr=2.43e-5, step=5204]"
     ]
    },
    {
     "name": "stdout",
     "output_type": "stream",
     "text": [
      "Saved  0.029250179229735412\n"
     ]
    },
    {
     "name": "stderr",
     "output_type": "stream",
     "text": [
      "Epoch 346: 100%|██████████| 15/15 [00:01<00:00, 14.37it/s, loss=0.00193, lr=2.43e-5, step=5204]\n"
     ]
    },
    {
     "name": "stdout",
     "output_type": "stream",
     "text": [
      "Saved  0.029171187030191628\n"
     ]
    },
    {
     "name": "stderr",
     "output_type": "stream",
     "text": [
      "Epoch 347: 100%|██████████| 15/15 [00:01<00:00, 14.13it/s, loss=0.00132, lr=2.4e-5, step=5219]\n",
      "Epoch 348: 100%|██████████| 15/15 [00:00<00:00, 15.70it/s, loss=0.00125, lr=2.37e-5, step=5234]"
     ]
    },
    {
     "name": "stdout",
     "output_type": "stream",
     "text": [
      "Saved  0.029092355171612568\n"
     ]
    },
    {
     "name": "stderr",
     "output_type": "stream",
     "text": [
      "Epoch 348: 100%|██████████| 15/15 [00:01<00:00, 14.60it/s, loss=0.00125, lr=2.37e-5, step=5234]\n",
      "self.unet=CustomConditionedUNet(\n",
      "  (unet): UNet2DConditionModel(\n",
      "    (conv_in): Conv2d(3, 64, kernel_size=(3, 3), stride=(1, 1), padding=(1, 1))\n",
      "    (time_proj): Timesteps()\n",
      "    (time_embedding): TimestepEmbedding(\n",
      "      (linear_1): Linear(in_features=64, out_features=256, bias=True)\n",
      "      (act): SiLU()\n",
      "      (linear_2): Linear(in_features=256, out_features=256, bias=True)\n",
      "    )\n",
      "    (down_blocks): ModuleList(\n",
      "      (0): DownBlock2D(\n",
      "        (resnets): ModuleList(\n",
      "          (0-1): 2 x ResnetBlock2D(\n",
      "            (norm1): GroupNorm(32, 64, eps=1e-05, affine=True)\n",
      "            (conv1): Conv2d(64, 64, kernel_size=(3, 3), stride=(1, 1), padding=(1, 1))\n",
      "            (time_emb_proj): Linear(in_features=256, out_features=64, bias=True)\n",
      "            (norm2): GroupNorm(32, 64, eps=1e-05, affine=True)\n",
      "            (dropout): Dropout(p=0.0, inplace=False)\n",
      "            (conv2): Conv2d(64, 64, kernel_size=(3, 3), stride=(1, 1), padding=(1, 1))\n",
      "            (nonlinearity): SiLU()\n",
      "          )\n",
      "        )\n",
      "        (downsamplers): ModuleList(\n",
      "          (0): Downsample2D(\n",
      "            (conv): Conv2d(64, 64, kernel_size=(3, 3), stride=(2, 2), padding=(1, 1))\n",
      "          )\n",
      "        )\n",
      "      )\n",
      "      (1): AttnDownBlock2D(\n",
      "        (attentions): ModuleList(\n",
      "          (0-1): 2 x Attention(\n",
      "            (group_norm): GroupNorm(32, 128, eps=1e-05, affine=True)\n",
      "            (to_q): Linear(in_features=128, out_features=128, bias=True)\n",
      "            (to_k): Linear(in_features=128, out_features=128, bias=True)\n",
      "            (to_v): Linear(in_features=128, out_features=128, bias=True)\n",
      "            (to_out): ModuleList(\n",
      "              (0): Linear(in_features=128, out_features=128, bias=True)\n",
      "              (1): Dropout(p=0.0, inplace=False)\n",
      "            )\n",
      "          )\n",
      "        )\n",
      "        (resnets): ModuleList(\n",
      "          (0): ResnetBlock2D(\n",
      "            (norm1): GroupNorm(32, 64, eps=1e-05, affine=True)\n",
      "            (conv1): Conv2d(64, 128, kernel_size=(3, 3), stride=(1, 1), padding=(1, 1))\n",
      "            (time_emb_proj): Linear(in_features=256, out_features=128, bias=True)\n",
      "            (norm2): GroupNorm(32, 128, eps=1e-05, affine=True)\n",
      "            (dropout): Dropout(p=0.0, inplace=False)\n",
      "            (conv2): Conv2d(128, 128, kernel_size=(3, 3), stride=(1, 1), padding=(1, 1))\n",
      "            (nonlinearity): SiLU()\n",
      "            (conv_shortcut): Conv2d(64, 128, kernel_size=(1, 1), stride=(1, 1))\n",
      "          )\n",
      "          (1): ResnetBlock2D(\n",
      "            (norm1): GroupNorm(32, 128, eps=1e-05, affine=True)\n",
      "            (conv1): Conv2d(128, 128, kernel_size=(3, 3), stride=(1, 1), padding=(1, 1))\n",
      "            (time_emb_proj): Linear(in_features=256, out_features=128, bias=True)\n",
      "            (norm2): GroupNorm(32, 128, eps=1e-05, affine=True)\n",
      "            (dropout): Dropout(p=0.0, inplace=False)\n",
      "            (conv2): Conv2d(128, 128, kernel_size=(3, 3), stride=(1, 1), padding=(1, 1))\n",
      "            (nonlinearity): SiLU()\n",
      "          )\n",
      "        )\n",
      "        (downsamplers): ModuleList(\n",
      "          (0): Downsample2D(\n",
      "            (conv): Conv2d(128, 128, kernel_size=(3, 3), stride=(2, 2), padding=(1, 1))\n",
      "          )\n",
      "        )\n",
      "      )\n",
      "      (2): AttnDownBlock2D(\n",
      "        (attentions): ModuleList(\n",
      "          (0-1): 2 x Attention(\n",
      "            (group_norm): GroupNorm(32, 256, eps=1e-05, affine=True)\n",
      "            (to_q): Linear(in_features=256, out_features=256, bias=True)\n",
      "            (to_k): Linear(in_features=256, out_features=256, bias=True)\n",
      "            (to_v): Linear(in_features=256, out_features=256, bias=True)\n",
      "            (to_out): ModuleList(\n",
      "              (0): Linear(in_features=256, out_features=256, bias=True)\n",
      "              (1): Dropout(p=0.0, inplace=False)\n",
      "            )\n",
      "          )\n",
      "        )\n",
      "        (resnets): ModuleList(\n",
      "          (0): ResnetBlock2D(\n",
      "            (norm1): GroupNorm(32, 128, eps=1e-05, affine=True)\n",
      "            (conv1): Conv2d(128, 256, kernel_size=(3, 3), stride=(1, 1), padding=(1, 1))\n",
      "            (time_emb_proj): Linear(in_features=256, out_features=256, bias=True)\n",
      "            (norm2): GroupNorm(32, 256, eps=1e-05, affine=True)\n",
      "            (dropout): Dropout(p=0.0, inplace=False)\n",
      "            (conv2): Conv2d(256, 256, kernel_size=(3, 3), stride=(1, 1), padding=(1, 1))\n",
      "            (nonlinearity): SiLU()\n",
      "            (conv_shortcut): Conv2d(128, 256, kernel_size=(1, 1), stride=(1, 1))\n",
      "          )\n",
      "          (1): ResnetBlock2D(\n",
      "            (norm1): GroupNorm(32, 256, eps=1e-05, affine=True)\n",
      "            (conv1): Conv2d(256, 256, kernel_size=(3, 3), stride=(1, 1), padding=(1, 1))\n",
      "            (time_emb_proj): Linear(in_features=256, out_features=256, bias=True)\n",
      "            (norm2): GroupNorm(32, 256, eps=1e-05, affine=True)\n",
      "            (dropout): Dropout(p=0.0, inplace=False)\n",
      "            (conv2): Conv2d(256, 256, kernel_size=(3, 3), stride=(1, 1), padding=(1, 1))\n",
      "            (nonlinearity): SiLU()\n",
      "          )\n",
      "        )\n",
      "      )\n",
      "    )\n",
      "    (up_blocks): ModuleList(\n",
      "      (0): AttnUpBlock2D(\n",
      "        (attentions): ModuleList(\n",
      "          (0-2): 3 x Attention(\n",
      "            (group_norm): GroupNorm(32, 256, eps=1e-05, affine=True)\n",
      "            (to_q): Linear(in_features=256, out_features=256, bias=True)\n",
      "            (to_k): Linear(in_features=256, out_features=256, bias=True)\n",
      "            (to_v): Linear(in_features=256, out_features=256, bias=True)\n",
      "            (to_out): ModuleList(\n",
      "              (0): Linear(in_features=256, out_features=256, bias=True)\n",
      "              (1): Dropout(p=0.0, inplace=False)\n",
      "            )\n",
      "          )\n",
      "        )\n",
      "        (resnets): ModuleList(\n",
      "          (0-1): 2 x ResnetBlock2D(\n",
      "            (norm1): GroupNorm(32, 512, eps=1e-05, affine=True)\n",
      "            (conv1): Conv2d(512, 256, kernel_size=(3, 3), stride=(1, 1), padding=(1, 1))\n",
      "            (time_emb_proj): Linear(in_features=256, out_features=256, bias=True)\n",
      "            (norm2): GroupNorm(32, 256, eps=1e-05, affine=True)\n",
      "            (dropout): Dropout(p=0.0, inplace=False)\n",
      "            (conv2): Conv2d(256, 256, kernel_size=(3, 3), stride=(1, 1), padding=(1, 1))\n",
      "            (nonlinearity): SiLU()\n",
      "            (conv_shortcut): Conv2d(512, 256, kernel_size=(1, 1), stride=(1, 1))\n",
      "          )\n",
      "          (2): ResnetBlock2D(\n",
      "            (norm1): GroupNorm(32, 384, eps=1e-05, affine=True)\n",
      "            (conv1): Conv2d(384, 256, kernel_size=(3, 3), stride=(1, 1), padding=(1, 1))\n",
      "            (time_emb_proj): Linear(in_features=256, out_features=256, bias=True)\n",
      "            (norm2): GroupNorm(32, 256, eps=1e-05, affine=True)\n",
      "            (dropout): Dropout(p=0.0, inplace=False)\n",
      "            (conv2): Conv2d(256, 256, kernel_size=(3, 3), stride=(1, 1), padding=(1, 1))\n",
      "            (nonlinearity): SiLU()\n",
      "            (conv_shortcut): Conv2d(384, 256, kernel_size=(1, 1), stride=(1, 1))\n",
      "          )\n",
      "        )\n",
      "        (upsamplers): ModuleList(\n",
      "          (0): Upsample2D(\n",
      "            (conv): Conv2d(256, 256, kernel_size=(3, 3), stride=(1, 1), padding=(1, 1))\n",
      "          )\n",
      "        )\n",
      "      )\n",
      "      (1): AttnUpBlock2D(\n",
      "        (attentions): ModuleList(\n",
      "          (0-2): 3 x Attention(\n",
      "            (group_norm): GroupNorm(32, 128, eps=1e-05, affine=True)\n",
      "            (to_q): Linear(in_features=128, out_features=128, bias=True)\n",
      "            (to_k): Linear(in_features=128, out_features=128, bias=True)\n",
      "            (to_v): Linear(in_features=128, out_features=128, bias=True)\n",
      "            (to_out): ModuleList(\n",
      "              (0): Linear(in_features=128, out_features=128, bias=True)\n",
      "              (1): Dropout(p=0.0, inplace=False)\n",
      "            )\n",
      "          )\n",
      "        )\n",
      "        (resnets): ModuleList(\n",
      "          (0): ResnetBlock2D(\n",
      "            (norm1): GroupNorm(32, 384, eps=1e-05, affine=True)\n",
      "            (conv1): Conv2d(384, 128, kernel_size=(3, 3), stride=(1, 1), padding=(1, 1))\n",
      "            (time_emb_proj): Linear(in_features=256, out_features=128, bias=True)\n",
      "            (norm2): GroupNorm(32, 128, eps=1e-05, affine=True)\n",
      "            (dropout): Dropout(p=0.0, inplace=False)\n",
      "            (conv2): Conv2d(128, 128, kernel_size=(3, 3), stride=(1, 1), padding=(1, 1))\n",
      "            (nonlinearity): SiLU()\n",
      "            (conv_shortcut): Conv2d(384, 128, kernel_size=(1, 1), stride=(1, 1))\n",
      "          )\n",
      "          (1): ResnetBlock2D(\n",
      "            (norm1): GroupNorm(32, 256, eps=1e-05, affine=True)\n",
      "            (conv1): Conv2d(256, 128, kernel_size=(3, 3), stride=(1, 1), padding=(1, 1))\n",
      "            (time_emb_proj): Linear(in_features=256, out_features=128, bias=True)\n",
      "            (norm2): GroupNorm(32, 128, eps=1e-05, affine=True)\n",
      "            (dropout): Dropout(p=0.0, inplace=False)\n",
      "            (conv2): Conv2d(128, 128, kernel_size=(3, 3), stride=(1, 1), padding=(1, 1))\n",
      "            (nonlinearity): SiLU()\n",
      "            (conv_shortcut): Conv2d(256, 128, kernel_size=(1, 1), stride=(1, 1))\n",
      "          )\n",
      "          (2): ResnetBlock2D(\n",
      "            (norm1): GroupNorm(32, 192, eps=1e-05, affine=True)\n",
      "            (conv1): Conv2d(192, 128, kernel_size=(3, 3), stride=(1, 1), padding=(1, 1))\n",
      "            (time_emb_proj): Linear(in_features=256, out_features=128, bias=True)\n",
      "            (norm2): GroupNorm(32, 128, eps=1e-05, affine=True)\n",
      "            (dropout): Dropout(p=0.0, inplace=False)\n",
      "            (conv2): Conv2d(128, 128, kernel_size=(3, 3), stride=(1, 1), padding=(1, 1))\n",
      "            (nonlinearity): SiLU()\n",
      "            (conv_shortcut): Conv2d(192, 128, kernel_size=(1, 1), stride=(1, 1))\n",
      "          )\n",
      "        )\n",
      "        (upsamplers): ModuleList(\n",
      "          (0): Upsample2D(\n",
      "            (conv): Conv2d(128, 128, kernel_size=(3, 3), stride=(1, 1), padding=(1, 1))\n",
      "          )\n",
      "        )\n",
      "      )\n",
      "      (2): UpBlock2D(\n",
      "        (resnets): ModuleList(\n",
      "          (0): ResnetBlock2D(\n",
      "            (norm1): GroupNorm(32, 192, eps=1e-05, affine=True)\n",
      "            (conv1): Conv2d(192, 64, kernel_size=(3, 3), stride=(1, 1), padding=(1, 1))\n",
      "            (time_emb_proj): Linear(in_features=256, out_features=64, bias=True)\n",
      "            (norm2): GroupNorm(32, 64, eps=1e-05, affine=True)\n",
      "            (dropout): Dropout(p=0.0, inplace=False)\n",
      "            (conv2): Conv2d(64, 64, kernel_size=(3, 3), stride=(1, 1), padding=(1, 1))\n",
      "            (nonlinearity): SiLU()\n",
      "            (conv_shortcut): Conv2d(192, 64, kernel_size=(1, 1), stride=(1, 1))\n",
      "          )\n",
      "          (1-2): 2 x ResnetBlock2D(\n",
      "            (norm1): GroupNorm(32, 128, eps=1e-05, affine=True)\n",
      "            (conv1): Conv2d(128, 64, kernel_size=(3, 3), stride=(1, 1), padding=(1, 1))\n",
      "            (time_emb_proj): Linear(in_features=256, out_features=64, bias=True)\n",
      "            (norm2): GroupNorm(32, 64, eps=1e-05, affine=True)\n",
      "            (dropout): Dropout(p=0.0, inplace=False)\n",
      "            (conv2): Conv2d(64, 64, kernel_size=(3, 3), stride=(1, 1), padding=(1, 1))\n",
      "            (nonlinearity): SiLU()\n",
      "            (conv_shortcut): Conv2d(128, 64, kernel_size=(1, 1), stride=(1, 1))\n",
      "          )\n",
      "        )\n",
      "      )\n",
      "    )\n",
      "    (mid_block): UNetMidBlock2DCrossAttn(\n",
      "      (attentions): ModuleList(\n",
      "        (0): Transformer2DModel(\n",
      "          (norm): GroupNorm(32, 256, eps=1e-06, affine=True)\n",
      "          (proj_in): Conv2d(256, 256, kernel_size=(1, 1), stride=(1, 1))\n",
      "          (transformer_blocks): ModuleList(\n",
      "            (0): BasicTransformerBlock(\n",
      "              (norm1): LayerNorm((256,), eps=1e-05, elementwise_affine=True)\n",
      "              (attn1): Attention(\n",
      "                (to_q): Linear(in_features=256, out_features=256, bias=False)\n",
      "                (to_k): Linear(in_features=256, out_features=256, bias=False)\n",
      "                (to_v): Linear(in_features=256, out_features=256, bias=False)\n",
      "                (to_out): ModuleList(\n",
      "                  (0): Linear(in_features=256, out_features=256, bias=True)\n",
      "                  (1): Dropout(p=0.0, inplace=False)\n",
      "                )\n",
      "              )\n",
      "              (norm2): LayerNorm((256,), eps=1e-05, elementwise_affine=True)\n",
      "              (attn2): Attention(\n",
      "                (to_q): Linear(in_features=256, out_features=256, bias=False)\n",
      "                (to_k): Linear(in_features=128, out_features=256, bias=False)\n",
      "                (to_v): Linear(in_features=128, out_features=256, bias=False)\n",
      "                (to_out): ModuleList(\n",
      "                  (0): Linear(in_features=256, out_features=256, bias=True)\n",
      "                  (1): Dropout(p=0.0, inplace=False)\n",
      "                )\n",
      "              )\n",
      "              (norm3): LayerNorm((256,), eps=1e-05, elementwise_affine=True)\n",
      "              (ff): FeedForward(\n",
      "                (net): ModuleList(\n",
      "                  (0): GEGLU(\n",
      "                    (proj): Linear(in_features=256, out_features=2048, bias=True)\n",
      "                  )\n",
      "                  (1): Dropout(p=0.0, inplace=False)\n",
      "                  (2): Linear(in_features=1024, out_features=256, bias=True)\n",
      "                )\n",
      "              )\n",
      "            )\n",
      "          )\n",
      "          (proj_out): Conv2d(256, 256, kernel_size=(1, 1), stride=(1, 1))\n",
      "        )\n",
      "      )\n",
      "      (resnets): ModuleList(\n",
      "        (0-1): 2 x ResnetBlock2D(\n",
      "          (norm1): GroupNorm(32, 256, eps=1e-05, affine=True)\n",
      "          (conv1): Conv2d(256, 256, kernel_size=(3, 3), stride=(1, 1), padding=(1, 1))\n",
      "          (time_emb_proj): Linear(in_features=256, out_features=256, bias=True)\n",
      "          (norm2): GroupNorm(32, 256, eps=1e-05, affine=True)\n",
      "          (dropout): Dropout(p=0.0, inplace=False)\n",
      "          (conv2): Conv2d(256, 256, kernel_size=(3, 3), stride=(1, 1), padding=(1, 1))\n",
      "          (nonlinearity): SiLU()\n",
      "        )\n",
      "      )\n",
      "    )\n",
      "    (conv_norm_out): GroupNorm(32, 64, eps=1e-05, affine=True)\n",
      "    (conv_act): SiLU()\n",
      "    (conv_out): Conv2d(64, 3, kernel_size=(3, 3), stride=(1, 1), padding=(1, 1))\n",
      "  )\n",
      "  (cond_embed): Sequential(\n",
      "    (0): Linear(in_features=2, out_features=128, bias=True)\n",
      "    (1): SiLU()\n",
      "    (2): Linear(in_features=128, out_features=128, bias=True)\n",
      "  )\n",
      ") of type <class '__main__.CustomConditionedUNet'> cannot be saved.\n"
     ]
    },
    {
     "name": "stdout",
     "output_type": "stream",
     "text": [
      "Saved  0.029013464506449444\n"
     ]
    },
    {
     "name": "stderr",
     "output_type": "stream",
     "text": [
      "Epoch 349: 100%|██████████| 15/15 [00:01<00:00, 14.28it/s, loss=0.00172, lr=2.34e-5, step=5249]\n",
      "Epoch 350: 100%|██████████| 15/15 [00:00<00:00, 15.74it/s, loss=0.00235, lr=2.31e-5, step=5264]"
     ]
    },
    {
     "name": "stdout",
     "output_type": "stream",
     "text": [
      "Saved  0.028938275563719897\n"
     ]
    },
    {
     "name": "stderr",
     "output_type": "stream",
     "text": [
      "Epoch 350: 100%|██████████| 15/15 [00:01<00:00, 14.64it/s, loss=0.00235, lr=2.31e-5, step=5264]\n"
     ]
    },
    {
     "name": "stdout",
     "output_type": "stream",
     "text": [
      "Saved  0.028861102571108584\n"
     ]
    },
    {
     "name": "stderr",
     "output_type": "stream",
     "text": [
      "Epoch 351: 100%|██████████| 15/15 [00:01<00:00, 14.46it/s, loss=0.00158, lr=2.28e-5, step=5279]\n",
      "Epoch 352: 100%|██████████| 15/15 [00:00<00:00, 15.59it/s, loss=0.00116, lr=2.25e-5, step=5294]"
     ]
    },
    {
     "name": "stdout",
     "output_type": "stream",
     "text": [
      "Saved  0.02878709967501859\n"
     ]
    },
    {
     "name": "stderr",
     "output_type": "stream",
     "text": [
      "Epoch 352: 100%|██████████| 15/15 [00:01<00:00, 14.67it/s, loss=0.00116, lr=2.25e-5, step=5294]\n"
     ]
    },
    {
     "name": "stdout",
     "output_type": "stream",
     "text": [
      "Saved  0.028711309519148277\n"
     ]
    },
    {
     "name": "stderr",
     "output_type": "stream",
     "text": [
      "Epoch 353: 100%|██████████| 15/15 [00:01<00:00, 14.46it/s, loss=0.00184, lr=2.23e-5, step=5309]\n",
      "Epoch 354: 100%|██████████| 15/15 [00:00<00:00, 15.70it/s, loss=0.00128, lr=2.2e-5, step=5324] "
     ]
    },
    {
     "name": "stdout",
     "output_type": "stream",
     "text": [
      "Saved  0.02863498564468513\n"
     ]
    },
    {
     "name": "stderr",
     "output_type": "stream",
     "text": [
      "Epoch 354: 100%|██████████| 15/15 [00:01<00:00, 14.52it/s, loss=0.00128, lr=2.2e-5, step=5324]\n"
     ]
    },
    {
     "name": "stdout",
     "output_type": "stream",
     "text": [
      "Saved  0.02855869736524616\n"
     ]
    },
    {
     "name": "stderr",
     "output_type": "stream",
     "text": [
      "Epoch 355: 100%|██████████| 15/15 [00:01<00:00, 14.39it/s, loss=0.0015, lr=2.17e-5, step=5339]\n",
      "Epoch 356: 100%|██████████| 15/15 [00:00<00:00, 15.77it/s, loss=0.00121, lr=2.14e-5, step=5354]"
     ]
    },
    {
     "name": "stdout",
     "output_type": "stream",
     "text": [
      "Saved  0.02848369025653115\n"
     ]
    },
    {
     "name": "stderr",
     "output_type": "stream",
     "text": [
      "Epoch 356: 100%|██████████| 15/15 [00:01<00:00, 14.66it/s, loss=0.00121, lr=2.14e-5, step=5354]\n"
     ]
    },
    {
     "name": "stdout",
     "output_type": "stream",
     "text": [
      "Saved  0.0284091249110916\n"
     ]
    },
    {
     "name": "stderr",
     "output_type": "stream",
     "text": [
      "Epoch 357: 100%|██████████| 15/15 [00:01<00:00, 14.25it/s, loss=0.00166, lr=2.12e-5, step=5369]\n",
      "Epoch 358: 100%|██████████| 15/15 [00:00<00:00, 15.62it/s, loss=0.00206, lr=2.09e-5, step=5384]"
     ]
    },
    {
     "name": "stdout",
     "output_type": "stream",
     "text": [
      "Saved  0.028334295386344733\n"
     ]
    },
    {
     "name": "stderr",
     "output_type": "stream",
     "text": [
      "Epoch 358: 100%|██████████| 15/15 [00:01<00:00, 14.60it/s, loss=0.00206, lr=2.09e-5, step=5384]\n"
     ]
    },
    {
     "name": "stdout",
     "output_type": "stream",
     "text": [
      "Saved  0.02826231056733781\n"
     ]
    },
    {
     "name": "stderr",
     "output_type": "stream",
     "text": [
      "Epoch 359: 100%|██████████| 15/15 [00:01<00:00, 14.25it/s, loss=0.00149, lr=2.06e-5, step=5399]\n",
      "Epoch 360: 100%|██████████| 15/15 [00:00<00:00, 15.76it/s, loss=0.00211, lr=2.03e-5, step=5414]"
     ]
    },
    {
     "name": "stdout",
     "output_type": "stream",
     "text": [
      "Saved  0.028189580852534736\n"
     ]
    },
    {
     "name": "stderr",
     "output_type": "stream",
     "text": [
      "Epoch 360: 100%|██████████| 15/15 [00:01<00:00, 14.74it/s, loss=0.00211, lr=2.03e-5, step=5414]\n"
     ]
    },
    {
     "name": "stdout",
     "output_type": "stream",
     "text": [
      "Saved  0.02811692787056041\n"
     ]
    },
    {
     "name": "stderr",
     "output_type": "stream",
     "text": [
      "Epoch 361: 100%|██████████| 15/15 [00:01<00:00, 14.47it/s, loss=0.00185, lr=2.01e-5, step=5429]\n",
      "Epoch 362: 100%|██████████| 15/15 [00:00<00:00, 15.73it/s, loss=0.00121, lr=1.98e-5, step=5444]"
     ]
    },
    {
     "name": "stdout",
     "output_type": "stream",
     "text": [
      "Saved  0.02804499347794705\n"
     ]
    },
    {
     "name": "stderr",
     "output_type": "stream",
     "text": [
      "Epoch 362: 100%|██████████| 15/15 [00:01<00:00, 14.66it/s, loss=0.00121, lr=1.98e-5, step=5444]\n"
     ]
    },
    {
     "name": "stdout",
     "output_type": "stream",
     "text": [
      "Saved  0.027974474766302763\n"
     ]
    },
    {
     "name": "stderr",
     "output_type": "stream",
     "text": [
      "Epoch 363: 100%|██████████| 15/15 [00:01<00:00, 14.30it/s, loss=0.00393, lr=1.95e-5, step=5459]\n",
      "Epoch 364: 100%|██████████| 15/15 [00:00<00:00, 15.59it/s, loss=0.00317, lr=1.93e-5, step=5474]"
     ]
    },
    {
     "name": "stdout",
     "output_type": "stream",
     "text": [
      "Saved  0.02790514658957924\n"
     ]
    },
    {
     "name": "stderr",
     "output_type": "stream",
     "text": [
      "Epoch 364: 100%|██████████| 15/15 [00:01<00:00, 14.64it/s, loss=0.00317, lr=1.93e-5, step=5474]\n"
     ]
    },
    {
     "name": "stdout",
     "output_type": "stream",
     "text": [
      "Saved  0.027839127722521142\n"
     ]
    },
    {
     "name": "stderr",
     "output_type": "stream",
     "text": [
      "Epoch 365: 100%|██████████| 15/15 [00:01<00:00, 14.26it/s, loss=0.00149, lr=1.9e-5, step=5489]\n",
      "Epoch 366: 100%|██████████| 15/15 [00:00<00:00, 15.61it/s, loss=0.00144, lr=1.87e-5, step=5504]"
     ]
    },
    {
     "name": "stdout",
     "output_type": "stream",
     "text": [
      "Saved  0.027769131025872095\n"
     ]
    },
    {
     "name": "stderr",
     "output_type": "stream",
     "text": [
      "Epoch 366: 100%|██████████| 15/15 [00:01<00:00, 14.65it/s, loss=0.00144, lr=1.87e-5, step=5504]\n"
     ]
    },
    {
     "name": "stdout",
     "output_type": "stream",
     "text": [
      "Saved  0.027698958344674042\n"
     ]
    },
    {
     "name": "stderr",
     "output_type": "stream",
     "text": [
      "Epoch 367: 100%|██████████| 15/15 [00:01<00:00, 14.59it/s, loss=0.00134, lr=1.85e-5, step=5519]\n",
      "Epoch 368: 100%|██████████| 15/15 [00:00<00:00, 15.55it/s, loss=0.00117, lr=1.82e-5, step=5534]"
     ]
    },
    {
     "name": "stdout",
     "output_type": "stream",
     "text": [
      "Saved  0.02762913104361672\n"
     ]
    },
    {
     "name": "stderr",
     "output_type": "stream",
     "text": [
      "Epoch 368: 100%|██████████| 15/15 [00:01<00:00, 14.62it/s, loss=0.00117, lr=1.82e-5, step=5534]\n"
     ]
    },
    {
     "name": "stdout",
     "output_type": "stream",
     "text": [
      "Saved  0.027559027013448614\n"
     ]
    },
    {
     "name": "stderr",
     "output_type": "stream",
     "text": [
      "Epoch 369: 100%|██████████| 15/15 [00:01<00:00, 14.57it/s, loss=0.00144, lr=1.8e-5, step=5549]\n",
      "Epoch 370: 100%|██████████| 15/15 [00:00<00:00, 15.93it/s, loss=0.00153, lr=1.77e-5, step=5564]"
     ]
    },
    {
     "name": "stdout",
     "output_type": "stream",
     "text": [
      "Saved  0.02749200180143215\n"
     ]
    },
    {
     "name": "stderr",
     "output_type": "stream",
     "text": [
      "Epoch 370: 100%|██████████| 15/15 [00:01<00:00, 14.82it/s, loss=0.00153, lr=1.77e-5, step=5564]\n"
     ]
    },
    {
     "name": "stdout",
     "output_type": "stream",
     "text": [
      "Saved  0.027422683742473163\n"
     ]
    },
    {
     "name": "stderr",
     "output_type": "stream",
     "text": [
      "Epoch 371: 100%|██████████| 15/15 [00:01<00:00, 14.43it/s, loss=0.00142, lr=1.74e-5, step=5579]\n",
      "Epoch 372: 100%|██████████| 15/15 [00:00<00:00, 15.76it/s, loss=0.00297, lr=1.72e-5, step=5594]"
     ]
    },
    {
     "name": "stdout",
     "output_type": "stream",
     "text": [
      "Saved  0.027354901446419885\n"
     ]
    },
    {
     "name": "stderr",
     "output_type": "stream",
     "text": [
      "Epoch 372: 100%|██████████| 15/15 [00:01<00:00, 14.58it/s, loss=0.00297, lr=1.72e-5, step=5594]\n"
     ]
    },
    {
     "name": "stdout",
     "output_type": "stream",
     "text": [
      "Saved  0.027287198060109992\n"
     ]
    },
    {
     "name": "stderr",
     "output_type": "stream",
     "text": [
      "Epoch 373: 100%|██████████| 15/15 [00:01<00:00, 14.61it/s, loss=0.00188, lr=1.69e-5, step=5609]\n",
      "Epoch 374: 100%|██████████| 15/15 [00:00<00:00, 15.74it/s, loss=0.00132, lr=1.67e-5, step=5624]"
     ]
    },
    {
     "name": "stdout",
     "output_type": "stream",
     "text": [
      "Saved  0.02721844557625138\n"
     ]
    },
    {
     "name": "stderr",
     "output_type": "stream",
     "text": [
      "Epoch 374: 100%|██████████| 15/15 [00:01<00:00, 14.61it/s, loss=0.00132, lr=1.67e-5, step=5624]\n"
     ]
    },
    {
     "name": "stdout",
     "output_type": "stream",
     "text": [
      "Saved  0.027151598640596197\n"
     ]
    },
    {
     "name": "stderr",
     "output_type": "stream",
     "text": [
      "Epoch 375: 100%|██████████| 15/15 [00:01<00:00, 14.23it/s, loss=0.00156, lr=1.64e-5, step=5639]\n",
      "Epoch 376: 100%|██████████| 15/15 [00:00<00:00, 15.67it/s, loss=0.00133, lr=1.62e-5, step=5654]"
     ]
    },
    {
     "name": "stdout",
     "output_type": "stream",
     "text": [
      "Saved  0.027084114424086397\n"
     ]
    },
    {
     "name": "stderr",
     "output_type": "stream",
     "text": [
      "Epoch 376: 100%|██████████| 15/15 [00:01<00:00, 14.71it/s, loss=0.00133, lr=1.62e-5, step=5654]\n"
     ]
    },
    {
     "name": "stdout",
     "output_type": "stream",
     "text": [
      "Saved  0.027017267019819713\n"
     ]
    },
    {
     "name": "stderr",
     "output_type": "stream",
     "text": [
      "Epoch 377: 100%|██████████| 15/15 [00:01<00:00, 14.36it/s, loss=0.00124, lr=1.59e-5, step=5669]\n",
      "Epoch 378: 100%|██████████| 15/15 [00:00<00:00, 15.24it/s, loss=0.00112, lr=1.57e-5, step=5684]"
     ]
    },
    {
     "name": "stdout",
     "output_type": "stream",
     "text": [
      "Saved  0.026950503052449837\n"
     ]
    },
    {
     "name": "stderr",
     "output_type": "stream",
     "text": [
      "Epoch 378: 100%|██████████| 15/15 [00:01<00:00, 14.23it/s, loss=0.00112, lr=1.57e-5, step=5684]\n"
     ]
    },
    {
     "name": "stdout",
     "output_type": "stream",
     "text": [
      "Saved  0.02688344803287468\n"
     ]
    },
    {
     "name": "stderr",
     "output_type": "stream",
     "text": [
      "Epoch 379: 100%|██████████| 15/15 [00:01<00:00, 13.90it/s, loss=0.00162, lr=1.54e-5, step=5699]\n",
      "Epoch 380: 100%|██████████| 15/15 [00:01<00:00, 15.02it/s, loss=0.00335, lr=1.52e-5, step=5714]"
     ]
    },
    {
     "name": "stdout",
     "output_type": "stream",
     "text": [
      "Saved  0.026817492794771847\n"
     ]
    },
    {
     "name": "stderr",
     "output_type": "stream",
     "text": [
      "Epoch 380: 100%|██████████| 15/15 [00:01<00:00, 13.94it/s, loss=0.00335, lr=1.52e-5, step=5714]\n"
     ]
    },
    {
     "name": "stdout",
     "output_type": "stream",
     "text": [
      "Saved  0.026753629211610244\n"
     ]
    },
    {
     "name": "stderr",
     "output_type": "stream",
     "text": [
      "Epoch 381: 100%|██████████| 15/15 [00:01<00:00, 14.07it/s, loss=0.00119, lr=1.5e-5, step=5729]\n",
      "Epoch 382: 100%|██████████| 15/15 [00:00<00:00, 15.13it/s, loss=0.00147, lr=1.47e-5, step=5744]"
     ]
    },
    {
     "name": "stdout",
     "output_type": "stream",
     "text": [
      "Saved  0.026690454785594533\n"
     ]
    },
    {
     "name": "stderr",
     "output_type": "stream",
     "text": [
      "Epoch 382: 100%|██████████| 15/15 [00:01<00:00, 14.17it/s, loss=0.00147, lr=1.47e-5, step=5744]\n"
     ]
    },
    {
     "name": "stdout",
     "output_type": "stream",
     "text": [
      "Saved  0.026626831417767487\n"
     ]
    },
    {
     "name": "stderr",
     "output_type": "stream",
     "text": [
      "Epoch 383: 100%|██████████| 15/15 [00:01<00:00, 13.97it/s, loss=0.00135, lr=1.45e-5, step=5759]\n",
      "Epoch 384: 100%|██████████| 15/15 [00:00<00:00, 15.08it/s, loss=0.00144, lr=1.43e-5, step=5774]"
     ]
    },
    {
     "name": "stdout",
     "output_type": "stream",
     "text": [
      "Saved  0.026562158002324594\n"
     ]
    },
    {
     "name": "stderr",
     "output_type": "stream",
     "text": [
      "Epoch 384: 100%|██████████| 15/15 [00:01<00:00, 14.04it/s, loss=0.00144, lr=1.43e-5, step=5774]\n"
     ]
    },
    {
     "name": "stdout",
     "output_type": "stream",
     "text": [
      "Saved  0.02649922793130318\n"
     ]
    },
    {
     "name": "stderr",
     "output_type": "stream",
     "text": [
      "Epoch 385: 100%|██████████| 15/15 [00:01<00:00, 13.92it/s, loss=0.00134, lr=1.4e-5, step=5789]\n",
      "Epoch 386: 100%|██████████| 15/15 [00:00<00:00, 15.37it/s, loss=0.00196, lr=1.38e-5, step=5804]"
     ]
    },
    {
     "name": "stdout",
     "output_type": "stream",
     "text": [
      "Saved  0.026435447880227367\n"
     ]
    },
    {
     "name": "stderr",
     "output_type": "stream",
     "text": [
      "Epoch 386: 100%|██████████| 15/15 [00:01<00:00, 14.14it/s, loss=0.00196, lr=1.38e-5, step=5804]\n"
     ]
    },
    {
     "name": "stdout",
     "output_type": "stream",
     "text": [
      "Saved  0.02637137395813437\n"
     ]
    },
    {
     "name": "stderr",
     "output_type": "stream",
     "text": [
      "Epoch 387: 100%|██████████| 15/15 [00:01<00:00, 13.86it/s, loss=0.00184, lr=1.36e-5, step=5819]\n",
      "Epoch 388: 100%|██████████| 15/15 [00:00<00:00, 15.26it/s, loss=0.00141, lr=1.33e-5, step=5834]"
     ]
    },
    {
     "name": "stdout",
     "output_type": "stream",
     "text": [
      "Saved  0.026307561110857563\n"
     ]
    },
    {
     "name": "stderr",
     "output_type": "stream",
     "text": [
      "Epoch 388: 100%|██████████| 15/15 [00:01<00:00, 14.15it/s, loss=0.00141, lr=1.33e-5, step=5834]\n"
     ]
    },
    {
     "name": "stdout",
     "output_type": "stream",
     "text": [
      "Saved  0.026244102283221726\n"
     ]
    },
    {
     "name": "stderr",
     "output_type": "stream",
     "text": [
      "Epoch 389: 100%|██████████| 15/15 [00:01<00:00, 13.94it/s, loss=0.00132, lr=1.31e-5, step=5849]\n",
      "Epoch 390: 100%|██████████| 15/15 [00:01<00:00, 15.14it/s, loss=0.00116, lr=1.29e-5, step=5864]"
     ]
    },
    {
     "name": "stdout",
     "output_type": "stream",
     "text": [
      "Saved  0.02618080361852246\n"
     ]
    },
    {
     "name": "stderr",
     "output_type": "stream",
     "text": [
      "Epoch 390: 100%|██████████| 15/15 [00:01<00:00, 14.00it/s, loss=0.00116, lr=1.29e-5, step=5864]\n"
     ]
    },
    {
     "name": "stdout",
     "output_type": "stream",
     "text": [
      "Saved  0.02611815822077123\n"
     ]
    },
    {
     "name": "stderr",
     "output_type": "stream",
     "text": [
      "Epoch 391: 100%|██████████| 15/15 [00:01<00:00, 14.27it/s, loss=0.00159, lr=1.26e-5, step=5879]\n",
      "Epoch 392: 100%|██████████| 15/15 [00:01<00:00, 14.90it/s, loss=0.00181, lr=1.24e-5, step=5894]"
     ]
    },
    {
     "name": "stdout",
     "output_type": "stream",
     "text": [
      "Saved  0.026055524528616654\n"
     ]
    },
    {
     "name": "stderr",
     "output_type": "stream",
     "text": [
      "Epoch 392: 100%|██████████| 15/15 [00:01<00:00, 13.91it/s, loss=0.00181, lr=1.24e-5, step=5894]\n"
     ]
    },
    {
     "name": "stdout",
     "output_type": "stream",
     "text": [
      "Saved  0.025994056091421677\n"
     ]
    },
    {
     "name": "stderr",
     "output_type": "stream",
     "text": [
      "Epoch 393: 100%|██████████| 15/15 [00:01<00:00, 13.84it/s, loss=0.00166, lr=1.22e-5, step=5909]\n",
      "Epoch 394: 100%|██████████| 15/15 [00:00<00:00, 15.18it/s, loss=0.00149, lr=1.2e-5, step=5924] "
     ]
    },
    {
     "name": "stdout",
     "output_type": "stream",
     "text": [
      "Saved  0.02593189165597381\n"
     ]
    },
    {
     "name": "stderr",
     "output_type": "stream",
     "text": [
      "Epoch 394: 100%|██████████| 15/15 [00:01<00:00, 14.13it/s, loss=0.00149, lr=1.2e-5, step=5924]\n"
     ]
    },
    {
     "name": "stdout",
     "output_type": "stream",
     "text": [
      "Saved  0.025870266818341106\n"
     ]
    },
    {
     "name": "stderr",
     "output_type": "stream",
     "text": [
      "Epoch 395: 100%|██████████| 15/15 [00:01<00:00, 13.80it/s, loss=0.00108, lr=1.18e-5, step=5939]\n",
      "Epoch 396: 100%|██████████| 15/15 [00:00<00:00, 15.19it/s, loss=0.0011, lr=1.15e-5, step=5954] "
     ]
    },
    {
     "name": "stdout",
     "output_type": "stream",
     "text": [
      "Saved  0.02580856361809968\n"
     ]
    },
    {
     "name": "stderr",
     "output_type": "stream",
     "text": [
      "Epoch 396: 100%|██████████| 15/15 [00:01<00:00, 14.10it/s, loss=0.0011, lr=1.15e-5, step=5954]\n"
     ]
    },
    {
     "name": "stdout",
     "output_type": "stream",
     "text": [
      "Saved  0.025747453003097637\n"
     ]
    },
    {
     "name": "stderr",
     "output_type": "stream",
     "text": [
      "Epoch 397: 100%|██████████| 15/15 [00:01<00:00, 14.02it/s, loss=0.00116, lr=1.13e-5, step=5969]\n",
      "Epoch 398: 100%|██████████| 15/15 [00:00<00:00, 15.09it/s, loss=0.00138, lr=1.11e-5, step=5984]"
     ]
    },
    {
     "name": "stdout",
     "output_type": "stream",
     "text": [
      "Saved  0.025687428813372444\n"
     ]
    },
    {
     "name": "stderr",
     "output_type": "stream",
     "text": [
      "Epoch 398: 100%|██████████| 15/15 [00:01<00:00, 14.14it/s, loss=0.00138, lr=1.11e-5, step=5984]\n",
      "self.unet=CustomConditionedUNet(\n",
      "  (unet): UNet2DConditionModel(\n",
      "    (conv_in): Conv2d(3, 64, kernel_size=(3, 3), stride=(1, 1), padding=(1, 1))\n",
      "    (time_proj): Timesteps()\n",
      "    (time_embedding): TimestepEmbedding(\n",
      "      (linear_1): Linear(in_features=64, out_features=256, bias=True)\n",
      "      (act): SiLU()\n",
      "      (linear_2): Linear(in_features=256, out_features=256, bias=True)\n",
      "    )\n",
      "    (down_blocks): ModuleList(\n",
      "      (0): DownBlock2D(\n",
      "        (resnets): ModuleList(\n",
      "          (0-1): 2 x ResnetBlock2D(\n",
      "            (norm1): GroupNorm(32, 64, eps=1e-05, affine=True)\n",
      "            (conv1): Conv2d(64, 64, kernel_size=(3, 3), stride=(1, 1), padding=(1, 1))\n",
      "            (time_emb_proj): Linear(in_features=256, out_features=64, bias=True)\n",
      "            (norm2): GroupNorm(32, 64, eps=1e-05, affine=True)\n",
      "            (dropout): Dropout(p=0.0, inplace=False)\n",
      "            (conv2): Conv2d(64, 64, kernel_size=(3, 3), stride=(1, 1), padding=(1, 1))\n",
      "            (nonlinearity): SiLU()\n",
      "          )\n",
      "        )\n",
      "        (downsamplers): ModuleList(\n",
      "          (0): Downsample2D(\n",
      "            (conv): Conv2d(64, 64, kernel_size=(3, 3), stride=(2, 2), padding=(1, 1))\n",
      "          )\n",
      "        )\n",
      "      )\n",
      "      (1): AttnDownBlock2D(\n",
      "        (attentions): ModuleList(\n",
      "          (0-1): 2 x Attention(\n",
      "            (group_norm): GroupNorm(32, 128, eps=1e-05, affine=True)\n",
      "            (to_q): Linear(in_features=128, out_features=128, bias=True)\n",
      "            (to_k): Linear(in_features=128, out_features=128, bias=True)\n",
      "            (to_v): Linear(in_features=128, out_features=128, bias=True)\n",
      "            (to_out): ModuleList(\n",
      "              (0): Linear(in_features=128, out_features=128, bias=True)\n",
      "              (1): Dropout(p=0.0, inplace=False)\n",
      "            )\n",
      "          )\n",
      "        )\n",
      "        (resnets): ModuleList(\n",
      "          (0): ResnetBlock2D(\n",
      "            (norm1): GroupNorm(32, 64, eps=1e-05, affine=True)\n",
      "            (conv1): Conv2d(64, 128, kernel_size=(3, 3), stride=(1, 1), padding=(1, 1))\n",
      "            (time_emb_proj): Linear(in_features=256, out_features=128, bias=True)\n",
      "            (norm2): GroupNorm(32, 128, eps=1e-05, affine=True)\n",
      "            (dropout): Dropout(p=0.0, inplace=False)\n",
      "            (conv2): Conv2d(128, 128, kernel_size=(3, 3), stride=(1, 1), padding=(1, 1))\n",
      "            (nonlinearity): SiLU()\n",
      "            (conv_shortcut): Conv2d(64, 128, kernel_size=(1, 1), stride=(1, 1))\n",
      "          )\n",
      "          (1): ResnetBlock2D(\n",
      "            (norm1): GroupNorm(32, 128, eps=1e-05, affine=True)\n",
      "            (conv1): Conv2d(128, 128, kernel_size=(3, 3), stride=(1, 1), padding=(1, 1))\n",
      "            (time_emb_proj): Linear(in_features=256, out_features=128, bias=True)\n",
      "            (norm2): GroupNorm(32, 128, eps=1e-05, affine=True)\n",
      "            (dropout): Dropout(p=0.0, inplace=False)\n",
      "            (conv2): Conv2d(128, 128, kernel_size=(3, 3), stride=(1, 1), padding=(1, 1))\n",
      "            (nonlinearity): SiLU()\n",
      "          )\n",
      "        )\n",
      "        (downsamplers): ModuleList(\n",
      "          (0): Downsample2D(\n",
      "            (conv): Conv2d(128, 128, kernel_size=(3, 3), stride=(2, 2), padding=(1, 1))\n",
      "          )\n",
      "        )\n",
      "      )\n",
      "      (2): AttnDownBlock2D(\n",
      "        (attentions): ModuleList(\n",
      "          (0-1): 2 x Attention(\n",
      "            (group_norm): GroupNorm(32, 256, eps=1e-05, affine=True)\n",
      "            (to_q): Linear(in_features=256, out_features=256, bias=True)\n",
      "            (to_k): Linear(in_features=256, out_features=256, bias=True)\n",
      "            (to_v): Linear(in_features=256, out_features=256, bias=True)\n",
      "            (to_out): ModuleList(\n",
      "              (0): Linear(in_features=256, out_features=256, bias=True)\n",
      "              (1): Dropout(p=0.0, inplace=False)\n",
      "            )\n",
      "          )\n",
      "        )\n",
      "        (resnets): ModuleList(\n",
      "          (0): ResnetBlock2D(\n",
      "            (norm1): GroupNorm(32, 128, eps=1e-05, affine=True)\n",
      "            (conv1): Conv2d(128, 256, kernel_size=(3, 3), stride=(1, 1), padding=(1, 1))\n",
      "            (time_emb_proj): Linear(in_features=256, out_features=256, bias=True)\n",
      "            (norm2): GroupNorm(32, 256, eps=1e-05, affine=True)\n",
      "            (dropout): Dropout(p=0.0, inplace=False)\n",
      "            (conv2): Conv2d(256, 256, kernel_size=(3, 3), stride=(1, 1), padding=(1, 1))\n",
      "            (nonlinearity): SiLU()\n",
      "            (conv_shortcut): Conv2d(128, 256, kernel_size=(1, 1), stride=(1, 1))\n",
      "          )\n",
      "          (1): ResnetBlock2D(\n",
      "            (norm1): GroupNorm(32, 256, eps=1e-05, affine=True)\n",
      "            (conv1): Conv2d(256, 256, kernel_size=(3, 3), stride=(1, 1), padding=(1, 1))\n",
      "            (time_emb_proj): Linear(in_features=256, out_features=256, bias=True)\n",
      "            (norm2): GroupNorm(32, 256, eps=1e-05, affine=True)\n",
      "            (dropout): Dropout(p=0.0, inplace=False)\n",
      "            (conv2): Conv2d(256, 256, kernel_size=(3, 3), stride=(1, 1), padding=(1, 1))\n",
      "            (nonlinearity): SiLU()\n",
      "          )\n",
      "        )\n",
      "      )\n",
      "    )\n",
      "    (up_blocks): ModuleList(\n",
      "      (0): AttnUpBlock2D(\n",
      "        (attentions): ModuleList(\n",
      "          (0-2): 3 x Attention(\n",
      "            (group_norm): GroupNorm(32, 256, eps=1e-05, affine=True)\n",
      "            (to_q): Linear(in_features=256, out_features=256, bias=True)\n",
      "            (to_k): Linear(in_features=256, out_features=256, bias=True)\n",
      "            (to_v): Linear(in_features=256, out_features=256, bias=True)\n",
      "            (to_out): ModuleList(\n",
      "              (0): Linear(in_features=256, out_features=256, bias=True)\n",
      "              (1): Dropout(p=0.0, inplace=False)\n",
      "            )\n",
      "          )\n",
      "        )\n",
      "        (resnets): ModuleList(\n",
      "          (0-1): 2 x ResnetBlock2D(\n",
      "            (norm1): GroupNorm(32, 512, eps=1e-05, affine=True)\n",
      "            (conv1): Conv2d(512, 256, kernel_size=(3, 3), stride=(1, 1), padding=(1, 1))\n",
      "            (time_emb_proj): Linear(in_features=256, out_features=256, bias=True)\n",
      "            (norm2): GroupNorm(32, 256, eps=1e-05, affine=True)\n",
      "            (dropout): Dropout(p=0.0, inplace=False)\n",
      "            (conv2): Conv2d(256, 256, kernel_size=(3, 3), stride=(1, 1), padding=(1, 1))\n",
      "            (nonlinearity): SiLU()\n",
      "            (conv_shortcut): Conv2d(512, 256, kernel_size=(1, 1), stride=(1, 1))\n",
      "          )\n",
      "          (2): ResnetBlock2D(\n",
      "            (norm1): GroupNorm(32, 384, eps=1e-05, affine=True)\n",
      "            (conv1): Conv2d(384, 256, kernel_size=(3, 3), stride=(1, 1), padding=(1, 1))\n",
      "            (time_emb_proj): Linear(in_features=256, out_features=256, bias=True)\n",
      "            (norm2): GroupNorm(32, 256, eps=1e-05, affine=True)\n",
      "            (dropout): Dropout(p=0.0, inplace=False)\n",
      "            (conv2): Conv2d(256, 256, kernel_size=(3, 3), stride=(1, 1), padding=(1, 1))\n",
      "            (nonlinearity): SiLU()\n",
      "            (conv_shortcut): Conv2d(384, 256, kernel_size=(1, 1), stride=(1, 1))\n",
      "          )\n",
      "        )\n",
      "        (upsamplers): ModuleList(\n",
      "          (0): Upsample2D(\n",
      "            (conv): Conv2d(256, 256, kernel_size=(3, 3), stride=(1, 1), padding=(1, 1))\n",
      "          )\n",
      "        )\n",
      "      )\n",
      "      (1): AttnUpBlock2D(\n",
      "        (attentions): ModuleList(\n",
      "          (0-2): 3 x Attention(\n",
      "            (group_norm): GroupNorm(32, 128, eps=1e-05, affine=True)\n",
      "            (to_q): Linear(in_features=128, out_features=128, bias=True)\n",
      "            (to_k): Linear(in_features=128, out_features=128, bias=True)\n",
      "            (to_v): Linear(in_features=128, out_features=128, bias=True)\n",
      "            (to_out): ModuleList(\n",
      "              (0): Linear(in_features=128, out_features=128, bias=True)\n",
      "              (1): Dropout(p=0.0, inplace=False)\n",
      "            )\n",
      "          )\n",
      "        )\n",
      "        (resnets): ModuleList(\n",
      "          (0): ResnetBlock2D(\n",
      "            (norm1): GroupNorm(32, 384, eps=1e-05, affine=True)\n",
      "            (conv1): Conv2d(384, 128, kernel_size=(3, 3), stride=(1, 1), padding=(1, 1))\n",
      "            (time_emb_proj): Linear(in_features=256, out_features=128, bias=True)\n",
      "            (norm2): GroupNorm(32, 128, eps=1e-05, affine=True)\n",
      "            (dropout): Dropout(p=0.0, inplace=False)\n",
      "            (conv2): Conv2d(128, 128, kernel_size=(3, 3), stride=(1, 1), padding=(1, 1))\n",
      "            (nonlinearity): SiLU()\n",
      "            (conv_shortcut): Conv2d(384, 128, kernel_size=(1, 1), stride=(1, 1))\n",
      "          )\n",
      "          (1): ResnetBlock2D(\n",
      "            (norm1): GroupNorm(32, 256, eps=1e-05, affine=True)\n",
      "            (conv1): Conv2d(256, 128, kernel_size=(3, 3), stride=(1, 1), padding=(1, 1))\n",
      "            (time_emb_proj): Linear(in_features=256, out_features=128, bias=True)\n",
      "            (norm2): GroupNorm(32, 128, eps=1e-05, affine=True)\n",
      "            (dropout): Dropout(p=0.0, inplace=False)\n",
      "            (conv2): Conv2d(128, 128, kernel_size=(3, 3), stride=(1, 1), padding=(1, 1))\n",
      "            (nonlinearity): SiLU()\n",
      "            (conv_shortcut): Conv2d(256, 128, kernel_size=(1, 1), stride=(1, 1))\n",
      "          )\n",
      "          (2): ResnetBlock2D(\n",
      "            (norm1): GroupNorm(32, 192, eps=1e-05, affine=True)\n",
      "            (conv1): Conv2d(192, 128, kernel_size=(3, 3), stride=(1, 1), padding=(1, 1))\n",
      "            (time_emb_proj): Linear(in_features=256, out_features=128, bias=True)\n",
      "            (norm2): GroupNorm(32, 128, eps=1e-05, affine=True)\n",
      "            (dropout): Dropout(p=0.0, inplace=False)\n",
      "            (conv2): Conv2d(128, 128, kernel_size=(3, 3), stride=(1, 1), padding=(1, 1))\n",
      "            (nonlinearity): SiLU()\n",
      "            (conv_shortcut): Conv2d(192, 128, kernel_size=(1, 1), stride=(1, 1))\n",
      "          )\n",
      "        )\n",
      "        (upsamplers): ModuleList(\n",
      "          (0): Upsample2D(\n",
      "            (conv): Conv2d(128, 128, kernel_size=(3, 3), stride=(1, 1), padding=(1, 1))\n",
      "          )\n",
      "        )\n",
      "      )\n",
      "      (2): UpBlock2D(\n",
      "        (resnets): ModuleList(\n",
      "          (0): ResnetBlock2D(\n",
      "            (norm1): GroupNorm(32, 192, eps=1e-05, affine=True)\n",
      "            (conv1): Conv2d(192, 64, kernel_size=(3, 3), stride=(1, 1), padding=(1, 1))\n",
      "            (time_emb_proj): Linear(in_features=256, out_features=64, bias=True)\n",
      "            (norm2): GroupNorm(32, 64, eps=1e-05, affine=True)\n",
      "            (dropout): Dropout(p=0.0, inplace=False)\n",
      "            (conv2): Conv2d(64, 64, kernel_size=(3, 3), stride=(1, 1), padding=(1, 1))\n",
      "            (nonlinearity): SiLU()\n",
      "            (conv_shortcut): Conv2d(192, 64, kernel_size=(1, 1), stride=(1, 1))\n",
      "          )\n",
      "          (1-2): 2 x ResnetBlock2D(\n",
      "            (norm1): GroupNorm(32, 128, eps=1e-05, affine=True)\n",
      "            (conv1): Conv2d(128, 64, kernel_size=(3, 3), stride=(1, 1), padding=(1, 1))\n",
      "            (time_emb_proj): Linear(in_features=256, out_features=64, bias=True)\n",
      "            (norm2): GroupNorm(32, 64, eps=1e-05, affine=True)\n",
      "            (dropout): Dropout(p=0.0, inplace=False)\n",
      "            (conv2): Conv2d(64, 64, kernel_size=(3, 3), stride=(1, 1), padding=(1, 1))\n",
      "            (nonlinearity): SiLU()\n",
      "            (conv_shortcut): Conv2d(128, 64, kernel_size=(1, 1), stride=(1, 1))\n",
      "          )\n",
      "        )\n",
      "      )\n",
      "    )\n",
      "    (mid_block): UNetMidBlock2DCrossAttn(\n",
      "      (attentions): ModuleList(\n",
      "        (0): Transformer2DModel(\n",
      "          (norm): GroupNorm(32, 256, eps=1e-06, affine=True)\n",
      "          (proj_in): Conv2d(256, 256, kernel_size=(1, 1), stride=(1, 1))\n",
      "          (transformer_blocks): ModuleList(\n",
      "            (0): BasicTransformerBlock(\n",
      "              (norm1): LayerNorm((256,), eps=1e-05, elementwise_affine=True)\n",
      "              (attn1): Attention(\n",
      "                (to_q): Linear(in_features=256, out_features=256, bias=False)\n",
      "                (to_k): Linear(in_features=256, out_features=256, bias=False)\n",
      "                (to_v): Linear(in_features=256, out_features=256, bias=False)\n",
      "                (to_out): ModuleList(\n",
      "                  (0): Linear(in_features=256, out_features=256, bias=True)\n",
      "                  (1): Dropout(p=0.0, inplace=False)\n",
      "                )\n",
      "              )\n",
      "              (norm2): LayerNorm((256,), eps=1e-05, elementwise_affine=True)\n",
      "              (attn2): Attention(\n",
      "                (to_q): Linear(in_features=256, out_features=256, bias=False)\n",
      "                (to_k): Linear(in_features=128, out_features=256, bias=False)\n",
      "                (to_v): Linear(in_features=128, out_features=256, bias=False)\n",
      "                (to_out): ModuleList(\n",
      "                  (0): Linear(in_features=256, out_features=256, bias=True)\n",
      "                  (1): Dropout(p=0.0, inplace=False)\n",
      "                )\n",
      "              )\n",
      "              (norm3): LayerNorm((256,), eps=1e-05, elementwise_affine=True)\n",
      "              (ff): FeedForward(\n",
      "                (net): ModuleList(\n",
      "                  (0): GEGLU(\n",
      "                    (proj): Linear(in_features=256, out_features=2048, bias=True)\n",
      "                  )\n",
      "                  (1): Dropout(p=0.0, inplace=False)\n",
      "                  (2): Linear(in_features=1024, out_features=256, bias=True)\n",
      "                )\n",
      "              )\n",
      "            )\n",
      "          )\n",
      "          (proj_out): Conv2d(256, 256, kernel_size=(1, 1), stride=(1, 1))\n",
      "        )\n",
      "      )\n",
      "      (resnets): ModuleList(\n",
      "        (0-1): 2 x ResnetBlock2D(\n",
      "          (norm1): GroupNorm(32, 256, eps=1e-05, affine=True)\n",
      "          (conv1): Conv2d(256, 256, kernel_size=(3, 3), stride=(1, 1), padding=(1, 1))\n",
      "          (time_emb_proj): Linear(in_features=256, out_features=256, bias=True)\n",
      "          (norm2): GroupNorm(32, 256, eps=1e-05, affine=True)\n",
      "          (dropout): Dropout(p=0.0, inplace=False)\n",
      "          (conv2): Conv2d(256, 256, kernel_size=(3, 3), stride=(1, 1), padding=(1, 1))\n",
      "          (nonlinearity): SiLU()\n",
      "        )\n",
      "      )\n",
      "    )\n",
      "    (conv_norm_out): GroupNorm(32, 64, eps=1e-05, affine=True)\n",
      "    (conv_act): SiLU()\n",
      "    (conv_out): Conv2d(64, 3, kernel_size=(3, 3), stride=(1, 1), padding=(1, 1))\n",
      "  )\n",
      "  (cond_embed): Sequential(\n",
      "    (0): Linear(in_features=2, out_features=128, bias=True)\n",
      "    (1): SiLU()\n",
      "    (2): Linear(in_features=128, out_features=128, bias=True)\n",
      "  )\n",
      ") of type <class '__main__.CustomConditionedUNet'> cannot be saved.\n"
     ]
    },
    {
     "name": "stdout",
     "output_type": "stream",
     "text": [
      "Saved  0.02562709657488934\n"
     ]
    },
    {
     "name": "stderr",
     "output_type": "stream",
     "text": [
      "Epoch 399: 100%|██████████| 15/15 [00:01<00:00, 13.81it/s, loss=0.00121, lr=1.09e-5, step=5999]\n",
      "Epoch 400: 100%|██████████| 15/15 [00:00<00:00, 15.19it/s, loss=0.00188, lr=1.07e-5, step=6014]"
     ]
    },
    {
     "name": "stdout",
     "output_type": "stream",
     "text": [
      "Saved  0.025568698897666716\n"
     ]
    },
    {
     "name": "stderr",
     "output_type": "stream",
     "text": [
      "Epoch 400: 100%|██████████| 15/15 [00:01<00:00, 14.14it/s, loss=0.00188, lr=1.07e-5, step=6014]\n"
     ]
    },
    {
     "name": "stdout",
     "output_type": "stream",
     "text": [
      "Saved  0.02550854144458061\n"
     ]
    },
    {
     "name": "stderr",
     "output_type": "stream",
     "text": [
      "Epoch 401: 100%|██████████| 15/15 [00:01<00:00, 13.88it/s, loss=0.00235, lr=1.05e-5, step=6029]\n",
      "Epoch 402: 100%|██████████| 15/15 [00:00<00:00, 15.08it/s, loss=0.00166, lr=1.03e-5, step=6044]"
     ]
    },
    {
     "name": "stdout",
     "output_type": "stream",
     "text": [
      "Saved  0.02544862584297979\n"
     ]
    },
    {
     "name": "stderr",
     "output_type": "stream",
     "text": [
      "Epoch 402: 100%|██████████| 15/15 [00:01<00:00, 14.21it/s, loss=0.00166, lr=1.03e-5, step=6044]\n"
     ]
    },
    {
     "name": "stdout",
     "output_type": "stream",
     "text": [
      "Saved  0.025391121976240463\n"
     ]
    },
    {
     "name": "stderr",
     "output_type": "stream",
     "text": [
      "Epoch 403: 100%|██████████| 15/15 [00:01<00:00, 14.39it/s, loss=0.00169, lr=1.01e-5, step=6059]\n",
      "Epoch 404: 100%|██████████| 15/15 [00:00<00:00, 15.06it/s, loss=0.00106, lr=9.88e-6, step=6074]"
     ]
    },
    {
     "name": "stdout",
     "output_type": "stream",
     "text": [
      "Saved  0.025332599475447075\n"
     ]
    },
    {
     "name": "stderr",
     "output_type": "stream",
     "text": [
      "Epoch 404: 100%|██████████| 15/15 [00:01<00:00, 14.13it/s, loss=0.00106, lr=9.88e-6, step=6074]\n"
     ]
    },
    {
     "name": "stdout",
     "output_type": "stream",
     "text": [
      "Saved  0.025274282263623236\n"
     ]
    },
    {
     "name": "stderr",
     "output_type": "stream",
     "text": [
      "Epoch 405: 100%|██████████| 15/15 [00:01<00:00, 14.06it/s, loss=0.00207, lr=9.68e-6, step=6089]\n",
      "Epoch 406: 100%|██████████| 15/15 [00:00<00:00, 15.40it/s, loss=0.00119, lr=9.48e-6, step=6104]"
     ]
    },
    {
     "name": "stdout",
     "output_type": "stream",
     "text": [
      "Saved  0.02521639211672716\n"
     ]
    },
    {
     "name": "stderr",
     "output_type": "stream",
     "text": [
      "Epoch 406: 100%|██████████| 15/15 [00:01<00:00, 14.30it/s, loss=0.00119, lr=9.48e-6, step=6104]\n"
     ]
    },
    {
     "name": "stdout",
     "output_type": "stream",
     "text": [
      "Saved  0.025158100233495455\n"
     ]
    },
    {
     "name": "stderr",
     "output_type": "stream",
     "text": [
      "Epoch 407: 100%|██████████| 15/15 [00:01<00:00, 13.93it/s, loss=0.00125, lr=9.29e-6, step=6119]\n",
      "Epoch 408: 100%|██████████| 15/15 [00:00<00:00, 15.62it/s, loss=0.00128, lr=9.09e-6, step=6134]"
     ]
    },
    {
     "name": "stdout",
     "output_type": "stream",
     "text": [
      "Saved  0.02510105257593141\n"
     ]
    },
    {
     "name": "stderr",
     "output_type": "stream",
     "text": [
      "Epoch 408: 100%|██████████| 15/15 [00:01<00:00, 14.66it/s, loss=0.00128, lr=9.09e-6, step=6134]\n"
     ]
    },
    {
     "name": "stdout",
     "output_type": "stream",
     "text": [
      "Saved  0.025043559585039208\n"
     ]
    },
    {
     "name": "stderr",
     "output_type": "stream",
     "text": [
      "Epoch 409: 100%|██████████| 15/15 [00:01<00:00, 14.07it/s, loss=0.00196, lr=8.9e-6, step=6149]\n",
      "Epoch 410: 100%|██████████| 15/15 [00:00<00:00, 15.49it/s, loss=0.0013, lr=8.71e-6, step=6164] "
     ]
    },
    {
     "name": "stdout",
     "output_type": "stream",
     "text": [
      "Saved  0.024986797152011558\n"
     ]
    },
    {
     "name": "stderr",
     "output_type": "stream",
     "text": [
      "Epoch 410: 100%|██████████| 15/15 [00:01<00:00, 14.53it/s, loss=0.0013, lr=8.71e-6, step=6164]\n"
     ]
    },
    {
     "name": "stdout",
     "output_type": "stream",
     "text": [
      "Saved  0.024930377638541633\n"
     ]
    },
    {
     "name": "stderr",
     "output_type": "stream",
     "text": [
      "Epoch 411: 100%|██████████| 15/15 [00:01<00:00, 14.40it/s, loss=0.00106, lr=8.52e-6, step=6179]\n",
      "Epoch 412: 100%|██████████| 15/15 [00:00<00:00, 15.81it/s, loss=0.00355, lr=8.33e-6, step=6194]"
     ]
    },
    {
     "name": "stdout",
     "output_type": "stream",
     "text": [
      "Saved  0.024874831718517447\n"
     ]
    },
    {
     "name": "stderr",
     "output_type": "stream",
     "text": [
      "Epoch 412: 100%|██████████| 15/15 [00:01<00:00, 14.60it/s, loss=0.00355, lr=8.33e-6, step=6194]\n"
     ]
    },
    {
     "name": "stdout",
     "output_type": "stream",
     "text": [
      "Saved  0.02481889742172185\n"
     ]
    },
    {
     "name": "stderr",
     "output_type": "stream",
     "text": [
      "Epoch 413: 100%|██████████| 15/15 [00:01<00:00, 14.41it/s, loss=0.00244, lr=8.15e-6, step=6209]\n",
      "Epoch 414: 100%|██████████| 15/15 [00:00<00:00, 15.62it/s, loss=0.00716, lr=7.96e-6, step=6224]"
     ]
    },
    {
     "name": "stdout",
     "output_type": "stream",
     "text": [
      "Saved  0.02476523579185245\n"
     ]
    },
    {
     "name": "stderr",
     "output_type": "stream",
     "text": [
      "Epoch 414: 100%|██████████| 15/15 [00:01<00:00, 14.55it/s, loss=0.00716, lr=7.96e-6, step=6224]\n"
     ]
    },
    {
     "name": "stdout",
     "output_type": "stream",
     "text": [
      "Saved  0.024710175064095754\n"
     ]
    },
    {
     "name": "stderr",
     "output_type": "stream",
     "text": [
      "Epoch 415: 100%|██████████| 15/15 [00:01<00:00, 14.28it/s, loss=0.00549, lr=7.78e-6, step=6239]\n",
      "Epoch 416: 100%|██████████| 15/15 [00:00<00:00, 15.71it/s, loss=0.00168, lr=7.6e-6, step=6254] "
     ]
    },
    {
     "name": "stdout",
     "output_type": "stream",
     "text": [
      "Saved  0.02465498675278639\n"
     ]
    },
    {
     "name": "stderr",
     "output_type": "stream",
     "text": [
      "Epoch 416: 100%|██████████| 15/15 [00:01<00:00, 14.58it/s, loss=0.00168, lr=7.6e-6, step=6254]\n"
     ]
    },
    {
     "name": "stdout",
     "output_type": "stream",
     "text": [
      "Saved  0.024599374748870025\n"
     ]
    },
    {
     "name": "stderr",
     "output_type": "stream",
     "text": [
      "Epoch 417: 100%|██████████| 15/15 [00:01<00:00, 14.05it/s, loss=0.00195, lr=7.43e-6, step=6269]\n",
      "Epoch 418: 100%|██████████| 15/15 [00:00<00:00, 15.61it/s, loss=0.00174, lr=7.25e-6, step=6284]"
     ]
    },
    {
     "name": "stdout",
     "output_type": "stream",
     "text": [
      "Saved  0.024544351550392206\n"
     ]
    },
    {
     "name": "stderr",
     "output_type": "stream",
     "text": [
      "Epoch 418: 100%|██████████| 15/15 [00:01<00:00, 14.54it/s, loss=0.00174, lr=7.25e-6, step=6284]\n"
     ]
    },
    {
     "name": "stdout",
     "output_type": "stream",
     "text": [
      "Saved  0.024489529751571974\n"
     ]
    },
    {
     "name": "stderr",
     "output_type": "stream",
     "text": [
      "Epoch 419: 100%|██████████| 15/15 [00:01<00:00, 14.48it/s, loss=0.00163, lr=7.08e-6, step=6299]\n",
      "Epoch 420: 100%|██████████| 15/15 [00:00<00:00, 15.42it/s, loss=0.00102, lr=6.91e-6, step=6314]"
     ]
    },
    {
     "name": "stdout",
     "output_type": "stream",
     "text": [
      "Saved  0.02443470896301151\n"
     ]
    },
    {
     "name": "stderr",
     "output_type": "stream",
     "text": [
      "Epoch 420: 100%|██████████| 15/15 [00:01<00:00, 14.39it/s, loss=0.00102, lr=6.91e-6, step=6314]\n"
     ]
    },
    {
     "name": "stdout",
     "output_type": "stream",
     "text": [
      "Saved  0.024381353972580115\n"
     ]
    },
    {
     "name": "stderr",
     "output_type": "stream",
     "text": [
      "Epoch 421: 100%|██████████| 15/15 [00:01<00:00, 14.44it/s, loss=0.0016, lr=6.74e-6, step=6329]\n",
      "Epoch 422: 100%|██████████| 15/15 [00:00<00:00, 15.53it/s, loss=0.004, lr=6.57e-6, step=6344]  "
     ]
    },
    {
     "name": "stdout",
     "output_type": "stream",
     "text": [
      "Saved  0.02432883624566302\n"
     ]
    },
    {
     "name": "stderr",
     "output_type": "stream",
     "text": [
      "Epoch 422: 100%|██████████| 15/15 [00:01<00:00, 14.61it/s, loss=0.004, lr=6.57e-6, step=6344]\n"
     ]
    },
    {
     "name": "stdout",
     "output_type": "stream",
     "text": [
      "Saved  0.024274565027808878\n"
     ]
    },
    {
     "name": "stderr",
     "output_type": "stream",
     "text": [
      "Epoch 423: 100%|██████████| 15/15 [00:01<00:00, 14.61it/s, loss=0.00123, lr=6.4e-6, step=6359]\n",
      "Epoch 424: 100%|██████████| 15/15 [00:00<00:00, 15.70it/s, loss=0.00108, lr=6.24e-6, step=6374]"
     ]
    },
    {
     "name": "stdout",
     "output_type": "stream",
     "text": [
      "Saved  0.0242206650456578\n"
     ]
    },
    {
     "name": "stderr",
     "output_type": "stream",
     "text": [
      "Epoch 424: 100%|██████████| 15/15 [00:01<00:00, 14.56it/s, loss=0.00108, lr=6.24e-6, step=6374]\n"
     ]
    },
    {
     "name": "stdout",
     "output_type": "stream",
     "text": [
      "Saved  0.02416745882288404\n"
     ]
    },
    {
     "name": "stderr",
     "output_type": "stream",
     "text": [
      "Epoch 425: 100%|██████████| 15/15 [00:01<00:00, 14.28it/s, loss=0.00123, lr=6.08e-6, step=6389]\n",
      "Epoch 426: 100%|██████████| 15/15 [00:00<00:00, 14.94it/s, loss=0.00147, lr=5.92e-6, step=6404]"
     ]
    },
    {
     "name": "stdout",
     "output_type": "stream",
     "text": [
      "Saved  0.024114299504383367\n"
     ]
    },
    {
     "name": "stderr",
     "output_type": "stream",
     "text": [
      "Epoch 426: 100%|██████████| 15/15 [00:01<00:00, 14.14it/s, loss=0.00147, lr=5.92e-6, step=6404]\n"
     ]
    },
    {
     "name": "stdout",
     "output_type": "stream",
     "text": [
      "Saved  0.024061699242550864\n"
     ]
    },
    {
     "name": "stderr",
     "output_type": "stream",
     "text": [
      "Epoch 427: 100%|██████████| 15/15 [00:01<00:00, 14.13it/s, loss=0.00132, lr=5.76e-6, step=6419]\n",
      "Epoch 428: 100%|██████████| 15/15 [00:00<00:00, 15.56it/s, loss=0.00102, lr=5.6e-6, step=6434]  "
     ]
    },
    {
     "name": "stdout",
     "output_type": "stream",
     "text": [
      "Saved  0.024008737407026273\n"
     ]
    },
    {
     "name": "stderr",
     "output_type": "stream",
     "text": [
      "Epoch 428: 100%|██████████| 15/15 [00:01<00:00, 14.47it/s, loss=0.00102, lr=5.6e-6, step=6434]\n"
     ]
    },
    {
     "name": "stdout",
     "output_type": "stream",
     "text": [
      "Saved  0.02395622322613792\n"
     ]
    },
    {
     "name": "stderr",
     "output_type": "stream",
     "text": [
      "Epoch 429: 100%|██████████| 15/15 [00:01<00:00, 14.22it/s, loss=0.000876, lr=5.45e-6, step=6449]\n",
      "Epoch 430: 100%|██████████| 15/15 [00:00<00:00, 15.54it/s, loss=0.00141, lr=5.3e-6, step=6464] "
     ]
    },
    {
     "name": "stdout",
     "output_type": "stream",
     "text": [
      "Saved  0.023904175174779822\n"
     ]
    },
    {
     "name": "stderr",
     "output_type": "stream",
     "text": [
      "Epoch 430: 100%|██████████| 15/15 [00:01<00:00, 14.33it/s, loss=0.00141, lr=5.3e-6, step=6464]\n"
     ]
    },
    {
     "name": "stdout",
     "output_type": "stream",
     "text": [
      "Saved  0.02385314380364524\n"
     ]
    },
    {
     "name": "stderr",
     "output_type": "stream",
     "text": [
      "Epoch 431: 100%|██████████| 15/15 [00:01<00:00, 13.96it/s, loss=0.00105, lr=5.15e-6, step=6479]\n",
      "Epoch 432: 100%|██████████| 15/15 [00:01<00:00, 14.77it/s, loss=0.00128, lr=5e-6, step=6494]   "
     ]
    },
    {
     "name": "stdout",
     "output_type": "stream",
     "text": [
      "Saved  0.02380141704155059\n"
     ]
    },
    {
     "name": "stderr",
     "output_type": "stream",
     "text": [
      "Epoch 432: 100%|██████████| 15/15 [00:01<00:00, 13.97it/s, loss=0.00128, lr=5e-6, step=6494]\n"
     ]
    },
    {
     "name": "stdout",
     "output_type": "stream",
     "text": [
      "Saved  0.023749879346541724\n"
     ]
    },
    {
     "name": "stderr",
     "output_type": "stream",
     "text": [
      "Epoch 433: 100%|██████████| 15/15 [00:01<00:00, 14.07it/s, loss=0.00119, lr=4.85e-6, step=6509]\n",
      "Epoch 434: 100%|██████████| 15/15 [00:00<00:00, 15.59it/s, loss=0.00134, lr=4.71e-6, step=6524]"
     ]
    },
    {
     "name": "stdout",
     "output_type": "stream",
     "text": [
      "Saved  0.02369894207819183\n"
     ]
    },
    {
     "name": "stderr",
     "output_type": "stream",
     "text": [
      "Epoch 434: 100%|██████████| 15/15 [00:01<00:00, 14.40it/s, loss=0.00134, lr=4.71e-6, step=6524]\n"
     ]
    },
    {
     "name": "stdout",
     "output_type": "stream",
     "text": [
      "Saved  0.023648196871485703\n"
     ]
    },
    {
     "name": "stderr",
     "output_type": "stream",
     "text": [
      "Epoch 435: 100%|██████████| 15/15 [00:01<00:00, 14.25it/s, loss=0.00137, lr=4.57e-6, step=6539]\n",
      "Epoch 436: 100%|██████████| 15/15 [00:00<00:00, 15.48it/s, loss=0.00117, lr=4.43e-6, step=6554]"
     ]
    },
    {
     "name": "stdout",
     "output_type": "stream",
     "text": [
      "Saved  0.023597138774461197\n"
     ]
    },
    {
     "name": "stderr",
     "output_type": "stream",
     "text": [
      "Epoch 436: 100%|██████████| 15/15 [00:01<00:00, 14.38it/s, loss=0.00117, lr=4.43e-6, step=6554]\n"
     ]
    },
    {
     "name": "stdout",
     "output_type": "stream",
     "text": [
      "Saved  0.023546292838343537\n"
     ]
    },
    {
     "name": "stderr",
     "output_type": "stream",
     "text": [
      "Epoch 437: 100%|██████████| 15/15 [00:01<00:00, 14.47it/s, loss=0.00118, lr=4.29e-6, step=6569]\n",
      "Epoch 438: 100%|██████████| 15/15 [00:01<00:00, 14.99it/s, loss=0.00121, lr=4.16e-6, step=6584]"
     ]
    },
    {
     "name": "stdout",
     "output_type": "stream",
     "text": [
      "Saved  0.023496922161301066\n"
     ]
    },
    {
     "name": "stderr",
     "output_type": "stream",
     "text": [
      "Epoch 438: 100%|██████████| 15/15 [00:01<00:00, 13.92it/s, loss=0.00121, lr=4.16e-6, step=6584]\n"
     ]
    },
    {
     "name": "stdout",
     "output_type": "stream",
     "text": [
      "Saved  0.023446517658541614\n"
     ]
    },
    {
     "name": "stderr",
     "output_type": "stream",
     "text": [
      "Epoch 439: 100%|██████████| 15/15 [00:01<00:00, 10.04it/s, loss=0.001, lr=4.02e-6, step=6599]\n",
      "Epoch 440: 100%|██████████| 15/15 [00:03<00:00,  9.46it/s, loss=0.00139, lr=3.89e-6, step=6614]"
     ]
    },
    {
     "name": "stdout",
     "output_type": "stream",
     "text": [
      "Saved  0.023397344658079116\n"
     ]
    },
    {
     "name": "stderr",
     "output_type": "stream",
     "text": [
      "Epoch 440: 100%|██████████| 15/15 [00:03<00:00,  4.60it/s, loss=0.00139, lr=3.89e-6, step=6614]\n"
     ]
    },
    {
     "name": "stdout",
     "output_type": "stream",
     "text": [
      "Saved  0.023349903112210312\n"
     ]
    },
    {
     "name": "stderr",
     "output_type": "stream",
     "text": [
      "Epoch 441: 100%|██████████| 15/15 [00:01<00:00, 10.24it/s, loss=0.00141, lr=3.76e-6, step=6629]\n",
      "Epoch 442: 100%|██████████| 15/15 [00:01<00:00,  8.57it/s, loss=0.00104, lr=3.64e-6, step=6644]"
     ]
    },
    {
     "name": "stdout",
     "output_type": "stream",
     "text": [
      "Saved  0.023300647103019895\n"
     ]
    },
    {
     "name": "stderr",
     "output_type": "stream",
     "text": [
      "Epoch 442: 100%|██████████| 15/15 [00:02<00:00,  7.49it/s, loss=0.00104, lr=3.64e-6, step=6644]\n"
     ]
    },
    {
     "name": "stdout",
     "output_type": "stream",
     "text": [
      "Saved  0.023251046505690254\n"
     ]
    },
    {
     "name": "stderr",
     "output_type": "stream",
     "text": [
      "Epoch 443: 100%|██████████| 15/15 [00:01<00:00,  7.66it/s, loss=0.00158, lr=3.51e-6, step=6659]\n",
      "Epoch 444: 100%|██████████| 15/15 [00:01<00:00,  8.16it/s, loss=0.00115, lr=3.39e-6, step=6674]"
     ]
    },
    {
     "name": "stdout",
     "output_type": "stream",
     "text": [
      "Saved  0.023201841072699105\n"
     ]
    },
    {
     "name": "stderr",
     "output_type": "stream",
     "text": [
      "Epoch 444: 100%|██████████| 15/15 [00:01<00:00,  7.94it/s, loss=0.00115, lr=3.39e-6, step=6674]\n"
     ]
    },
    {
     "name": "stdout",
     "output_type": "stream",
     "text": [
      "Saved  0.023153707892453\n"
     ]
    },
    {
     "name": "stderr",
     "output_type": "stream",
     "text": [
      "Epoch 445: 100%|██████████| 15/15 [00:01<00:00,  8.24it/s, loss=0.00244, lr=3.27e-6, step=6689]\n",
      "Epoch 446: 100%|██████████| 15/15 [00:01<00:00,  7.27it/s, loss=0.00114, lr=3.15e-6, step=6704]"
     ]
    },
    {
     "name": "stdout",
     "output_type": "stream",
     "text": [
      "Saved  0.023105156200324686\n"
     ]
    },
    {
     "name": "stderr",
     "output_type": "stream",
     "text": [
      "Epoch 446: 100%|██████████| 15/15 [00:02<00:00,  7.13it/s, loss=0.00114, lr=3.15e-6, step=6704]\n"
     ]
    },
    {
     "name": "stdout",
     "output_type": "stream",
     "text": [
      "Saved  0.02305855695802685\n"
     ]
    },
    {
     "name": "stderr",
     "output_type": "stream",
     "text": [
      "Epoch 447: 100%|██████████| 15/15 [00:02<00:00,  7.30it/s, loss=0.00137, lr=3.03e-6, step=6719]\n",
      "Epoch 448: 100%|██████████| 15/15 [00:01<00:00,  7.98it/s, loss=0.00131, lr=2.92e-6, step=6734]"
     ]
    },
    {
     "name": "stdout",
     "output_type": "stream",
     "text": [
      "Saved  0.023010319627841495\n"
     ]
    },
    {
     "name": "stderr",
     "output_type": "stream",
     "text": [
      "Epoch 448: 100%|██████████| 15/15 [00:02<00:00,  7.45it/s, loss=0.00131, lr=2.92e-6, step=6734]\n",
      "self.unet=CustomConditionedUNet(\n",
      "  (unet): UNet2DConditionModel(\n",
      "    (conv_in): Conv2d(3, 64, kernel_size=(3, 3), stride=(1, 1), padding=(1, 1))\n",
      "    (time_proj): Timesteps()\n",
      "    (time_embedding): TimestepEmbedding(\n",
      "      (linear_1): Linear(in_features=64, out_features=256, bias=True)\n",
      "      (act): SiLU()\n",
      "      (linear_2): Linear(in_features=256, out_features=256, bias=True)\n",
      "    )\n",
      "    (down_blocks): ModuleList(\n",
      "      (0): DownBlock2D(\n",
      "        (resnets): ModuleList(\n",
      "          (0-1): 2 x ResnetBlock2D(\n",
      "            (norm1): GroupNorm(32, 64, eps=1e-05, affine=True)\n",
      "            (conv1): Conv2d(64, 64, kernel_size=(3, 3), stride=(1, 1), padding=(1, 1))\n",
      "            (time_emb_proj): Linear(in_features=256, out_features=64, bias=True)\n",
      "            (norm2): GroupNorm(32, 64, eps=1e-05, affine=True)\n",
      "            (dropout): Dropout(p=0.0, inplace=False)\n",
      "            (conv2): Conv2d(64, 64, kernel_size=(3, 3), stride=(1, 1), padding=(1, 1))\n",
      "            (nonlinearity): SiLU()\n",
      "          )\n",
      "        )\n",
      "        (downsamplers): ModuleList(\n",
      "          (0): Downsample2D(\n",
      "            (conv): Conv2d(64, 64, kernel_size=(3, 3), stride=(2, 2), padding=(1, 1))\n",
      "          )\n",
      "        )\n",
      "      )\n",
      "      (1): AttnDownBlock2D(\n",
      "        (attentions): ModuleList(\n",
      "          (0-1): 2 x Attention(\n",
      "            (group_norm): GroupNorm(32, 128, eps=1e-05, affine=True)\n",
      "            (to_q): Linear(in_features=128, out_features=128, bias=True)\n",
      "            (to_k): Linear(in_features=128, out_features=128, bias=True)\n",
      "            (to_v): Linear(in_features=128, out_features=128, bias=True)\n",
      "            (to_out): ModuleList(\n",
      "              (0): Linear(in_features=128, out_features=128, bias=True)\n",
      "              (1): Dropout(p=0.0, inplace=False)\n",
      "            )\n",
      "          )\n",
      "        )\n",
      "        (resnets): ModuleList(\n",
      "          (0): ResnetBlock2D(\n",
      "            (norm1): GroupNorm(32, 64, eps=1e-05, affine=True)\n",
      "            (conv1): Conv2d(64, 128, kernel_size=(3, 3), stride=(1, 1), padding=(1, 1))\n",
      "            (time_emb_proj): Linear(in_features=256, out_features=128, bias=True)\n",
      "            (norm2): GroupNorm(32, 128, eps=1e-05, affine=True)\n",
      "            (dropout): Dropout(p=0.0, inplace=False)\n",
      "            (conv2): Conv2d(128, 128, kernel_size=(3, 3), stride=(1, 1), padding=(1, 1))\n",
      "            (nonlinearity): SiLU()\n",
      "            (conv_shortcut): Conv2d(64, 128, kernel_size=(1, 1), stride=(1, 1))\n",
      "          )\n",
      "          (1): ResnetBlock2D(\n",
      "            (norm1): GroupNorm(32, 128, eps=1e-05, affine=True)\n",
      "            (conv1): Conv2d(128, 128, kernel_size=(3, 3), stride=(1, 1), padding=(1, 1))\n",
      "            (time_emb_proj): Linear(in_features=256, out_features=128, bias=True)\n",
      "            (norm2): GroupNorm(32, 128, eps=1e-05, affine=True)\n",
      "            (dropout): Dropout(p=0.0, inplace=False)\n",
      "            (conv2): Conv2d(128, 128, kernel_size=(3, 3), stride=(1, 1), padding=(1, 1))\n",
      "            (nonlinearity): SiLU()\n",
      "          )\n",
      "        )\n",
      "        (downsamplers): ModuleList(\n",
      "          (0): Downsample2D(\n",
      "            (conv): Conv2d(128, 128, kernel_size=(3, 3), stride=(2, 2), padding=(1, 1))\n",
      "          )\n",
      "        )\n",
      "      )\n",
      "      (2): AttnDownBlock2D(\n",
      "        (attentions): ModuleList(\n",
      "          (0-1): 2 x Attention(\n",
      "            (group_norm): GroupNorm(32, 256, eps=1e-05, affine=True)\n",
      "            (to_q): Linear(in_features=256, out_features=256, bias=True)\n",
      "            (to_k): Linear(in_features=256, out_features=256, bias=True)\n",
      "            (to_v): Linear(in_features=256, out_features=256, bias=True)\n",
      "            (to_out): ModuleList(\n",
      "              (0): Linear(in_features=256, out_features=256, bias=True)\n",
      "              (1): Dropout(p=0.0, inplace=False)\n",
      "            )\n",
      "          )\n",
      "        )\n",
      "        (resnets): ModuleList(\n",
      "          (0): ResnetBlock2D(\n",
      "            (norm1): GroupNorm(32, 128, eps=1e-05, affine=True)\n",
      "            (conv1): Conv2d(128, 256, kernel_size=(3, 3), stride=(1, 1), padding=(1, 1))\n",
      "            (time_emb_proj): Linear(in_features=256, out_features=256, bias=True)\n",
      "            (norm2): GroupNorm(32, 256, eps=1e-05, affine=True)\n",
      "            (dropout): Dropout(p=0.0, inplace=False)\n",
      "            (conv2): Conv2d(256, 256, kernel_size=(3, 3), stride=(1, 1), padding=(1, 1))\n",
      "            (nonlinearity): SiLU()\n",
      "            (conv_shortcut): Conv2d(128, 256, kernel_size=(1, 1), stride=(1, 1))\n",
      "          )\n",
      "          (1): ResnetBlock2D(\n",
      "            (norm1): GroupNorm(32, 256, eps=1e-05, affine=True)\n",
      "            (conv1): Conv2d(256, 256, kernel_size=(3, 3), stride=(1, 1), padding=(1, 1))\n",
      "            (time_emb_proj): Linear(in_features=256, out_features=256, bias=True)\n",
      "            (norm2): GroupNorm(32, 256, eps=1e-05, affine=True)\n",
      "            (dropout): Dropout(p=0.0, inplace=False)\n",
      "            (conv2): Conv2d(256, 256, kernel_size=(3, 3), stride=(1, 1), padding=(1, 1))\n",
      "            (nonlinearity): SiLU()\n",
      "          )\n",
      "        )\n",
      "      )\n",
      "    )\n",
      "    (up_blocks): ModuleList(\n",
      "      (0): AttnUpBlock2D(\n",
      "        (attentions): ModuleList(\n",
      "          (0-2): 3 x Attention(\n",
      "            (group_norm): GroupNorm(32, 256, eps=1e-05, affine=True)\n",
      "            (to_q): Linear(in_features=256, out_features=256, bias=True)\n",
      "            (to_k): Linear(in_features=256, out_features=256, bias=True)\n",
      "            (to_v): Linear(in_features=256, out_features=256, bias=True)\n",
      "            (to_out): ModuleList(\n",
      "              (0): Linear(in_features=256, out_features=256, bias=True)\n",
      "              (1): Dropout(p=0.0, inplace=False)\n",
      "            )\n",
      "          )\n",
      "        )\n",
      "        (resnets): ModuleList(\n",
      "          (0-1): 2 x ResnetBlock2D(\n",
      "            (norm1): GroupNorm(32, 512, eps=1e-05, affine=True)\n",
      "            (conv1): Conv2d(512, 256, kernel_size=(3, 3), stride=(1, 1), padding=(1, 1))\n",
      "            (time_emb_proj): Linear(in_features=256, out_features=256, bias=True)\n",
      "            (norm2): GroupNorm(32, 256, eps=1e-05, affine=True)\n",
      "            (dropout): Dropout(p=0.0, inplace=False)\n",
      "            (conv2): Conv2d(256, 256, kernel_size=(3, 3), stride=(1, 1), padding=(1, 1))\n",
      "            (nonlinearity): SiLU()\n",
      "            (conv_shortcut): Conv2d(512, 256, kernel_size=(1, 1), stride=(1, 1))\n",
      "          )\n",
      "          (2): ResnetBlock2D(\n",
      "            (norm1): GroupNorm(32, 384, eps=1e-05, affine=True)\n",
      "            (conv1): Conv2d(384, 256, kernel_size=(3, 3), stride=(1, 1), padding=(1, 1))\n",
      "            (time_emb_proj): Linear(in_features=256, out_features=256, bias=True)\n",
      "            (norm2): GroupNorm(32, 256, eps=1e-05, affine=True)\n",
      "            (dropout): Dropout(p=0.0, inplace=False)\n",
      "            (conv2): Conv2d(256, 256, kernel_size=(3, 3), stride=(1, 1), padding=(1, 1))\n",
      "            (nonlinearity): SiLU()\n",
      "            (conv_shortcut): Conv2d(384, 256, kernel_size=(1, 1), stride=(1, 1))\n",
      "          )\n",
      "        )\n",
      "        (upsamplers): ModuleList(\n",
      "          (0): Upsample2D(\n",
      "            (conv): Conv2d(256, 256, kernel_size=(3, 3), stride=(1, 1), padding=(1, 1))\n",
      "          )\n",
      "        )\n",
      "      )\n",
      "      (1): AttnUpBlock2D(\n",
      "        (attentions): ModuleList(\n",
      "          (0-2): 3 x Attention(\n",
      "            (group_norm): GroupNorm(32, 128, eps=1e-05, affine=True)\n",
      "            (to_q): Linear(in_features=128, out_features=128, bias=True)\n",
      "            (to_k): Linear(in_features=128, out_features=128, bias=True)\n",
      "            (to_v): Linear(in_features=128, out_features=128, bias=True)\n",
      "            (to_out): ModuleList(\n",
      "              (0): Linear(in_features=128, out_features=128, bias=True)\n",
      "              (1): Dropout(p=0.0, inplace=False)\n",
      "            )\n",
      "          )\n",
      "        )\n",
      "        (resnets): ModuleList(\n",
      "          (0): ResnetBlock2D(\n",
      "            (norm1): GroupNorm(32, 384, eps=1e-05, affine=True)\n",
      "            (conv1): Conv2d(384, 128, kernel_size=(3, 3), stride=(1, 1), padding=(1, 1))\n",
      "            (time_emb_proj): Linear(in_features=256, out_features=128, bias=True)\n",
      "            (norm2): GroupNorm(32, 128, eps=1e-05, affine=True)\n",
      "            (dropout): Dropout(p=0.0, inplace=False)\n",
      "            (conv2): Conv2d(128, 128, kernel_size=(3, 3), stride=(1, 1), padding=(1, 1))\n",
      "            (nonlinearity): SiLU()\n",
      "            (conv_shortcut): Conv2d(384, 128, kernel_size=(1, 1), stride=(1, 1))\n",
      "          )\n",
      "          (1): ResnetBlock2D(\n",
      "            (norm1): GroupNorm(32, 256, eps=1e-05, affine=True)\n",
      "            (conv1): Conv2d(256, 128, kernel_size=(3, 3), stride=(1, 1), padding=(1, 1))\n",
      "            (time_emb_proj): Linear(in_features=256, out_features=128, bias=True)\n",
      "            (norm2): GroupNorm(32, 128, eps=1e-05, affine=True)\n",
      "            (dropout): Dropout(p=0.0, inplace=False)\n",
      "            (conv2): Conv2d(128, 128, kernel_size=(3, 3), stride=(1, 1), padding=(1, 1))\n",
      "            (nonlinearity): SiLU()\n",
      "            (conv_shortcut): Conv2d(256, 128, kernel_size=(1, 1), stride=(1, 1))\n",
      "          )\n",
      "          (2): ResnetBlock2D(\n",
      "            (norm1): GroupNorm(32, 192, eps=1e-05, affine=True)\n",
      "            (conv1): Conv2d(192, 128, kernel_size=(3, 3), stride=(1, 1), padding=(1, 1))\n",
      "            (time_emb_proj): Linear(in_features=256, out_features=128, bias=True)\n",
      "            (norm2): GroupNorm(32, 128, eps=1e-05, affine=True)\n",
      "            (dropout): Dropout(p=0.0, inplace=False)\n",
      "            (conv2): Conv2d(128, 128, kernel_size=(3, 3), stride=(1, 1), padding=(1, 1))\n",
      "            (nonlinearity): SiLU()\n",
      "            (conv_shortcut): Conv2d(192, 128, kernel_size=(1, 1), stride=(1, 1))\n",
      "          )\n",
      "        )\n",
      "        (upsamplers): ModuleList(\n",
      "          (0): Upsample2D(\n",
      "            (conv): Conv2d(128, 128, kernel_size=(3, 3), stride=(1, 1), padding=(1, 1))\n",
      "          )\n",
      "        )\n",
      "      )\n",
      "      (2): UpBlock2D(\n",
      "        (resnets): ModuleList(\n",
      "          (0): ResnetBlock2D(\n",
      "            (norm1): GroupNorm(32, 192, eps=1e-05, affine=True)\n",
      "            (conv1): Conv2d(192, 64, kernel_size=(3, 3), stride=(1, 1), padding=(1, 1))\n",
      "            (time_emb_proj): Linear(in_features=256, out_features=64, bias=True)\n",
      "            (norm2): GroupNorm(32, 64, eps=1e-05, affine=True)\n",
      "            (dropout): Dropout(p=0.0, inplace=False)\n",
      "            (conv2): Conv2d(64, 64, kernel_size=(3, 3), stride=(1, 1), padding=(1, 1))\n",
      "            (nonlinearity): SiLU()\n",
      "            (conv_shortcut): Conv2d(192, 64, kernel_size=(1, 1), stride=(1, 1))\n",
      "          )\n",
      "          (1-2): 2 x ResnetBlock2D(\n",
      "            (norm1): GroupNorm(32, 128, eps=1e-05, affine=True)\n",
      "            (conv1): Conv2d(128, 64, kernel_size=(3, 3), stride=(1, 1), padding=(1, 1))\n",
      "            (time_emb_proj): Linear(in_features=256, out_features=64, bias=True)\n",
      "            (norm2): GroupNorm(32, 64, eps=1e-05, affine=True)\n",
      "            (dropout): Dropout(p=0.0, inplace=False)\n",
      "            (conv2): Conv2d(64, 64, kernel_size=(3, 3), stride=(1, 1), padding=(1, 1))\n",
      "            (nonlinearity): SiLU()\n",
      "            (conv_shortcut): Conv2d(128, 64, kernel_size=(1, 1), stride=(1, 1))\n",
      "          )\n",
      "        )\n",
      "      )\n",
      "    )\n",
      "    (mid_block): UNetMidBlock2DCrossAttn(\n",
      "      (attentions): ModuleList(\n",
      "        (0): Transformer2DModel(\n",
      "          (norm): GroupNorm(32, 256, eps=1e-06, affine=True)\n",
      "          (proj_in): Conv2d(256, 256, kernel_size=(1, 1), stride=(1, 1))\n",
      "          (transformer_blocks): ModuleList(\n",
      "            (0): BasicTransformerBlock(\n",
      "              (norm1): LayerNorm((256,), eps=1e-05, elementwise_affine=True)\n",
      "              (attn1): Attention(\n",
      "                (to_q): Linear(in_features=256, out_features=256, bias=False)\n",
      "                (to_k): Linear(in_features=256, out_features=256, bias=False)\n",
      "                (to_v): Linear(in_features=256, out_features=256, bias=False)\n",
      "                (to_out): ModuleList(\n",
      "                  (0): Linear(in_features=256, out_features=256, bias=True)\n",
      "                  (1): Dropout(p=0.0, inplace=False)\n",
      "                )\n",
      "              )\n",
      "              (norm2): LayerNorm((256,), eps=1e-05, elementwise_affine=True)\n",
      "              (attn2): Attention(\n",
      "                (to_q): Linear(in_features=256, out_features=256, bias=False)\n",
      "                (to_k): Linear(in_features=128, out_features=256, bias=False)\n",
      "                (to_v): Linear(in_features=128, out_features=256, bias=False)\n",
      "                (to_out): ModuleList(\n",
      "                  (0): Linear(in_features=256, out_features=256, bias=True)\n",
      "                  (1): Dropout(p=0.0, inplace=False)\n",
      "                )\n",
      "              )\n",
      "              (norm3): LayerNorm((256,), eps=1e-05, elementwise_affine=True)\n",
      "              (ff): FeedForward(\n",
      "                (net): ModuleList(\n",
      "                  (0): GEGLU(\n",
      "                    (proj): Linear(in_features=256, out_features=2048, bias=True)\n",
      "                  )\n",
      "                  (1): Dropout(p=0.0, inplace=False)\n",
      "                  (2): Linear(in_features=1024, out_features=256, bias=True)\n",
      "                )\n",
      "              )\n",
      "            )\n",
      "          )\n",
      "          (proj_out): Conv2d(256, 256, kernel_size=(1, 1), stride=(1, 1))\n",
      "        )\n",
      "      )\n",
      "      (resnets): ModuleList(\n",
      "        (0-1): 2 x ResnetBlock2D(\n",
      "          (norm1): GroupNorm(32, 256, eps=1e-05, affine=True)\n",
      "          (conv1): Conv2d(256, 256, kernel_size=(3, 3), stride=(1, 1), padding=(1, 1))\n",
      "          (time_emb_proj): Linear(in_features=256, out_features=256, bias=True)\n",
      "          (norm2): GroupNorm(32, 256, eps=1e-05, affine=True)\n",
      "          (dropout): Dropout(p=0.0, inplace=False)\n",
      "          (conv2): Conv2d(256, 256, kernel_size=(3, 3), stride=(1, 1), padding=(1, 1))\n",
      "          (nonlinearity): SiLU()\n",
      "        )\n",
      "      )\n",
      "    )\n",
      "    (conv_norm_out): GroupNorm(32, 64, eps=1e-05, affine=True)\n",
      "    (conv_act): SiLU()\n",
      "    (conv_out): Conv2d(64, 3, kernel_size=(3, 3), stride=(1, 1), padding=(1, 1))\n",
      "  )\n",
      "  (cond_embed): Sequential(\n",
      "    (0): Linear(in_features=2, out_features=128, bias=True)\n",
      "    (1): SiLU()\n",
      "    (2): Linear(in_features=128, out_features=128, bias=True)\n",
      "  )\n",
      ") of type <class '__main__.CustomConditionedUNet'> cannot be saved.\n"
     ]
    },
    {
     "name": "stdout",
     "output_type": "stream",
     "text": [
      "Saved  0.022963676266147995\n"
     ]
    },
    {
     "name": "stderr",
     "output_type": "stream",
     "text": [
      "Epoch 449: 100%|██████████| 15/15 [00:01<00:00, 12.41it/s, loss=0.00128, lr=2.81e-6, step=6749]\n",
      "Epoch 450: 100%|██████████| 15/15 [00:00<00:00, 15.40it/s, loss=0.00127, lr=2.7e-6, step=6764] "
     ]
    },
    {
     "name": "stdout",
     "output_type": "stream",
     "text": [
      "Saved  0.022917647056191395\n"
     ]
    },
    {
     "name": "stderr",
     "output_type": "stream",
     "text": [
      "Epoch 450: 100%|██████████| 15/15 [00:01<00:00, 14.41it/s, loss=0.00127, lr=2.7e-6, step=6764]\n"
     ]
    },
    {
     "name": "stdout",
     "output_type": "stream",
     "text": [
      "Saved  0.022870165148843012\n"
     ]
    },
    {
     "name": "stderr",
     "output_type": "stream",
     "text": [
      "Epoch 451: 100%|██████████| 15/15 [00:01<00:00, 14.28it/s, loss=0.00296, lr=2.59e-6, step=6779]\n",
      "Epoch 452: 100%|██████████| 15/15 [00:00<00:00, 15.24it/s, loss=0.00137, lr=2.48e-6, step=6794] "
     ]
    },
    {
     "name": "stdout",
     "output_type": "stream",
     "text": [
      "Saved  0.022822984437997205\n"
     ]
    },
    {
     "name": "stderr",
     "output_type": "stream",
     "text": [
      "Epoch 452: 100%|██████████| 15/15 [00:01<00:00, 14.39it/s, loss=0.00137, lr=2.48e-6, step=6794]\n"
     ]
    },
    {
     "name": "stdout",
     "output_type": "stream",
     "text": [
      "Saved  0.022776223723410812\n"
     ]
    },
    {
     "name": "stderr",
     "output_type": "stream",
     "text": [
      "Epoch 453: 100%|██████████| 15/15 [00:01<00:00, 14.22it/s, loss=0.00144, lr=2.38e-6, step=6809]\n",
      "Epoch 454: 100%|██████████| 15/15 [00:00<00:00, 15.42it/s, loss=0.00159, lr=2.28e-6, step=6824]"
     ]
    },
    {
     "name": "stdout",
     "output_type": "stream",
     "text": [
      "Saved  0.02272967489920693\n"
     ]
    },
    {
     "name": "stderr",
     "output_type": "stream",
     "text": [
      "Epoch 454: 100%|██████████| 15/15 [00:01<00:00, 14.48it/s, loss=0.00159, lr=2.28e-6, step=6824]\n"
     ]
    },
    {
     "name": "stdout",
     "output_type": "stream",
     "text": [
      "Saved  0.02268292072255638\n"
     ]
    },
    {
     "name": "stderr",
     "output_type": "stream",
     "text": [
      "Epoch 455: 100%|██████████| 15/15 [00:01<00:00, 14.28it/s, loss=0.00164, lr=2.18e-6, step=6839]\n",
      "Epoch 456: 100%|██████████| 15/15 [00:00<00:00, 15.50it/s, loss=0.00127, lr=2.08e-6, step=6854]"
     ]
    },
    {
     "name": "stdout",
     "output_type": "stream",
     "text": [
      "Saved  0.02263654815491607\n"
     ]
    },
    {
     "name": "stderr",
     "output_type": "stream",
     "text": [
      "Epoch 456: 100%|██████████| 15/15 [00:01<00:00, 14.39it/s, loss=0.00127, lr=2.08e-6, step=6854]\n"
     ]
    },
    {
     "name": "stdout",
     "output_type": "stream",
     "text": [
      "Saved  0.022590493551879753\n"
     ]
    },
    {
     "name": "stderr",
     "output_type": "stream",
     "text": [
      "Epoch 457: 100%|██████████| 15/15 [00:01<00:00, 14.29it/s, loss=0.00148, lr=1.99e-6, step=6869]\n",
      "Epoch 458: 100%|██████████| 15/15 [00:00<00:00, 15.61it/s, loss=0.00209, lr=1.89e-6, step=6884]"
     ]
    },
    {
     "name": "stdout",
     "output_type": "stream",
     "text": [
      "Saved  0.02254644833834363\n"
     ]
    },
    {
     "name": "stderr",
     "output_type": "stream",
     "text": [
      "Epoch 458: 100%|██████████| 15/15 [00:01<00:00, 14.42it/s, loss=0.00209, lr=1.89e-6, step=6884]\n"
     ]
    },
    {
     "name": "stdout",
     "output_type": "stream",
     "text": [
      "Saved  0.022500203412989545\n"
     ]
    },
    {
     "name": "stderr",
     "output_type": "stream",
     "text": [
      "Epoch 459: 100%|██████████| 15/15 [00:01<00:00, 14.19it/s, loss=0.00129, lr=1.8e-6, step=6899]\n",
      "Epoch 460: 100%|██████████| 15/15 [00:00<00:00, 15.37it/s, loss=0.00129, lr=1.71e-6, step=6914]"
     ]
    },
    {
     "name": "stdout",
     "output_type": "stream",
     "text": [
      "Saved  0.02245406463849328\n"
     ]
    },
    {
     "name": "stderr",
     "output_type": "stream",
     "text": [
      "Epoch 460: 100%|██████████| 15/15 [00:01<00:00, 14.39it/s, loss=0.00129, lr=1.71e-6, step=6914]\n"
     ]
    },
    {
     "name": "stdout",
     "output_type": "stream",
     "text": [
      "Saved  0.022408610222791288\n"
     ]
    },
    {
     "name": "stderr",
     "output_type": "stream",
     "text": [
      "Epoch 461: 100%|██████████| 15/15 [00:01<00:00, 13.71it/s, loss=0.00198, lr=1.63e-6, step=6929]\n",
      "Epoch 462: 100%|██████████| 15/15 [00:00<00:00, 15.25it/s, loss=0.0019, lr=1.54e-6, step=6944]  "
     ]
    },
    {
     "name": "stdout",
     "output_type": "stream",
     "text": [
      "Saved  0.02236311139245206\n"
     ]
    },
    {
     "name": "stderr",
     "output_type": "stream",
     "text": [
      "Epoch 462: 100%|██████████| 15/15 [00:01<00:00, 14.23it/s, loss=0.0019, lr=1.54e-6, step=6944]\n"
     ]
    },
    {
     "name": "stdout",
     "output_type": "stream",
     "text": [
      "Saved  0.02231818135354759\n"
     ]
    },
    {
     "name": "stderr",
     "output_type": "stream",
     "text": [
      "Epoch 463: 100%|██████████| 15/15 [00:01<00:00, 14.37it/s, loss=0.00106, lr=1.46e-6, step=6959]\n",
      "Epoch 464: 100%|██████████| 15/15 [00:00<00:00, 15.29it/s, loss=0.00125, lr=1.38e-6, step=6974]"
     ]
    },
    {
     "name": "stdout",
     "output_type": "stream",
     "text": [
      "Saved  0.022273478891239852\n"
     ]
    },
    {
     "name": "stderr",
     "output_type": "stream",
     "text": [
      "Epoch 464: 100%|██████████| 15/15 [00:01<00:00, 14.04it/s, loss=0.00125, lr=1.38e-6, step=6974]\n"
     ]
    },
    {
     "name": "stdout",
     "output_type": "stream",
     "text": [
      "Saved  0.022229328783340913\n"
     ]
    },
    {
     "name": "stderr",
     "output_type": "stream",
     "text": [
      "Epoch 465: 100%|██████████| 15/15 [00:01<00:00, 14.18it/s, loss=0.00132, lr=1.3e-6, step=6989]\n",
      "Epoch 466: 100%|██████████| 15/15 [00:01<00:00, 14.96it/s, loss=0.00171, lr=1.23e-6, step=7004] "
     ]
    },
    {
     "name": "stdout",
     "output_type": "stream",
     "text": [
      "Saved  0.022184825106158317\n"
     ]
    },
    {
     "name": "stderr",
     "output_type": "stream",
     "text": [
      "Epoch 466: 100%|██████████| 15/15 [00:01<00:00, 13.58it/s, loss=0.00171, lr=1.23e-6, step=7004]\n"
     ]
    },
    {
     "name": "stdout",
     "output_type": "stream",
     "text": [
      "Saved  0.02214031892751033\n"
     ]
    },
    {
     "name": "stderr",
     "output_type": "stream",
     "text": [
      "Epoch 467: 100%|██████████| 15/15 [00:01<00:00, 14.40it/s, loss=0.00105, lr=1.16e-6, step=7019]\n",
      "Epoch 468: 100%|██████████| 15/15 [00:00<00:00, 15.49it/s, loss=0.00123, lr=1.08e-6, step=7034]"
     ]
    },
    {
     "name": "stdout",
     "output_type": "stream",
     "text": [
      "Saved  0.022095816872776345\n"
     ]
    },
    {
     "name": "stderr",
     "output_type": "stream",
     "text": [
      "Epoch 468: 100%|██████████| 15/15 [00:01<00:00, 14.57it/s, loss=0.00123, lr=1.08e-6, step=7034]\n"
     ]
    },
    {
     "name": "stdout",
     "output_type": "stream",
     "text": [
      "Saved  0.022051320935612715\n"
     ]
    },
    {
     "name": "stderr",
     "output_type": "stream",
     "text": [
      "Epoch 469: 100%|██████████| 15/15 [00:01<00:00, 14.46it/s, loss=0.00148, lr=1.02e-6, step=7049]\n",
      "Epoch 470: 100%|██████████| 15/15 [00:00<00:00, 15.80it/s, loss=0.00331, lr=9.5e-7, step=7064] "
     ]
    },
    {
     "name": "stdout",
     "output_type": "stream",
     "text": [
      "Saved  0.022007982113536367\n"
     ]
    },
    {
     "name": "stderr",
     "output_type": "stream",
     "text": [
      "Epoch 470: 100%|██████████| 15/15 [00:01<00:00, 14.75it/s, loss=0.00331, lr=9.5e-7, step=7064]\n"
     ]
    },
    {
     "name": "stdout",
     "output_type": "stream",
     "text": [
      "Saved  0.021964196799639322\n"
     ]
    },
    {
     "name": "stderr",
     "output_type": "stream",
     "text": [
      "Epoch 471: 100%|██████████| 15/15 [00:01<00:00, 14.61it/s, loss=0.00112, lr=8.86e-7, step=7079]\n",
      "Epoch 472: 100%|██████████| 15/15 [00:00<00:00, 15.55it/s, loss=0.00121, lr=8.24e-7, step=7094]"
     ]
    },
    {
     "name": "stdout",
     "output_type": "stream",
     "text": [
      "Saved  0.021920872174076726\n"
     ]
    },
    {
     "name": "stderr",
     "output_type": "stream",
     "text": [
      "Epoch 472: 100%|██████████| 15/15 [00:01<00:00, 14.51it/s, loss=0.00121, lr=8.24e-7, step=7094]\n"
     ]
    },
    {
     "name": "stdout",
     "output_type": "stream",
     "text": [
      "Saved  0.021879277903704187\n"
     ]
    },
    {
     "name": "stderr",
     "output_type": "stream",
     "text": [
      "Epoch 473: 100%|██████████| 15/15 [00:01<00:00, 14.45it/s, loss=0.00119, lr=7.64e-7, step=7109]\n",
      "Epoch 474: 100%|██████████| 15/15 [00:00<00:00, 15.37it/s, loss=0.00107, lr=7.06e-7, step=7124]"
     ]
    },
    {
     "name": "stdout",
     "output_type": "stream",
     "text": [
      "Saved  0.0218365169592986\n"
     ]
    },
    {
     "name": "stderr",
     "output_type": "stream",
     "text": [
      "Epoch 474: 100%|██████████| 15/15 [00:01<00:00, 14.41it/s, loss=0.00107, lr=7.06e-7, step=7124]\n"
     ]
    },
    {
     "name": "stdout",
     "output_type": "stream",
     "text": [
      "Saved  0.021794345566767452\n"
     ]
    },
    {
     "name": "stderr",
     "output_type": "stream",
     "text": [
      "Epoch 475: 100%|██████████| 15/15 [00:01<00:00, 14.57it/s, loss=0.00232, lr=6.51e-7, step=7139]\n",
      "Epoch 476: 100%|██████████| 15/15 [00:00<00:00, 15.84it/s, loss=0.00121, lr=5.98e-7, step=7154] "
     ]
    },
    {
     "name": "stdout",
     "output_type": "stream",
     "text": [
      "Saved  0.021751537987120206\n"
     ]
    },
    {
     "name": "stderr",
     "output_type": "stream",
     "text": [
      "Epoch 476: 100%|██████████| 15/15 [00:01<00:00, 14.71it/s, loss=0.00121, lr=5.98e-7, step=7154]\n"
     ]
    },
    {
     "name": "stdout",
     "output_type": "stream",
     "text": [
      "Saved  0.021708978543058362\n"
     ]
    },
    {
     "name": "stderr",
     "output_type": "stream",
     "text": [
      "Epoch 477: 100%|██████████| 15/15 [00:01<00:00, 14.45it/s, loss=0.0014, lr=5.47e-7, step=7169]\n",
      "Epoch 478: 100%|██████████| 15/15 [00:00<00:00, 15.75it/s, loss=0.00102, lr=4.99e-7, step=7184]"
     ]
    },
    {
     "name": "stdout",
     "output_type": "stream",
     "text": [
      "Saved  0.021666922376119443\n"
     ]
    },
    {
     "name": "stderr",
     "output_type": "stream",
     "text": [
      "Epoch 478: 100%|██████████| 15/15 [00:01<00:00, 14.73it/s, loss=0.00102, lr=4.99e-7, step=7184]\n"
     ]
    },
    {
     "name": "stdout",
     "output_type": "stream",
     "text": [
      "Saved  0.021624714920463802\n"
     ]
    },
    {
     "name": "stderr",
     "output_type": "stream",
     "text": [
      "Epoch 479: 100%|██████████| 15/15 [00:01<00:00, 14.30it/s, loss=0.00131, lr=4.53e-7, step=7199]\n",
      "Epoch 480: 100%|██████████| 15/15 [00:00<00:00, 15.52it/s, loss=0.00103, lr=4.08e-7, step=7214] "
     ]
    },
    {
     "name": "stdout",
     "output_type": "stream",
     "text": [
      "Saved  0.021582512124123703\n"
     ]
    },
    {
     "name": "stderr",
     "output_type": "stream",
     "text": [
      "Epoch 480: 100%|██████████| 15/15 [00:01<00:00, 14.51it/s, loss=0.00103, lr=4.08e-7, step=7214]\n"
     ]
    },
    {
     "name": "stdout",
     "output_type": "stream",
     "text": [
      "Saved  0.021540501560247147\n"
     ]
    },
    {
     "name": "stderr",
     "output_type": "stream",
     "text": [
      "Epoch 481: 100%|██████████| 15/15 [00:01<00:00, 14.41it/s, loss=0.00133, lr=3.67e-7, step=7229]\n",
      "Epoch 482: 100%|██████████| 15/15 [00:00<00:00, 15.58it/s, loss=0.00144, lr=3.27e-7, step=7244]"
     ]
    },
    {
     "name": "stdout",
     "output_type": "stream",
     "text": [
      "Saved  0.021498766580856553\n"
     ]
    },
    {
     "name": "stderr",
     "output_type": "stream",
     "text": [
      "Epoch 482: 100%|██████████| 15/15 [00:01<00:00, 14.23it/s, loss=0.00144, lr=3.27e-7, step=7244]\n"
     ]
    },
    {
     "name": "stdout",
     "output_type": "stream",
     "text": [
      "Saved  0.021456886005782543\n"
     ]
    },
    {
     "name": "stderr",
     "output_type": "stream",
     "text": [
      "Epoch 483: 100%|██████████| 15/15 [00:01<00:00, 14.23it/s, loss=0.0011, lr=2.9e-7, step=7259]\n",
      "Epoch 484: 100%|██████████| 15/15 [00:01<00:00, 14.81it/s, loss=0.00149, lr=2.55e-7, step=7274] "
     ]
    },
    {
     "name": "stdout",
     "output_type": "stream",
     "text": [
      "Saved  0.021415229950562643\n"
     ]
    },
    {
     "name": "stderr",
     "output_type": "stream",
     "text": [
      "Epoch 484: 100%|██████████| 15/15 [00:01<00:00, 13.88it/s, loss=0.00149, lr=2.55e-7, step=7274]\n"
     ]
    },
    {
     "name": "stdout",
     "output_type": "stream",
     "text": [
      "Saved  0.0213754041062362\n"
     ]
    },
    {
     "name": "stderr",
     "output_type": "stream",
     "text": [
      "Epoch 485: 100%|██████████| 15/15 [00:01<00:00, 13.97it/s, loss=0.00993, lr=2.22e-7, step=7289]\n",
      "Epoch 486: 100%|██████████| 15/15 [00:00<00:00, 15.29it/s, loss=0.00251, lr=1.91e-7, step=7304]"
     ]
    },
    {
     "name": "stdout",
     "output_type": "stream",
     "text": [
      "Saved  0.021335532158445237\n"
     ]
    },
    {
     "name": "stderr",
     "output_type": "stream",
     "text": [
      "Epoch 486: 100%|██████████| 15/15 [00:01<00:00, 14.20it/s, loss=0.00251, lr=1.91e-7, step=7304]\n"
     ]
    },
    {
     "name": "stdout",
     "output_type": "stream",
     "text": [
      "Saved  0.021294779164027652\n"
     ]
    },
    {
     "name": "stderr",
     "output_type": "stream",
     "text": [
      "Epoch 487: 100%|██████████| 15/15 [00:01<00:00, 14.16it/s, loss=0.00107, lr=1.63e-7, step=7319]\n",
      "Epoch 488: 100%|██████████| 15/15 [00:00<00:00, 14.95it/s, loss=0.0012, lr=1.37e-7, step=7334] "
     ]
    },
    {
     "name": "stdout",
     "output_type": "stream",
     "text": [
      "Saved  0.021255122836163088\n"
     ]
    },
    {
     "name": "stderr",
     "output_type": "stream",
     "text": [
      "Epoch 488: 100%|██████████| 15/15 [00:01<00:00, 14.12it/s, loss=0.0012, lr=1.37e-7, step=7334]\n"
     ]
    },
    {
     "name": "stdout",
     "output_type": "stream",
     "text": [
      "Saved  0.021214625972994686\n"
     ]
    },
    {
     "name": "stderr",
     "output_type": "stream",
     "text": [
      "Epoch 489: 100%|██████████| 15/15 [00:01<00:00, 13.85it/s, loss=0.00125, lr=1.13e-7, step=7349]\n",
      "Epoch 490: 100%|██████████| 15/15 [00:01<00:00, 14.99it/s, loss=0.00165, lr=9.17e-8, step=7364]"
     ]
    },
    {
     "name": "stdout",
     "output_type": "stream",
     "text": [
      "Saved  0.02117422990175628\n"
     ]
    },
    {
     "name": "stderr",
     "output_type": "stream",
     "text": [
      "Epoch 490: 100%|██████████| 15/15 [00:01<00:00, 13.88it/s, loss=0.00165, lr=9.17e-8, step=7364]\n"
     ]
    },
    {
     "name": "stdout",
     "output_type": "stream",
     "text": [
      "Saved  0.021133838533149367\n"
     ]
    },
    {
     "name": "stderr",
     "output_type": "stream",
     "text": [
      "Epoch 491: 100%|██████████| 15/15 [00:01<00:00, 13.92it/s, loss=0.00172, lr=7.25e-8, step=7379]\n",
      "Epoch 492: 100%|██████████| 15/15 [00:00<00:00, 15.24it/s, loss=0.00114, lr=5.55e-8, step=7394]"
     ]
    },
    {
     "name": "stdout",
     "output_type": "stream",
     "text": [
      "Saved  0.021093949335318708\n"
     ]
    },
    {
     "name": "stderr",
     "output_type": "stream",
     "text": [
      "Epoch 492: 100%|██████████| 15/15 [00:01<00:00, 14.24it/s, loss=0.00114, lr=5.55e-8, step=7394]\n"
     ]
    },
    {
     "name": "stdout",
     "output_type": "stream",
     "text": [
      "Saved  0.02105504621633149\n"
     ]
    },
    {
     "name": "stderr",
     "output_type": "stream",
     "text": [
      "Epoch 493: 100%|██████████| 15/15 [00:01<00:00, 13.93it/s, loss=0.00192, lr=4.08e-8, step=7409]\n",
      "Epoch 494: 100%|██████████| 15/15 [00:00<00:00, 15.32it/s, loss=0.00243, lr=2.83e-8, step=7424]"
     ]
    },
    {
     "name": "stdout",
     "output_type": "stream",
     "text": [
      "Saved  0.02101559272525136\n"
     ]
    },
    {
     "name": "stderr",
     "output_type": "stream",
     "text": [
      "Epoch 494: 100%|██████████| 15/15 [00:01<00:00, 13.88it/s, loss=0.00243, lr=2.83e-8, step=7424]\n"
     ]
    },
    {
     "name": "stdout",
     "output_type": "stream",
     "text": [
      "Saved  0.02097695721715491\n"
     ]
    },
    {
     "name": "stderr",
     "output_type": "stream",
     "text": [
      "Epoch 495: 100%|██████████| 15/15 [00:01<00:00, 14.02it/s, loss=0.00169, lr=1.81e-8, step=7439]\n",
      "Epoch 496: 100%|██████████| 15/15 [00:00<00:00, 15.18it/s, loss=0.00127, lr=1.02e-8, step=7454]"
     ]
    },
    {
     "name": "stdout",
     "output_type": "stream",
     "text": [
      "Saved  0.020937409812267833\n"
     ]
    },
    {
     "name": "stderr",
     "output_type": "stream",
     "text": [
      "Epoch 496: 100%|██████████| 15/15 [00:01<00:00, 14.08it/s, loss=0.00127, lr=1.02e-8, step=7454]\n"
     ]
    },
    {
     "name": "stdout",
     "output_type": "stream",
     "text": [
      "Saved  0.02089807834520492\n"
     ]
    },
    {
     "name": "stderr",
     "output_type": "stream",
     "text": [
      "Epoch 497: 100%|██████████| 15/15 [00:01<00:00, 13.90it/s, loss=0.00156, lr=4.53e-9, step=7469]\n",
      "Epoch 498: 100%|██████████| 15/15 [00:00<00:00, 15.28it/s, loss=0.00115, lr=1.13e-9, step=7484]"
     ]
    },
    {
     "name": "stdout",
     "output_type": "stream",
     "text": [
      "Saved  0.020859226239154597\n"
     ]
    },
    {
     "name": "stderr",
     "output_type": "stream",
     "text": [
      "Epoch 498: 100%|██████████| 15/15 [00:01<00:00, 14.11it/s, loss=0.00115, lr=1.13e-9, step=7484]\n",
      "self.unet=CustomConditionedUNet(\n",
      "  (unet): UNet2DConditionModel(\n",
      "    (conv_in): Conv2d(3, 64, kernel_size=(3, 3), stride=(1, 1), padding=(1, 1))\n",
      "    (time_proj): Timesteps()\n",
      "    (time_embedding): TimestepEmbedding(\n",
      "      (linear_1): Linear(in_features=64, out_features=256, bias=True)\n",
      "      (act): SiLU()\n",
      "      (linear_2): Linear(in_features=256, out_features=256, bias=True)\n",
      "    )\n",
      "    (down_blocks): ModuleList(\n",
      "      (0): DownBlock2D(\n",
      "        (resnets): ModuleList(\n",
      "          (0-1): 2 x ResnetBlock2D(\n",
      "            (norm1): GroupNorm(32, 64, eps=1e-05, affine=True)\n",
      "            (conv1): Conv2d(64, 64, kernel_size=(3, 3), stride=(1, 1), padding=(1, 1))\n",
      "            (time_emb_proj): Linear(in_features=256, out_features=64, bias=True)\n",
      "            (norm2): GroupNorm(32, 64, eps=1e-05, affine=True)\n",
      "            (dropout): Dropout(p=0.0, inplace=False)\n",
      "            (conv2): Conv2d(64, 64, kernel_size=(3, 3), stride=(1, 1), padding=(1, 1))\n",
      "            (nonlinearity): SiLU()\n",
      "          )\n",
      "        )\n",
      "        (downsamplers): ModuleList(\n",
      "          (0): Downsample2D(\n",
      "            (conv): Conv2d(64, 64, kernel_size=(3, 3), stride=(2, 2), padding=(1, 1))\n",
      "          )\n",
      "        )\n",
      "      )\n",
      "      (1): AttnDownBlock2D(\n",
      "        (attentions): ModuleList(\n",
      "          (0-1): 2 x Attention(\n",
      "            (group_norm): GroupNorm(32, 128, eps=1e-05, affine=True)\n",
      "            (to_q): Linear(in_features=128, out_features=128, bias=True)\n",
      "            (to_k): Linear(in_features=128, out_features=128, bias=True)\n",
      "            (to_v): Linear(in_features=128, out_features=128, bias=True)\n",
      "            (to_out): ModuleList(\n",
      "              (0): Linear(in_features=128, out_features=128, bias=True)\n",
      "              (1): Dropout(p=0.0, inplace=False)\n",
      "            )\n",
      "          )\n",
      "        )\n",
      "        (resnets): ModuleList(\n",
      "          (0): ResnetBlock2D(\n",
      "            (norm1): GroupNorm(32, 64, eps=1e-05, affine=True)\n",
      "            (conv1): Conv2d(64, 128, kernel_size=(3, 3), stride=(1, 1), padding=(1, 1))\n",
      "            (time_emb_proj): Linear(in_features=256, out_features=128, bias=True)\n",
      "            (norm2): GroupNorm(32, 128, eps=1e-05, affine=True)\n",
      "            (dropout): Dropout(p=0.0, inplace=False)\n",
      "            (conv2): Conv2d(128, 128, kernel_size=(3, 3), stride=(1, 1), padding=(1, 1))\n",
      "            (nonlinearity): SiLU()\n",
      "            (conv_shortcut): Conv2d(64, 128, kernel_size=(1, 1), stride=(1, 1))\n",
      "          )\n",
      "          (1): ResnetBlock2D(\n",
      "            (norm1): GroupNorm(32, 128, eps=1e-05, affine=True)\n",
      "            (conv1): Conv2d(128, 128, kernel_size=(3, 3), stride=(1, 1), padding=(1, 1))\n",
      "            (time_emb_proj): Linear(in_features=256, out_features=128, bias=True)\n",
      "            (norm2): GroupNorm(32, 128, eps=1e-05, affine=True)\n",
      "            (dropout): Dropout(p=0.0, inplace=False)\n",
      "            (conv2): Conv2d(128, 128, kernel_size=(3, 3), stride=(1, 1), padding=(1, 1))\n",
      "            (nonlinearity): SiLU()\n",
      "          )\n",
      "        )\n",
      "        (downsamplers): ModuleList(\n",
      "          (0): Downsample2D(\n",
      "            (conv): Conv2d(128, 128, kernel_size=(3, 3), stride=(2, 2), padding=(1, 1))\n",
      "          )\n",
      "        )\n",
      "      )\n",
      "      (2): AttnDownBlock2D(\n",
      "        (attentions): ModuleList(\n",
      "          (0-1): 2 x Attention(\n",
      "            (group_norm): GroupNorm(32, 256, eps=1e-05, affine=True)\n",
      "            (to_q): Linear(in_features=256, out_features=256, bias=True)\n",
      "            (to_k): Linear(in_features=256, out_features=256, bias=True)\n",
      "            (to_v): Linear(in_features=256, out_features=256, bias=True)\n",
      "            (to_out): ModuleList(\n",
      "              (0): Linear(in_features=256, out_features=256, bias=True)\n",
      "              (1): Dropout(p=0.0, inplace=False)\n",
      "            )\n",
      "          )\n",
      "        )\n",
      "        (resnets): ModuleList(\n",
      "          (0): ResnetBlock2D(\n",
      "            (norm1): GroupNorm(32, 128, eps=1e-05, affine=True)\n",
      "            (conv1): Conv2d(128, 256, kernel_size=(3, 3), stride=(1, 1), padding=(1, 1))\n",
      "            (time_emb_proj): Linear(in_features=256, out_features=256, bias=True)\n",
      "            (norm2): GroupNorm(32, 256, eps=1e-05, affine=True)\n",
      "            (dropout): Dropout(p=0.0, inplace=False)\n",
      "            (conv2): Conv2d(256, 256, kernel_size=(3, 3), stride=(1, 1), padding=(1, 1))\n",
      "            (nonlinearity): SiLU()\n",
      "            (conv_shortcut): Conv2d(128, 256, kernel_size=(1, 1), stride=(1, 1))\n",
      "          )\n",
      "          (1): ResnetBlock2D(\n",
      "            (norm1): GroupNorm(32, 256, eps=1e-05, affine=True)\n",
      "            (conv1): Conv2d(256, 256, kernel_size=(3, 3), stride=(1, 1), padding=(1, 1))\n",
      "            (time_emb_proj): Linear(in_features=256, out_features=256, bias=True)\n",
      "            (norm2): GroupNorm(32, 256, eps=1e-05, affine=True)\n",
      "            (dropout): Dropout(p=0.0, inplace=False)\n",
      "            (conv2): Conv2d(256, 256, kernel_size=(3, 3), stride=(1, 1), padding=(1, 1))\n",
      "            (nonlinearity): SiLU()\n",
      "          )\n",
      "        )\n",
      "      )\n",
      "    )\n",
      "    (up_blocks): ModuleList(\n",
      "      (0): AttnUpBlock2D(\n",
      "        (attentions): ModuleList(\n",
      "          (0-2): 3 x Attention(\n",
      "            (group_norm): GroupNorm(32, 256, eps=1e-05, affine=True)\n",
      "            (to_q): Linear(in_features=256, out_features=256, bias=True)\n",
      "            (to_k): Linear(in_features=256, out_features=256, bias=True)\n",
      "            (to_v): Linear(in_features=256, out_features=256, bias=True)\n",
      "            (to_out): ModuleList(\n",
      "              (0): Linear(in_features=256, out_features=256, bias=True)\n",
      "              (1): Dropout(p=0.0, inplace=False)\n",
      "            )\n",
      "          )\n",
      "        )\n",
      "        (resnets): ModuleList(\n",
      "          (0-1): 2 x ResnetBlock2D(\n",
      "            (norm1): GroupNorm(32, 512, eps=1e-05, affine=True)\n",
      "            (conv1): Conv2d(512, 256, kernel_size=(3, 3), stride=(1, 1), padding=(1, 1))\n",
      "            (time_emb_proj): Linear(in_features=256, out_features=256, bias=True)\n",
      "            (norm2): GroupNorm(32, 256, eps=1e-05, affine=True)\n",
      "            (dropout): Dropout(p=0.0, inplace=False)\n",
      "            (conv2): Conv2d(256, 256, kernel_size=(3, 3), stride=(1, 1), padding=(1, 1))\n",
      "            (nonlinearity): SiLU()\n",
      "            (conv_shortcut): Conv2d(512, 256, kernel_size=(1, 1), stride=(1, 1))\n",
      "          )\n",
      "          (2): ResnetBlock2D(\n",
      "            (norm1): GroupNorm(32, 384, eps=1e-05, affine=True)\n",
      "            (conv1): Conv2d(384, 256, kernel_size=(3, 3), stride=(1, 1), padding=(1, 1))\n",
      "            (time_emb_proj): Linear(in_features=256, out_features=256, bias=True)\n",
      "            (norm2): GroupNorm(32, 256, eps=1e-05, affine=True)\n",
      "            (dropout): Dropout(p=0.0, inplace=False)\n",
      "            (conv2): Conv2d(256, 256, kernel_size=(3, 3), stride=(1, 1), padding=(1, 1))\n",
      "            (nonlinearity): SiLU()\n",
      "            (conv_shortcut): Conv2d(384, 256, kernel_size=(1, 1), stride=(1, 1))\n",
      "          )\n",
      "        )\n",
      "        (upsamplers): ModuleList(\n",
      "          (0): Upsample2D(\n",
      "            (conv): Conv2d(256, 256, kernel_size=(3, 3), stride=(1, 1), padding=(1, 1))\n",
      "          )\n",
      "        )\n",
      "      )\n",
      "      (1): AttnUpBlock2D(\n",
      "        (attentions): ModuleList(\n",
      "          (0-2): 3 x Attention(\n",
      "            (group_norm): GroupNorm(32, 128, eps=1e-05, affine=True)\n",
      "            (to_q): Linear(in_features=128, out_features=128, bias=True)\n",
      "            (to_k): Linear(in_features=128, out_features=128, bias=True)\n",
      "            (to_v): Linear(in_features=128, out_features=128, bias=True)\n",
      "            (to_out): ModuleList(\n",
      "              (0): Linear(in_features=128, out_features=128, bias=True)\n",
      "              (1): Dropout(p=0.0, inplace=False)\n",
      "            )\n",
      "          )\n",
      "        )\n",
      "        (resnets): ModuleList(\n",
      "          (0): ResnetBlock2D(\n",
      "            (norm1): GroupNorm(32, 384, eps=1e-05, affine=True)\n",
      "            (conv1): Conv2d(384, 128, kernel_size=(3, 3), stride=(1, 1), padding=(1, 1))\n",
      "            (time_emb_proj): Linear(in_features=256, out_features=128, bias=True)\n",
      "            (norm2): GroupNorm(32, 128, eps=1e-05, affine=True)\n",
      "            (dropout): Dropout(p=0.0, inplace=False)\n",
      "            (conv2): Conv2d(128, 128, kernel_size=(3, 3), stride=(1, 1), padding=(1, 1))\n",
      "            (nonlinearity): SiLU()\n",
      "            (conv_shortcut): Conv2d(384, 128, kernel_size=(1, 1), stride=(1, 1))\n",
      "          )\n",
      "          (1): ResnetBlock2D(\n",
      "            (norm1): GroupNorm(32, 256, eps=1e-05, affine=True)\n",
      "            (conv1): Conv2d(256, 128, kernel_size=(3, 3), stride=(1, 1), padding=(1, 1))\n",
      "            (time_emb_proj): Linear(in_features=256, out_features=128, bias=True)\n",
      "            (norm2): GroupNorm(32, 128, eps=1e-05, affine=True)\n",
      "            (dropout): Dropout(p=0.0, inplace=False)\n",
      "            (conv2): Conv2d(128, 128, kernel_size=(3, 3), stride=(1, 1), padding=(1, 1))\n",
      "            (nonlinearity): SiLU()\n",
      "            (conv_shortcut): Conv2d(256, 128, kernel_size=(1, 1), stride=(1, 1))\n",
      "          )\n",
      "          (2): ResnetBlock2D(\n",
      "            (norm1): GroupNorm(32, 192, eps=1e-05, affine=True)\n",
      "            (conv1): Conv2d(192, 128, kernel_size=(3, 3), stride=(1, 1), padding=(1, 1))\n",
      "            (time_emb_proj): Linear(in_features=256, out_features=128, bias=True)\n",
      "            (norm2): GroupNorm(32, 128, eps=1e-05, affine=True)\n",
      "            (dropout): Dropout(p=0.0, inplace=False)\n",
      "            (conv2): Conv2d(128, 128, kernel_size=(3, 3), stride=(1, 1), padding=(1, 1))\n",
      "            (nonlinearity): SiLU()\n",
      "            (conv_shortcut): Conv2d(192, 128, kernel_size=(1, 1), stride=(1, 1))\n",
      "          )\n",
      "        )\n",
      "        (upsamplers): ModuleList(\n",
      "          (0): Upsample2D(\n",
      "            (conv): Conv2d(128, 128, kernel_size=(3, 3), stride=(1, 1), padding=(1, 1))\n",
      "          )\n",
      "        )\n",
      "      )\n",
      "      (2): UpBlock2D(\n",
      "        (resnets): ModuleList(\n",
      "          (0): ResnetBlock2D(\n",
      "            (norm1): GroupNorm(32, 192, eps=1e-05, affine=True)\n",
      "            (conv1): Conv2d(192, 64, kernel_size=(3, 3), stride=(1, 1), padding=(1, 1))\n",
      "            (time_emb_proj): Linear(in_features=256, out_features=64, bias=True)\n",
      "            (norm2): GroupNorm(32, 64, eps=1e-05, affine=True)\n",
      "            (dropout): Dropout(p=0.0, inplace=False)\n",
      "            (conv2): Conv2d(64, 64, kernel_size=(3, 3), stride=(1, 1), padding=(1, 1))\n",
      "            (nonlinearity): SiLU()\n",
      "            (conv_shortcut): Conv2d(192, 64, kernel_size=(1, 1), stride=(1, 1))\n",
      "          )\n",
      "          (1-2): 2 x ResnetBlock2D(\n",
      "            (norm1): GroupNorm(32, 128, eps=1e-05, affine=True)\n",
      "            (conv1): Conv2d(128, 64, kernel_size=(3, 3), stride=(1, 1), padding=(1, 1))\n",
      "            (time_emb_proj): Linear(in_features=256, out_features=64, bias=True)\n",
      "            (norm2): GroupNorm(32, 64, eps=1e-05, affine=True)\n",
      "            (dropout): Dropout(p=0.0, inplace=False)\n",
      "            (conv2): Conv2d(64, 64, kernel_size=(3, 3), stride=(1, 1), padding=(1, 1))\n",
      "            (nonlinearity): SiLU()\n",
      "            (conv_shortcut): Conv2d(128, 64, kernel_size=(1, 1), stride=(1, 1))\n",
      "          )\n",
      "        )\n",
      "      )\n",
      "    )\n",
      "    (mid_block): UNetMidBlock2DCrossAttn(\n",
      "      (attentions): ModuleList(\n",
      "        (0): Transformer2DModel(\n",
      "          (norm): GroupNorm(32, 256, eps=1e-06, affine=True)\n",
      "          (proj_in): Conv2d(256, 256, kernel_size=(1, 1), stride=(1, 1))\n",
      "          (transformer_blocks): ModuleList(\n",
      "            (0): BasicTransformerBlock(\n",
      "              (norm1): LayerNorm((256,), eps=1e-05, elementwise_affine=True)\n",
      "              (attn1): Attention(\n",
      "                (to_q): Linear(in_features=256, out_features=256, bias=False)\n",
      "                (to_k): Linear(in_features=256, out_features=256, bias=False)\n",
      "                (to_v): Linear(in_features=256, out_features=256, bias=False)\n",
      "                (to_out): ModuleList(\n",
      "                  (0): Linear(in_features=256, out_features=256, bias=True)\n",
      "                  (1): Dropout(p=0.0, inplace=False)\n",
      "                )\n",
      "              )\n",
      "              (norm2): LayerNorm((256,), eps=1e-05, elementwise_affine=True)\n",
      "              (attn2): Attention(\n",
      "                (to_q): Linear(in_features=256, out_features=256, bias=False)\n",
      "                (to_k): Linear(in_features=128, out_features=256, bias=False)\n",
      "                (to_v): Linear(in_features=128, out_features=256, bias=False)\n",
      "                (to_out): ModuleList(\n",
      "                  (0): Linear(in_features=256, out_features=256, bias=True)\n",
      "                  (1): Dropout(p=0.0, inplace=False)\n",
      "                )\n",
      "              )\n",
      "              (norm3): LayerNorm((256,), eps=1e-05, elementwise_affine=True)\n",
      "              (ff): FeedForward(\n",
      "                (net): ModuleList(\n",
      "                  (0): GEGLU(\n",
      "                    (proj): Linear(in_features=256, out_features=2048, bias=True)\n",
      "                  )\n",
      "                  (1): Dropout(p=0.0, inplace=False)\n",
      "                  (2): Linear(in_features=1024, out_features=256, bias=True)\n",
      "                )\n",
      "              )\n",
      "            )\n",
      "          )\n",
      "          (proj_out): Conv2d(256, 256, kernel_size=(1, 1), stride=(1, 1))\n",
      "        )\n",
      "      )\n",
      "      (resnets): ModuleList(\n",
      "        (0-1): 2 x ResnetBlock2D(\n",
      "          (norm1): GroupNorm(32, 256, eps=1e-05, affine=True)\n",
      "          (conv1): Conv2d(256, 256, kernel_size=(3, 3), stride=(1, 1), padding=(1, 1))\n",
      "          (time_emb_proj): Linear(in_features=256, out_features=256, bias=True)\n",
      "          (norm2): GroupNorm(32, 256, eps=1e-05, affine=True)\n",
      "          (dropout): Dropout(p=0.0, inplace=False)\n",
      "          (conv2): Conv2d(256, 256, kernel_size=(3, 3), stride=(1, 1), padding=(1, 1))\n",
      "          (nonlinearity): SiLU()\n",
      "        )\n",
      "      )\n",
      "    )\n",
      "    (conv_norm_out): GroupNorm(32, 64, eps=1e-05, affine=True)\n",
      "    (conv_act): SiLU()\n",
      "    (conv_out): Conv2d(64, 3, kernel_size=(3, 3), stride=(1, 1), padding=(1, 1))\n",
      "  )\n",
      "  (cond_embed): Sequential(\n",
      "    (0): Linear(in_features=2, out_features=128, bias=True)\n",
      "    (1): SiLU()\n",
      "    (2): Linear(in_features=128, out_features=128, bias=True)\n",
      "  )\n",
      ") of type <class '__main__.CustomConditionedUNet'> cannot be saved.\n",
      "Epoch 499: 100%|██████████| 15/15 [00:01<00:00, 12.89it/s, loss=0.00164, lr=0, step=7499]"
     ]
    },
    {
     "name": "stdout",
     "output_type": "stream",
     "text": [
      "Saved  0.020820150084001943\n"
     ]
    },
    {
     "name": "stderr",
     "output_type": "stream",
     "text": [
      "\n"
     ]
    }
   ],
   "source": [
    "from accelerate import notebook_launcher\n",
    "\n",
    "args = (config, model, noise_scheduler, optimizer, dataloader, lr_scheduler)\n",
    "\n",
    "notebook_launcher(train_loop, args, num_processes=1)\n",
    "\n"
   ]
  },
  {
   "cell_type": "code",
   "execution_count": null,
   "id": "70962d3b",
   "metadata": {},
   "outputs": [],
   "source": []
  },
  {
   "cell_type": "code",
   "execution_count": null,
   "id": "c309b86d",
   "metadata": {},
   "outputs": [],
   "source": []
  },
  {
   "cell_type": "code",
   "execution_count": null,
   "id": "1de28564",
   "metadata": {},
   "outputs": [],
   "source": []
  },
  {
   "cell_type": "code",
   "execution_count": null,
   "id": "fbdeb622",
   "metadata": {},
   "outputs": [],
   "source": []
  },
  {
   "cell_type": "code",
   "execution_count": 84,
   "id": "03a23415",
   "metadata": {},
   "outputs": [],
   "source": [
    "def generate_image(model, scheduler, x, y, steps=50, size=64):\n",
    "    model.eval().cuda()\n",
    "    scheduler.set_timesteps(steps)\n",
    "\n",
    "    cond_vector = torch.tensor([[x, y]], device='cuda')\n",
    "    latents = torch.randn((1, 3, size, size), device='cuda')\n",
    "\n",
    "    with torch.no_grad():\n",
    "        for t in scheduler.timesteps:\n",
    "            noise_pred = model(latents, t, cond_vector=cond_vector).sample\n",
    "            latents = scheduler.step(noise_pred, t, latents).prev_sample\n",
    "\n",
    "            print(latents.shape)\n",
    "\n",
    "    img = (latents[0].clamp(-1, 1) + 1) / 2\n",
    "    img = img.cpu().permute(1, 2, 0).numpy()\n",
    "    return img"
   ]
  },
  {
   "cell_type": "code",
   "execution_count": 106,
   "id": "f6677f48",
   "metadata": {},
   "outputs": [
    {
     "name": "stdout",
     "output_type": "stream",
     "text": [
      "torch.Size([1, 3, 64, 64])\n",
      "torch.Size([1, 3, 64, 64])\n",
      "torch.Size([1, 3, 64, 64])\n",
      "torch.Size([1, 3, 64, 64])\n",
      "torch.Size([1, 3, 64, 64])\n",
      "torch.Size([1, 3, 64, 64])\n",
      "torch.Size([1, 3, 64, 64])\n",
      "torch.Size([1, 3, 64, 64])\n",
      "torch.Size([1, 3, 64, 64])\n",
      "torch.Size([1, 3, 64, 64])\n",
      "torch.Size([1, 3, 64, 64])\n",
      "torch.Size([1, 3, 64, 64])\n",
      "torch.Size([1, 3, 64, 64])\n",
      "torch.Size([1, 3, 64, 64])\n",
      "torch.Size([1, 3, 64, 64])\n",
      "torch.Size([1, 3, 64, 64])\n",
      "torch.Size([1, 3, 64, 64])\n",
      "torch.Size([1, 3, 64, 64])\n",
      "torch.Size([1, 3, 64, 64])\n",
      "torch.Size([1, 3, 64, 64])\n",
      "torch.Size([1, 3, 64, 64])\n",
      "torch.Size([1, 3, 64, 64])\n",
      "torch.Size([1, 3, 64, 64])\n",
      "torch.Size([1, 3, 64, 64])\n",
      "torch.Size([1, 3, 64, 64])\n",
      "torch.Size([1, 3, 64, 64])\n",
      "torch.Size([1, 3, 64, 64])\n",
      "torch.Size([1, 3, 64, 64])\n",
      "torch.Size([1, 3, 64, 64])\n",
      "torch.Size([1, 3, 64, 64])\n",
      "torch.Size([1, 3, 64, 64])\n",
      "torch.Size([1, 3, 64, 64])\n",
      "torch.Size([1, 3, 64, 64])\n",
      "torch.Size([1, 3, 64, 64])\n",
      "torch.Size([1, 3, 64, 64])\n",
      "torch.Size([1, 3, 64, 64])\n",
      "torch.Size([1, 3, 64, 64])\n",
      "torch.Size([1, 3, 64, 64])\n",
      "torch.Size([1, 3, 64, 64])\n",
      "torch.Size([1, 3, 64, 64])\n",
      "torch.Size([1, 3, 64, 64])\n",
      "torch.Size([1, 3, 64, 64])\n",
      "torch.Size([1, 3, 64, 64])\n",
      "torch.Size([1, 3, 64, 64])\n",
      "torch.Size([1, 3, 64, 64])\n",
      "torch.Size([1, 3, 64, 64])\n",
      "torch.Size([1, 3, 64, 64])\n",
      "torch.Size([1, 3, 64, 64])\n",
      "torch.Size([1, 3, 64, 64])\n",
      "torch.Size([1, 3, 64, 64])\n"
     ]
    }
   ],
   "source": [
    "scheduler = DDPMScheduler(num_train_timesteps=100)\n",
    "\n",
    "\n",
    "img = generate_image(model, scheduler, x=12., y=0.)\n",
    "# plt.imshow(img)\n",
    "# plt.axis('off')\n",
    "# plt.show()"
   ]
  },
  {
   "cell_type": "code",
   "execution_count": 86,
   "id": "65ca24b0",
   "metadata": {},
   "outputs": [
    {
     "name": "stdout",
     "output_type": "stream",
     "text": [
      "(64, 64, 3)\n",
      "<class 'numpy.ndarray'>\n",
      "0.29904577\n",
      "0.7401182\n",
      "[0.29904577 0.31451488 0.3286583  ... 0.72841144 0.73898107 0.7401182 ]\n"
     ]
    }
   ],
   "source": [
    "print(img.shape)\n",
    "print(type(img))\n",
    "print(np.min(img))\n",
    "print(np.max(img))\n",
    "print(np.unique(img))"
   ]
  },
  {
   "cell_type": "code",
   "execution_count": 17,
   "id": "f4ddc412",
   "metadata": {},
   "outputs": [],
   "source": [
    "# plt.imshow(img)"
   ]
  },
  {
   "cell_type": "code",
   "execution_count": 87,
   "id": "423cf922",
   "metadata": {},
   "outputs": [
    {
     "data": {
      "text/plain": [
       "numpy.ndarray"
      ]
     },
     "execution_count": 87,
     "metadata": {},
     "output_type": "execute_result"
    }
   ],
   "source": [
    "type(img)"
   ]
  },
  {
   "cell_type": "code",
   "execution_count": 107,
   "id": "97f1b472",
   "metadata": {},
   "outputs": [],
   "source": [
    "PIL_image = Image.fromarray(img, 'RGB')\n",
    "PIL_image.size\n",
    "PIL_image.show()"
   ]
  },
  {
   "cell_type": "code",
   "execution_count": null,
   "id": "40a74d76",
   "metadata": {},
   "outputs": [],
   "source": []
  },
  {
   "cell_type": "code",
   "execution_count": 43,
   "id": "cdbda3d3",
   "metadata": {},
   "outputs": [],
   "source": [
    "def generate_image2(model, scheduler, x, y, steps=50, size=64):\n",
    "    model.eval().cuda()\n",
    "    scheduler.set_timesteps(steps)\n",
    "\n",
    "    cond_vector = torch.tensor([[x, y]], device='cuda')\n",
    "    latents = torch.randn((1, 3, size, size), device='cuda')\n",
    "    i = 0\n",
    "\n",
    "    with torch.no_grad():\n",
    "        for t in scheduler.timesteps:\n",
    "            noise_pred = model(latents, t, cond_vector=cond_vector).sample\n",
    "            latents = scheduler.step(noise_pred, t, latents).prev_sample\n",
    "\n",
    "            print(t, i)\n",
    "            i +=1 \n",
    "\n",
    "            if i > 40:\n",
    "                img = (latents[0].clamp(-1, 1) + 1) / 2\n",
    "                img = img.cpu().permute(1, 2, 0).numpy()\n",
    "\n",
    "                PIL_image = Image.fromarray(img, 'RGB')\n",
    "                PIL_image.show()\n",
    "            # return img\n",
    "\n",
    "            "
   ]
  },
  {
   "cell_type": "code",
   "execution_count": 105,
   "id": "579a03aa",
   "metadata": {},
   "outputs": [
    {
     "name": "stdout",
     "output_type": "stream",
     "text": [
      "tensor(98) 0\n",
      "tensor(96) 1\n",
      "tensor(94) 2\n",
      "tensor(92) 3\n",
      "tensor(90) 4\n",
      "tensor(88) 5\n",
      "tensor(86) 6\n",
      "tensor(84) 7\n",
      "tensor(82) 8\n",
      "tensor(80) 9\n",
      "tensor(78) 10\n",
      "tensor(76) 11\n",
      "tensor(74) 12\n",
      "tensor(72) 13\n",
      "tensor(70) 14\n",
      "tensor(68) 15\n",
      "tensor(66) 16\n",
      "tensor(64) 17\n",
      "tensor(62) 18\n",
      "tensor(60) 19\n",
      "tensor(58) 20\n",
      "tensor(56) 21\n",
      "tensor(54) 22\n",
      "tensor(52) 23\n",
      "tensor(50) 24\n",
      "tensor(48) 25\n",
      "tensor(46) 26\n",
      "tensor(44) 27\n",
      "tensor(42) 28\n",
      "tensor(40) 29\n",
      "tensor(38) 30\n",
      "tensor(36) 31\n",
      "tensor(34) 32\n",
      "tensor(32) 33\n",
      "tensor(30) 34\n",
      "tensor(28) 35\n",
      "tensor(26) 36\n",
      "tensor(24) 37\n",
      "tensor(22) 38\n",
      "tensor(20) 39\n",
      "tensor(18) 40\n",
      "tensor(16) 41\n",
      "tensor(14) 42\n",
      "tensor(12) 43\n",
      "tensor(10) 44\n",
      "tensor(8) 45\n",
      "tensor(6) 46\n",
      "tensor(4) 47\n",
      "tensor(2) 48\n",
      "tensor(0) 49\n"
     ]
    }
   ],
   "source": [
    "\n",
    "scheduler = DDPMScheduler(num_train_timesteps=100)\n",
    "\n",
    "img = generate_image2(model, scheduler, x=60., y=0.)\n"
   ]
  },
  {
   "cell_type": "code",
   "execution_count": null,
   "id": "899b3d81",
   "metadata": {},
   "outputs": [],
   "source": []
  },
  {
   "cell_type": "code",
   "execution_count": null,
   "id": "0e1317e2",
   "metadata": {},
   "outputs": [],
   "source": []
  },
  {
   "cell_type": "markdown",
   "id": "39c660a6",
   "metadata": {},
   "source": [
    "Load model"
   ]
  },
  {
   "cell_type": "code",
   "execution_count": 104,
   "id": "d984a1f1",
   "metadata": {},
   "outputs": [
    {
     "data": {
      "text/plain": [
       "<All keys matched successfully>"
      ]
     },
     "execution_count": 104,
     "metadata": {},
     "output_type": "execute_result"
    }
   ],
   "source": [
    "base_unet = UNet2DConditionModel(\n",
    "    sample_size=64, in_channels=3, out_channels=3, layers_per_block=2,\n",
    "    block_out_channels=(64, 128, 256),  # now 4 blocks = 4 values\n",
    "    down_block_types=('DownBlock2D', 'AttnDownBlock2D',  'AttnDownBlock2D'),\n",
    "    up_block_types=('AttnUpBlock2D', 'AttnUpBlock2D',  'UpBlock2D'),\n",
    "    cross_attention_dim=128\n",
    ")\n",
    "\n",
    "\n",
    "model = CustomConditionedUNet(base_unet).cuda()\n",
    "\n",
    "model.load_state_dict(torch.load(\"ddpm-test-128_cond_unet_min_loss.pt\", weights_only=True))\n",
    "# model.eval()"
   ]
  },
  {
   "cell_type": "code",
   "execution_count": null,
   "id": "d949af29",
   "metadata": {},
   "outputs": [],
   "source": []
  },
  {
   "cell_type": "code",
   "execution_count": null,
   "id": "987eb6fd",
   "metadata": {},
   "outputs": [],
   "source": []
  },
  {
   "cell_type": "code",
   "execution_count": null,
   "id": "f4cec849",
   "metadata": {},
   "outputs": [],
   "source": []
  },
  {
   "cell_type": "code",
   "execution_count": null,
   "id": "001088d7",
   "metadata": {},
   "outputs": [],
   "source": []
  },
  {
   "cell_type": "code",
   "execution_count": null,
   "id": "9eea912e",
   "metadata": {},
   "outputs": [],
   "source": []
  },
  {
   "cell_type": "code",
   "execution_count": null,
   "id": "9e977999",
   "metadata": {},
   "outputs": [],
   "source": []
  },
  {
   "cell_type": "code",
   "execution_count": null,
   "id": "e0c645ee",
   "metadata": {},
   "outputs": [],
   "source": []
  },
  {
   "cell_type": "code",
   "execution_count": null,
   "id": "847c2436",
   "metadata": {},
   "outputs": [],
   "source": []
  },
  {
   "cell_type": "code",
   "execution_count": null,
   "id": "7d7c0f13",
   "metadata": {},
   "outputs": [],
   "source": []
  },
  {
   "cell_type": "code",
   "execution_count": 49,
   "id": "0b8ad93c",
   "metadata": {},
   "outputs": [
    {
     "data": {
      "text/plain": [
       "120"
      ]
     },
     "execution_count": 49,
     "metadata": {},
     "output_type": "execute_result"
    }
   ],
   "source": [
    "angles = range(0,360,3)\n",
    "len(angles)"
   ]
  },
  {
   "cell_type": "code",
   "execution_count": 51,
   "id": "b20ee751",
   "metadata": {},
   "outputs": [],
   "source": [
    "import numpy as np\n",
    "from PIL import Image\n",
    "\n",
    "def simulate_horizontal_orbit_gradient_sphere(size=224, radius=80, camera_angle_deg=0):\n",
    "    \"\"\"\n",
    "    Simulate a camera orbiting around the vertical (Z) axis of a gradient-colored sphere.\n",
    "\n",
    "    camera_angle_deg: horizontal orbit angle in degrees (0 = front, 90 = side)\n",
    "    \"\"\"\n",
    "    #camera_angle_deg: angle in degrees (0 = bottom-to-top gradient, 90 = left-to-right)\n",
    "\n",
    "    image = np.zeros((size, size, 3), dtype=np.uint8)\n",
    "\n",
    "    angle_rad = np.radians(camera_angle_deg)\n",
    "\n",
    "    # Center of image\n",
    "    center_x, center_y = size // 2, size // 2\n",
    "\n",
    "    # Rotate the gradient direction vector (default is vertical: (0, -1))\n",
    "    grad_dx = np.sin(angle_rad)\n",
    "    grad_dy = -np.cos(angle_rad)  # negative to go from bottom to top by default\n",
    "\n",
    "    for y in range(size):\n",
    "        for x in range(size):\n",
    "            dx = x - center_x\n",
    "            dy = y - center_y\n",
    "            distance = np.sqrt(dx**2 + dy**2)\n",
    "\n",
    "            if distance <= radius:\n",
    "                # Compute dot product between (dx, dy) and gradient direction\n",
    "                dot = dx * grad_dx + dy * grad_dy\n",
    "\n",
    "                # Normalize to [0, 1] across the circle\n",
    "                t = (dot + radius) / (2 * radius)\n",
    "                t = np.clip(t, 0, 1)\n",
    "\n",
    "                r = int(255 * (1 - t))  # Red fades out\n",
    "                g = 0\n",
    "                b = int(255 * t)        # Blue fades in\n",
    "\n",
    "                image[y, x] = (r, g, b)\n",
    "\n",
    "    return image\n",
    "\n",
    "# Example: simulate camera rotating around the circle in image plane\n",
    "# angles = [0, 45, 90, 135, 180]  # Camera rotating from front to back\n",
    "# angles = [5,10,15,20]\n",
    "angles = range(0,360,3)\n",
    "\n",
    "for angle in angles:\n",
    "    img = simulate_horizontal_orbit_gradient_sphere(camera_angle_deg=angle)\n",
    "    # plt.imshow(img)\n",
    "    # plt.show()\n",
    "    # images_dir = '/content/gdrive/My Drive/Images'\n",
    "    # plt.savefig(f\"{images_dir}/label{unique_arr[i]}.png\")\n",
    "\n",
    "    Image.fromarray(img).save(f\"data/images/gradient_circle_{angle}.png\")"
   ]
  },
  {
   "cell_type": "code",
   "execution_count": null,
   "id": "69d98d4b",
   "metadata": {},
   "outputs": [],
   "source": []
  },
  {
   "cell_type": "code",
   "execution_count": null,
   "id": "c42a10fa",
   "metadata": {},
   "outputs": [],
   "source": []
  },
  {
   "cell_type": "code",
   "execution_count": null,
   "id": "37d0eb4d",
   "metadata": {},
   "outputs": [],
   "source": []
  },
  {
   "cell_type": "code",
   "execution_count": 4,
   "id": "6e431f1f",
   "metadata": {},
   "outputs": [
    {
     "name": "stdout",
     "output_type": "stream",
     "text": [
      "CSV file 'labels.csv' with rows created.\n"
     ]
    }
   ],
   "source": [
    "import csv\n",
    "import random\n",
    "\n",
    "def generate_random_csv(filename='labels.csv'):\n",
    "    with open(filename, mode='w', newline='') as file:\n",
    "        writer = csv.writer(file)\n",
    "        writer.writerow(['filename', 'x', 'y'])  # header\n",
    "        angles = range(0,360,3)\n",
    "\n",
    "        for i in angles:\n",
    "            fname = f\"gradient_circle_{i}.png\"\n",
    "            x = i\n",
    "            y = 0\n",
    "            writer.writerow([fname, x, y])\n",
    "\n",
    "    print(f\"CSV file '{filename}' with rows created.\")\n",
    "\n",
    "# Example usage\n",
    "generate_random_csv(\"labels.csv\")"
   ]
  },
  {
   "cell_type": "code",
   "execution_count": null,
   "id": "4560b65c",
   "metadata": {},
   "outputs": [],
   "source": []
  }
 ],
 "metadata": {
  "kernelspec": {
   "display_name": "mm_diff_4",
   "language": "python",
   "name": "python3"
  },
  "language_info": {
   "codemirror_mode": {
    "name": "ipython",
    "version": 3
   },
   "file_extension": ".py",
   "mimetype": "text/x-python",
   "name": "python",
   "nbconvert_exporter": "python",
   "pygments_lexer": "ipython3",
   "version": "3.13.2"
  }
 },
 "nbformat": 4,
 "nbformat_minor": 5
}
